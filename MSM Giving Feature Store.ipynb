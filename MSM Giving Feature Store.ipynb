{
 "cells": [
  {
   "cell_type": "markdown",
   "id": "cca2696b",
   "metadata": {},
   "source": [
    "## Set configurations"
   ]
  },
  {
   "cell_type": "code",
   "execution_count": 1,
   "id": "bebf2501",
   "metadata": {},
   "outputs": [],
   "source": [
    "import pandas as pd\n",
    "pd.set_option('display.max_columns', 500)"
   ]
  },
  {
   "cell_type": "markdown",
   "id": "7b9dae14",
   "metadata": {},
   "source": [
    "## Read alumni data"
   ]
  },
  {
   "cell_type": "code",
   "execution_count": 2,
   "id": "3fe31ea1",
   "metadata": {},
   "outputs": [
    {
     "data": {
      "text/html": [
       "<div>\n",
       "<style scoped>\n",
       "    .dataframe tbody tr th:only-of-type {\n",
       "        vertical-align: middle;\n",
       "    }\n",
       "\n",
       "    .dataframe tbody tr th {\n",
       "        vertical-align: top;\n",
       "    }\n",
       "\n",
       "    .dataframe thead th {\n",
       "        text-align: right;\n",
       "    }\n",
       "</style>\n",
       "<table border=\"1\" class=\"dataframe\">\n",
       "  <thead>\n",
       "    <tr style=\"text-align: right;\">\n",
       "      <th></th>\n",
       "      <th>FULL_NAME</th>\n",
       "      <th>EMAIL_1</th>\n",
       "      <th>MANEATER_ALUM_FLAG</th>\n",
       "      <th>KCOU_ALUM_FLAG</th>\n",
       "      <th>MUTV_ALUM_FLAG</th>\n",
       "      <th>FIRST_NAME</th>\n",
       "      <th>LAST_NAME</th>\n",
       "    </tr>\n",
       "  </thead>\n",
       "  <tbody>\n",
       "    <tr>\n",
       "      <th>0</th>\n",
       "      <td>GRACE SANDS</td>\n",
       "      <td>gcsn8c@mail.missouri.edu</td>\n",
       "      <td>True</td>\n",
       "      <td>True</td>\n",
       "      <td>False</td>\n",
       "      <td>GRACE</td>\n",
       "      <td>SANDS</td>\n",
       "    </tr>\n",
       "    <tr>\n",
       "      <th>1</th>\n",
       "      <td>TARA MORTS</td>\n",
       "      <td>tlmkkm@mail.missouri.edu</td>\n",
       "      <td>True</td>\n",
       "      <td>False</td>\n",
       "      <td>False</td>\n",
       "      <td>TARA</td>\n",
       "      <td>MORTS</td>\n",
       "    </tr>\n",
       "    <tr>\n",
       "      <th>2</th>\n",
       "      <td>VICTORIA CHEYNE</td>\n",
       "      <td>torircheyne@hotmail.com</td>\n",
       "      <td>True</td>\n",
       "      <td>False</td>\n",
       "      <td>False</td>\n",
       "      <td>VICTORIA</td>\n",
       "      <td>CHEYNE</td>\n",
       "    </tr>\n",
       "    <tr>\n",
       "      <th>3</th>\n",
       "      <td>CHARLES SPERRY</td>\n",
       "      <td>yosquirt@mac.com</td>\n",
       "      <td>True</td>\n",
       "      <td>False</td>\n",
       "      <td>False</td>\n",
       "      <td>CHARLES</td>\n",
       "      <td>SPERRY</td>\n",
       "    </tr>\n",
       "    <tr>\n",
       "      <th>4</th>\n",
       "      <td>WILLIAM TAMMEUS</td>\n",
       "      <td>wtammeus@gmail.com</td>\n",
       "      <td>True</td>\n",
       "      <td>False</td>\n",
       "      <td>False</td>\n",
       "      <td>WILLIAM</td>\n",
       "      <td>TAMMEUS</td>\n",
       "    </tr>\n",
       "  </tbody>\n",
       "</table>\n",
       "</div>"
      ],
      "text/plain": [
       "         FULL_NAME                   EMAIL_1  MANEATER_ALUM_FLAG  \\\n",
       "0      GRACE SANDS  gcsn8c@mail.missouri.edu                True   \n",
       "1       TARA MORTS  tlmkkm@mail.missouri.edu                True   \n",
       "2  VICTORIA CHEYNE   torircheyne@hotmail.com                True   \n",
       "3   CHARLES SPERRY          yosquirt@mac.com                True   \n",
       "4  WILLIAM TAMMEUS        wtammeus@gmail.com                True   \n",
       "\n",
       "   KCOU_ALUM_FLAG  MUTV_ALUM_FLAG FIRST_NAME LAST_NAME  \n",
       "0            True           False      GRACE     SANDS  \n",
       "1           False           False       TARA     MORTS  \n",
       "2           False           False   VICTORIA    CHEYNE  \n",
       "3           False           False    CHARLES    SPERRY  \n",
       "4           False           False    WILLIAM   TAMMEUS  "
      ]
     },
     "execution_count": 2,
     "metadata": {},
     "output_type": "execute_result"
    }
   ],
   "source": [
    "msm_alumni = pd.read_excel(\"/Users/gcdyw9/Downloads/full_alum_data.xlsx\",sheet_name=\"Sheet1\")\n",
    "msm_alumni.head()"
   ]
  },
  {
   "cell_type": "code",
   "execution_count": 3,
   "id": "368285ba",
   "metadata": {},
   "outputs": [
    {
     "data": {
      "text/plain": [
       "(1881, 7)"
      ]
     },
     "execution_count": 3,
     "metadata": {},
     "output_type": "execute_result"
    }
   ],
   "source": [
    "msm_alumni.shape"
   ]
  },
  {
   "cell_type": "markdown",
   "id": "52f45552",
   "metadata": {},
   "source": [
    "## Read form responses"
   ]
  },
  {
   "cell_type": "code",
   "execution_count": 4,
   "id": "a40e4708",
   "metadata": {
    "scrolled": false
   },
   "outputs": [
    {
     "data": {
      "text/html": [
       "<div>\n",
       "<style scoped>\n",
       "    .dataframe tbody tr th:only-of-type {\n",
       "        vertical-align: middle;\n",
       "    }\n",
       "\n",
       "    .dataframe tbody tr th {\n",
       "        vertical-align: top;\n",
       "    }\n",
       "\n",
       "    .dataframe thead th {\n",
       "        text-align: right;\n",
       "    }\n",
       "</style>\n",
       "<table border=\"1\" class=\"dataframe\">\n",
       "  <thead>\n",
       "    <tr style=\"text-align: right;\">\n",
       "      <th></th>\n",
       "      <th>Timestamp</th>\n",
       "      <th>Full name</th>\n",
       "      <th>Non-work email</th>\n",
       "      <th>Please select your highest level of education</th>\n",
       "      <th>Undergraduate graduation year</th>\n",
       "      <th>Current zip code</th>\n",
       "      <th>Outlet(s) you worked at</th>\n",
       "      <th>Position(s) you held within the outlet(s) chosen above</th>\n",
       "      <th>Years active at your Mizzou Student Media outlet</th>\n",
       "      <th>Current role and organization</th>\n",
       "      <th>Indicate the opportunities described above that you're interested in pursuing.</th>\n",
       "    </tr>\n",
       "  </thead>\n",
       "  <tbody>\n",
       "    <tr>\n",
       "      <th>0</th>\n",
       "      <td>7/12/22 6:31</td>\n",
       "      <td>SETH WICKERSHAM</td>\n",
       "      <td>sethwickersham@hotmail.com</td>\n",
       "      <td>Bachelor's Degree</td>\n",
       "      <td>2000</td>\n",
       "      <td>6107</td>\n",
       "      <td>The Maneater</td>\n",
       "      <td>Staff Writer</td>\n",
       "      <td>1997</td>\n",
       "      <td>Senior Writer, ESPN; book author</td>\n",
       "      <td>Receiving the bi-weekly alumni newsletter</td>\n",
       "    </tr>\n",
       "    <tr>\n",
       "      <th>1</th>\n",
       "      <td>7/13/22 13:57</td>\n",
       "      <td>CARIN HUFFMAN GRINCH</td>\n",
       "      <td>carinhuffmangrinch@gmail.com</td>\n",
       "      <td>Bachelor's Degree</td>\n",
       "      <td>2000</td>\n",
       "      <td>65203</td>\n",
       "      <td>The Maneater</td>\n",
       "      <td>Ad Sales Rep, Classifieds Manager, Business Ma...</td>\n",
       "      <td>1997 - 2000</td>\n",
       "      <td>Director of Donor Relations, University of Mis...</td>\n",
       "      <td>Receiving the bi-weekly alumni newsletter, Aud...</td>\n",
       "    </tr>\n",
       "    <tr>\n",
       "      <th>2</th>\n",
       "      <td>7/13/22 13:59</td>\n",
       "      <td>ERIC ADAMS</td>\n",
       "      <td>eadams@lebanon.k12.mo.us</td>\n",
       "      <td>Master's Degree</td>\n",
       "      <td>1996</td>\n",
       "      <td>65536</td>\n",
       "      <td>The Maneater</td>\n",
       "      <td>photographer, reporter &amp; photo editor</td>\n",
       "      <td>1991-95</td>\n",
       "      <td>video-photo, digital media teacher at Lebanon ...</td>\n",
       "      <td>Becoming a mentor for the mentorship program, ...</td>\n",
       "    </tr>\n",
       "    <tr>\n",
       "      <th>3</th>\n",
       "      <td>7/13/22 14:00</td>\n",
       "      <td>MARY PRICHARD</td>\n",
       "      <td>Maryprich@gmail.com</td>\n",
       "      <td>Master's Degree</td>\n",
       "      <td>2004</td>\n",
       "      <td>64155</td>\n",
       "      <td>The Maneater</td>\n",
       "      <td>Website management, reporter</td>\n",
       "      <td>2</td>\n",
       "      <td>Journalism Educator &amp; HS media adviser in Miss...</td>\n",
       "      <td>Receiving the bi-weekly alumni newsletter, Aud...</td>\n",
       "    </tr>\n",
       "    <tr>\n",
       "      <th>4</th>\n",
       "      <td>7/13/22 14:01</td>\n",
       "      <td>KATHERINE KNOTT</td>\n",
       "      <td>Kknott123@gmail.com</td>\n",
       "      <td>Bachelor's Degree</td>\n",
       "      <td>2016</td>\n",
       "      <td>22902</td>\n",
       "      <td>The Maneater</td>\n",
       "      <td>Managing editor</td>\n",
       "      <td>2012-16</td>\n",
       "      <td>Education Reporter, The Daily Progress</td>\n",
       "      <td>Becoming a mentor for the mentorship program, ...</td>\n",
       "    </tr>\n",
       "  </tbody>\n",
       "</table>\n",
       "</div>"
      ],
      "text/plain": [
       "       Timestamp             Full name                Non-work email  \\\n",
       "0   7/12/22 6:31       SETH WICKERSHAM    sethwickersham@hotmail.com   \n",
       "1  7/13/22 13:57  CARIN HUFFMAN GRINCH  carinhuffmangrinch@gmail.com   \n",
       "2  7/13/22 13:59            ERIC ADAMS      eadams@lebanon.k12.mo.us   \n",
       "3  7/13/22 14:00         MARY PRICHARD           Maryprich@gmail.com   \n",
       "4  7/13/22 14:01       KATHERINE KNOTT           Kknott123@gmail.com   \n",
       "\n",
       "  Please select your highest level of education Undergraduate graduation year  \\\n",
       "0                             Bachelor's Degree                          2000   \n",
       "1                             Bachelor's Degree                          2000   \n",
       "2                               Master's Degree                          1996   \n",
       "3                               Master's Degree                          2004   \n",
       "4                             Bachelor's Degree                          2016   \n",
       "\n",
       "  Current zip code Outlet(s) you worked at  \\\n",
       "0             6107            The Maneater   \n",
       "1            65203            The Maneater   \n",
       "2            65536            The Maneater   \n",
       "3            64155            The Maneater   \n",
       "4            22902            The Maneater   \n",
       "\n",
       "  Position(s) you held within the outlet(s) chosen above  \\\n",
       "0                                       Staff Writer       \n",
       "1  Ad Sales Rep, Classifieds Manager, Business Ma...       \n",
       "2              photographer, reporter & photo editor       \n",
       "3                      Website management, reporter        \n",
       "4                                    Managing editor       \n",
       "\n",
       "  Years active at your Mizzou Student Media outlet  \\\n",
       "0                                             1997   \n",
       "1                                      1997 - 2000   \n",
       "2                                          1991-95   \n",
       "3                                                2   \n",
       "4                                          2012-16   \n",
       "\n",
       "                       Current role and organization  \\\n",
       "0                  Senior Writer, ESPN; book author    \n",
       "1  Director of Donor Relations, University of Mis...   \n",
       "2  video-photo, digital media teacher at Lebanon ...   \n",
       "3  Journalism Educator & HS media adviser in Miss...   \n",
       "4            Education Reporter, The Daily Progress    \n",
       "\n",
       "  Indicate the opportunities described above that you're interested in pursuing.  \n",
       "0          Receiving the bi-weekly alumni newsletter                              \n",
       "1  Receiving the bi-weekly alumni newsletter, Aud...                              \n",
       "2  Becoming a mentor for the mentorship program, ...                              \n",
       "3  Receiving the bi-weekly alumni newsletter, Aud...                              \n",
       "4  Becoming a mentor for the mentorship program, ...                              "
      ]
     },
     "execution_count": 4,
     "metadata": {},
     "output_type": "execute_result"
    }
   ],
   "source": [
    "alumni_form = pd.read_csv(\"/Users/gcdyw9/Downloads/Mizzou Student Media Alumni Involvement Form.csv\")\n",
    "alumni_form['Full name'] = alumni_form['Full name'].str.upper()\n",
    "alumni_form.head()"
   ]
  },
  {
   "cell_type": "code",
   "execution_count": 5,
   "id": "c0c95f75",
   "metadata": {},
   "outputs": [
    {
     "data": {
      "text/plain": [
       "(81, 11)"
      ]
     },
     "execution_count": 5,
     "metadata": {},
     "output_type": "execute_result"
    }
   ],
   "source": [
    "alumni_form.shape"
   ]
  },
  {
   "cell_type": "markdown",
   "id": "a7e40282",
   "metadata": {},
   "source": [
    "## Join Alumni and Response data"
   ]
  },
  {
   "cell_type": "code",
   "execution_count": 6,
   "id": "ed0ce983",
   "metadata": {},
   "outputs": [],
   "source": [
    "alumni_join = msm_alumni.set_index('FULL_NAME').join(alumni_form.set_index('Full name')).reset_index()"
   ]
  },
  {
   "cell_type": "code",
   "execution_count": 7,
   "id": "21e837b4",
   "metadata": {
    "scrolled": false
   },
   "outputs": [
    {
     "data": {
      "text/html": [
       "<div>\n",
       "<style scoped>\n",
       "    .dataframe tbody tr th:only-of-type {\n",
       "        vertical-align: middle;\n",
       "    }\n",
       "\n",
       "    .dataframe tbody tr th {\n",
       "        vertical-align: top;\n",
       "    }\n",
       "\n",
       "    .dataframe thead th {\n",
       "        text-align: right;\n",
       "    }\n",
       "</style>\n",
       "<table border=\"1\" class=\"dataframe\">\n",
       "  <thead>\n",
       "    <tr style=\"text-align: right;\">\n",
       "      <th></th>\n",
       "      <th>index</th>\n",
       "      <th>EMAIL_1</th>\n",
       "      <th>MANEATER_ALUM_FLAG</th>\n",
       "      <th>KCOU_ALUM_FLAG</th>\n",
       "      <th>MUTV_ALUM_FLAG</th>\n",
       "      <th>FIRST_NAME</th>\n",
       "      <th>LAST_NAME</th>\n",
       "      <th>Timestamp</th>\n",
       "      <th>Non-work email</th>\n",
       "      <th>Please select your highest level of education</th>\n",
       "      <th>Undergraduate graduation year</th>\n",
       "      <th>Current zip code</th>\n",
       "      <th>Outlet(s) you worked at</th>\n",
       "      <th>Position(s) you held within the outlet(s) chosen above</th>\n",
       "      <th>Years active at your Mizzou Student Media outlet</th>\n",
       "      <th>Current role and organization</th>\n",
       "      <th>Indicate the opportunities described above that you're interested in pursuing.</th>\n",
       "    </tr>\n",
       "  </thead>\n",
       "  <tbody>\n",
       "    <tr>\n",
       "      <th>0</th>\n",
       "      <td>AAMER MADHANI</td>\n",
       "      <td>aamermadhani@gmail.com</td>\n",
       "      <td>True</td>\n",
       "      <td>False</td>\n",
       "      <td>False</td>\n",
       "      <td>AAMER</td>\n",
       "      <td>MADHANI</td>\n",
       "      <td>NaN</td>\n",
       "      <td>NaN</td>\n",
       "      <td>NaN</td>\n",
       "      <td>NaN</td>\n",
       "      <td>NaN</td>\n",
       "      <td>NaN</td>\n",
       "      <td>NaN</td>\n",
       "      <td>NaN</td>\n",
       "      <td>NaN</td>\n",
       "      <td>NaN</td>\n",
       "    </tr>\n",
       "    <tr>\n",
       "      <th>1</th>\n",
       "      <td>AARON CARTER</td>\n",
       "      <td>Aaroncarter51298@gmail.com</td>\n",
       "      <td>False</td>\n",
       "      <td>True</td>\n",
       "      <td>True</td>\n",
       "      <td>AARON</td>\n",
       "      <td>CARTER</td>\n",
       "      <td>NaN</td>\n",
       "      <td>NaN</td>\n",
       "      <td>NaN</td>\n",
       "      <td>NaN</td>\n",
       "      <td>NaN</td>\n",
       "      <td>NaN</td>\n",
       "      <td>NaN</td>\n",
       "      <td>NaN</td>\n",
       "      <td>NaN</td>\n",
       "      <td>NaN</td>\n",
       "    </tr>\n",
       "    <tr>\n",
       "      <th>2</th>\n",
       "      <td>AARON CUMMINS</td>\n",
       "      <td>aaroncummins@yahoo.com</td>\n",
       "      <td>False</td>\n",
       "      <td>True</td>\n",
       "      <td>False</td>\n",
       "      <td>AARON</td>\n",
       "      <td>CUMMINS</td>\n",
       "      <td>NaN</td>\n",
       "      <td>NaN</td>\n",
       "      <td>NaN</td>\n",
       "      <td>NaN</td>\n",
       "      <td>NaN</td>\n",
       "      <td>NaN</td>\n",
       "      <td>NaN</td>\n",
       "      <td>NaN</td>\n",
       "      <td>NaN</td>\n",
       "      <td>NaN</td>\n",
       "    </tr>\n",
       "    <tr>\n",
       "      <th>3</th>\n",
       "      <td>AARON LADD</td>\n",
       "      <td>laddaaron0@gmail.com</td>\n",
       "      <td>False</td>\n",
       "      <td>False</td>\n",
       "      <td>True</td>\n",
       "      <td>AARON</td>\n",
       "      <td>LADD</td>\n",
       "      <td>7/13/22 14:37</td>\n",
       "      <td>laddaaron0@gmail.com</td>\n",
       "      <td>Bachelor's Degree</td>\n",
       "      <td>2018</td>\n",
       "      <td>64111</td>\n",
       "      <td>MUTV</td>\n",
       "      <td>MUTV Sports Reporter</td>\n",
       "      <td>2015-2016</td>\n",
       "      <td>KSHB 41 TV</td>\n",
       "      <td>Becoming a mentor for the mentorship program, ...</td>\n",
       "    </tr>\n",
       "    <tr>\n",
       "      <th>4</th>\n",
       "      <td>AARON MORALES</td>\n",
       "      <td>morgan.amgardens@gmail.com</td>\n",
       "      <td>True</td>\n",
       "      <td>False</td>\n",
       "      <td>False</td>\n",
       "      <td>AARON</td>\n",
       "      <td>MORALES</td>\n",
       "      <td>NaN</td>\n",
       "      <td>NaN</td>\n",
       "      <td>NaN</td>\n",
       "      <td>NaN</td>\n",
       "      <td>NaN</td>\n",
       "      <td>NaN</td>\n",
       "      <td>NaN</td>\n",
       "      <td>NaN</td>\n",
       "      <td>NaN</td>\n",
       "      <td>NaN</td>\n",
       "    </tr>\n",
       "  </tbody>\n",
       "</table>\n",
       "</div>"
      ],
      "text/plain": [
       "           index                     EMAIL_1  MANEATER_ALUM_FLAG  \\\n",
       "0  AAMER MADHANI      aamermadhani@gmail.com                True   \n",
       "1   AARON CARTER  Aaroncarter51298@gmail.com               False   \n",
       "2  AARON CUMMINS      aaroncummins@yahoo.com               False   \n",
       "3     AARON LADD        laddaaron0@gmail.com               False   \n",
       "4  AARON MORALES  morgan.amgardens@gmail.com                True   \n",
       "\n",
       "   KCOU_ALUM_FLAG  MUTV_ALUM_FLAG FIRST_NAME LAST_NAME      Timestamp  \\\n",
       "0           False           False      AAMER   MADHANI            NaN   \n",
       "1            True            True      AARON    CARTER            NaN   \n",
       "2            True           False      AARON   CUMMINS            NaN   \n",
       "3           False            True      AARON      LADD  7/13/22 14:37   \n",
       "4           False           False      AARON   MORALES            NaN   \n",
       "\n",
       "         Non-work email Please select your highest level of education  \\\n",
       "0                   NaN                                           NaN   \n",
       "1                   NaN                                           NaN   \n",
       "2                   NaN                                           NaN   \n",
       "3  laddaaron0@gmail.com                             Bachelor's Degree   \n",
       "4                   NaN                                           NaN   \n",
       "\n",
       "  Undergraduate graduation year Current zip code Outlet(s) you worked at  \\\n",
       "0                           NaN              NaN                     NaN   \n",
       "1                           NaN              NaN                     NaN   \n",
       "2                           NaN              NaN                     NaN   \n",
       "3                          2018            64111                    MUTV   \n",
       "4                           NaN              NaN                     NaN   \n",
       "\n",
       "  Position(s) you held within the outlet(s) chosen above  \\\n",
       "0                                                NaN       \n",
       "1                                                NaN       \n",
       "2                                                NaN       \n",
       "3                               MUTV Sports Reporter       \n",
       "4                                                NaN       \n",
       "\n",
       "  Years active at your Mizzou Student Media outlet  \\\n",
       "0                                              NaN   \n",
       "1                                              NaN   \n",
       "2                                              NaN   \n",
       "3                                        2015-2016   \n",
       "4                                              NaN   \n",
       "\n",
       "  Current role and organization  \\\n",
       "0                           NaN   \n",
       "1                           NaN   \n",
       "2                           NaN   \n",
       "3                   KSHB 41 TV    \n",
       "4                           NaN   \n",
       "\n",
       "  Indicate the opportunities described above that you're interested in pursuing.  \n",
       "0                                                NaN                              \n",
       "1                                                NaN                              \n",
       "2                                                NaN                              \n",
       "3  Becoming a mentor for the mentorship program, ...                              \n",
       "4                                                NaN                              "
      ]
     },
     "execution_count": 7,
     "metadata": {},
     "output_type": "execute_result"
    }
   ],
   "source": [
    "alumni_join.head()"
   ]
  },
  {
   "cell_type": "code",
   "execution_count": 8,
   "id": "da84b3dc",
   "metadata": {},
   "outputs": [
    {
     "data": {
      "text/html": [
       "<div>\n",
       "<style scoped>\n",
       "    .dataframe tbody tr th:only-of-type {\n",
       "        vertical-align: middle;\n",
       "    }\n",
       "\n",
       "    .dataframe tbody tr th {\n",
       "        vertical-align: top;\n",
       "    }\n",
       "\n",
       "    .dataframe thead th {\n",
       "        text-align: right;\n",
       "    }\n",
       "</style>\n",
       "<table border=\"1\" class=\"dataframe\">\n",
       "  <thead>\n",
       "    <tr style=\"text-align: right;\">\n",
       "      <th></th>\n",
       "      <th>index</th>\n",
       "      <th>EMAIL_1</th>\n",
       "      <th>MANEATER_ALUM_FLAG</th>\n",
       "      <th>KCOU_ALUM_FLAG</th>\n",
       "      <th>MUTV_ALUM_FLAG</th>\n",
       "      <th>FIRST_NAME</th>\n",
       "      <th>LAST_NAME</th>\n",
       "      <th>Timestamp</th>\n",
       "      <th>Non-work email</th>\n",
       "      <th>Please select your highest level of education</th>\n",
       "      <th>Undergraduate graduation year</th>\n",
       "      <th>Current zip code</th>\n",
       "      <th>Outlet(s) you worked at</th>\n",
       "      <th>Position(s) you held within the outlet(s) chosen above</th>\n",
       "      <th>Years active at your Mizzou Student Media outlet</th>\n",
       "      <th>Current role and organization</th>\n",
       "      <th>Indicate the opportunities described above that you're interested in pursuing.</th>\n",
       "    </tr>\n",
       "  </thead>\n",
       "  <tbody>\n",
       "    <tr>\n",
       "      <th>1056</th>\n",
       "      <td>KIMBERLY RUTLEDGE</td>\n",
       "      <td>kimdawnrut@gmail.com</td>\n",
       "      <td>True</td>\n",
       "      <td>True</td>\n",
       "      <td>False</td>\n",
       "      <td>KIMBERLY</td>\n",
       "      <td>RUTLEDGE</td>\n",
       "      <td>7/13/22 16:52</td>\n",
       "      <td>kimdawnrut@gmail.com</td>\n",
       "      <td>Master's Degree</td>\n",
       "      <td>1997</td>\n",
       "      <td>95818</td>\n",
       "      <td>The Maneater, KCOU</td>\n",
       "      <td>Maneater -- staff writer and copy editor  KCOU...</td>\n",
       "      <td>Maneater 1994-97  KCOU 1995-97</td>\n",
       "      <td>Deputy Director of Legislation and Communicati...</td>\n",
       "      <td>Receiving the bi-weekly alumni newsletter, Buy...</td>\n",
       "    </tr>\n",
       "  </tbody>\n",
       "</table>\n",
       "</div>"
      ],
      "text/plain": [
       "                  index               EMAIL_1  MANEATER_ALUM_FLAG  \\\n",
       "1056  KIMBERLY RUTLEDGE  kimdawnrut@gmail.com                True   \n",
       "\n",
       "      KCOU_ALUM_FLAG  MUTV_ALUM_FLAG FIRST_NAME LAST_NAME      Timestamp  \\\n",
       "1056            True           False   KIMBERLY  RUTLEDGE  7/13/22 16:52   \n",
       "\n",
       "            Non-work email Please select your highest level of education  \\\n",
       "1056  kimdawnrut@gmail.com                               Master's Degree   \n",
       "\n",
       "     Undergraduate graduation year Current zip code Outlet(s) you worked at  \\\n",
       "1056                          1997            95818      The Maneater, KCOU   \n",
       "\n",
       "     Position(s) you held within the outlet(s) chosen above  \\\n",
       "1056  Maneater -- staff writer and copy editor  KCOU...       \n",
       "\n",
       "     Years active at your Mizzou Student Media outlet  \\\n",
       "1056                   Maneater 1994-97  KCOU 1995-97   \n",
       "\n",
       "                          Current role and organization  \\\n",
       "1056  Deputy Director of Legislation and Communicati...   \n",
       "\n",
       "     Indicate the opportunities described above that you're interested in pursuing.  \n",
       "1056  Receiving the bi-weekly alumni newsletter, Buy...                              "
      ]
     },
     "execution_count": 8,
     "metadata": {},
     "output_type": "execute_result"
    }
   ],
   "source": [
    "alumni_join[alumni_join['index'].fillna(\"X\").str.contains(\"rutledge\",case=False)]"
   ]
  },
  {
   "cell_type": "code",
   "execution_count": null,
   "id": "4d33cb16",
   "metadata": {},
   "outputs": [],
   "source": []
  },
  {
   "cell_type": "code",
   "execution_count": 9,
   "id": "82499899",
   "metadata": {},
   "outputs": [
    {
     "data": {
      "text/plain": [
       "array(['index', 'EMAIL_1', 'MANEATER_ALUM_FLAG', 'KCOU_ALUM_FLAG',\n",
       "       'MUTV_ALUM_FLAG', 'FIRST_NAME', 'LAST_NAME', 'Timestamp',\n",
       "       'Non-work email', 'Please select your highest level of education',\n",
       "       'Undergraduate graduation year', 'Current zip code',\n",
       "       'Outlet(s) you worked at',\n",
       "       'Position(s) you held within the outlet(s) chosen above',\n",
       "       'Years active at your Mizzou Student Media outlet',\n",
       "       'Current role and organization',\n",
       "       \"Indicate the opportunities described above that you're interested in pursuing.\"],\n",
       "      dtype=object)"
      ]
     },
     "execution_count": 9,
     "metadata": {},
     "output_type": "execute_result"
    }
   ],
   "source": [
    "alumni_join.columns.values"
   ]
  },
  {
   "cell_type": "markdown",
   "id": "008addf4",
   "metadata": {},
   "source": [
    "_____"
   ]
  },
  {
   "cell_type": "code",
   "execution_count": 25,
   "id": "9029195b",
   "metadata": {},
   "outputs": [],
   "source": [
    "ed_board = alumni_join.loc[alumni_join[\"Position(s) you held within the outlet(s) chosen above\"].fillna('').str.contains((\"editor|chief\"), case=False),('index','Non-work email','Outlet(s) you worked at','Undergraduate graduation year','Position(s) you held within the outlet(s) chosen above')]"
   ]
  },
  {
   "cell_type": "code",
   "execution_count": 27,
   "id": "db43b3af",
   "metadata": {},
   "outputs": [],
   "source": [
    "ed_board.to_excel('../ed_board_names.xlsx')"
   ]
  },
  {
   "cell_type": "code",
   "execution_count": 15,
   "id": "221927f1",
   "metadata": {},
   "outputs": [
    {
     "ename": "ValueError",
     "evalue": "Cannot mask with non-boolean array containing NA / NaN values",
     "output_type": "error",
     "traceback": [
      "\u001b[0;31m---------------------------------------------------------------------------\u001b[0m",
      "\u001b[0;31mValueError\u001b[0m                                Traceback (most recent call last)",
      "\u001b[0;32m<ipython-input-15-475d9a82d0ca>\u001b[0m in \u001b[0;36m<module>\u001b[0;34m\u001b[0m\n\u001b[0;32m----> 1\u001b[0;31m \u001b[0malumni_form\u001b[0m\u001b[0;34m.\u001b[0m\u001b[0mloc\u001b[0m\u001b[0;34m[\u001b[0m\u001b[0malumni_form\u001b[0m\u001b[0;34m[\u001b[0m\u001b[0;34m'Position(s) you held within the outlet(s) chosen above'\u001b[0m\u001b[0;34m]\u001b[0m\u001b[0;34m.\u001b[0m\u001b[0mstr\u001b[0m\u001b[0;34m.\u001b[0m\u001b[0mcontains\u001b[0m\u001b[0;34m(\u001b[0m\u001b[0;34m\"editor\"\u001b[0m\u001b[0;34m,\u001b[0m\u001b[0mcase\u001b[0m\u001b[0;34m=\u001b[0m\u001b[0;32mFalse\u001b[0m\u001b[0;34m)\u001b[0m\u001b[0;34m]\u001b[0m\u001b[0;34m\u001b[0m\u001b[0;34m\u001b[0m\u001b[0m\n\u001b[0m",
      "\u001b[0;32m~/opt/anaconda3/lib/python3.8/site-packages/pandas/core/indexing.py\u001b[0m in \u001b[0;36m__getitem__\u001b[0;34m(self, key)\u001b[0m\n\u001b[1;32m    893\u001b[0m \u001b[0;34m\u001b[0m\u001b[0m\n\u001b[1;32m    894\u001b[0m             \u001b[0mmaybe_callable\u001b[0m \u001b[0;34m=\u001b[0m \u001b[0mcom\u001b[0m\u001b[0;34m.\u001b[0m\u001b[0mapply_if_callable\u001b[0m\u001b[0;34m(\u001b[0m\u001b[0mkey\u001b[0m\u001b[0;34m,\u001b[0m \u001b[0mself\u001b[0m\u001b[0;34m.\u001b[0m\u001b[0mobj\u001b[0m\u001b[0;34m)\u001b[0m\u001b[0;34m\u001b[0m\u001b[0;34m\u001b[0m\u001b[0m\n\u001b[0;32m--> 895\u001b[0;31m             \u001b[0;32mreturn\u001b[0m \u001b[0mself\u001b[0m\u001b[0;34m.\u001b[0m\u001b[0m_getitem_axis\u001b[0m\u001b[0;34m(\u001b[0m\u001b[0mmaybe_callable\u001b[0m\u001b[0;34m,\u001b[0m \u001b[0maxis\u001b[0m\u001b[0;34m=\u001b[0m\u001b[0maxis\u001b[0m\u001b[0;34m)\u001b[0m\u001b[0;34m\u001b[0m\u001b[0;34m\u001b[0m\u001b[0m\n\u001b[0m\u001b[1;32m    896\u001b[0m \u001b[0;34m\u001b[0m\u001b[0m\n\u001b[1;32m    897\u001b[0m     \u001b[0;32mdef\u001b[0m \u001b[0m_is_scalar_access\u001b[0m\u001b[0;34m(\u001b[0m\u001b[0mself\u001b[0m\u001b[0;34m,\u001b[0m \u001b[0mkey\u001b[0m\u001b[0;34m:\u001b[0m \u001b[0mTuple\u001b[0m\u001b[0;34m)\u001b[0m\u001b[0;34m:\u001b[0m\u001b[0;34m\u001b[0m\u001b[0;34m\u001b[0m\u001b[0m\n",
      "\u001b[0;32m~/opt/anaconda3/lib/python3.8/site-packages/pandas/core/indexing.py\u001b[0m in \u001b[0;36m_getitem_axis\u001b[0;34m(self, key, axis)\u001b[0m\n\u001b[1;32m   1101\u001b[0m             \u001b[0mself\u001b[0m\u001b[0;34m.\u001b[0m\u001b[0m_validate_key\u001b[0m\u001b[0;34m(\u001b[0m\u001b[0mkey\u001b[0m\u001b[0;34m,\u001b[0m \u001b[0maxis\u001b[0m\u001b[0;34m)\u001b[0m\u001b[0;34m\u001b[0m\u001b[0;34m\u001b[0m\u001b[0m\n\u001b[1;32m   1102\u001b[0m             \u001b[0;32mreturn\u001b[0m \u001b[0mself\u001b[0m\u001b[0;34m.\u001b[0m\u001b[0m_get_slice_axis\u001b[0m\u001b[0;34m(\u001b[0m\u001b[0mkey\u001b[0m\u001b[0;34m,\u001b[0m \u001b[0maxis\u001b[0m\u001b[0;34m=\u001b[0m\u001b[0maxis\u001b[0m\u001b[0;34m)\u001b[0m\u001b[0;34m\u001b[0m\u001b[0;34m\u001b[0m\u001b[0m\n\u001b[0;32m-> 1103\u001b[0;31m         \u001b[0;32melif\u001b[0m \u001b[0mcom\u001b[0m\u001b[0;34m.\u001b[0m\u001b[0mis_bool_indexer\u001b[0m\u001b[0;34m(\u001b[0m\u001b[0mkey\u001b[0m\u001b[0;34m)\u001b[0m\u001b[0;34m:\u001b[0m\u001b[0;34m\u001b[0m\u001b[0;34m\u001b[0m\u001b[0m\n\u001b[0m\u001b[1;32m   1104\u001b[0m             \u001b[0;32mreturn\u001b[0m \u001b[0mself\u001b[0m\u001b[0;34m.\u001b[0m\u001b[0m_getbool_axis\u001b[0m\u001b[0;34m(\u001b[0m\u001b[0mkey\u001b[0m\u001b[0;34m,\u001b[0m \u001b[0maxis\u001b[0m\u001b[0;34m=\u001b[0m\u001b[0maxis\u001b[0m\u001b[0;34m)\u001b[0m\u001b[0;34m\u001b[0m\u001b[0;34m\u001b[0m\u001b[0m\n\u001b[1;32m   1105\u001b[0m         \u001b[0;32melif\u001b[0m \u001b[0mis_list_like_indexer\u001b[0m\u001b[0;34m(\u001b[0m\u001b[0mkey\u001b[0m\u001b[0;34m)\u001b[0m\u001b[0;34m:\u001b[0m\u001b[0;34m\u001b[0m\u001b[0;34m\u001b[0m\u001b[0m\n",
      "\u001b[0;32m~/opt/anaconda3/lib/python3.8/site-packages/pandas/core/common.py\u001b[0m in \u001b[0;36mis_bool_indexer\u001b[0;34m(key)\u001b[0m\n\u001b[1;32m    112\u001b[0m                     \u001b[0;31m# Don't raise on e.g. [\"A\", \"B\", np.nan], see\u001b[0m\u001b[0;34m\u001b[0m\u001b[0;34m\u001b[0m\u001b[0;34m\u001b[0m\u001b[0m\n\u001b[1;32m    113\u001b[0m                     \u001b[0;31m#  test_loc_getitem_list_of_labels_categoricalindex_with_na\u001b[0m\u001b[0;34m\u001b[0m\u001b[0;34m\u001b[0m\u001b[0;34m\u001b[0m\u001b[0m\n\u001b[0;32m--> 114\u001b[0;31m                     \u001b[0;32mraise\u001b[0m \u001b[0mValueError\u001b[0m\u001b[0;34m(\u001b[0m\u001b[0mna_msg\u001b[0m\u001b[0;34m)\u001b[0m\u001b[0;34m\u001b[0m\u001b[0;34m\u001b[0m\u001b[0m\n\u001b[0m\u001b[1;32m    115\u001b[0m                 \u001b[0;32mreturn\u001b[0m \u001b[0;32mFalse\u001b[0m\u001b[0;34m\u001b[0m\u001b[0;34m\u001b[0m\u001b[0m\n\u001b[1;32m    116\u001b[0m             \u001b[0;32mreturn\u001b[0m \u001b[0;32mTrue\u001b[0m\u001b[0;34m\u001b[0m\u001b[0;34m\u001b[0m\u001b[0m\n",
      "\u001b[0;31mValueError\u001b[0m: Cannot mask with non-boolean array containing NA / NaN values"
     ]
    }
   ],
   "source": [
    "alumni_form.loc[alumni_form['Position(s) you held within the outlet(s) chosen above'].str.contains(\"editor|chief\",case=False)]"
   ]
  },
  {
   "cell_type": "code",
   "execution_count": 24,
   "id": "dfe80eda",
   "metadata": {},
   "outputs": [
    {
     "data": {
      "text/plain": [
       "(20, 5)"
      ]
     },
     "execution_count": 24,
     "metadata": {},
     "output_type": "execute_result"
    }
   ],
   "source": [
    "ed_board.shape"
   ]
  },
  {
   "cell_type": "code",
   "execution_count": 26,
   "id": "9b6f6c0f",
   "metadata": {},
   "outputs": [
    {
     "data": {
      "text/plain": [
       "(21, 5)"
      ]
     },
     "execution_count": 26,
     "metadata": {},
     "output_type": "execute_result"
    }
   ],
   "source": [
    "ed_board.shape"
   ]
  },
  {
   "cell_type": "code",
   "execution_count": null,
   "id": "32f0ae15",
   "metadata": {},
   "outputs": [],
   "source": []
  },
  {
   "cell_type": "code",
   "execution_count": null,
   "id": "d7a28fe6",
   "metadata": {},
   "outputs": [],
   "source": []
  },
  {
   "cell_type": "code",
   "execution_count": null,
   "id": "3d1a0807",
   "metadata": {},
   "outputs": [],
   "source": []
  },
  {
   "cell_type": "markdown",
   "id": "657f1b64",
   "metadata": {},
   "source": [
    "#### Create form response flag"
   ]
  },
  {
   "cell_type": "code",
   "execution_count": 16,
   "id": "784ae67b",
   "metadata": {},
   "outputs": [],
   "source": [
    "alumni_join['Timestamp'] = alumni_join['Timestamp'].fillna(\"X\")"
   ]
  },
  {
   "cell_type": "code",
   "execution_count": 17,
   "id": "956ee32b",
   "metadata": {},
   "outputs": [],
   "source": [
    "form_responses = []\n",
    "for x in alumni_join['Timestamp']:\n",
    "    if x == \"X\":\n",
    "        form_responses.append(False)\n",
    "    else:\n",
    "        form_responses.append(True)"
   ]
  },
  {
   "cell_type": "code",
   "execution_count": null,
   "id": "1797da7b",
   "metadata": {},
   "outputs": [],
   "source": []
  },
  {
   "cell_type": "code",
   "execution_count": 18,
   "id": "23c213a5",
   "metadata": {
    "scrolled": true
   },
   "outputs": [],
   "source": [
    "alumni_join['form_response'] = form_responses"
   ]
  },
  {
   "cell_type": "code",
   "execution_count": 19,
   "id": "aabd1c9f",
   "metadata": {},
   "outputs": [
    {
     "data": {
      "text/plain": [
       "79"
      ]
     },
     "execution_count": 19,
     "metadata": {},
     "output_type": "execute_result"
    }
   ],
   "source": [
    "alumni_join['form_response'].sum()"
   ]
  },
  {
   "cell_type": "code",
   "execution_count": 20,
   "id": "132a2941",
   "metadata": {},
   "outputs": [
    {
     "data": {
      "text/plain": [
       "array(['index', 'EMAIL_1', 'MANEATER_ALUM_FLAG', 'KCOU_ALUM_FLAG',\n",
       "       'MUTV_ALUM_FLAG', 'FIRST_NAME', 'LAST_NAME', 'Timestamp',\n",
       "       'Non-work email', 'Please select your highest level of education',\n",
       "       'Undergraduate graduation year', 'Current zip code',\n",
       "       'Outlet(s) you worked at',\n",
       "       'Position(s) you held within the outlet(s) chosen above',\n",
       "       'Years active at your Mizzou Student Media outlet',\n",
       "       'Current role and organization',\n",
       "       \"Indicate the opportunities described above that you're interested in pursuing.\",\n",
       "       'form_response'], dtype=object)"
      ]
     },
     "execution_count": 20,
     "metadata": {},
     "output_type": "execute_result"
    }
   ],
   "source": [
    "alumni_join.columns.values"
   ]
  },
  {
   "cell_type": "markdown",
   "id": "86b57553",
   "metadata": {},
   "source": [
    "__________"
   ]
  },
  {
   "cell_type": "markdown",
   "id": "ad841dd0",
   "metadata": {},
   "source": [
    "## Zip code data"
   ]
  },
  {
   "cell_type": "markdown",
   "id": "064f72e6",
   "metadata": {},
   "source": [
    "### Read in zip code data"
   ]
  },
  {
   "cell_type": "code",
   "execution_count": 21,
   "id": "985b5e95",
   "metadata": {},
   "outputs": [],
   "source": [
    "data_zip = pd.read_csv('/Users/gcdyw9/Downloads/19zpallagi.csv')"
   ]
  },
  {
   "cell_type": "code",
   "execution_count": 22,
   "id": "69e6931d",
   "metadata": {},
   "outputs": [
    {
     "data": {
      "text/html": [
       "<div>\n",
       "<style scoped>\n",
       "    .dataframe tbody tr th:only-of-type {\n",
       "        vertical-align: middle;\n",
       "    }\n",
       "\n",
       "    .dataframe tbody tr th {\n",
       "        vertical-align: top;\n",
       "    }\n",
       "\n",
       "    .dataframe thead th {\n",
       "        text-align: right;\n",
       "    }\n",
       "</style>\n",
       "<table border=\"1\" class=\"dataframe\">\n",
       "  <thead>\n",
       "    <tr style=\"text-align: right;\">\n",
       "      <th></th>\n",
       "      <th>zipcode</th>\n",
       "      <th>STATE</th>\n",
       "      <th>agi_stub</th>\n",
       "      <th>returns</th>\n",
       "      <th>individuals</th>\n",
       "      <th>income_returns</th>\n",
       "      <th>income</th>\n",
       "      <th>salaries_return</th>\n",
       "      <th>salaries</th>\n",
       "    </tr>\n",
       "  </thead>\n",
       "  <tbody>\n",
       "    <tr>\n",
       "      <th>0</th>\n",
       "      <td>0</td>\n",
       "      <td>AL</td>\n",
       "      <td>1</td>\n",
       "      <td>778210</td>\n",
       "      <td>1161150</td>\n",
       "      <td>778140</td>\n",
       "      <td>10311099.0</td>\n",
       "      <td>620600</td>\n",
       "      <td>8200593</td>\n",
       "    </tr>\n",
       "    <tr>\n",
       "      <th>1</th>\n",
       "      <td>0</td>\n",
       "      <td>AL</td>\n",
       "      <td>2</td>\n",
       "      <td>525940</td>\n",
       "      <td>992420</td>\n",
       "      <td>525940</td>\n",
       "      <td>19145621.0</td>\n",
       "      <td>455080</td>\n",
       "      <td>15850756</td>\n",
       "    </tr>\n",
       "    <tr>\n",
       "      <th>2</th>\n",
       "      <td>0</td>\n",
       "      <td>AL</td>\n",
       "      <td>3</td>\n",
       "      <td>285700</td>\n",
       "      <td>595680</td>\n",
       "      <td>285700</td>\n",
       "      <td>17690402.0</td>\n",
       "      <td>243910</td>\n",
       "      <td>13637123</td>\n",
       "    </tr>\n",
       "    <tr>\n",
       "      <th>3</th>\n",
       "      <td>0</td>\n",
       "      <td>AL</td>\n",
       "      <td>4</td>\n",
       "      <td>179070</td>\n",
       "      <td>432180</td>\n",
       "      <td>179070</td>\n",
       "      <td>15670456.0</td>\n",
       "      <td>152230</td>\n",
       "      <td>11584056</td>\n",
       "    </tr>\n",
       "    <tr>\n",
       "      <th>4</th>\n",
       "      <td>0</td>\n",
       "      <td>AL</td>\n",
       "      <td>5</td>\n",
       "      <td>257010</td>\n",
       "      <td>692450</td>\n",
       "      <td>257010</td>\n",
       "      <td>35286228.0</td>\n",
       "      <td>224330</td>\n",
       "      <td>25607154</td>\n",
       "    </tr>\n",
       "  </tbody>\n",
       "</table>\n",
       "</div>"
      ],
      "text/plain": [
       "   zipcode STATE  agi_stub  returns  individuals  income_returns      income  \\\n",
       "0        0    AL         1   778210      1161150          778140  10311099.0   \n",
       "1        0    AL         2   525940       992420          525940  19145621.0   \n",
       "2        0    AL         3   285700       595680          285700  17690402.0   \n",
       "3        0    AL         4   179070       432180          179070  15670456.0   \n",
       "4        0    AL         5   257010       692450          257010  35286228.0   \n",
       "\n",
       "   salaries_return  salaries  \n",
       "0           620600   8200593  \n",
       "1           455080  15850756  \n",
       "2           243910  13637123  \n",
       "3           152230  11584056  \n",
       "4           224330  25607154  "
      ]
     },
     "execution_count": 22,
     "metadata": {},
     "output_type": "execute_result"
    }
   ],
   "source": [
    "data_zip.head()"
   ]
  },
  {
   "cell_type": "code",
   "execution_count": 23,
   "id": "d9e3880e",
   "metadata": {},
   "outputs": [],
   "source": [
    "data_zip_dummy = data_zip.set_index('zipcode')"
   ]
  },
  {
   "cell_type": "code",
   "execution_count": 24,
   "id": "edafd99f",
   "metadata": {},
   "outputs": [
    {
     "data": {
      "text/html": [
       "<div>\n",
       "<style scoped>\n",
       "    .dataframe tbody tr th:only-of-type {\n",
       "        vertical-align: middle;\n",
       "    }\n",
       "\n",
       "    .dataframe tbody tr th {\n",
       "        vertical-align: top;\n",
       "    }\n",
       "\n",
       "    .dataframe thead th {\n",
       "        text-align: right;\n",
       "    }\n",
       "</style>\n",
       "<table border=\"1\" class=\"dataframe\">\n",
       "  <thead>\n",
       "    <tr style=\"text-align: right;\">\n",
       "      <th></th>\n",
       "      <th>STATE</th>\n",
       "      <th>agi_stub</th>\n",
       "      <th>returns</th>\n",
       "      <th>individuals</th>\n",
       "      <th>income_returns</th>\n",
       "      <th>income</th>\n",
       "      <th>salaries_return</th>\n",
       "      <th>salaries</th>\n",
       "    </tr>\n",
       "    <tr>\n",
       "      <th>zipcode</th>\n",
       "      <th></th>\n",
       "      <th></th>\n",
       "      <th></th>\n",
       "      <th></th>\n",
       "      <th></th>\n",
       "      <th></th>\n",
       "      <th></th>\n",
       "      <th></th>\n",
       "    </tr>\n",
       "  </thead>\n",
       "  <tbody>\n",
       "    <tr>\n",
       "      <th>0</th>\n",
       "      <td>AL</td>\n",
       "      <td>1</td>\n",
       "      <td>778210</td>\n",
       "      <td>1161150</td>\n",
       "      <td>778140</td>\n",
       "      <td>10311099.0</td>\n",
       "      <td>620600</td>\n",
       "      <td>8200593</td>\n",
       "    </tr>\n",
       "    <tr>\n",
       "      <th>0</th>\n",
       "      <td>AL</td>\n",
       "      <td>2</td>\n",
       "      <td>525940</td>\n",
       "      <td>992420</td>\n",
       "      <td>525940</td>\n",
       "      <td>19145621.0</td>\n",
       "      <td>455080</td>\n",
       "      <td>15850756</td>\n",
       "    </tr>\n",
       "    <tr>\n",
       "      <th>0</th>\n",
       "      <td>AL</td>\n",
       "      <td>3</td>\n",
       "      <td>285700</td>\n",
       "      <td>595680</td>\n",
       "      <td>285700</td>\n",
       "      <td>17690402.0</td>\n",
       "      <td>243910</td>\n",
       "      <td>13637123</td>\n",
       "    </tr>\n",
       "    <tr>\n",
       "      <th>0</th>\n",
       "      <td>AL</td>\n",
       "      <td>4</td>\n",
       "      <td>179070</td>\n",
       "      <td>432180</td>\n",
       "      <td>179070</td>\n",
       "      <td>15670456.0</td>\n",
       "      <td>152230</td>\n",
       "      <td>11584056</td>\n",
       "    </tr>\n",
       "    <tr>\n",
       "      <th>0</th>\n",
       "      <td>AL</td>\n",
       "      <td>5</td>\n",
       "      <td>257010</td>\n",
       "      <td>692450</td>\n",
       "      <td>257010</td>\n",
       "      <td>35286228.0</td>\n",
       "      <td>224330</td>\n",
       "      <td>25607154</td>\n",
       "    </tr>\n",
       "  </tbody>\n",
       "</table>\n",
       "</div>"
      ],
      "text/plain": [
       "        STATE  agi_stub  returns  individuals  income_returns      income  \\\n",
       "zipcode                                                                     \n",
       "0          AL         1   778210      1161150          778140  10311099.0   \n",
       "0          AL         2   525940       992420          525940  19145621.0   \n",
       "0          AL         3   285700       595680          285700  17690402.0   \n",
       "0          AL         4   179070       432180          179070  15670456.0   \n",
       "0          AL         5   257010       692450          257010  35286228.0   \n",
       "\n",
       "         salaries_return  salaries  \n",
       "zipcode                             \n",
       "0                 620600   8200593  \n",
       "0                 455080  15850756  \n",
       "0                 243910  13637123  \n",
       "0                 152230  11584056  \n",
       "0                 224330  25607154  "
      ]
     },
     "execution_count": 24,
     "metadata": {},
     "output_type": "execute_result"
    }
   ],
   "source": [
    "data_zip_dummy.head()"
   ]
  },
  {
   "cell_type": "markdown",
   "id": "3d9391ac",
   "metadata": {},
   "source": [
    "### Aggregate zipcode sheet"
   ]
  },
  {
   "cell_type": "code",
   "execution_count": 25,
   "id": "7d2d4539",
   "metadata": {},
   "outputs": [],
   "source": [
    "zipcode_data = data_zip.groupby('zipcode').agg(\n",
    "    state=pd.NamedAgg('STATE',max),\n",
    "    returns = pd.NamedAgg('returns',sum),\n",
    "    individuals = pd.NamedAgg('individuals',sum),\n",
    "    incomes = pd.NamedAgg('income_returns',sum),\n",
    "    total_income = pd.NamedAgg('income',sum),\n",
    "    salaries = pd.NamedAgg('salaries_return',sum),\n",
    "    total_salaries = pd.NamedAgg('salaries',sum)\n",
    ")\n",
    "zipcode_data = zipcode_data.drop(zipcode_data[zipcode_data.index == 0].index)\n",
    "zipcode_data = zipcode_data.drop(zipcode_data[zipcode_data.index == 99999].index)\n",
    "zipcode_data = zipcode_data.reset_index()"
   ]
  },
  {
   "cell_type": "code",
   "execution_count": 26,
   "id": "ffbb3412",
   "metadata": {},
   "outputs": [],
   "source": [
    "#codes = alum_zips\n",
    "def zip_to_state(codes):\n",
    "    for code in codes:\n",
    "        zipcode = zipcode_data[zipcode_data['zipcode']==code]['state']\n",
    "        #return zipcode\n",
    "        print(zipcode)"
   ]
  },
  {
   "cell_type": "markdown",
   "id": "40315c47",
   "metadata": {},
   "source": [
    "### Create different average income calculations (avg_income3 is the most accurate)"
   ]
  },
  {
   "cell_type": "code",
   "execution_count": 27,
   "id": "dbce2563",
   "metadata": {},
   "outputs": [],
   "source": [
    "zipcode_data['avg_income1'] = zipcode_data['total_income']/zipcode_data['individuals']\n",
    "zipcode_data['avg_income2'] = zipcode_data['total_income']/zipcode_data['returns']\n",
    "zipcode_data['avg_income3'] = zipcode_data['total_income']/zipcode_data['incomes']"
   ]
  },
  {
   "cell_type": "code",
   "execution_count": 28,
   "id": "1861b278",
   "metadata": {},
   "outputs": [
    {
     "data": {
      "text/plain": [
       "zipcode              99901\n",
       "state                   WY\n",
       "avg_income2    3296.829631\n",
       "dtype: object"
      ]
     },
     "execution_count": 28,
     "metadata": {},
     "output_type": "execute_result"
    }
   ],
   "source": [
    "zipcode_data[['zipcode','state','avg_income2']].max()"
   ]
  },
  {
   "cell_type": "markdown",
   "id": "c3c7b752",
   "metadata": {},
   "source": [
    "zipcode_data.loc[zipcode_data['avg_income3']==zipcode_data['avg_income3'].max(),('zipcode','state','avg_income3')]"
   ]
  },
  {
   "cell_type": "markdown",
   "id": "c0f17148",
   "metadata": {},
   "source": [
    "### Data exploration"
   ]
  },
  {
   "cell_type": "code",
   "execution_count": 29,
   "id": "5b6a6c3b",
   "metadata": {},
   "outputs": [
    {
     "data": {
      "text/plain": [
       "count    27593.000000\n",
       "mean        69.830687\n",
       "std         55.670185\n",
       "min         12.700000\n",
       "25%         48.234742\n",
       "50%         57.569445\n",
       "75%         72.875001\n",
       "max       3296.829631\n",
       "Name: avg_income3, dtype: float64"
      ]
     },
     "execution_count": 29,
     "metadata": {},
     "output_type": "execute_result"
    }
   ],
   "source": [
    "zipcode_data['avg_income3'].describe()"
   ]
  },
  {
   "cell_type": "code",
   "execution_count": 30,
   "id": "a7c98520",
   "metadata": {},
   "outputs": [
    {
     "data": {
      "text/plain": [
       "<AxesSubplot:>"
      ]
     },
     "execution_count": 30,
     "metadata": {},
     "output_type": "execute_result"
    },
    {
     "data": {
      "image/png": "[encoded data removed]",
      "text/plain": [
       "<Figure size 432x288 with 1 Axes>"
      ]
     },
     "metadata": {
      "needs_background": "light"
     },
     "output_type": "display_data"
    }
   ],
   "source": [
    "zipcode_data.loc[zipcode_data['avg_income3']<400,'avg_income3'].hist(bins=50)"
   ]
  },
  {
   "cell_type": "markdown",
   "id": "892411fe",
   "metadata": {},
   "source": [
    "### Change dtypes for zipcodes for mapping"
   ]
  },
  {
   "cell_type": "code",
   "execution_count": 31,
   "id": "a28ac460",
   "metadata": {},
   "outputs": [],
   "source": [
    "zipcode_data['zipcode'] = zipcode_data['zipcode'].astype(str)"
   ]
  },
  {
   "cell_type": "code",
   "execution_count": 32,
   "id": "dba0ef7f",
   "metadata": {},
   "outputs": [],
   "source": [
    "alumni_join['Current zip code']= alumni_join['Current zip code'].astype(str)"
   ]
  },
  {
   "cell_type": "code",
   "execution_count": 33,
   "id": "7c0fa28a",
   "metadata": {},
   "outputs": [],
   "source": [
    "alumni_form['Current zip code']= alumni_form['Current zip code'].astype(str)"
   ]
  },
  {
   "cell_type": "markdown",
   "id": "55419499",
   "metadata": {},
   "source": [
    "### Join the zipcode data to the alumni_join df"
   ]
  },
  {
   "cell_type": "code",
   "execution_count": 34,
   "id": "7420e202",
   "metadata": {},
   "outputs": [],
   "source": [
    "alumni_join['state'] = alumni_join['Current zip code'].map(zipcode_data.set_index('zipcode')['state'])"
   ]
  },
  {
   "cell_type": "code",
   "execution_count": 35,
   "id": "5dd9e096",
   "metadata": {},
   "outputs": [],
   "source": [
    "alumni_join['zip_avg_income'] = alumni_join['Current zip code'].map(zipcode_data.set_index('zipcode')['avg_income3'])"
   ]
  },
  {
   "cell_type": "code",
   "execution_count": 36,
   "id": "ef9a6d6b",
   "metadata": {},
   "outputs": [
    {
     "data": {
      "text/html": [
       "<div>\n",
       "<style scoped>\n",
       "    .dataframe tbody tr th:only-of-type {\n",
       "        vertical-align: middle;\n",
       "    }\n",
       "\n",
       "    .dataframe tbody tr th {\n",
       "        vertical-align: top;\n",
       "    }\n",
       "\n",
       "    .dataframe thead th {\n",
       "        text-align: right;\n",
       "    }\n",
       "</style>\n",
       "<table border=\"1\" class=\"dataframe\">\n",
       "  <thead>\n",
       "    <tr style=\"text-align: right;\">\n",
       "      <th></th>\n",
       "      <th>index</th>\n",
       "      <th>EMAIL_1</th>\n",
       "      <th>MANEATER_ALUM_FLAG</th>\n",
       "      <th>KCOU_ALUM_FLAG</th>\n",
       "      <th>MUTV_ALUM_FLAG</th>\n",
       "      <th>FIRST_NAME</th>\n",
       "      <th>LAST_NAME</th>\n",
       "      <th>Timestamp</th>\n",
       "      <th>Non-work email</th>\n",
       "      <th>Please select your highest level of education</th>\n",
       "      <th>Undergraduate graduation year</th>\n",
       "      <th>Current zip code</th>\n",
       "      <th>Outlet(s) you worked at</th>\n",
       "      <th>Position(s) you held within the outlet(s) chosen above</th>\n",
       "      <th>Years active at your Mizzou Student Media outlet</th>\n",
       "      <th>Current role and organization</th>\n",
       "      <th>Indicate the opportunities described above that you're interested in pursuing.</th>\n",
       "      <th>form_response</th>\n",
       "      <th>state</th>\n",
       "      <th>zip_avg_income</th>\n",
       "    </tr>\n",
       "  </thead>\n",
       "  <tbody>\n",
       "    <tr>\n",
       "      <th>0</th>\n",
       "      <td>AAMER MADHANI</td>\n",
       "      <td>aamermadhani@gmail.com</td>\n",
       "      <td>True</td>\n",
       "      <td>False</td>\n",
       "      <td>False</td>\n",
       "      <td>AAMER</td>\n",
       "      <td>MADHANI</td>\n",
       "      <td>X</td>\n",
       "      <td>NaN</td>\n",
       "      <td>NaN</td>\n",
       "      <td>NaN</td>\n",
       "      <td>nan</td>\n",
       "      <td>NaN</td>\n",
       "      <td>NaN</td>\n",
       "      <td>NaN</td>\n",
       "      <td>NaN</td>\n",
       "      <td>NaN</td>\n",
       "      <td>False</td>\n",
       "      <td>NaN</td>\n",
       "      <td>NaN</td>\n",
       "    </tr>\n",
       "    <tr>\n",
       "      <th>1</th>\n",
       "      <td>AARON CARTER</td>\n",
       "      <td>Aaroncarter51298@gmail.com</td>\n",
       "      <td>False</td>\n",
       "      <td>True</td>\n",
       "      <td>True</td>\n",
       "      <td>AARON</td>\n",
       "      <td>CARTER</td>\n",
       "      <td>X</td>\n",
       "      <td>NaN</td>\n",
       "      <td>NaN</td>\n",
       "      <td>NaN</td>\n",
       "      <td>nan</td>\n",
       "      <td>NaN</td>\n",
       "      <td>NaN</td>\n",
       "      <td>NaN</td>\n",
       "      <td>NaN</td>\n",
       "      <td>NaN</td>\n",
       "      <td>False</td>\n",
       "      <td>NaN</td>\n",
       "      <td>NaN</td>\n",
       "    </tr>\n",
       "    <tr>\n",
       "      <th>2</th>\n",
       "      <td>AARON CUMMINS</td>\n",
       "      <td>aaroncummins@yahoo.com</td>\n",
       "      <td>False</td>\n",
       "      <td>True</td>\n",
       "      <td>False</td>\n",
       "      <td>AARON</td>\n",
       "      <td>CUMMINS</td>\n",
       "      <td>X</td>\n",
       "      <td>NaN</td>\n",
       "      <td>NaN</td>\n",
       "      <td>NaN</td>\n",
       "      <td>nan</td>\n",
       "      <td>NaN</td>\n",
       "      <td>NaN</td>\n",
       "      <td>NaN</td>\n",
       "      <td>NaN</td>\n",
       "      <td>NaN</td>\n",
       "      <td>False</td>\n",
       "      <td>NaN</td>\n",
       "      <td>NaN</td>\n",
       "    </tr>\n",
       "    <tr>\n",
       "      <th>3</th>\n",
       "      <td>AARON LADD</td>\n",
       "      <td>laddaaron0@gmail.com</td>\n",
       "      <td>False</td>\n",
       "      <td>False</td>\n",
       "      <td>True</td>\n",
       "      <td>AARON</td>\n",
       "      <td>LADD</td>\n",
       "      <td>7/13/22 14:37</td>\n",
       "      <td>laddaaron0@gmail.com</td>\n",
       "      <td>Bachelor's Degree</td>\n",
       "      <td>2018</td>\n",
       "      <td>64111</td>\n",
       "      <td>MUTV</td>\n",
       "      <td>MUTV Sports Reporter</td>\n",
       "      <td>2015-2016</td>\n",
       "      <td>KSHB 41 TV</td>\n",
       "      <td>Becoming a mentor for the mentorship program, ...</td>\n",
       "      <td>True</td>\n",
       "      <td>MO</td>\n",
       "      <td>61.721542</td>\n",
       "    </tr>\n",
       "    <tr>\n",
       "      <th>4</th>\n",
       "      <td>AARON MORALES</td>\n",
       "      <td>morgan.amgardens@gmail.com</td>\n",
       "      <td>True</td>\n",
       "      <td>False</td>\n",
       "      <td>False</td>\n",
       "      <td>AARON</td>\n",
       "      <td>MORALES</td>\n",
       "      <td>X</td>\n",
       "      <td>NaN</td>\n",
       "      <td>NaN</td>\n",
       "      <td>NaN</td>\n",
       "      <td>nan</td>\n",
       "      <td>NaN</td>\n",
       "      <td>NaN</td>\n",
       "      <td>NaN</td>\n",
       "      <td>NaN</td>\n",
       "      <td>NaN</td>\n",
       "      <td>False</td>\n",
       "      <td>NaN</td>\n",
       "      <td>NaN</td>\n",
       "    </tr>\n",
       "    <tr>\n",
       "      <th>...</th>\n",
       "      <td>...</td>\n",
       "      <td>...</td>\n",
       "      <td>...</td>\n",
       "      <td>...</td>\n",
       "      <td>...</td>\n",
       "      <td>...</td>\n",
       "      <td>...</td>\n",
       "      <td>...</td>\n",
       "      <td>...</td>\n",
       "      <td>...</td>\n",
       "      <td>...</td>\n",
       "      <td>...</td>\n",
       "      <td>...</td>\n",
       "      <td>...</td>\n",
       "      <td>...</td>\n",
       "      <td>...</td>\n",
       "      <td>...</td>\n",
       "      <td>...</td>\n",
       "      <td>...</td>\n",
       "      <td>...</td>\n",
       "    </tr>\n",
       "    <tr>\n",
       "      <th>1877</th>\n",
       "      <td>ZOE BRANCO</td>\n",
       "      <td>zbranco@sbcglobal.net</td>\n",
       "      <td>False</td>\n",
       "      <td>False</td>\n",
       "      <td>True</td>\n",
       "      <td>ZOE</td>\n",
       "      <td>BRANCO</td>\n",
       "      <td>X</td>\n",
       "      <td>NaN</td>\n",
       "      <td>NaN</td>\n",
       "      <td>NaN</td>\n",
       "      <td>nan</td>\n",
       "      <td>NaN</td>\n",
       "      <td>NaN</td>\n",
       "      <td>NaN</td>\n",
       "      <td>NaN</td>\n",
       "      <td>NaN</td>\n",
       "      <td>False</td>\n",
       "      <td>NaN</td>\n",
       "      <td>NaN</td>\n",
       "    </tr>\n",
       "    <tr>\n",
       "      <th>1878</th>\n",
       "      <td>ZOE LUNDSTRAM</td>\n",
       "      <td>zll5px@mail.missouri.edu</td>\n",
       "      <td>False</td>\n",
       "      <td>False</td>\n",
       "      <td>True</td>\n",
       "      <td>ZOE</td>\n",
       "      <td>LUNDSTRAM</td>\n",
       "      <td>X</td>\n",
       "      <td>NaN</td>\n",
       "      <td>NaN</td>\n",
       "      <td>NaN</td>\n",
       "      <td>nan</td>\n",
       "      <td>NaN</td>\n",
       "      <td>NaN</td>\n",
       "      <td>NaN</td>\n",
       "      <td>NaN</td>\n",
       "      <td>NaN</td>\n",
       "      <td>False</td>\n",
       "      <td>NaN</td>\n",
       "      <td>NaN</td>\n",
       "    </tr>\n",
       "    <tr>\n",
       "      <th>1879</th>\n",
       "      <td>ZOE RICH</td>\n",
       "      <td>zkrwg9@mail.missouri.edu</td>\n",
       "      <td>False</td>\n",
       "      <td>True</td>\n",
       "      <td>False</td>\n",
       "      <td>ZOE</td>\n",
       "      <td>RICH</td>\n",
       "      <td>X</td>\n",
       "      <td>NaN</td>\n",
       "      <td>NaN</td>\n",
       "      <td>NaN</td>\n",
       "      <td>nan</td>\n",
       "      <td>NaN</td>\n",
       "      <td>NaN</td>\n",
       "      <td>NaN</td>\n",
       "      <td>NaN</td>\n",
       "      <td>NaN</td>\n",
       "      <td>False</td>\n",
       "      <td>NaN</td>\n",
       "      <td>NaN</td>\n",
       "    </tr>\n",
       "    <tr>\n",
       "      <th>1880</th>\n",
       "      <td>ZOLA CROWDER</td>\n",
       "      <td>zjc5xc@mail.missouri.edu</td>\n",
       "      <td>False</td>\n",
       "      <td>False</td>\n",
       "      <td>True</td>\n",
       "      <td>ZOLA</td>\n",
       "      <td>CROWDER</td>\n",
       "      <td>X</td>\n",
       "      <td>NaN</td>\n",
       "      <td>NaN</td>\n",
       "      <td>NaN</td>\n",
       "      <td>nan</td>\n",
       "      <td>NaN</td>\n",
       "      <td>NaN</td>\n",
       "      <td>NaN</td>\n",
       "      <td>NaN</td>\n",
       "      <td>NaN</td>\n",
       "      <td>False</td>\n",
       "      <td>NaN</td>\n",
       "      <td>NaN</td>\n",
       "    </tr>\n",
       "    <tr>\n",
       "      <th>1881</th>\n",
       "      <td>NaN</td>\n",
       "      <td>NaN</td>\n",
       "      <td>True</td>\n",
       "      <td>True</td>\n",
       "      <td>False</td>\n",
       "      <td>NaN</td>\n",
       "      <td>NaN</td>\n",
       "      <td>X</td>\n",
       "      <td>NaN</td>\n",
       "      <td>NaN</td>\n",
       "      <td>NaN</td>\n",
       "      <td>nan</td>\n",
       "      <td>NaN</td>\n",
       "      <td>NaN</td>\n",
       "      <td>NaN</td>\n",
       "      <td>NaN</td>\n",
       "      <td>NaN</td>\n",
       "      <td>False</td>\n",
       "      <td>NaN</td>\n",
       "      <td>NaN</td>\n",
       "    </tr>\n",
       "  </tbody>\n",
       "</table>\n",
       "<p>1882 rows × 20 columns</p>\n",
       "</div>"
      ],
      "text/plain": [
       "              index                     EMAIL_1  MANEATER_ALUM_FLAG  \\\n",
       "0     AAMER MADHANI      aamermadhani@gmail.com                True   \n",
       "1      AARON CARTER  Aaroncarter51298@gmail.com               False   \n",
       "2     AARON CUMMINS      aaroncummins@yahoo.com               False   \n",
       "3        AARON LADD        laddaaron0@gmail.com               False   \n",
       "4     AARON MORALES  morgan.amgardens@gmail.com                True   \n",
       "...             ...                         ...                 ...   \n",
       "1877     ZOE BRANCO       zbranco@sbcglobal.net               False   \n",
       "1878  ZOE LUNDSTRAM    zll5px@mail.missouri.edu               False   \n",
       "1879       ZOE RICH    zkrwg9@mail.missouri.edu               False   \n",
       "1880   ZOLA CROWDER    zjc5xc@mail.missouri.edu               False   \n",
       "1881            NaN                         NaN                True   \n",
       "\n",
       "      KCOU_ALUM_FLAG  MUTV_ALUM_FLAG FIRST_NAME  LAST_NAME      Timestamp  \\\n",
       "0              False           False      AAMER    MADHANI              X   \n",
       "1               True            True      AARON     CARTER              X   \n",
       "2               True           False      AARON    CUMMINS              X   \n",
       "3              False            True      AARON       LADD  7/13/22 14:37   \n",
       "4              False           False      AARON    MORALES              X   \n",
       "...              ...             ...        ...        ...            ...   \n",
       "1877           False            True        ZOE     BRANCO              X   \n",
       "1878           False            True        ZOE  LUNDSTRAM              X   \n",
       "1879            True           False        ZOE       RICH              X   \n",
       "1880           False            True       ZOLA    CROWDER              X   \n",
       "1881            True           False        NaN        NaN              X   \n",
       "\n",
       "            Non-work email Please select your highest level of education  \\\n",
       "0                      NaN                                           NaN   \n",
       "1                      NaN                                           NaN   \n",
       "2                      NaN                                           NaN   \n",
       "3     laddaaron0@gmail.com                             Bachelor's Degree   \n",
       "4                      NaN                                           NaN   \n",
       "...                    ...                                           ...   \n",
       "1877                   NaN                                           NaN   \n",
       "1878                   NaN                                           NaN   \n",
       "1879                   NaN                                           NaN   \n",
       "1880                   NaN                                           NaN   \n",
       "1881                   NaN                                           NaN   \n",
       "\n",
       "     Undergraduate graduation year Current zip code Outlet(s) you worked at  \\\n",
       "0                              NaN              nan                     NaN   \n",
       "1                              NaN              nan                     NaN   \n",
       "2                              NaN              nan                     NaN   \n",
       "3                             2018            64111                    MUTV   \n",
       "4                              NaN              nan                     NaN   \n",
       "...                            ...              ...                     ...   \n",
       "1877                           NaN              nan                     NaN   \n",
       "1878                           NaN              nan                     NaN   \n",
       "1879                           NaN              nan                     NaN   \n",
       "1880                           NaN              nan                     NaN   \n",
       "1881                           NaN              nan                     NaN   \n",
       "\n",
       "     Position(s) you held within the outlet(s) chosen above  \\\n",
       "0                                                   NaN       \n",
       "1                                                   NaN       \n",
       "2                                                   NaN       \n",
       "3                                  MUTV Sports Reporter       \n",
       "4                                                   NaN       \n",
       "...                                                 ...       \n",
       "1877                                                NaN       \n",
       "1878                                                NaN       \n",
       "1879                                                NaN       \n",
       "1880                                                NaN       \n",
       "1881                                                NaN       \n",
       "\n",
       "     Years active at your Mizzou Student Media outlet  \\\n",
       "0                                                 NaN   \n",
       "1                                                 NaN   \n",
       "2                                                 NaN   \n",
       "3                                           2015-2016   \n",
       "4                                                 NaN   \n",
       "...                                               ...   \n",
       "1877                                              NaN   \n",
       "1878                                              NaN   \n",
       "1879                                              NaN   \n",
       "1880                                              NaN   \n",
       "1881                                              NaN   \n",
       "\n",
       "     Current role and organization  \\\n",
       "0                              NaN   \n",
       "1                              NaN   \n",
       "2                              NaN   \n",
       "3                      KSHB 41 TV    \n",
       "4                              NaN   \n",
       "...                            ...   \n",
       "1877                           NaN   \n",
       "1878                           NaN   \n",
       "1879                           NaN   \n",
       "1880                           NaN   \n",
       "1881                           NaN   \n",
       "\n",
       "     Indicate the opportunities described above that you're interested in pursuing.  \\\n",
       "0                                                   NaN                               \n",
       "1                                                   NaN                               \n",
       "2                                                   NaN                               \n",
       "3     Becoming a mentor for the mentorship program, ...                               \n",
       "4                                                   NaN                               \n",
       "...                                                 ...                               \n",
       "1877                                                NaN                               \n",
       "1878                                                NaN                               \n",
       "1879                                                NaN                               \n",
       "1880                                                NaN                               \n",
       "1881                                                NaN                               \n",
       "\n",
       "      form_response state  zip_avg_income  \n",
       "0             False   NaN             NaN  \n",
       "1             False   NaN             NaN  \n",
       "2             False   NaN             NaN  \n",
       "3              True    MO       61.721542  \n",
       "4             False   NaN             NaN  \n",
       "...             ...   ...             ...  \n",
       "1877          False   NaN             NaN  \n",
       "1878          False   NaN             NaN  \n",
       "1879          False   NaN             NaN  \n",
       "1880          False   NaN             NaN  \n",
       "1881          False   NaN             NaN  \n",
       "\n",
       "[1882 rows x 20 columns]"
      ]
     },
     "execution_count": 36,
     "metadata": {},
     "output_type": "execute_result"
    }
   ],
   "source": [
    "alumni_join"
   ]
  },
  {
   "cell_type": "code",
   "execution_count": 37,
   "id": "eef18dda",
   "metadata": {},
   "outputs": [
    {
     "data": {
      "text/plain": [
       "array(['index', 'EMAIL_1', 'MANEATER_ALUM_FLAG', 'KCOU_ALUM_FLAG',\n",
       "       'MUTV_ALUM_FLAG', 'FIRST_NAME', 'LAST_NAME', 'Timestamp',\n",
       "       'Non-work email', 'Please select your highest level of education',\n",
       "       'Undergraduate graduation year', 'Current zip code',\n",
       "       'Outlet(s) you worked at',\n",
       "       'Position(s) you held within the outlet(s) chosen above',\n",
       "       'Years active at your Mizzou Student Media outlet',\n",
       "       'Current role and organization',\n",
       "       \"Indicate the opportunities described above that you're interested in pursuing.\",\n",
       "       'form_response', 'state', 'zip_avg_income'], dtype=object)"
      ]
     },
     "execution_count": 37,
     "metadata": {},
     "output_type": "execute_result"
    }
   ],
   "source": [
    "alumni_join.columns.values"
   ]
  },
  {
   "cell_type": "code",
   "execution_count": 38,
   "id": "906c9d87",
   "metadata": {},
   "outputs": [
    {
     "data": {
      "text/html": [
       "<div>\n",
       "<style scoped>\n",
       "    .dataframe tbody tr th:only-of-type {\n",
       "        vertical-align: middle;\n",
       "    }\n",
       "\n",
       "    .dataframe tbody tr th {\n",
       "        vertical-align: top;\n",
       "    }\n",
       "\n",
       "    .dataframe thead th {\n",
       "        text-align: right;\n",
       "    }\n",
       "</style>\n",
       "<table border=\"1\" class=\"dataframe\">\n",
       "  <thead>\n",
       "    <tr style=\"text-align: right;\">\n",
       "      <th></th>\n",
       "      <th>index</th>\n",
       "      <th>EMAIL_1</th>\n",
       "      <th>MANEATER_ALUM_FLAG</th>\n",
       "      <th>KCOU_ALUM_FLAG</th>\n",
       "      <th>MUTV_ALUM_FLAG</th>\n",
       "      <th>FIRST_NAME</th>\n",
       "      <th>LAST_NAME</th>\n",
       "      <th>Timestamp</th>\n",
       "      <th>Non-work email</th>\n",
       "      <th>Please select your highest level of education</th>\n",
       "      <th>Undergraduate graduation year</th>\n",
       "      <th>Current zip code</th>\n",
       "      <th>Outlet(s) you worked at</th>\n",
       "      <th>Position(s) you held within the outlet(s) chosen above</th>\n",
       "      <th>Years active at your Mizzou Student Media outlet</th>\n",
       "      <th>Current role and organization</th>\n",
       "      <th>Indicate the opportunities described above that you're interested in pursuing.</th>\n",
       "      <th>form_response</th>\n",
       "      <th>state</th>\n",
       "      <th>zip_avg_income</th>\n",
       "    </tr>\n",
       "  </thead>\n",
       "  <tbody>\n",
       "    <tr>\n",
       "      <th>270</th>\n",
       "      <td>CARSON CORNELIUS</td>\n",
       "      <td>CARSONCORNELIUS@GMAIL.COM</td>\n",
       "      <td>False</td>\n",
       "      <td>True</td>\n",
       "      <td>False</td>\n",
       "      <td>CARSON</td>\n",
       "      <td>CORNELIUS-BURKE</td>\n",
       "      <td>7/13/22 16:22</td>\n",
       "      <td>carsoncornelius@gmail.com</td>\n",
       "      <td>Bachelor's Degree</td>\n",
       "      <td>2015</td>\n",
       "      <td>1002</td>\n",
       "      <td>KCOU</td>\n",
       "      <td>General Manager, Sports Director</td>\n",
       "      <td>2011-15</td>\n",
       "      <td>Director of Student Broadcast Media, Universit...</td>\n",
       "      <td>Becoming a mentor for the mentorship program, ...</td>\n",
       "      <td>True</td>\n",
       "      <td>MA</td>\n",
       "      <td>95.648203</td>\n",
       "    </tr>\n",
       "    <tr>\n",
       "      <th>559</th>\n",
       "      <td>EMMA RHYNER</td>\n",
       "      <td>erhyner2@gmail.com</td>\n",
       "      <td>False</td>\n",
       "      <td>False</td>\n",
       "      <td>True</td>\n",
       "      <td>EMMA</td>\n",
       "      <td>RHYNER</td>\n",
       "      <td>7/13/22 14:47</td>\n",
       "      <td>erhyner2@gmail.com</td>\n",
       "      <td>Bachelor's Degree</td>\n",
       "      <td>2018</td>\n",
       "      <td>10028</td>\n",
       "      <td>MUTV, KCOU</td>\n",
       "      <td>Sports Social Media Manager, Sports Reporter</td>\n",
       "      <td>2014-2016</td>\n",
       "      <td>Social Media Manager, SpotCo</td>\n",
       "      <td>Becoming a mentor for the mentorship program, ...</td>\n",
       "      <td>True</td>\n",
       "      <td>NY</td>\n",
       "      <td>395.548419</td>\n",
       "    </tr>\n",
       "    <tr>\n",
       "      <th>1759</th>\n",
       "      <td>THEODORE BLOOM</td>\n",
       "      <td>tcbmxm@mail.missouri.edu</td>\n",
       "      <td>False</td>\n",
       "      <td>True</td>\n",
       "      <td>False</td>\n",
       "      <td>THEODORE</td>\n",
       "      <td>BLOOM</td>\n",
       "      <td>7/18/22 19:27</td>\n",
       "      <td>Theodorecbloom@gmail.com</td>\n",
       "      <td>Bachelor's Degree</td>\n",
       "      <td>2021</td>\n",
       "      <td>10803</td>\n",
       "      <td>KCOU</td>\n",
       "      <td>DJ</td>\n",
       "      <td>2017-2020</td>\n",
       "      <td>retired</td>\n",
       "      <td>Receiving the bi-weekly alumni newsletter, Buy...</td>\n",
       "      <td>True</td>\n",
       "      <td>NY</td>\n",
       "      <td>258.416969</td>\n",
       "    </tr>\n",
       "    <tr>\n",
       "      <th>1839</th>\n",
       "      <td>WAVERLY COLVILLE</td>\n",
       "      <td>wcolville64@gmail.com</td>\n",
       "      <td>True</td>\n",
       "      <td>False</td>\n",
       "      <td>False</td>\n",
       "      <td>WAVERLY</td>\n",
       "      <td>COLVILLE</td>\n",
       "      <td>7/13/22 14:25</td>\n",
       "      <td>wcolville64@gmail.com</td>\n",
       "      <td>Bachelor's Degree</td>\n",
       "      <td>2018</td>\n",
       "      <td>11206</td>\n",
       "      <td>The Maneater, MUTV</td>\n",
       "      <td>The Maneater: MSA Beat Reporter (2014-2015), s...</td>\n",
       "      <td>2014-2016</td>\n",
       "      <td>Multimedia Producer for The New Yorker</td>\n",
       "      <td>Becoming a mentor for the mentorship program, ...</td>\n",
       "      <td>True</td>\n",
       "      <td>NY</td>\n",
       "      <td>49.156404</td>\n",
       "    </tr>\n",
       "    <tr>\n",
       "      <th>1617</th>\n",
       "      <td>SARA-JESSICA DILKS</td>\n",
       "      <td>sarajessicadilks@gmail.com</td>\n",
       "      <td>True</td>\n",
       "      <td>False</td>\n",
       "      <td>False</td>\n",
       "      <td>SARA-JESSICA</td>\n",
       "      <td>DILKS</td>\n",
       "      <td>7/13/22 14:04</td>\n",
       "      <td>sarajessicadilks@gmail.com</td>\n",
       "      <td>Bachelor's Degree</td>\n",
       "      <td>2018</td>\n",
       "      <td>11211</td>\n",
       "      <td>The Maneater</td>\n",
       "      <td>graphic designer (temp)</td>\n",
       "      <td>1</td>\n",
       "      <td>Public Relations Associate Principal at Via</td>\n",
       "      <td>Receiving the bi-weekly alumni newsletter, Bei...</td>\n",
       "      <td>True</td>\n",
       "      <td>NY</td>\n",
       "      <td>88.058700</td>\n",
       "    </tr>\n",
       "  </tbody>\n",
       "</table>\n",
       "</div>"
      ],
      "text/plain": [
       "                   index                     EMAIL_1  MANEATER_ALUM_FLAG  \\\n",
       "270     CARSON CORNELIUS   CARSONCORNELIUS@GMAIL.COM               False   \n",
       "559          EMMA RHYNER          erhyner2@gmail.com               False   \n",
       "1759      THEODORE BLOOM    tcbmxm@mail.missouri.edu               False   \n",
       "1839    WAVERLY COLVILLE       wcolville64@gmail.com                True   \n",
       "1617  SARA-JESSICA DILKS  sarajessicadilks@gmail.com                True   \n",
       "\n",
       "      KCOU_ALUM_FLAG  MUTV_ALUM_FLAG    FIRST_NAME        LAST_NAME  \\\n",
       "270             True           False        CARSON  CORNELIUS-BURKE   \n",
       "559            False            True          EMMA           RHYNER   \n",
       "1759            True           False      THEODORE            BLOOM   \n",
       "1839           False           False       WAVERLY         COLVILLE   \n",
       "1617           False           False  SARA-JESSICA            DILKS   \n",
       "\n",
       "          Timestamp              Non-work email  \\\n",
       "270   7/13/22 16:22   carsoncornelius@gmail.com   \n",
       "559   7/13/22 14:47          erhyner2@gmail.com   \n",
       "1759  7/18/22 19:27    Theodorecbloom@gmail.com   \n",
       "1839  7/13/22 14:25       wcolville64@gmail.com   \n",
       "1617  7/13/22 14:04  sarajessicadilks@gmail.com   \n",
       "\n",
       "     Please select your highest level of education  \\\n",
       "270                              Bachelor's Degree   \n",
       "559                              Bachelor's Degree   \n",
       "1759                             Bachelor's Degree   \n",
       "1839                             Bachelor's Degree   \n",
       "1617                             Bachelor's Degree   \n",
       "\n",
       "     Undergraduate graduation year Current zip code Outlet(s) you worked at  \\\n",
       "270                           2015             1002                    KCOU   \n",
       "559                           2018            10028              MUTV, KCOU   \n",
       "1759                          2021            10803                    KCOU   \n",
       "1839                          2018            11206      The Maneater, MUTV   \n",
       "1617                          2018            11211            The Maneater   \n",
       "\n",
       "     Position(s) you held within the outlet(s) chosen above  \\\n",
       "270                    General Manager, Sports Director       \n",
       "559        Sports Social Media Manager, Sports Reporter       \n",
       "1759                                                 DJ       \n",
       "1839  The Maneater: MSA Beat Reporter (2014-2015), s...       \n",
       "1617                           graphic designer (temp)        \n",
       "\n",
       "     Years active at your Mizzou Student Media outlet  \\\n",
       "270                                           2011-15   \n",
       "559                                         2014-2016   \n",
       "1759                                        2017-2020   \n",
       "1839                                        2014-2016   \n",
       "1617                                                1   \n",
       "\n",
       "                          Current role and organization  \\\n",
       "270   Director of Student Broadcast Media, Universit...   \n",
       "559                        Social Media Manager, SpotCo   \n",
       "1759                                            retired   \n",
       "1839             Multimedia Producer for The New Yorker   \n",
       "1617       Public Relations Associate Principal at Via    \n",
       "\n",
       "     Indicate the opportunities described above that you're interested in pursuing.  \\\n",
       "270   Becoming a mentor for the mentorship program, ...                               \n",
       "559   Becoming a mentor for the mentorship program, ...                               \n",
       "1759  Receiving the bi-weekly alumni newsletter, Buy...                               \n",
       "1839  Becoming a mentor for the mentorship program, ...                               \n",
       "1617  Receiving the bi-weekly alumni newsletter, Bei...                               \n",
       "\n",
       "      form_response state  zip_avg_income  \n",
       "270            True    MA       95.648203  \n",
       "559            True    NY      395.548419  \n",
       "1759           True    NY      258.416969  \n",
       "1839           True    NY       49.156404  \n",
       "1617           True    NY       88.058700  "
      ]
     },
     "execution_count": 38,
     "metadata": {},
     "output_type": "execute_result"
    }
   ],
   "source": [
    "alumni_join.sort_values(by='Current zip code').head()"
   ]
  },
  {
   "cell_type": "markdown",
   "id": "8a43ddb6",
   "metadata": {},
   "source": [
    "_____"
   ]
  },
  {
   "cell_type": "markdown",
   "id": "e310f793",
   "metadata": {},
   "source": [
    "### Data exploration cont."
   ]
  },
  {
   "cell_type": "code",
   "execution_count": 39,
   "id": "e190b918",
   "metadata": {},
   "outputs": [
    {
     "data": {
      "text/plain": [
       "MO    19\n",
       "IL     9\n",
       "NY     4\n",
       "CA     4\n",
       "VA     4\n",
       "Name: state, dtype: int64"
      ]
     },
     "execution_count": 39,
     "metadata": {},
     "output_type": "execute_result"
    }
   ],
   "source": [
    "alumni_join['state'].value_counts().head()"
   ]
  },
  {
   "cell_type": "code",
   "execution_count": 40,
   "id": "445440d2",
   "metadata": {},
   "outputs": [
    {
     "data": {
      "text/plain": [
       "105.608771355377"
      ]
     },
     "execution_count": 40,
     "metadata": {},
     "output_type": "execute_result"
    }
   ],
   "source": [
    "alumni_join['zip_avg_income'].mean()"
   ]
  },
  {
   "cell_type": "code",
   "execution_count": 41,
   "id": "36f0be86",
   "metadata": {},
   "outputs": [
    {
     "data": {
      "text/html": [
       "<div>\n",
       "<style scoped>\n",
       "    .dataframe tbody tr th:only-of-type {\n",
       "        vertical-align: middle;\n",
       "    }\n",
       "\n",
       "    .dataframe tbody tr th {\n",
       "        vertical-align: top;\n",
       "    }\n",
       "\n",
       "    .dataframe thead th {\n",
       "        text-align: right;\n",
       "    }\n",
       "</style>\n",
       "<table border=\"1\" class=\"dataframe\">\n",
       "  <thead>\n",
       "    <tr style=\"text-align: right;\">\n",
       "      <th></th>\n",
       "      <th>index</th>\n",
       "      <th>EMAIL_1</th>\n",
       "      <th>MANEATER_ALUM_FLAG</th>\n",
       "      <th>KCOU_ALUM_FLAG</th>\n",
       "      <th>MUTV_ALUM_FLAG</th>\n",
       "      <th>FIRST_NAME</th>\n",
       "      <th>LAST_NAME</th>\n",
       "      <th>Timestamp</th>\n",
       "      <th>Non-work email</th>\n",
       "      <th>Please select your highest level of education</th>\n",
       "      <th>Undergraduate graduation year</th>\n",
       "      <th>Current zip code</th>\n",
       "      <th>Outlet(s) you worked at</th>\n",
       "      <th>Position(s) you held within the outlet(s) chosen above</th>\n",
       "      <th>Years active at your Mizzou Student Media outlet</th>\n",
       "      <th>Current role and organization</th>\n",
       "      <th>Indicate the opportunities described above that you're interested in pursuing.</th>\n",
       "      <th>form_response</th>\n",
       "      <th>state</th>\n",
       "      <th>zip_avg_income</th>\n",
       "    </tr>\n",
       "  </thead>\n",
       "  <tbody>\n",
       "    <tr>\n",
       "      <th>1651</th>\n",
       "      <td>SETH WICKERSHAM</td>\n",
       "      <td>sethwickersham@hotmail.com</td>\n",
       "      <td>True</td>\n",
       "      <td>False</td>\n",
       "      <td>False</td>\n",
       "      <td>SETH</td>\n",
       "      <td>WICKERSHAM</td>\n",
       "      <td>7/12/22 6:31</td>\n",
       "      <td>sethwickersham@hotmail.com</td>\n",
       "      <td>Bachelor's Degree</td>\n",
       "      <td>2000</td>\n",
       "      <td>6107</td>\n",
       "      <td>The Maneater</td>\n",
       "      <td>Staff Writer</td>\n",
       "      <td>1997</td>\n",
       "      <td>Senior Writer, ESPN; book author</td>\n",
       "      <td>Receiving the bi-weekly alumni newsletter</td>\n",
       "      <td>True</td>\n",
       "      <td>CT</td>\n",
       "      <td>169.386131</td>\n",
       "    </tr>\n",
       "  </tbody>\n",
       "</table>\n",
       "</div>"
      ],
      "text/plain": [
       "                index                     EMAIL_1  MANEATER_ALUM_FLAG  \\\n",
       "1651  SETH WICKERSHAM  sethwickersham@hotmail.com                True   \n",
       "\n",
       "      KCOU_ALUM_FLAG  MUTV_ALUM_FLAG FIRST_NAME   LAST_NAME     Timestamp  \\\n",
       "1651           False           False       SETH  WICKERSHAM  7/12/22 6:31   \n",
       "\n",
       "                  Non-work email  \\\n",
       "1651  sethwickersham@hotmail.com   \n",
       "\n",
       "     Please select your highest level of education  \\\n",
       "1651                             Bachelor's Degree   \n",
       "\n",
       "     Undergraduate graduation year Current zip code Outlet(s) you worked at  \\\n",
       "1651                          2000             6107            The Maneater   \n",
       "\n",
       "     Position(s) you held within the outlet(s) chosen above  \\\n",
       "1651                                       Staff Writer       \n",
       "\n",
       "     Years active at your Mizzou Student Media outlet  \\\n",
       "1651                                             1997   \n",
       "\n",
       "          Current role and organization  \\\n",
       "1651  Senior Writer, ESPN; book author    \n",
       "\n",
       "     Indicate the opportunities described above that you're interested in pursuing.  \\\n",
       "1651          Receiving the bi-weekly alumni newsletter                               \n",
       "\n",
       "      form_response state  zip_avg_income  \n",
       "1651           True    CT      169.386131  "
      ]
     },
     "execution_count": 41,
     "metadata": {},
     "output_type": "execute_result"
    }
   ],
   "source": [
    "alumni_join.loc[alumni_join['index']=='SETH WICKERSHAM']"
   ]
  },
  {
   "cell_type": "code",
   "execution_count": 42,
   "id": "f268685e",
   "metadata": {},
   "outputs": [
    {
     "data": {
      "text/plain": [
       "(29, 4)"
      ]
     },
     "execution_count": 42,
     "metadata": {},
     "output_type": "execute_result"
    }
   ],
   "source": [
    "alumni_join.loc[alumni_join['zip_avg_income']>100,('index','EMAIL_1','state','zip_avg_income')].shape"
   ]
  },
  {
   "cell_type": "markdown",
   "id": "da9a7cff",
   "metadata": {},
   "source": [
    "### Fix Northeast zip codes"
   ]
  },
  {
   "cell_type": "code",
   "execution_count": 43,
   "id": "21f6b424",
   "metadata": {
    "scrolled": true
   },
   "outputs": [],
   "source": [
    "zipcode_data.loc[zipcode_data['state']=='CT']['zipcode'] = \"0\"+zipcode_data.loc[zipcode_data['state']=='CT']['zipcode']"
   ]
  },
  {
   "cell_type": "code",
   "execution_count": 44,
   "id": "3e5fe198",
   "metadata": {},
   "outputs": [],
   "source": [
    "zipcode_data.loc[zipcode_data['state']=='NJ','zipcode'] = \"0\"+zipcode_data.loc[zipcode_data['state']=='NJ','zipcode']\n"
   ]
  },
  {
   "cell_type": "code",
   "execution_count": 45,
   "id": "078e4900",
   "metadata": {},
   "outputs": [],
   "source": [
    "zipcode_data.loc[zipcode_data['state']=='CT','zipcode'] = \"0\"+zipcode_data.loc[zipcode_data['state']=='CT','zipcode']\n"
   ]
  },
  {
   "cell_type": "code",
   "execution_count": 46,
   "id": "359d1827",
   "metadata": {},
   "outputs": [],
   "source": [
    "zipcode_data.loc[zipcode_data['state']=='VT','zipcode'] = \"0\"+zipcode_data.loc[zipcode_data['state']=='VT','zipcode']\n"
   ]
  },
  {
   "cell_type": "code",
   "execution_count": 47,
   "id": "5061137c",
   "metadata": {},
   "outputs": [],
   "source": [
    "zipcode_data.loc[zipcode_data['state']=='MA','zipcode'] = \"0\"+zipcode_data.loc[zipcode_data['state']=='MA','zipcode']\n"
   ]
  },
  {
   "cell_type": "code",
   "execution_count": 48,
   "id": "809c2f1b",
   "metadata": {},
   "outputs": [
    {
     "data": {
      "text/plain": [
       "1381    06001\n",
       "1382    06002\n",
       "1383    06010\n",
       "1384    06013\n",
       "1385    06016\n",
       "        ...  \n",
       "1638    06902\n",
       "1639    06903\n",
       "1640    06905\n",
       "1641    06906\n",
       "1642    06907\n",
       "Name: zipcode, Length: 262, dtype: object"
      ]
     },
     "execution_count": 48,
     "metadata": {},
     "output_type": "execute_result"
    }
   ],
   "source": [
    "zipcode_data.loc[zipcode_data['state']=='CT']['zipcode']"
   ]
  },
  {
   "cell_type": "markdown",
   "id": "ba056af3",
   "metadata": {},
   "source": [
    "## Alumni form mapping"
   ]
  },
  {
   "cell_type": "code",
   "execution_count": 49,
   "id": "397d8b06",
   "metadata": {},
   "outputs": [],
   "source": [
    "alumni_form['state'] = alumni_form['Current zip code'].map(zipcode_data.set_index('zipcode')['state'])"
   ]
  },
  {
   "cell_type": "code",
   "execution_count": 50,
   "id": "dca57b50",
   "metadata": {},
   "outputs": [],
   "source": [
    "alumni_form['zip_avg_income'] = alumni_form['Current zip code'].map(zipcode_data.set_index('zipcode')['avg_income3'])"
   ]
  },
  {
   "cell_type": "code",
   "execution_count": 51,
   "id": "bcfe8be8",
   "metadata": {},
   "outputs": [
    {
     "data": {
      "text/html": [
       "<div>\n",
       "<style scoped>\n",
       "    .dataframe tbody tr th:only-of-type {\n",
       "        vertical-align: middle;\n",
       "    }\n",
       "\n",
       "    .dataframe tbody tr th {\n",
       "        vertical-align: top;\n",
       "    }\n",
       "\n",
       "    .dataframe thead th {\n",
       "        text-align: right;\n",
       "    }\n",
       "</style>\n",
       "<table border=\"1\" class=\"dataframe\">\n",
       "  <thead>\n",
       "    <tr style=\"text-align: right;\">\n",
       "      <th></th>\n",
       "      <th>Timestamp</th>\n",
       "      <th>Full name</th>\n",
       "      <th>Non-work email</th>\n",
       "      <th>Please select your highest level of education</th>\n",
       "      <th>Undergraduate graduation year</th>\n",
       "      <th>Current zip code</th>\n",
       "      <th>Outlet(s) you worked at</th>\n",
       "      <th>Position(s) you held within the outlet(s) chosen above</th>\n",
       "      <th>Years active at your Mizzou Student Media outlet</th>\n",
       "      <th>Current role and organization</th>\n",
       "      <th>Indicate the opportunities described above that you're interested in pursuing.</th>\n",
       "      <th>state</th>\n",
       "      <th>zip_avg_income</th>\n",
       "    </tr>\n",
       "  </thead>\n",
       "  <tbody>\n",
       "    <tr>\n",
       "      <th>0</th>\n",
       "      <td>7/12/22 6:31</td>\n",
       "      <td>SETH WICKERSHAM</td>\n",
       "      <td>sethwickersham@hotmail.com</td>\n",
       "      <td>Bachelor's Degree</td>\n",
       "      <td>2000</td>\n",
       "      <td>6107</td>\n",
       "      <td>The Maneater</td>\n",
       "      <td>Staff Writer</td>\n",
       "      <td>1997</td>\n",
       "      <td>Senior Writer, ESPN; book author</td>\n",
       "      <td>Receiving the bi-weekly alumni newsletter</td>\n",
       "      <td>NaN</td>\n",
       "      <td>NaN</td>\n",
       "    </tr>\n",
       "    <tr>\n",
       "      <th>1</th>\n",
       "      <td>7/13/22 13:57</td>\n",
       "      <td>CARIN HUFFMAN GRINCH</td>\n",
       "      <td>carinhuffmangrinch@gmail.com</td>\n",
       "      <td>Bachelor's Degree</td>\n",
       "      <td>2000</td>\n",
       "      <td>65203</td>\n",
       "      <td>The Maneater</td>\n",
       "      <td>Ad Sales Rep, Classifieds Manager, Business Ma...</td>\n",
       "      <td>1997 - 2000</td>\n",
       "      <td>Director of Donor Relations, University of Mis...</td>\n",
       "      <td>Receiving the bi-weekly alumni newsletter, Aud...</td>\n",
       "      <td>MO</td>\n",
       "      <td>95.404120</td>\n",
       "    </tr>\n",
       "    <tr>\n",
       "      <th>2</th>\n",
       "      <td>7/13/22 13:59</td>\n",
       "      <td>ERIC ADAMS</td>\n",
       "      <td>eadams@lebanon.k12.mo.us</td>\n",
       "      <td>Master's Degree</td>\n",
       "      <td>1996</td>\n",
       "      <td>65536</td>\n",
       "      <td>The Maneater</td>\n",
       "      <td>photographer, reporter &amp; photo editor</td>\n",
       "      <td>1991-95</td>\n",
       "      <td>video-photo, digital media teacher at Lebanon ...</td>\n",
       "      <td>Becoming a mentor for the mentorship program, ...</td>\n",
       "      <td>MO</td>\n",
       "      <td>45.676577</td>\n",
       "    </tr>\n",
       "    <tr>\n",
       "      <th>3</th>\n",
       "      <td>7/13/22 14:00</td>\n",
       "      <td>MARY PRICHARD</td>\n",
       "      <td>Maryprich@gmail.com</td>\n",
       "      <td>Master's Degree</td>\n",
       "      <td>2004</td>\n",
       "      <td>64155</td>\n",
       "      <td>The Maneater</td>\n",
       "      <td>Website management, reporter</td>\n",
       "      <td>2</td>\n",
       "      <td>Journalism Educator &amp; HS media adviser in Miss...</td>\n",
       "      <td>Receiving the bi-weekly alumni newsletter, Aud...</td>\n",
       "      <td>MO</td>\n",
       "      <td>76.567017</td>\n",
       "    </tr>\n",
       "    <tr>\n",
       "      <th>4</th>\n",
       "      <td>7/13/22 14:01</td>\n",
       "      <td>KATHERINE KNOTT</td>\n",
       "      <td>Kknott123@gmail.com</td>\n",
       "      <td>Bachelor's Degree</td>\n",
       "      <td>2016</td>\n",
       "      <td>22902</td>\n",
       "      <td>The Maneater</td>\n",
       "      <td>Managing editor</td>\n",
       "      <td>2012-16</td>\n",
       "      <td>Education Reporter, The Daily Progress</td>\n",
       "      <td>Becoming a mentor for the mentorship program, ...</td>\n",
       "      <td>VA</td>\n",
       "      <td>153.560503</td>\n",
       "    </tr>\n",
       "  </tbody>\n",
       "</table>\n",
       "</div>"
      ],
      "text/plain": [
       "       Timestamp             Full name                Non-work email  \\\n",
       "0   7/12/22 6:31       SETH WICKERSHAM    sethwickersham@hotmail.com   \n",
       "1  7/13/22 13:57  CARIN HUFFMAN GRINCH  carinhuffmangrinch@gmail.com   \n",
       "2  7/13/22 13:59            ERIC ADAMS      eadams@lebanon.k12.mo.us   \n",
       "3  7/13/22 14:00         MARY PRICHARD           Maryprich@gmail.com   \n",
       "4  7/13/22 14:01       KATHERINE KNOTT           Kknott123@gmail.com   \n",
       "\n",
       "  Please select your highest level of education Undergraduate graduation year  \\\n",
       "0                             Bachelor's Degree                          2000   \n",
       "1                             Bachelor's Degree                          2000   \n",
       "2                               Master's Degree                          1996   \n",
       "3                               Master's Degree                          2004   \n",
       "4                             Bachelor's Degree                          2016   \n",
       "\n",
       "  Current zip code Outlet(s) you worked at  \\\n",
       "0             6107            The Maneater   \n",
       "1            65203            The Maneater   \n",
       "2            65536            The Maneater   \n",
       "3            64155            The Maneater   \n",
       "4            22902            The Maneater   \n",
       "\n",
       "  Position(s) you held within the outlet(s) chosen above  \\\n",
       "0                                       Staff Writer       \n",
       "1  Ad Sales Rep, Classifieds Manager, Business Ma...       \n",
       "2              photographer, reporter & photo editor       \n",
       "3                      Website management, reporter        \n",
       "4                                    Managing editor       \n",
       "\n",
       "  Years active at your Mizzou Student Media outlet  \\\n",
       "0                                             1997   \n",
       "1                                      1997 - 2000   \n",
       "2                                          1991-95   \n",
       "3                                                2   \n",
       "4                                          2012-16   \n",
       "\n",
       "                       Current role and organization  \\\n",
       "0                  Senior Writer, ESPN; book author    \n",
       "1  Director of Donor Relations, University of Mis...   \n",
       "2  video-photo, digital media teacher at Lebanon ...   \n",
       "3  Journalism Educator & HS media adviser in Miss...   \n",
       "4            Education Reporter, The Daily Progress    \n",
       "\n",
       "  Indicate the opportunities described above that you're interested in pursuing.  \\\n",
       "0          Receiving the bi-weekly alumni newsletter                               \n",
       "1  Receiving the bi-weekly alumni newsletter, Aud...                               \n",
       "2  Becoming a mentor for the mentorship program, ...                               \n",
       "3  Receiving the bi-weekly alumni newsletter, Aud...                               \n",
       "4  Becoming a mentor for the mentorship program, ...                               \n",
       "\n",
       "  state  zip_avg_income  \n",
       "0   NaN             NaN  \n",
       "1    MO       95.404120  \n",
       "2    MO       45.676577  \n",
       "3    MO       76.567017  \n",
       "4    VA      153.560503  "
      ]
     },
     "execution_count": 51,
     "metadata": {},
     "output_type": "execute_result"
    }
   ],
   "source": [
    "alumni_form.head()"
   ]
  },
  {
   "cell_type": "markdown",
   "id": "ee4eca95",
   "metadata": {},
   "source": [
    "______"
   ]
  },
  {
   "cell_type": "markdown",
   "id": "fb1ae1c0",
   "metadata": {},
   "source": [
    "______"
   ]
  },
  {
   "cell_type": "markdown",
   "id": "9e7530d5",
   "metadata": {},
   "source": [
    "______"
   ]
  },
  {
   "cell_type": "markdown",
   "id": "d2540ea1",
   "metadata": {},
   "source": [
    "## Calculate the number of outlets per account"
   ]
  },
  {
   "cell_type": "code",
   "execution_count": 52,
   "id": "1abb1d0e",
   "metadata": {},
   "outputs": [],
   "source": [
    "alumni_join['number_outlets'] = alumni_join[['MANEATER_ALUM_FLAG','KCOU_ALUM_FLAG','MUTV_ALUM_FLAG']].sum(axis=1)"
   ]
  },
  {
   "cell_type": "code",
   "execution_count": 53,
   "id": "0c1554fd",
   "metadata": {
    "scrolled": false
   },
   "outputs": [
    {
     "data": {
      "text/html": [
       "<div>\n",
       "<style scoped>\n",
       "    .dataframe tbody tr th:only-of-type {\n",
       "        vertical-align: middle;\n",
       "    }\n",
       "\n",
       "    .dataframe tbody tr th {\n",
       "        vertical-align: top;\n",
       "    }\n",
       "\n",
       "    .dataframe thead th {\n",
       "        text-align: right;\n",
       "    }\n",
       "</style>\n",
       "<table border=\"1\" class=\"dataframe\">\n",
       "  <thead>\n",
       "    <tr style=\"text-align: right;\">\n",
       "      <th></th>\n",
       "      <th>index</th>\n",
       "      <th>EMAIL_1</th>\n",
       "      <th>MANEATER_ALUM_FLAG</th>\n",
       "      <th>KCOU_ALUM_FLAG</th>\n",
       "      <th>MUTV_ALUM_FLAG</th>\n",
       "      <th>FIRST_NAME</th>\n",
       "      <th>LAST_NAME</th>\n",
       "      <th>Timestamp</th>\n",
       "      <th>Non-work email</th>\n",
       "      <th>Please select your highest level of education</th>\n",
       "      <th>Undergraduate graduation year</th>\n",
       "      <th>Current zip code</th>\n",
       "      <th>Outlet(s) you worked at</th>\n",
       "      <th>Position(s) you held within the outlet(s) chosen above</th>\n",
       "      <th>Years active at your Mizzou Student Media outlet</th>\n",
       "      <th>Current role and organization</th>\n",
       "      <th>Indicate the opportunities described above that you're interested in pursuing.</th>\n",
       "      <th>form_response</th>\n",
       "      <th>state</th>\n",
       "      <th>zip_avg_income</th>\n",
       "      <th>number_outlets</th>\n",
       "    </tr>\n",
       "  </thead>\n",
       "  <tbody>\n",
       "    <tr>\n",
       "      <th>0</th>\n",
       "      <td>AAMER MADHANI</td>\n",
       "      <td>aamermadhani@gmail.com</td>\n",
       "      <td>True</td>\n",
       "      <td>False</td>\n",
       "      <td>False</td>\n",
       "      <td>AAMER</td>\n",
       "      <td>MADHANI</td>\n",
       "      <td>X</td>\n",
       "      <td>NaN</td>\n",
       "      <td>NaN</td>\n",
       "      <td>NaN</td>\n",
       "      <td>nan</td>\n",
       "      <td>NaN</td>\n",
       "      <td>NaN</td>\n",
       "      <td>NaN</td>\n",
       "      <td>NaN</td>\n",
       "      <td>NaN</td>\n",
       "      <td>False</td>\n",
       "      <td>NaN</td>\n",
       "      <td>NaN</td>\n",
       "      <td>1</td>\n",
       "    </tr>\n",
       "    <tr>\n",
       "      <th>1</th>\n",
       "      <td>AARON CARTER</td>\n",
       "      <td>Aaroncarter51298@gmail.com</td>\n",
       "      <td>False</td>\n",
       "      <td>True</td>\n",
       "      <td>True</td>\n",
       "      <td>AARON</td>\n",
       "      <td>CARTER</td>\n",
       "      <td>X</td>\n",
       "      <td>NaN</td>\n",
       "      <td>NaN</td>\n",
       "      <td>NaN</td>\n",
       "      <td>nan</td>\n",
       "      <td>NaN</td>\n",
       "      <td>NaN</td>\n",
       "      <td>NaN</td>\n",
       "      <td>NaN</td>\n",
       "      <td>NaN</td>\n",
       "      <td>False</td>\n",
       "      <td>NaN</td>\n",
       "      <td>NaN</td>\n",
       "      <td>2</td>\n",
       "    </tr>\n",
       "    <tr>\n",
       "      <th>2</th>\n",
       "      <td>AARON CUMMINS</td>\n",
       "      <td>aaroncummins@yahoo.com</td>\n",
       "      <td>False</td>\n",
       "      <td>True</td>\n",
       "      <td>False</td>\n",
       "      <td>AARON</td>\n",
       "      <td>CUMMINS</td>\n",
       "      <td>X</td>\n",
       "      <td>NaN</td>\n",
       "      <td>NaN</td>\n",
       "      <td>NaN</td>\n",
       "      <td>nan</td>\n",
       "      <td>NaN</td>\n",
       "      <td>NaN</td>\n",
       "      <td>NaN</td>\n",
       "      <td>NaN</td>\n",
       "      <td>NaN</td>\n",
       "      <td>False</td>\n",
       "      <td>NaN</td>\n",
       "      <td>NaN</td>\n",
       "      <td>1</td>\n",
       "    </tr>\n",
       "    <tr>\n",
       "      <th>3</th>\n",
       "      <td>AARON LADD</td>\n",
       "      <td>laddaaron0@gmail.com</td>\n",
       "      <td>False</td>\n",
       "      <td>False</td>\n",
       "      <td>True</td>\n",
       "      <td>AARON</td>\n",
       "      <td>LADD</td>\n",
       "      <td>7/13/22 14:37</td>\n",
       "      <td>laddaaron0@gmail.com</td>\n",
       "      <td>Bachelor's Degree</td>\n",
       "      <td>2018</td>\n",
       "      <td>64111</td>\n",
       "      <td>MUTV</td>\n",
       "      <td>MUTV Sports Reporter</td>\n",
       "      <td>2015-2016</td>\n",
       "      <td>KSHB 41 TV</td>\n",
       "      <td>Becoming a mentor for the mentorship program, ...</td>\n",
       "      <td>True</td>\n",
       "      <td>MO</td>\n",
       "      <td>61.721542</td>\n",
       "      <td>1</td>\n",
       "    </tr>\n",
       "    <tr>\n",
       "      <th>4</th>\n",
       "      <td>AARON MORALES</td>\n",
       "      <td>morgan.amgardens@gmail.com</td>\n",
       "      <td>True</td>\n",
       "      <td>False</td>\n",
       "      <td>False</td>\n",
       "      <td>AARON</td>\n",
       "      <td>MORALES</td>\n",
       "      <td>X</td>\n",
       "      <td>NaN</td>\n",
       "      <td>NaN</td>\n",
       "      <td>NaN</td>\n",
       "      <td>nan</td>\n",
       "      <td>NaN</td>\n",
       "      <td>NaN</td>\n",
       "      <td>NaN</td>\n",
       "      <td>NaN</td>\n",
       "      <td>NaN</td>\n",
       "      <td>False</td>\n",
       "      <td>NaN</td>\n",
       "      <td>NaN</td>\n",
       "      <td>1</td>\n",
       "    </tr>\n",
       "  </tbody>\n",
       "</table>\n",
       "</div>"
      ],
      "text/plain": [
       "           index                     EMAIL_1  MANEATER_ALUM_FLAG  \\\n",
       "0  AAMER MADHANI      aamermadhani@gmail.com                True   \n",
       "1   AARON CARTER  Aaroncarter51298@gmail.com               False   \n",
       "2  AARON CUMMINS      aaroncummins@yahoo.com               False   \n",
       "3     AARON LADD        laddaaron0@gmail.com               False   \n",
       "4  AARON MORALES  morgan.amgardens@gmail.com                True   \n",
       "\n",
       "   KCOU_ALUM_FLAG  MUTV_ALUM_FLAG FIRST_NAME LAST_NAME      Timestamp  \\\n",
       "0           False           False      AAMER   MADHANI              X   \n",
       "1            True            True      AARON    CARTER              X   \n",
       "2            True           False      AARON   CUMMINS              X   \n",
       "3           False            True      AARON      LADD  7/13/22 14:37   \n",
       "4           False           False      AARON   MORALES              X   \n",
       "\n",
       "         Non-work email Please select your highest level of education  \\\n",
       "0                   NaN                                           NaN   \n",
       "1                   NaN                                           NaN   \n",
       "2                   NaN                                           NaN   \n",
       "3  laddaaron0@gmail.com                             Bachelor's Degree   \n",
       "4                   NaN                                           NaN   \n",
       "\n",
       "  Undergraduate graduation year Current zip code Outlet(s) you worked at  \\\n",
       "0                           NaN              nan                     NaN   \n",
       "1                           NaN              nan                     NaN   \n",
       "2                           NaN              nan                     NaN   \n",
       "3                          2018            64111                    MUTV   \n",
       "4                           NaN              nan                     NaN   \n",
       "\n",
       "  Position(s) you held within the outlet(s) chosen above  \\\n",
       "0                                                NaN       \n",
       "1                                                NaN       \n",
       "2                                                NaN       \n",
       "3                               MUTV Sports Reporter       \n",
       "4                                                NaN       \n",
       "\n",
       "  Years active at your Mizzou Student Media outlet  \\\n",
       "0                                              NaN   \n",
       "1                                              NaN   \n",
       "2                                              NaN   \n",
       "3                                        2015-2016   \n",
       "4                                              NaN   \n",
       "\n",
       "  Current role and organization  \\\n",
       "0                           NaN   \n",
       "1                           NaN   \n",
       "2                           NaN   \n",
       "3                   KSHB 41 TV    \n",
       "4                           NaN   \n",
       "\n",
       "  Indicate the opportunities described above that you're interested in pursuing.  \\\n",
       "0                                                NaN                               \n",
       "1                                                NaN                               \n",
       "2                                                NaN                               \n",
       "3  Becoming a mentor for the mentorship program, ...                               \n",
       "4                                                NaN                               \n",
       "\n",
       "   form_response state  zip_avg_income  number_outlets  \n",
       "0          False   NaN             NaN               1  \n",
       "1          False   NaN             NaN               2  \n",
       "2          False   NaN             NaN               1  \n",
       "3           True    MO       61.721542               1  \n",
       "4          False   NaN             NaN               1  "
      ]
     },
     "execution_count": 53,
     "metadata": {},
     "output_type": "execute_result"
    }
   ],
   "source": [
    "alumni_join.head()"
   ]
  },
  {
   "cell_type": "code",
   "execution_count": 54,
   "id": "a2cce0e1",
   "metadata": {},
   "outputs": [
    {
     "data": {
      "text/plain": [
       "array(['index', 'EMAIL_1', 'MANEATER_ALUM_FLAG', 'KCOU_ALUM_FLAG',\n",
       "       'MUTV_ALUM_FLAG', 'FIRST_NAME', 'LAST_NAME', 'Timestamp',\n",
       "       'Non-work email', 'Please select your highest level of education',\n",
       "       'Undergraduate graduation year', 'Current zip code',\n",
       "       'Outlet(s) you worked at',\n",
       "       'Position(s) you held within the outlet(s) chosen above',\n",
       "       'Years active at your Mizzou Student Media outlet',\n",
       "       'Current role and organization',\n",
       "       \"Indicate the opportunities described above that you're interested in pursuing.\",\n",
       "       'form_response', 'state', 'zip_avg_income', 'number_outlets'],\n",
       "      dtype=object)"
      ]
     },
     "execution_count": 54,
     "metadata": {},
     "output_type": "execute_result"
    }
   ],
   "source": [
    "alumni_join.columns.values"
   ]
  },
  {
   "cell_type": "code",
   "execution_count": null,
   "id": "f0dd1585",
   "metadata": {},
   "outputs": [],
   "source": []
  },
  {
   "cell_type": "code",
   "execution_count": null,
   "id": "0e1868ef",
   "metadata": {},
   "outputs": [],
   "source": []
  },
  {
   "cell_type": "markdown",
   "id": "f8a55b35",
   "metadata": {},
   "source": [
    "# Email lists"
   ]
  },
  {
   "cell_type": "markdown",
   "id": "c09838d5",
   "metadata": {},
   "source": [
    "## Opportunities"
   ]
  },
  {
   "cell_type": "code",
   "execution_count": 55,
   "id": "6f6f0f55",
   "metadata": {},
   "outputs": [],
   "source": [
    "#alumni_form[\"Indicate the opportunities described above that you're interested in pursuing.\"].values"
   ]
  },
  {
   "cell_type": "markdown",
   "id": "64408b9d",
   "metadata": {},
   "source": [
    "### Newsletter"
   ]
  },
  {
   "cell_type": "code",
   "execution_count": 56,
   "id": "f195d8d1",
   "metadata": {},
   "outputs": [],
   "source": [
    "newsletter_list = alumni_join.loc[alumni_join[\"Indicate the opportunities described above that you're interested in pursuing.\"].fillna(\"\").str.contains(\"Receiving the bi-weekly alumni newsletter\", case=False),('index','EMAIL_1')]"
   ]
  },
  {
   "cell_type": "code",
   "execution_count": 57,
   "id": "24375a36",
   "metadata": {},
   "outputs": [
    {
     "data": {
      "text/plain": [
       "(71, 2)"
      ]
     },
     "execution_count": 57,
     "metadata": {},
     "output_type": "execute_result"
    }
   ],
   "source": [
    "newsletter_list.shape"
   ]
  },
  {
   "cell_type": "code",
   "execution_count": 58,
   "id": "04730bec",
   "metadata": {},
   "outputs": [],
   "source": [
    "newsletter_list_flag = [True if any(y in x for y in newsletter_list['index']) else False for x in alumni_join['index'].fillna(\"X\")]"
   ]
  },
  {
   "cell_type": "code",
   "execution_count": 59,
   "id": "889b15b2",
   "metadata": {},
   "outputs": [
    {
     "data": {
      "text/plain": [
       "71"
      ]
     },
     "execution_count": 59,
     "metadata": {},
     "output_type": "execute_result"
    }
   ],
   "source": [
    "sum(newsletter_list_flag)"
   ]
  },
  {
   "cell_type": "markdown",
   "id": "7d1a04b7",
   "metadata": {},
   "source": [
    "##### Flag creation"
   ]
  },
  {
   "cell_type": "code",
   "execution_count": 60,
   "id": "7f8831a7",
   "metadata": {},
   "outputs": [],
   "source": [
    "#newsletter_list_flag"
   ]
  },
  {
   "cell_type": "code",
   "execution_count": 61,
   "id": "b939030e",
   "metadata": {},
   "outputs": [],
   "source": [
    "alumni_join['newsletter_list_flag'] = newsletter_list_flag"
   ]
  },
  {
   "cell_type": "code",
   "execution_count": 62,
   "id": "9a739d5e",
   "metadata": {},
   "outputs": [
    {
     "data": {
      "text/plain": [
       "False    1811\n",
       "True       71\n",
       "Name: newsletter_list_flag, dtype: int64"
      ]
     },
     "execution_count": 62,
     "metadata": {},
     "output_type": "execute_result"
    }
   ],
   "source": [
    "alumni_join['newsletter_list_flag'].value_counts()"
   ]
  },
  {
   "cell_type": "markdown",
   "id": "287ebb55",
   "metadata": {},
   "source": [
    "newsletter_list.to_excel('/Users/gcdyw9/Documents/email_lists/NEWSLETTER_LIST_08_29_2022.xlsx')"
   ]
  },
  {
   "cell_type": "markdown",
   "id": "73d9de1c",
   "metadata": {},
   "source": [
    "### Mentorship"
   ]
  },
  {
   "cell_type": "code",
   "execution_count": 63,
   "id": "be7ed2da",
   "metadata": {},
   "outputs": [],
   "source": [
    "mentorship_list = alumni_join.loc[alumni_join[\"Indicate the opportunities described above that you're interested in pursuing.\"].fillna(\"\").str.contains(\"Becoming a mentor for the mentorship program\", case=False),('index','EMAIL_1')]"
   ]
  },
  {
   "cell_type": "code",
   "execution_count": 64,
   "id": "fbcc8a9b",
   "metadata": {},
   "outputs": [
    {
     "data": {
      "text/plain": [
       "(38, 2)"
      ]
     },
     "execution_count": 64,
     "metadata": {},
     "output_type": "execute_result"
    }
   ],
   "source": [
    "mentorship_list.shape"
   ]
  },
  {
   "cell_type": "markdown",
   "id": "687eb796",
   "metadata": {},
   "source": [
    "##### Flag creation"
   ]
  },
  {
   "cell_type": "code",
   "execution_count": 65,
   "id": "ad7be23c",
   "metadata": {},
   "outputs": [],
   "source": [
    "mentorship_list_flag = [True if any(y in x for y in mentorship_list['index']) else False for x in alumni_join['index'].fillna('x')]"
   ]
  },
  {
   "cell_type": "code",
   "execution_count": 66,
   "id": "ad005970",
   "metadata": {},
   "outputs": [],
   "source": [
    "alumni_join['mentorship_list_flag'] = mentorship_list_flag"
   ]
  },
  {
   "cell_type": "code",
   "execution_count": 67,
   "id": "637e0adf",
   "metadata": {},
   "outputs": [
    {
     "data": {
      "text/plain": [
       "False    1844\n",
       "True       38\n",
       "Name: mentorship_list_flag, dtype: int64"
      ]
     },
     "execution_count": 67,
     "metadata": {},
     "output_type": "execute_result"
    }
   ],
   "source": [
    "alumni_join['mentorship_list_flag'].value_counts()"
   ]
  },
  {
   "cell_type": "markdown",
   "id": "8c0f7844",
   "metadata": {},
   "source": [
    "mentorship_list.to_excel('/Users/gcdyw9/Documents/email_lists/MENTORSHIP_LIST_08_29_2022.xlsx')"
   ]
  },
  {
   "cell_type": "markdown",
   "id": "511ef025",
   "metadata": {},
   "source": [
    "### Auditing"
   ]
  },
  {
   "cell_type": "code",
   "execution_count": 68,
   "id": "131cedbe",
   "metadata": {},
   "outputs": [],
   "source": [
    "auditing_list = alumni_join.loc[alumni_join[\"Indicate the opportunities described above that you're interested in pursuing.\"].fillna(\"\").str.contains(\"Auditing content from the MSM outlets, asynchronously, 4 times per year\", case=False),('index','EMAIL_1')]"
   ]
  },
  {
   "cell_type": "code",
   "execution_count": 69,
   "id": "736d1211",
   "metadata": {},
   "outputs": [
    {
     "data": {
      "text/plain": [
       "(37, 2)"
      ]
     },
     "execution_count": 69,
     "metadata": {},
     "output_type": "execute_result"
    }
   ],
   "source": [
    "auditing_list.shape"
   ]
  },
  {
   "cell_type": "markdown",
   "id": "97d70a91",
   "metadata": {},
   "source": [
    "##### Flag creation"
   ]
  },
  {
   "cell_type": "code",
   "execution_count": 70,
   "id": "9ab15024",
   "metadata": {},
   "outputs": [],
   "source": [
    "auditing_list_flag = [True if any(y in x for y in auditing_list['index']) else False for x in alumni_join['index'].fillna('x')]"
   ]
  },
  {
   "cell_type": "code",
   "execution_count": 71,
   "id": "2b77efa5",
   "metadata": {},
   "outputs": [],
   "source": [
    "alumni_join['auditing_list_flag'] = auditing_list_flag"
   ]
  },
  {
   "cell_type": "code",
   "execution_count": 72,
   "id": "1269aa7c",
   "metadata": {},
   "outputs": [
    {
     "data": {
      "text/plain": [
       "False    1844\n",
       "True       38\n",
       "Name: auditing_list_flag, dtype: int64"
      ]
     },
     "execution_count": 72,
     "metadata": {},
     "output_type": "execute_result"
    }
   ],
   "source": [
    "alumni_join['auditing_list_flag'].value_counts()"
   ]
  },
  {
   "cell_type": "markdown",
   "id": "66ec0d69",
   "metadata": {},
   "source": [
    "auditing_list.to_excel('/Users/gcdyw9/Documents/email_lists/AUDITING_LIST_08_26_2022.xlsx')"
   ]
  },
  {
   "cell_type": "markdown",
   "id": "616248cd",
   "metadata": {},
   "source": [
    "### Apparel"
   ]
  },
  {
   "cell_type": "code",
   "execution_count": 73,
   "id": "c6ea488e",
   "metadata": {},
   "outputs": [],
   "source": [
    "apparel_list = alumni_join.loc[alumni_join[\"Indicate the opportunities described above that you're interested in pursuing.\"].fillna(\"\").str.contains(\"Buying apparel\", case=False),('index','EMAIL_1')]"
   ]
  },
  {
   "cell_type": "code",
   "execution_count": 74,
   "id": "bd1dde52",
   "metadata": {},
   "outputs": [
    {
     "data": {
      "text/plain": [
       "(44, 2)"
      ]
     },
     "execution_count": 74,
     "metadata": {},
     "output_type": "execute_result"
    }
   ],
   "source": [
    "apparel_list.shape"
   ]
  },
  {
   "cell_type": "markdown",
   "id": "0de4b6d7",
   "metadata": {},
   "source": [
    "##### Flag creation"
   ]
  },
  {
   "cell_type": "code",
   "execution_count": 75,
   "id": "b42d3703",
   "metadata": {},
   "outputs": [],
   "source": [
    "apparel_list_flag = [True if any(y in x for y in apparel_list['index']) else False for x in alumni_join['index'].fillna('x')]"
   ]
  },
  {
   "cell_type": "code",
   "execution_count": 76,
   "id": "f945e330",
   "metadata": {},
   "outputs": [],
   "source": [
    "alumni_join['apparel_list_flag'] = apparel_list_flag"
   ]
  },
  {
   "cell_type": "code",
   "execution_count": 77,
   "id": "9bd283a9",
   "metadata": {
    "scrolled": true
   },
   "outputs": [
    {
     "data": {
      "text/plain": [
       "False    1838\n",
       "True       44\n",
       "Name: apparel_list_flag, dtype: int64"
      ]
     },
     "execution_count": 77,
     "metadata": {},
     "output_type": "execute_result"
    }
   ],
   "source": [
    "alumni_join['apparel_list_flag'].value_counts()"
   ]
  },
  {
   "cell_type": "markdown",
   "id": "e538725a",
   "metadata": {},
   "source": [
    "apparel_list.to_excel('/Users/gcdyw9/Documents/email_lists/APPAREL_LIST_08_26_2022.xlsx')"
   ]
  },
  {
   "cell_type": "markdown",
   "id": "7cf804cf",
   "metadata": {},
   "source": [
    "### Workshops"
   ]
  },
  {
   "cell_type": "code",
   "execution_count": 78,
   "id": "bc4fd72a",
   "metadata": {},
   "outputs": [],
   "source": [
    "workshop_list = alumni_join.loc[alumni_join[\"Indicate the opportunities described above that you're interested in pursuing.\"].fillna('').str.contains(\"Running workshops for current staff\", case=False),('index','EMAIL_1')]"
   ]
  },
  {
   "cell_type": "code",
   "execution_count": 79,
   "id": "5190ad6e",
   "metadata": {},
   "outputs": [
    {
     "data": {
      "text/plain": [
       "(26, 2)"
      ]
     },
     "execution_count": 79,
     "metadata": {},
     "output_type": "execute_result"
    }
   ],
   "source": [
    "workshop_list.shape"
   ]
  },
  {
   "cell_type": "markdown",
   "id": "407dfb8f",
   "metadata": {},
   "source": [
    "##### Flag creation"
   ]
  },
  {
   "cell_type": "code",
   "execution_count": 80,
   "id": "aa4aef83",
   "metadata": {},
   "outputs": [],
   "source": [
    "workshop_list_flag = [True if any(y in x for y in workshop_list['index']) else False for x in alumni_join['index'].fillna('x')]"
   ]
  },
  {
   "cell_type": "code",
   "execution_count": 81,
   "id": "5bf1edc9",
   "metadata": {},
   "outputs": [],
   "source": [
    "alumni_join['workshop_list_flag'] = workshop_list_flag"
   ]
  },
  {
   "cell_type": "code",
   "execution_count": 82,
   "id": "dcbf7863",
   "metadata": {},
   "outputs": [
    {
     "data": {
      "text/plain": [
       "False    1856\n",
       "True       26\n",
       "Name: workshop_list_flag, dtype: int64"
      ]
     },
     "execution_count": 82,
     "metadata": {},
     "output_type": "execute_result"
    }
   ],
   "source": [
    "alumni_join['workshop_list_flag'].value_counts()"
   ]
  },
  {
   "cell_type": "markdown",
   "id": "d6e3b86a",
   "metadata": {},
   "source": [
    "workshop_list.to_excel('/Users/gcdyw9/Documents/email_lists/WORKSHOP_LIST_08_29_2022.xlsx')"
   ]
  },
  {
   "cell_type": "markdown",
   "id": "384ac0fd",
   "metadata": {},
   "source": [
    "### Networking"
   ]
  },
  {
   "cell_type": "code",
   "execution_count": 83,
   "id": "97c76741",
   "metadata": {},
   "outputs": [],
   "source": [
    "networking_list = alumni_join.loc[alumni_join[\"Indicate the opportunities described above that you're interested in pursuing.\"].fillna('').str.contains(\"Attending networking events for staff\", case=False),('index','EMAIL_1')]"
   ]
  },
  {
   "cell_type": "code",
   "execution_count": 84,
   "id": "569759a4",
   "metadata": {},
   "outputs": [
    {
     "data": {
      "text/plain": [
       "(26, 2)"
      ]
     },
     "execution_count": 84,
     "metadata": {},
     "output_type": "execute_result"
    }
   ],
   "source": [
    "networking_list.shape"
   ]
  },
  {
   "cell_type": "markdown",
   "id": "4c4836cb",
   "metadata": {},
   "source": [
    "##### Flag creation"
   ]
  },
  {
   "cell_type": "code",
   "execution_count": 85,
   "id": "a226f25f",
   "metadata": {},
   "outputs": [],
   "source": [
    "networking_list_flag = [True if any(y in x for y in networking_list['index']) else False for x in alumni_join['index'].fillna('x')]"
   ]
  },
  {
   "cell_type": "code",
   "execution_count": 86,
   "id": "79ed4f92",
   "metadata": {},
   "outputs": [],
   "source": [
    "alumni_join['networking_list_flag'] = networking_list_flag"
   ]
  },
  {
   "cell_type": "code",
   "execution_count": 87,
   "id": "a30ed55d",
   "metadata": {
    "scrolled": true
   },
   "outputs": [
    {
     "data": {
      "text/plain": [
       "False    1856\n",
       "True       26\n",
       "Name: networking_list_flag, dtype: int64"
      ]
     },
     "execution_count": 87,
     "metadata": {},
     "output_type": "execute_result"
    }
   ],
   "source": [
    "alumni_join['networking_list_flag'].value_counts()"
   ]
  },
  {
   "cell_type": "markdown",
   "id": "fb917ecc",
   "metadata": {},
   "source": [
    "networking_list.to_excel('/Users/gcdyw9/Documents/email_lists/NETWORKING_LIST_08_29_2022.xlsx')"
   ]
  },
  {
   "cell_type": "markdown",
   "id": "5a3d80dd",
   "metadata": {},
   "source": [
    "### Homecoming"
   ]
  },
  {
   "cell_type": "code",
   "execution_count": 88,
   "id": "b4919fda",
   "metadata": {},
   "outputs": [],
   "source": [
    "homecoming_list = alumni_join.loc[alumni_join[\"Indicate the opportunities described above that you're interested in pursuing.\"].fillna('').str.contains(\"Participating in an in-person homecoming event\", case=False),('index','EMAIL_1','state')]"
   ]
  },
  {
   "cell_type": "code",
   "execution_count": 89,
   "id": "c0a39651",
   "metadata": {},
   "outputs": [
    {
     "data": {
      "text/plain": [
       "(24, 3)"
      ]
     },
     "execution_count": 89,
     "metadata": {},
     "output_type": "execute_result"
    }
   ],
   "source": [
    "homecoming_list.shape"
   ]
  },
  {
   "cell_type": "code",
   "execution_count": 90,
   "id": "19d4cc32",
   "metadata": {},
   "outputs": [
    {
     "data": {
      "text/plain": [
       "MO    10\n",
       "OK     2\n",
       "CA     2\n",
       "WI     1\n",
       "MA     1\n",
       "PA     1\n",
       "IL     1\n",
       "GA     1\n",
       "SC     1\n",
       "MI     1\n",
       "MN     1\n",
       "FL     1\n",
       "TX     1\n",
       "Name: state, dtype: int64"
      ]
     },
     "execution_count": 90,
     "metadata": {},
     "output_type": "execute_result"
    }
   ],
   "source": [
    "homecoming_list['state'].value_counts(dropna=False)"
   ]
  },
  {
   "cell_type": "markdown",
   "id": "1931decb",
   "metadata": {},
   "source": [
    "##### Flag creation"
   ]
  },
  {
   "cell_type": "code",
   "execution_count": 91,
   "id": "73802906",
   "metadata": {},
   "outputs": [],
   "source": [
    "homecoming_list_flag = [True if any(y in x for y in homecoming_list['index']) else False for x in alumni_join['index'].fillna('x')]"
   ]
  },
  {
   "cell_type": "code",
   "execution_count": 92,
   "id": "849526db",
   "metadata": {},
   "outputs": [],
   "source": [
    "alumni_join['homecoming_list_flag'] = homecoming_list_flag"
   ]
  },
  {
   "cell_type": "code",
   "execution_count": 93,
   "id": "aca82baa",
   "metadata": {
    "scrolled": true
   },
   "outputs": [
    {
     "data": {
      "text/plain": [
       "False    1858\n",
       "True       24\n",
       "Name: homecoming_list_flag, dtype: int64"
      ]
     },
     "execution_count": 93,
     "metadata": {},
     "output_type": "execute_result"
    }
   ],
   "source": [
    "alumni_join['homecoming_list_flag'].value_counts()"
   ]
  },
  {
   "cell_type": "markdown",
   "id": "c28ae391",
   "metadata": {},
   "source": [
    "homecoming_list.to_excel('/Users/gcdyw9/Documents/email_lists/HOMECOMING_LIST_08_29_2022.xlsx')"
   ]
  },
  {
   "cell_type": "markdown",
   "id": "b9f412ad",
   "metadata": {},
   "source": [
    "### Facebook"
   ]
  },
  {
   "cell_type": "code",
   "execution_count": 94,
   "id": "54fbfbf1",
   "metadata": {},
   "outputs": [],
   "source": [
    "facebook_list = alumni_join.loc[alumni_join[\"Indicate the opportunities described above that you're interested in pursuing.\"].fillna('').str.contains(\"Being in a Mizzou Student Media alumni facebook group\", case=False),('index','EMAIL_1')]"
   ]
  },
  {
   "cell_type": "code",
   "execution_count": 95,
   "id": "050a50d1",
   "metadata": {},
   "outputs": [
    {
     "data": {
      "text/plain": [
       "(48, 2)"
      ]
     },
     "execution_count": 95,
     "metadata": {},
     "output_type": "execute_result"
    }
   ],
   "source": [
    "facebook_list.shape"
   ]
  },
  {
   "cell_type": "markdown",
   "id": "a578e9a1",
   "metadata": {},
   "source": [
    "##### Flag creation"
   ]
  },
  {
   "cell_type": "code",
   "execution_count": 96,
   "id": "3a81364f",
   "metadata": {},
   "outputs": [],
   "source": [
    "facebook_list_flag = [True if any(y in x for y in facebook_list['index']) else False for x in alumni_join['index'].fillna('x')]"
   ]
  },
  {
   "cell_type": "code",
   "execution_count": 97,
   "id": "fcd18014",
   "metadata": {},
   "outputs": [],
   "source": [
    "alumni_join['facebook_list_flag'] = facebook_list_flag"
   ]
  },
  {
   "cell_type": "code",
   "execution_count": 98,
   "id": "ddf11abe",
   "metadata": {
    "scrolled": true
   },
   "outputs": [
    {
     "data": {
      "text/plain": [
       "False    1834\n",
       "True       48\n",
       "Name: facebook_list_flag, dtype: int64"
      ]
     },
     "execution_count": 98,
     "metadata": {},
     "output_type": "execute_result"
    }
   ],
   "source": [
    "alumni_join['facebook_list_flag'].value_counts()"
   ]
  },
  {
   "cell_type": "markdown",
   "id": "8288ae79",
   "metadata": {},
   "source": [
    "facebook_list.to_excel('/Users/gcdyw9/Documents/email_lists/FACEBOOK_LIST_08_29_2022.xlsx')"
   ]
  },
  {
   "cell_type": "markdown",
   "id": "5aa251f9",
   "metadata": {},
   "source": [
    "### Scholarship"
   ]
  },
  {
   "cell_type": "code",
   "execution_count": 99,
   "id": "b7a542d1",
   "metadata": {},
   "outputs": [],
   "source": [
    "scholarship_list = alumni_join.loc[alumni_join[\"Indicate the opportunities described above that you're interested in pursuing.\"].fillna('').str.contains(\"Help select scholarship recipients\", case=False),('index','EMAIL_1')]"
   ]
  },
  {
   "cell_type": "code",
   "execution_count": 100,
   "id": "99d0fe6f",
   "metadata": {},
   "outputs": [
    {
     "data": {
      "text/plain": [
       "(32, 2)"
      ]
     },
     "execution_count": 100,
     "metadata": {},
     "output_type": "execute_result"
    }
   ],
   "source": [
    "scholarship_list.shape"
   ]
  },
  {
   "cell_type": "markdown",
   "id": "4c5a0279",
   "metadata": {},
   "source": [
    "##### Flag creation"
   ]
  },
  {
   "cell_type": "code",
   "execution_count": 101,
   "id": "7336498f",
   "metadata": {},
   "outputs": [],
   "source": [
    "scholarship_list_flag = [True if any(y in x for y in scholarship_list['index']) else False for x in alumni_join['index'].fillna('x')]"
   ]
  },
  {
   "cell_type": "code",
   "execution_count": 102,
   "id": "4183f98c",
   "metadata": {},
   "outputs": [],
   "source": [
    "alumni_join['scholarship_list_flag'] = scholarship_list_flag"
   ]
  },
  {
   "cell_type": "code",
   "execution_count": 103,
   "id": "cce8ecd9",
   "metadata": {},
   "outputs": [
    {
     "data": {
      "text/plain": [
       "False    1850\n",
       "True       32\n",
       "Name: scholarship_list_flag, dtype: int64"
      ]
     },
     "execution_count": 103,
     "metadata": {},
     "output_type": "execute_result"
    }
   ],
   "source": [
    "alumni_join['scholarship_list_flag'].value_counts()"
   ]
  },
  {
   "cell_type": "markdown",
   "id": "d4ed84ca",
   "metadata": {},
   "source": [
    "scholarship_list.to_excel('/Users/gcdyw9/Documents/email_lists/SCHOLARSHIP_LIST_08_26_2022.xlsx')"
   ]
  },
  {
   "cell_type": "markdown",
   "id": "de7cd538",
   "metadata": {},
   "source": [
    "### Advisory Board"
   ]
  },
  {
   "cell_type": "code",
   "execution_count": 104,
   "id": "327a5823",
   "metadata": {},
   "outputs": [],
   "source": [
    "advisory_list = alumni_join.loc[alumni_join[\"Indicate the opportunities described above that you're interested in pursuing.\"].fillna('').str.contains(\"Serve on the MSM advisory board\", case=False),('index','EMAIL_1')]"
   ]
  },
  {
   "cell_type": "code",
   "execution_count": 105,
   "id": "a2da8c6e",
   "metadata": {},
   "outputs": [
    {
     "data": {
      "text/plain": [
       "(22, 2)"
      ]
     },
     "execution_count": 105,
     "metadata": {},
     "output_type": "execute_result"
    }
   ],
   "source": [
    "advisory_list.shape"
   ]
  },
  {
   "cell_type": "markdown",
   "id": "91f761dd",
   "metadata": {},
   "source": [
    "##### Flag creation"
   ]
  },
  {
   "cell_type": "code",
   "execution_count": 106,
   "id": "12d362fe",
   "metadata": {},
   "outputs": [],
   "source": [
    "advisory_list_flag = [True if any(y in x for y in advisory_list['index']) else False for x in alumni_join['index'].fillna('x')]"
   ]
  },
  {
   "cell_type": "code",
   "execution_count": 107,
   "id": "654e28d0",
   "metadata": {},
   "outputs": [],
   "source": [
    "alumni_join['advisory_list_flag'] = advisory_list_flag"
   ]
  },
  {
   "cell_type": "code",
   "execution_count": 108,
   "id": "fdcee479",
   "metadata": {},
   "outputs": [
    {
     "data": {
      "text/plain": [
       "False    1860\n",
       "True       22\n",
       "Name: advisory_list_flag, dtype: int64"
      ]
     },
     "execution_count": 108,
     "metadata": {},
     "output_type": "execute_result"
    }
   ],
   "source": [
    "alumni_join['advisory_list_flag'].value_counts()"
   ]
  },
  {
   "cell_type": "markdown",
   "id": "44dfa5b8",
   "metadata": {},
   "source": [
    "advisory_list.to_excel('/Users/gcdyw9/Documents/email_lists/ADVISORY_LIST_08_26_2022.xlsx')"
   ]
  },
  {
   "cell_type": "markdown",
   "id": "1023c091",
   "metadata": {},
   "source": [
    "### Leadership Position"
   ]
  },
  {
   "cell_type": "code",
   "execution_count": 109,
   "id": "d0ba682d",
   "metadata": {},
   "outputs": [],
   "source": [
    "leadership_list = alumni_join.loc[alumni_join[\"Position(s) you held within the outlet(s) chosen above\"].fillna('').str.contains((\"editor|director|manager\"), case=False),('index','EMAIL_1')]"
   ]
  },
  {
   "cell_type": "code",
   "execution_count": 110,
   "id": "0320d4ed",
   "metadata": {},
   "outputs": [
    {
     "data": {
      "text/plain": [
       "(44, 2)"
      ]
     },
     "execution_count": 110,
     "metadata": {},
     "output_type": "execute_result"
    }
   ],
   "source": [
    "leadership_list.shape"
   ]
  },
  {
   "cell_type": "markdown",
   "id": "1c2da22e",
   "metadata": {},
   "source": [
    "##### Flag creation"
   ]
  },
  {
   "cell_type": "code",
   "execution_count": 111,
   "id": "b838d9f0",
   "metadata": {},
   "outputs": [],
   "source": [
    "leadership_list_flag = [True if any(y in x for y in leadership_list['index']) else False for x in alumni_join['index'].fillna('x')]"
   ]
  },
  {
   "cell_type": "code",
   "execution_count": 112,
   "id": "4e4783b3",
   "metadata": {},
   "outputs": [],
   "source": [
    "alumni_join['leadership_list_flag'] = leadership_list_flag"
   ]
  },
  {
   "cell_type": "code",
   "execution_count": 113,
   "id": "35d6265b",
   "metadata": {
    "scrolled": true
   },
   "outputs": [
    {
     "data": {
      "text/plain": [
       "False    1838\n",
       "True       44\n",
       "Name: leadership_list_flag, dtype: int64"
      ]
     },
     "execution_count": 113,
     "metadata": {},
     "output_type": "execute_result"
    }
   ],
   "source": [
    "alumni_join['leadership_list_flag'].value_counts()"
   ]
  },
  {
   "cell_type": "markdown",
   "id": "38056fa7",
   "metadata": {},
   "source": [
    "leadership_list.to_excel('/Users/gcdyw9/Documents/email_lists/LEADERSHIP_LIST_08_29_2022.xlsx')"
   ]
  },
  {
   "cell_type": "markdown",
   "id": "11fe934f",
   "metadata": {},
   "source": [
    "### Missouri"
   ]
  },
  {
   "cell_type": "code",
   "execution_count": 114,
   "id": "ca90c896",
   "metadata": {},
   "outputs": [],
   "source": [
    "missouri_list = alumni_join.loc[alumni_join[\"state\"].fillna('').str.contains((\"MO\"), case=False),('index','EMAIL_1')]"
   ]
  },
  {
   "cell_type": "code",
   "execution_count": 115,
   "id": "4e03ca62",
   "metadata": {},
   "outputs": [
    {
     "data": {
      "text/plain": [
       "(19, 2)"
      ]
     },
     "execution_count": 115,
     "metadata": {},
     "output_type": "execute_result"
    }
   ],
   "source": [
    "missouri_list.shape"
   ]
  },
  {
   "cell_type": "markdown",
   "id": "8794ed23",
   "metadata": {},
   "source": [
    "##### Flag creation"
   ]
  },
  {
   "cell_type": "code",
   "execution_count": 116,
   "id": "f3d737e1",
   "metadata": {},
   "outputs": [],
   "source": [
    "missouri_list_flag = [True if any(y in x for y in missouri_list['index']) else False for x in alumni_join['index'].fillna('x')]"
   ]
  },
  {
   "cell_type": "code",
   "execution_count": 117,
   "id": "c89cb4f9",
   "metadata": {},
   "outputs": [],
   "source": [
    "alumni_join['missouri_list_flag'] = missouri_list_flag"
   ]
  },
  {
   "cell_type": "code",
   "execution_count": 118,
   "id": "39cd5ba9",
   "metadata": {
    "scrolled": true
   },
   "outputs": [
    {
     "data": {
      "text/plain": [
       "False    1863\n",
       "True       19\n",
       "Name: missouri_list_flag, dtype: int64"
      ]
     },
     "execution_count": 118,
     "metadata": {},
     "output_type": "execute_result"
    }
   ],
   "source": [
    "alumni_join['missouri_list_flag'].value_counts()"
   ]
  },
  {
   "cell_type": "markdown",
   "id": "0e42ecf0",
   "metadata": {},
   "source": [
    "missouri_list.to_excel('/Users/gcdyw9/Documents/email_lists/MISSOURI_LIST_08_29_2022.xlsx')"
   ]
  },
  {
   "cell_type": "markdown",
   "id": "461354a8",
   "metadata": {},
   "source": [
    "### Multiple Outlets"
   ]
  },
  {
   "cell_type": "code",
   "execution_count": 119,
   "id": "e711984d",
   "metadata": {},
   "outputs": [],
   "source": [
    "multiple_outlets_list = alumni_join.loc[alumni_join[\"number_outlets\"]>1,('index','EMAIL_1')]"
   ]
  },
  {
   "cell_type": "code",
   "execution_count": 120,
   "id": "9bf09d9e",
   "metadata": {},
   "outputs": [
    {
     "data": {
      "text/plain": [
       "(96, 2)"
      ]
     },
     "execution_count": 120,
     "metadata": {},
     "output_type": "execute_result"
    }
   ],
   "source": [
    "multiple_outlets_list.shape"
   ]
  },
  {
   "cell_type": "markdown",
   "id": "d293af6f",
   "metadata": {},
   "source": [
    "##### Flag creation"
   ]
  },
  {
   "cell_type": "code",
   "execution_count": 121,
   "id": "2d83c562",
   "metadata": {},
   "outputs": [],
   "source": [
    "multiple_outlets_list_flag = [True if any(y in x for y in multiple_outlets_list['index'].astype(str)) else False for x in alumni_join['index'].fillna('x')]"
   ]
  },
  {
   "cell_type": "code",
   "execution_count": null,
   "id": "4529d68e",
   "metadata": {},
   "outputs": [],
   "source": []
  },
  {
   "cell_type": "code",
   "execution_count": 122,
   "id": "a88d9532",
   "metadata": {},
   "outputs": [],
   "source": [
    "alumni_join['multiple_outlets_list_flag'] = multiple_outlets_list_flag"
   ]
  },
  {
   "cell_type": "code",
   "execution_count": 123,
   "id": "bcb24a7f",
   "metadata": {},
   "outputs": [
    {
     "data": {
      "text/plain": [
       "False    1787\n",
       "True       95\n",
       "Name: multiple_outlets_list_flag, dtype: int64"
      ]
     },
     "execution_count": 123,
     "metadata": {},
     "output_type": "execute_result"
    }
   ],
   "source": [
    "alumni_join['multiple_outlets_list_flag'].value_counts()"
   ]
  },
  {
   "cell_type": "markdown",
   "id": "4bc335d6",
   "metadata": {},
   "source": [
    "multiple_outlets_list.to_excel('/Users/gcdyw9/Documents/email_lists/MULTIPLE_OUTLETS_LIST_08_26_2022.xlsx')"
   ]
  },
  {
   "cell_type": "markdown",
   "id": "1b65e74b",
   "metadata": {},
   "source": [
    "### Education"
   ]
  },
  {
   "cell_type": "code",
   "execution_count": 124,
   "id": "e8170e25",
   "metadata": {},
   "outputs": [
    {
     "data": {
      "text/plain": [
       "Bachelor's Degree                   53\n",
       "Master's Degree                     19\n",
       "Law Degree                           3\n",
       "PhD                                  2\n",
       "Master's Degree, working on M.D.     1\n",
       "Getting my Master’s                  1\n",
       "Name: Please select your highest level of education, dtype: int64"
      ]
     },
     "execution_count": 124,
     "metadata": {},
     "output_type": "execute_result"
    }
   ],
   "source": [
    "alumni_join[\"Please select your highest level of education\"].value_counts()"
   ]
  },
  {
   "cell_type": "code",
   "execution_count": 125,
   "id": "5085fe98",
   "metadata": {},
   "outputs": [
    {
     "data": {
      "text/plain": [
       "110.97557601895633"
      ]
     },
     "execution_count": 125,
     "metadata": {},
     "output_type": "execute_result"
    }
   ],
   "source": [
    "alumni_join.loc[alumni_join[\"Please select your highest level of education\"]==\"Bachelor's Degree\",'zip_avg_income'].mean()"
   ]
  },
  {
   "cell_type": "code",
   "execution_count": 126,
   "id": "7a8eca45",
   "metadata": {},
   "outputs": [
    {
     "data": {
      "text/plain": [
       "93.98069458428854"
      ]
     },
     "execution_count": 126,
     "metadata": {},
     "output_type": "execute_result"
    }
   ],
   "source": [
    "alumni_join.loc[alumni_join[\"Please select your highest level of education\"]!=\"Bachelor's Degree\",'zip_avg_income'].mean()"
   ]
  },
  {
   "cell_type": "code",
   "execution_count": 127,
   "id": "09cbdbe1",
   "metadata": {},
   "outputs": [
    {
     "data": {
      "text/plain": [
       "88.43874647032843"
      ]
     },
     "execution_count": 127,
     "metadata": {},
     "output_type": "execute_result"
    }
   ],
   "source": [
    "alumni_join.loc[alumni_join[\"Please select your highest level of education\"]==\"Master's Degree\",'zip_avg_income'].mean()"
   ]
  },
  {
   "cell_type": "code",
   "execution_count": 128,
   "id": "8a3b55a2",
   "metadata": {},
   "outputs": [
    {
     "data": {
      "text/plain": [
       "127.2138283052065"
      ]
     },
     "execution_count": 128,
     "metadata": {},
     "output_type": "execute_result"
    }
   ],
   "source": [
    "alumni_join.loc[alumni_join[\"Please select your highest level of education\"]==\"Law Degree\",'zip_avg_income'].mean()"
   ]
  },
  {
   "cell_type": "code",
   "execution_count": 129,
   "id": "440a2763",
   "metadata": {},
   "outputs": [
    {
     "data": {
      "text/plain": [
       "99.66290968767578"
      ]
     },
     "execution_count": 129,
     "metadata": {},
     "output_type": "execute_result"
    }
   ],
   "source": [
    "alumni_join.loc[alumni_join[\"Please select your highest level of education\"]==\"PhD\",'zip_avg_income'].mean()"
   ]
  },
  {
   "cell_type": "code",
   "execution_count": 130,
   "id": "81a3f236",
   "metadata": {},
   "outputs": [
    {
     "data": {
      "text/plain": [
       "95.40412038695808"
      ]
     },
     "execution_count": 130,
     "metadata": {},
     "output_type": "execute_result"
    }
   ],
   "source": [
    "alumni_join.loc[alumni_join[\"Please select your highest level of education\"]==\"Master's Degree, working on M.D.\",'zip_avg_income'].mean()"
   ]
  },
  {
   "cell_type": "markdown",
   "id": "edf07eca",
   "metadata": {},
   "source": [
    "### Current Leadership Position"
   ]
  },
  {
   "cell_type": "code",
   "execution_count": 131,
   "id": "03925d13",
   "metadata": {},
   "outputs": [],
   "source": [
    "current_role_list = alumni_join.loc[alumni_join[\"Current role and organization\"].fillna(\"\").str.contains((\"editor|director|manager|senior\"), case=False),('index','EMAIL_1')]"
   ]
  },
  {
   "cell_type": "code",
   "execution_count": 132,
   "id": "fbb708dc",
   "metadata": {},
   "outputs": [
    {
     "data": {
      "text/plain": [
       "(29, 2)"
      ]
     },
     "execution_count": 132,
     "metadata": {},
     "output_type": "execute_result"
    }
   ],
   "source": [
    "current_role_list.shape"
   ]
  },
  {
   "cell_type": "markdown",
   "id": "ec63ee8f",
   "metadata": {},
   "source": [
    "##### Flag creation"
   ]
  },
  {
   "cell_type": "code",
   "execution_count": 133,
   "id": "34f20c56",
   "metadata": {},
   "outputs": [],
   "source": [
    "current_role_list_flag = [True if any(y in x for y in current_role_list['index']) else False for x in alumni_join['index'].fillna('x')]"
   ]
  },
  {
   "cell_type": "code",
   "execution_count": 134,
   "id": "94693f6d",
   "metadata": {},
   "outputs": [],
   "source": [
    "alumni_join['current_role_list_flag'] = current_role_list_flag"
   ]
  },
  {
   "cell_type": "code",
   "execution_count": 135,
   "id": "5b46b401",
   "metadata": {},
   "outputs": [
    {
     "data": {
      "text/plain": [
       "False    1853\n",
       "True       29\n",
       "Name: current_role_list_flag, dtype: int64"
      ]
     },
     "execution_count": 135,
     "metadata": {},
     "output_type": "execute_result"
    }
   ],
   "source": [
    "alumni_join['current_role_list_flag'].value_counts()"
   ]
  },
  {
   "cell_type": "markdown",
   "id": "0cca7ae7",
   "metadata": {},
   "source": [
    "current_role_list.to_excel('/Users/gcdyw9/Documents/email_lists/CURRENT_ROLE_LIST_08_29_2022.xlsx')"
   ]
  },
  {
   "cell_type": "markdown",
   "id": "29c0d31a",
   "metadata": {},
   "source": [
    "### Affluent Location"
   ]
  },
  {
   "cell_type": "code",
   "execution_count": 136,
   "id": "b028d99c",
   "metadata": {},
   "outputs": [],
   "source": [
    "affluent_list = alumni_join.loc[alumni_join[\"zip_avg_income\"]>=100,('index','EMAIL_1')]"
   ]
  },
  {
   "cell_type": "code",
   "execution_count": 137,
   "id": "0830fe2b",
   "metadata": {},
   "outputs": [
    {
     "data": {
      "text/plain": [
       "(29, 2)"
      ]
     },
     "execution_count": 137,
     "metadata": {},
     "output_type": "execute_result"
    }
   ],
   "source": [
    "affluent_list.shape"
   ]
  },
  {
   "cell_type": "markdown",
   "id": "6de39952",
   "metadata": {},
   "source": [
    "##### Flag creation"
   ]
  },
  {
   "cell_type": "code",
   "execution_count": 138,
   "id": "1acc5826",
   "metadata": {},
   "outputs": [],
   "source": [
    "affluent_list_flag = [True if any(y in x for y in affluent_list['index']) else False for x in alumni_join['index'].fillna('x')]"
   ]
  },
  {
   "cell_type": "code",
   "execution_count": 139,
   "id": "8937f49a",
   "metadata": {},
   "outputs": [],
   "source": [
    "alumni_join['affluent_list_flag'] = affluent_list_flag"
   ]
  },
  {
   "cell_type": "code",
   "execution_count": 140,
   "id": "5236cb0f",
   "metadata": {},
   "outputs": [
    {
     "data": {
      "text/plain": [
       "False    1853\n",
       "True       29\n",
       "Name: affluent_list_flag, dtype: int64"
      ]
     },
     "execution_count": 140,
     "metadata": {},
     "output_type": "execute_result"
    }
   ],
   "source": [
    "alumni_join['affluent_list_flag'].value_counts()"
   ]
  },
  {
   "cell_type": "markdown",
   "id": "029798b8",
   "metadata": {},
   "source": [
    "affluent_list.to_excel('/Users/gcdyw9/Documents/email_lists/AFFLUENT_LIST_08_29_2022.xlsx')"
   ]
  },
  {
   "cell_type": "markdown",
   "id": "9c91660a",
   "metadata": {},
   "source": [
    "### No form response"
   ]
  },
  {
   "cell_type": "code",
   "execution_count": 141,
   "id": "6d6a7125",
   "metadata": {},
   "outputs": [],
   "source": [
    "no_form = alumni_join.loc[alumni_join[\"form_response\"]==False,('index','EMAIL_1')]"
   ]
  },
  {
   "cell_type": "code",
   "execution_count": 142,
   "id": "25d4d857",
   "metadata": {},
   "outputs": [
    {
     "data": {
      "text/plain": [
       "(1803, 2)"
      ]
     },
     "execution_count": 142,
     "metadata": {},
     "output_type": "execute_result"
    }
   ],
   "source": [
    "no_form.shape"
   ]
  },
  {
   "cell_type": "markdown",
   "id": "3c949624",
   "metadata": {},
   "source": [
    "no_form.to_excel('/Users/gcdyw9/Documents/email_lists/NO_FORM_08_29_2022.xlsx')"
   ]
  },
  {
   "cell_type": "markdown",
   "id": "7acfbc52",
   "metadata": {},
   "source": [
    "### Form response"
   ]
  },
  {
   "cell_type": "code",
   "execution_count": 216,
   "id": "d7734b2f",
   "metadata": {},
   "outputs": [],
   "source": [
    "form_list = alumni_join.loc[alumni_join[\"form_response\"]==True,('index','EMAIL_1')]"
   ]
  },
  {
   "cell_type": "code",
   "execution_count": 217,
   "id": "982cb302",
   "metadata": {},
   "outputs": [
    {
     "data": {
      "text/plain": [
       "(79, 2)"
      ]
     },
     "execution_count": 217,
     "metadata": {},
     "output_type": "execute_result"
    }
   ],
   "source": [
    "form_list.shape"
   ]
  },
  {
   "cell_type": "markdown",
   "id": "ba4fac7d",
   "metadata": {},
   "source": [
    "form_list.to_excel('/Users/gcdyw9/Documents/email_lists/YES_FORM_LIST_08_30_2022.xlsx')"
   ]
  },
  {
   "cell_type": "markdown",
   "id": "62d44578",
   "metadata": {},
   "source": [
    "### Engaged"
   ]
  },
  {
   "cell_type": "code",
   "execution_count": 148,
   "id": "4646d0aa",
   "metadata": {},
   "outputs": [],
   "source": [
    "engaged_list = alumni_join.loc[alumni_join[\"engagement_points\"]>=7,('index','EMAIL_1')]"
   ]
  },
  {
   "cell_type": "code",
   "execution_count": 149,
   "id": "9e0119f0",
   "metadata": {},
   "outputs": [
    {
     "data": {
      "text/plain": [
       "(24, 2)"
      ]
     },
     "execution_count": 149,
     "metadata": {},
     "output_type": "execute_result"
    }
   ],
   "source": [
    "engaged_list.shape"
   ]
  },
  {
   "cell_type": "markdown",
   "id": "6611ed91",
   "metadata": {},
   "source": [
    "##### Flag creation"
   ]
  },
  {
   "cell_type": "code",
   "execution_count": 150,
   "id": "6c28cdd9",
   "metadata": {},
   "outputs": [],
   "source": [
    "engaged_list_flag = [True if any(y in x for y in engaged_list['index']) else False for x in alumni_join['index'].fillna('x')]"
   ]
  },
  {
   "cell_type": "code",
   "execution_count": 151,
   "id": "28ba4e1c",
   "metadata": {},
   "outputs": [],
   "source": [
    "alumni_join['engaged_list_flag'] = engaged_list_flag"
   ]
  },
  {
   "cell_type": "code",
   "execution_count": 152,
   "id": "571e3be2",
   "metadata": {},
   "outputs": [
    {
     "data": {
      "text/plain": [
       "False    1858\n",
       "True       24\n",
       "Name: engaged_list_flag, dtype: int64"
      ]
     },
     "execution_count": 152,
     "metadata": {},
     "output_type": "execute_result"
    }
   ],
   "source": [
    "alumni_join['engaged_list_flag'].value_counts()"
   ]
  },
  {
   "cell_type": "markdown",
   "id": "2e2b7c7d",
   "metadata": {},
   "source": [
    "engaged_list.to_excel('/Users/gcdyw9/Documents/email_lists/HIGHLY_ENGAGED_LIST_08_29_2022.xlsx')"
   ]
  },
  {
   "cell_type": "code",
   "execution_count": null,
   "id": "f09e92ba",
   "metadata": {},
   "outputs": [],
   "source": []
  },
  {
   "cell_type": "markdown",
   "id": "0a563eea",
   "metadata": {},
   "source": [
    "______"
   ]
  },
  {
   "cell_type": "markdown",
   "id": "ac051490",
   "metadata": {},
   "source": [
    "### Rejoin dataframes"
   ]
  },
  {
   "cell_type": "markdown",
   "id": "f3653844",
   "metadata": {},
   "source": [
    "alumni_join = msm_alumni.set_index('FULL_NAME').join(alumni_form.set_index('Full name')).reset_index()"
   ]
  },
  {
   "cell_type": "markdown",
   "id": "df815dc0",
   "metadata": {
    "scrolled": false
   },
   "source": [
    "alumni_join.head()"
   ]
  },
  {
   "cell_type": "code",
   "execution_count": null,
   "id": "fea2a352",
   "metadata": {},
   "outputs": [],
   "source": []
  },
  {
   "cell_type": "markdown",
   "id": "d1dd8243",
   "metadata": {},
   "source": [
    "### Feature creation"
   ]
  },
  {
   "cell_type": "markdown",
   "id": "d9b0279c",
   "metadata": {},
   "source": [
    "#### Number of engagement points"
   ]
  },
  {
   "cell_type": "code",
   "execution_count": 145,
   "id": "ec3a5ca4",
   "metadata": {},
   "outputs": [
    {
     "data": {
      "text/plain": [
       "array(['index', 'EMAIL_1', 'MANEATER_ALUM_FLAG', 'KCOU_ALUM_FLAG',\n",
       "       'MUTV_ALUM_FLAG', 'FIRST_NAME', 'LAST_NAME', 'Timestamp',\n",
       "       'Non-work email', 'Please select your highest level of education',\n",
       "       'Undergraduate graduation year', 'Current zip code',\n",
       "       'Outlet(s) you worked at',\n",
       "       'Position(s) you held within the outlet(s) chosen above',\n",
       "       'Years active at your Mizzou Student Media outlet',\n",
       "       'Current role and organization',\n",
       "       \"Indicate the opportunities described above that you're interested in pursuing.\",\n",
       "       'form_response', 'state', 'zip_avg_income', 'number_outlets',\n",
       "       'newsletter_list_flag', 'mentorship_list_flag',\n",
       "       'auditing_list_flag', 'apparel_list_flag', 'workshop_list_flag',\n",
       "       'networking_list_flag', 'homecoming_list_flag',\n",
       "       'facebook_list_flag', 'scholarship_list_flag',\n",
       "       'advisory_list_flag', 'leadership_list_flag', 'missouri_list_flag',\n",
       "       'multiple_outlets_list_flag', 'current_role_list_flag',\n",
       "       'affluent_list_flag'], dtype=object)"
      ]
     },
     "execution_count": 145,
     "metadata": {},
     "output_type": "execute_result"
    }
   ],
   "source": [
    "alumni_join.columns.values"
   ]
  },
  {
   "cell_type": "code",
   "execution_count": 146,
   "id": "c0ed94b6",
   "metadata": {},
   "outputs": [],
   "source": [
    "alumni_join['engagement_points'] = alumni_join[['newsletter_list_flag',\n",
    "       'mentorship_list_flag', 'auditing_list_flag', 'apparel_list_flag',\n",
    "       'workshop_list_flag', 'networking_list_flag',\n",
    "       'homecoming_list_flag', 'facebook_list_flag',\n",
    "       'scholarship_list_flag', 'advisory_list_flag',\n",
    "       'leadership_list_flag']].sum(axis=1)"
   ]
  },
  {
   "cell_type": "code",
   "execution_count": 147,
   "id": "db7a2fa0",
   "metadata": {
    "scrolled": true
   },
   "outputs": [
    {
     "data": {
      "text/plain": [
       "<AxesSubplot:>"
      ]
     },
     "execution_count": 147,
     "metadata": {},
     "output_type": "execute_result"
    },
    {
     "data": {
      "image/png": "[encoded data removed]",
      "text/plain": [
       "<Figure size 432x288 with 1 Axes>"
      ]
     },
     "metadata": {
      "needs_background": "light"
     },
     "output_type": "display_data"
    }
   ],
   "source": [
    "alumni_join.loc[alumni_join['engagement_points']>0,'engagement_points'].hist(bins=11)"
   ]
  },
  {
   "cell_type": "code",
   "execution_count": 148,
   "id": "2118acc2",
   "metadata": {},
   "outputs": [
    {
     "data": {
      "text/plain": [
       "5     13\n",
       "4     10\n",
       "3      9\n",
       "2      8\n",
       "6      8\n",
       "1      7\n",
       "7      7\n",
       "8      5\n",
       "11     5\n",
       "9      4\n",
       "10     3\n",
       "Name: engagement_points, dtype: int64"
      ]
     },
     "execution_count": 148,
     "metadata": {},
     "output_type": "execute_result"
    }
   ],
   "source": [
    "alumni_join.loc[alumni_join['engagement_points']>0,'engagement_points'].value_counts()"
   ]
  },
  {
   "cell_type": "markdown",
   "id": "9acb4708",
   "metadata": {},
   "source": [
    "_____"
   ]
  },
  {
   "cell_type": "code",
   "execution_count": 223,
   "id": "d247db54",
   "metadata": {},
   "outputs": [
    {
     "data": {
      "text/plain": [
       "2019    8\n",
       "2018    7\n",
       "2015    6\n",
       "2021    5\n",
       "2020    4\n",
       "Name: Undergraduate graduation year, dtype: int64"
      ]
     },
     "execution_count": 223,
     "metadata": {},
     "output_type": "execute_result"
    }
   ],
   "source": [
    "alumni_join['Undergraduate graduation year'].value_counts().head()"
   ]
  },
  {
   "cell_type": "markdown",
   "id": "d51fb455",
   "metadata": {},
   "source": [
    "_______"
   ]
  },
  {
   "cell_type": "markdown",
   "id": "396eed45",
   "metadata": {},
   "source": [
    "_______"
   ]
  },
  {
   "cell_type": "markdown",
   "id": "d2682fcb",
   "metadata": {},
   "source": [
    "_______"
   ]
  },
  {
   "cell_type": "markdown",
   "id": "1f3249cf",
   "metadata": {},
   "source": [
    "_______"
   ]
  },
  {
   "cell_type": "markdown",
   "id": "4a0d8512",
   "metadata": {},
   "source": [
    "# Donation Features"
   ]
  },
  {
   "cell_type": "code",
   "execution_count": 153,
   "id": "11af871b",
   "metadata": {},
   "outputs": [],
   "source": [
    "cmm21 = pd.read_csv('/Users/gcdyw9/Downloads/media_madness_21.csv')\n",
    "cmm21['FULL_NAME'] = cmm21['FULL_NAME'] .str.upper()\n",
    "cmm21_join = cmm21[['FULL_NAME','PREF_EMAIL_ADDRESS','MEDIA_MADNESS_21_GIVING']]"
   ]
  },
  {
   "cell_type": "code",
   "execution_count": 154,
   "id": "d9247866",
   "metadata": {},
   "outputs": [
    {
     "data": {
      "text/html": [
       "<div>\n",
       "<style scoped>\n",
       "    .dataframe tbody tr th:only-of-type {\n",
       "        vertical-align: middle;\n",
       "    }\n",
       "\n",
       "    .dataframe tbody tr th {\n",
       "        vertical-align: top;\n",
       "    }\n",
       "\n",
       "    .dataframe thead th {\n",
       "        text-align: right;\n",
       "    }\n",
       "</style>\n",
       "<table border=\"1\" class=\"dataframe\">\n",
       "  <thead>\n",
       "    <tr style=\"text-align: right;\">\n",
       "      <th></th>\n",
       "      <th>FULL_NAME</th>\n",
       "      <th>FIRST_NAME</th>\n",
       "      <th>LAST_NAME</th>\n",
       "      <th>PREF_EMAIL_ADDRESS</th>\n",
       "      <th>MEDIA_MADNESS_21_GIVING</th>\n",
       "    </tr>\n",
       "  </thead>\n",
       "  <tbody>\n",
       "    <tr>\n",
       "      <th>0</th>\n",
       "      <td>PATRICK HIATTE</td>\n",
       "      <td>Patrick</td>\n",
       "      <td>Hiatte</td>\n",
       "      <td>patrickhiatte@gmail.com</td>\n",
       "      <td>100.0</td>\n",
       "    </tr>\n",
       "    <tr>\n",
       "      <th>1</th>\n",
       "      <td>JASON YOUNG</td>\n",
       "      <td>Jason</td>\n",
       "      <td>Young</td>\n",
       "      <td>jlyoung03@yahoo.com</td>\n",
       "      <td>25.0</td>\n",
       "    </tr>\n",
       "    <tr>\n",
       "      <th>2</th>\n",
       "      <td>LAUREN HICKEY</td>\n",
       "      <td>Lauren</td>\n",
       "      <td>Hickey</td>\n",
       "      <td>laurenhickey@icloud.com</td>\n",
       "      <td>100.0</td>\n",
       "    </tr>\n",
       "    <tr>\n",
       "      <th>3</th>\n",
       "      <td>ANDREW BLASKO</td>\n",
       "      <td>Andrew</td>\n",
       "      <td>Blasko</td>\n",
       "      <td>andrew.blasko@yahoo.com</td>\n",
       "      <td>250.0</td>\n",
       "    </tr>\n",
       "    <tr>\n",
       "      <th>4</th>\n",
       "      <td>CINDY HECK</td>\n",
       "      <td>Cindy</td>\n",
       "      <td>Heck</td>\n",
       "      <td>cindylheck@gmail.com</td>\n",
       "      <td>25.0</td>\n",
       "    </tr>\n",
       "  </tbody>\n",
       "</table>\n",
       "</div>"
      ],
      "text/plain": [
       "        FULL_NAME FIRST_NAME LAST_NAME       PREF_EMAIL_ADDRESS  \\\n",
       "0  PATRICK HIATTE    Patrick    Hiatte  patrickhiatte@gmail.com   \n",
       "1     JASON YOUNG      Jason     Young      jlyoung03@yahoo.com   \n",
       "2   LAUREN HICKEY     Lauren    Hickey  laurenhickey@icloud.com   \n",
       "3   ANDREW BLASKO     Andrew    Blasko  andrew.blasko@yahoo.com   \n",
       "4      CINDY HECK      Cindy      Heck     cindylheck@gmail.com   \n",
       "\n",
       "   MEDIA_MADNESS_21_GIVING  \n",
       "0                    100.0  \n",
       "1                     25.0  \n",
       "2                    100.0  \n",
       "3                    250.0  \n",
       "4                     25.0  "
      ]
     },
     "execution_count": 154,
     "metadata": {},
     "output_type": "execute_result"
    }
   ],
   "source": [
    "cmm21.head()"
   ]
  },
  {
   "cell_type": "code",
   "execution_count": 155,
   "id": "5059f969",
   "metadata": {},
   "outputs": [
    {
     "data": {
      "text/html": [
       "<div>\n",
       "<style scoped>\n",
       "    .dataframe tbody tr th:only-of-type {\n",
       "        vertical-align: middle;\n",
       "    }\n",
       "\n",
       "    .dataframe tbody tr th {\n",
       "        vertical-align: top;\n",
       "    }\n",
       "\n",
       "    .dataframe thead th {\n",
       "        text-align: right;\n",
       "    }\n",
       "</style>\n",
       "<table border=\"1\" class=\"dataframe\">\n",
       "  <thead>\n",
       "    <tr style=\"text-align: right;\">\n",
       "      <th></th>\n",
       "      <th>FULL_NAME</th>\n",
       "      <th>PREF_EMAIL_ADDRESS</th>\n",
       "      <th>MEDIA_MADNESS_21_GIVING</th>\n",
       "    </tr>\n",
       "  </thead>\n",
       "  <tbody>\n",
       "    <tr>\n",
       "      <th>0</th>\n",
       "      <td>PATRICK HIATTE</td>\n",
       "      <td>patrickhiatte@gmail.com</td>\n",
       "      <td>100.0</td>\n",
       "    </tr>\n",
       "    <tr>\n",
       "      <th>1</th>\n",
       "      <td>JASON YOUNG</td>\n",
       "      <td>jlyoung03@yahoo.com</td>\n",
       "      <td>25.0</td>\n",
       "    </tr>\n",
       "    <tr>\n",
       "      <th>2</th>\n",
       "      <td>LAUREN HICKEY</td>\n",
       "      <td>laurenhickey@icloud.com</td>\n",
       "      <td>100.0</td>\n",
       "    </tr>\n",
       "    <tr>\n",
       "      <th>3</th>\n",
       "      <td>ANDREW BLASKO</td>\n",
       "      <td>andrew.blasko@yahoo.com</td>\n",
       "      <td>250.0</td>\n",
       "    </tr>\n",
       "    <tr>\n",
       "      <th>4</th>\n",
       "      <td>CINDY HECK</td>\n",
       "      <td>cindylheck@gmail.com</td>\n",
       "      <td>25.0</td>\n",
       "    </tr>\n",
       "  </tbody>\n",
       "</table>\n",
       "</div>"
      ],
      "text/plain": [
       "        FULL_NAME       PREF_EMAIL_ADDRESS  MEDIA_MADNESS_21_GIVING\n",
       "0  PATRICK HIATTE  patrickhiatte@gmail.com                    100.0\n",
       "1     JASON YOUNG      jlyoung03@yahoo.com                     25.0\n",
       "2   LAUREN HICKEY  laurenhickey@icloud.com                    100.0\n",
       "3   ANDREW BLASKO  andrew.blasko@yahoo.com                    250.0\n",
       "4      CINDY HECK     cindylheck@gmail.com                     25.0"
      ]
     },
     "execution_count": 155,
     "metadata": {},
     "output_type": "execute_result"
    }
   ],
   "source": [
    "cmm21_join.head()"
   ]
  },
  {
   "cell_type": "code",
   "execution_count": 156,
   "id": "44877679",
   "metadata": {},
   "outputs": [
    {
     "data": {
      "text/html": [
       "<div>\n",
       "<style scoped>\n",
       "    .dataframe tbody tr th:only-of-type {\n",
       "        vertical-align: middle;\n",
       "    }\n",
       "\n",
       "    .dataframe tbody tr th {\n",
       "        vertical-align: top;\n",
       "    }\n",
       "\n",
       "    .dataframe thead th {\n",
       "        text-align: right;\n",
       "    }\n",
       "</style>\n",
       "<table border=\"1\" class=\"dataframe\">\n",
       "  <thead>\n",
       "    <tr style=\"text-align: right;\">\n",
       "      <th></th>\n",
       "      <th>index</th>\n",
       "      <th>EMAIL_1</th>\n",
       "      <th>MANEATER_ALUM_FLAG</th>\n",
       "      <th>KCOU_ALUM_FLAG</th>\n",
       "      <th>MUTV_ALUM_FLAG</th>\n",
       "      <th>FIRST_NAME</th>\n",
       "      <th>LAST_NAME</th>\n",
       "      <th>Timestamp</th>\n",
       "      <th>Non-work email</th>\n",
       "      <th>Please select your highest level of education</th>\n",
       "      <th>Undergraduate graduation year</th>\n",
       "      <th>Current zip code</th>\n",
       "      <th>Outlet(s) you worked at</th>\n",
       "      <th>Position(s) you held within the outlet(s) chosen above</th>\n",
       "      <th>Years active at your Mizzou Student Media outlet</th>\n",
       "      <th>Current role and organization</th>\n",
       "      <th>Indicate the opportunities described above that you're interested in pursuing.</th>\n",
       "      <th>form_response</th>\n",
       "      <th>state</th>\n",
       "      <th>zip_avg_income</th>\n",
       "      <th>number_outlets</th>\n",
       "      <th>newsletter_list_flag</th>\n",
       "      <th>mentorship_list_flag</th>\n",
       "      <th>auditing_list_flag</th>\n",
       "      <th>apparel_list_flag</th>\n",
       "      <th>workshop_list_flag</th>\n",
       "      <th>networking_list_flag</th>\n",
       "      <th>homecoming_list_flag</th>\n",
       "      <th>facebook_list_flag</th>\n",
       "      <th>scholarship_list_flag</th>\n",
       "      <th>advisory_list_flag</th>\n",
       "      <th>leadership_list_flag</th>\n",
       "      <th>missouri_list_flag</th>\n",
       "      <th>multiple_outlets_list_flag</th>\n",
       "      <th>current_role_list_flag</th>\n",
       "      <th>affluent_list_flag</th>\n",
       "      <th>engagement_points</th>\n",
       "      <th>engaged_list_flag</th>\n",
       "    </tr>\n",
       "  </thead>\n",
       "  <tbody>\n",
       "    <tr>\n",
       "      <th>0</th>\n",
       "      <td>AAMER MADHANI</td>\n",
       "      <td>aamermadhani@gmail.com</td>\n",
       "      <td>True</td>\n",
       "      <td>False</td>\n",
       "      <td>False</td>\n",
       "      <td>AAMER</td>\n",
       "      <td>MADHANI</td>\n",
       "      <td>X</td>\n",
       "      <td>NaN</td>\n",
       "      <td>NaN</td>\n",
       "      <td>NaN</td>\n",
       "      <td>nan</td>\n",
       "      <td>NaN</td>\n",
       "      <td>NaN</td>\n",
       "      <td>NaN</td>\n",
       "      <td>NaN</td>\n",
       "      <td>NaN</td>\n",
       "      <td>False</td>\n",
       "      <td>NaN</td>\n",
       "      <td>NaN</td>\n",
       "      <td>1</td>\n",
       "      <td>False</td>\n",
       "      <td>False</td>\n",
       "      <td>False</td>\n",
       "      <td>False</td>\n",
       "      <td>False</td>\n",
       "      <td>False</td>\n",
       "      <td>False</td>\n",
       "      <td>False</td>\n",
       "      <td>False</td>\n",
       "      <td>False</td>\n",
       "      <td>False</td>\n",
       "      <td>False</td>\n",
       "      <td>False</td>\n",
       "      <td>False</td>\n",
       "      <td>False</td>\n",
       "      <td>0</td>\n",
       "      <td>False</td>\n",
       "    </tr>\n",
       "    <tr>\n",
       "      <th>1</th>\n",
       "      <td>AARON CARTER</td>\n",
       "      <td>Aaroncarter51298@gmail.com</td>\n",
       "      <td>False</td>\n",
       "      <td>True</td>\n",
       "      <td>True</td>\n",
       "      <td>AARON</td>\n",
       "      <td>CARTER</td>\n",
       "      <td>X</td>\n",
       "      <td>NaN</td>\n",
       "      <td>NaN</td>\n",
       "      <td>NaN</td>\n",
       "      <td>nan</td>\n",
       "      <td>NaN</td>\n",
       "      <td>NaN</td>\n",
       "      <td>NaN</td>\n",
       "      <td>NaN</td>\n",
       "      <td>NaN</td>\n",
       "      <td>False</td>\n",
       "      <td>NaN</td>\n",
       "      <td>NaN</td>\n",
       "      <td>2</td>\n",
       "      <td>False</td>\n",
       "      <td>False</td>\n",
       "      <td>False</td>\n",
       "      <td>False</td>\n",
       "      <td>False</td>\n",
       "      <td>False</td>\n",
       "      <td>False</td>\n",
       "      <td>False</td>\n",
       "      <td>False</td>\n",
       "      <td>False</td>\n",
       "      <td>False</td>\n",
       "      <td>False</td>\n",
       "      <td>True</td>\n",
       "      <td>False</td>\n",
       "      <td>False</td>\n",
       "      <td>0</td>\n",
       "      <td>False</td>\n",
       "    </tr>\n",
       "    <tr>\n",
       "      <th>2</th>\n",
       "      <td>AARON CUMMINS</td>\n",
       "      <td>aaroncummins@yahoo.com</td>\n",
       "      <td>False</td>\n",
       "      <td>True</td>\n",
       "      <td>False</td>\n",
       "      <td>AARON</td>\n",
       "      <td>CUMMINS</td>\n",
       "      <td>X</td>\n",
       "      <td>NaN</td>\n",
       "      <td>NaN</td>\n",
       "      <td>NaN</td>\n",
       "      <td>nan</td>\n",
       "      <td>NaN</td>\n",
       "      <td>NaN</td>\n",
       "      <td>NaN</td>\n",
       "      <td>NaN</td>\n",
       "      <td>NaN</td>\n",
       "      <td>False</td>\n",
       "      <td>NaN</td>\n",
       "      <td>NaN</td>\n",
       "      <td>1</td>\n",
       "      <td>False</td>\n",
       "      <td>False</td>\n",
       "      <td>False</td>\n",
       "      <td>False</td>\n",
       "      <td>False</td>\n",
       "      <td>False</td>\n",
       "      <td>False</td>\n",
       "      <td>False</td>\n",
       "      <td>False</td>\n",
       "      <td>False</td>\n",
       "      <td>False</td>\n",
       "      <td>False</td>\n",
       "      <td>False</td>\n",
       "      <td>False</td>\n",
       "      <td>False</td>\n",
       "      <td>0</td>\n",
       "      <td>False</td>\n",
       "    </tr>\n",
       "    <tr>\n",
       "      <th>3</th>\n",
       "      <td>AARON LADD</td>\n",
       "      <td>laddaaron0@gmail.com</td>\n",
       "      <td>False</td>\n",
       "      <td>False</td>\n",
       "      <td>True</td>\n",
       "      <td>AARON</td>\n",
       "      <td>LADD</td>\n",
       "      <td>7/13/22 14:37</td>\n",
       "      <td>laddaaron0@gmail.com</td>\n",
       "      <td>Bachelor's Degree</td>\n",
       "      <td>2018</td>\n",
       "      <td>64111</td>\n",
       "      <td>MUTV</td>\n",
       "      <td>MUTV Sports Reporter</td>\n",
       "      <td>2015-2016</td>\n",
       "      <td>KSHB 41 TV</td>\n",
       "      <td>Becoming a mentor for the mentorship program, ...</td>\n",
       "      <td>True</td>\n",
       "      <td>MO</td>\n",
       "      <td>61.721542</td>\n",
       "      <td>1</td>\n",
       "      <td>True</td>\n",
       "      <td>True</td>\n",
       "      <td>False</td>\n",
       "      <td>False</td>\n",
       "      <td>False</td>\n",
       "      <td>False</td>\n",
       "      <td>False</td>\n",
       "      <td>False</td>\n",
       "      <td>False</td>\n",
       "      <td>False</td>\n",
       "      <td>False</td>\n",
       "      <td>True</td>\n",
       "      <td>False</td>\n",
       "      <td>False</td>\n",
       "      <td>False</td>\n",
       "      <td>2</td>\n",
       "      <td>False</td>\n",
       "    </tr>\n",
       "    <tr>\n",
       "      <th>4</th>\n",
       "      <td>AARON MORALES</td>\n",
       "      <td>morgan.amgardens@gmail.com</td>\n",
       "      <td>True</td>\n",
       "      <td>False</td>\n",
       "      <td>False</td>\n",
       "      <td>AARON</td>\n",
       "      <td>MORALES</td>\n",
       "      <td>X</td>\n",
       "      <td>NaN</td>\n",
       "      <td>NaN</td>\n",
       "      <td>NaN</td>\n",
       "      <td>nan</td>\n",
       "      <td>NaN</td>\n",
       "      <td>NaN</td>\n",
       "      <td>NaN</td>\n",
       "      <td>NaN</td>\n",
       "      <td>NaN</td>\n",
       "      <td>False</td>\n",
       "      <td>NaN</td>\n",
       "      <td>NaN</td>\n",
       "      <td>1</td>\n",
       "      <td>False</td>\n",
       "      <td>False</td>\n",
       "      <td>False</td>\n",
       "      <td>False</td>\n",
       "      <td>False</td>\n",
       "      <td>False</td>\n",
       "      <td>False</td>\n",
       "      <td>False</td>\n",
       "      <td>False</td>\n",
       "      <td>False</td>\n",
       "      <td>False</td>\n",
       "      <td>False</td>\n",
       "      <td>False</td>\n",
       "      <td>False</td>\n",
       "      <td>False</td>\n",
       "      <td>0</td>\n",
       "      <td>False</td>\n",
       "    </tr>\n",
       "  </tbody>\n",
       "</table>\n",
       "</div>"
      ],
      "text/plain": [
       "           index                     EMAIL_1  MANEATER_ALUM_FLAG  \\\n",
       "0  AAMER MADHANI      aamermadhani@gmail.com                True   \n",
       "1   AARON CARTER  Aaroncarter51298@gmail.com               False   \n",
       "2  AARON CUMMINS      aaroncummins@yahoo.com               False   \n",
       "3     AARON LADD        laddaaron0@gmail.com               False   \n",
       "4  AARON MORALES  morgan.amgardens@gmail.com                True   \n",
       "\n",
       "   KCOU_ALUM_FLAG  MUTV_ALUM_FLAG FIRST_NAME LAST_NAME      Timestamp  \\\n",
       "0           False           False      AAMER   MADHANI              X   \n",
       "1            True            True      AARON    CARTER              X   \n",
       "2            True           False      AARON   CUMMINS              X   \n",
       "3           False            True      AARON      LADD  7/13/22 14:37   \n",
       "4           False           False      AARON   MORALES              X   \n",
       "\n",
       "         Non-work email Please select your highest level of education  \\\n",
       "0                   NaN                                           NaN   \n",
       "1                   NaN                                           NaN   \n",
       "2                   NaN                                           NaN   \n",
       "3  laddaaron0@gmail.com                             Bachelor's Degree   \n",
       "4                   NaN                                           NaN   \n",
       "\n",
       "  Undergraduate graduation year Current zip code Outlet(s) you worked at  \\\n",
       "0                           NaN              nan                     NaN   \n",
       "1                           NaN              nan                     NaN   \n",
       "2                           NaN              nan                     NaN   \n",
       "3                          2018            64111                    MUTV   \n",
       "4                           NaN              nan                     NaN   \n",
       "\n",
       "  Position(s) you held within the outlet(s) chosen above  \\\n",
       "0                                                NaN       \n",
       "1                                                NaN       \n",
       "2                                                NaN       \n",
       "3                               MUTV Sports Reporter       \n",
       "4                                                NaN       \n",
       "\n",
       "  Years active at your Mizzou Student Media outlet  \\\n",
       "0                                              NaN   \n",
       "1                                              NaN   \n",
       "2                                              NaN   \n",
       "3                                        2015-2016   \n",
       "4                                              NaN   \n",
       "\n",
       "  Current role and organization  \\\n",
       "0                           NaN   \n",
       "1                           NaN   \n",
       "2                           NaN   \n",
       "3                   KSHB 41 TV    \n",
       "4                           NaN   \n",
       "\n",
       "  Indicate the opportunities described above that you're interested in pursuing.  \\\n",
       "0                                                NaN                               \n",
       "1                                                NaN                               \n",
       "2                                                NaN                               \n",
       "3  Becoming a mentor for the mentorship program, ...                               \n",
       "4                                                NaN                               \n",
       "\n",
       "   form_response state  zip_avg_income  number_outlets  newsletter_list_flag  \\\n",
       "0          False   NaN             NaN               1                 False   \n",
       "1          False   NaN             NaN               2                 False   \n",
       "2          False   NaN             NaN               1                 False   \n",
       "3           True    MO       61.721542               1                  True   \n",
       "4          False   NaN             NaN               1                 False   \n",
       "\n",
       "   mentorship_list_flag  auditing_list_flag  apparel_list_flag  \\\n",
       "0                 False               False              False   \n",
       "1                 False               False              False   \n",
       "2                 False               False              False   \n",
       "3                  True               False              False   \n",
       "4                 False               False              False   \n",
       "\n",
       "   workshop_list_flag  networking_list_flag  homecoming_list_flag  \\\n",
       "0               False                 False                 False   \n",
       "1               False                 False                 False   \n",
       "2               False                 False                 False   \n",
       "3               False                 False                 False   \n",
       "4               False                 False                 False   \n",
       "\n",
       "   facebook_list_flag  scholarship_list_flag  advisory_list_flag  \\\n",
       "0               False                  False               False   \n",
       "1               False                  False               False   \n",
       "2               False                  False               False   \n",
       "3               False                  False               False   \n",
       "4               False                  False               False   \n",
       "\n",
       "   leadership_list_flag  missouri_list_flag  multiple_outlets_list_flag  \\\n",
       "0                 False               False                       False   \n",
       "1                 False               False                        True   \n",
       "2                 False               False                       False   \n",
       "3                 False                True                       False   \n",
       "4                 False               False                       False   \n",
       "\n",
       "   current_role_list_flag  affluent_list_flag  engagement_points  \\\n",
       "0                   False               False                  0   \n",
       "1                   False               False                  0   \n",
       "2                   False               False                  0   \n",
       "3                   False               False                  2   \n",
       "4                   False               False                  0   \n",
       "\n",
       "   engaged_list_flag  \n",
       "0              False  \n",
       "1              False  \n",
       "2              False  \n",
       "3              False  \n",
       "4              False  "
      ]
     },
     "execution_count": 156,
     "metadata": {},
     "output_type": "execute_result"
    }
   ],
   "source": [
    "alumni_join.head()"
   ]
  },
  {
   "cell_type": "code",
   "execution_count": 157,
   "id": "51a550ea",
   "metadata": {},
   "outputs": [],
   "source": [
    "alumni_donation = alumni_join.set_index('index').join(cmm21_join.set_index('FULL_NAME'),).reset_index()"
   ]
  },
  {
   "cell_type": "code",
   "execution_count": 158,
   "id": "a310499c",
   "metadata": {},
   "outputs": [
    {
     "data": {
      "text/html": [
       "<div>\n",
       "<style scoped>\n",
       "    .dataframe tbody tr th:only-of-type {\n",
       "        vertical-align: middle;\n",
       "    }\n",
       "\n",
       "    .dataframe tbody tr th {\n",
       "        vertical-align: top;\n",
       "    }\n",
       "\n",
       "    .dataframe thead th {\n",
       "        text-align: right;\n",
       "    }\n",
       "</style>\n",
       "<table border=\"1\" class=\"dataframe\">\n",
       "  <thead>\n",
       "    <tr style=\"text-align: right;\">\n",
       "      <th></th>\n",
       "      <th>index</th>\n",
       "      <th>EMAIL_1</th>\n",
       "      <th>MANEATER_ALUM_FLAG</th>\n",
       "      <th>KCOU_ALUM_FLAG</th>\n",
       "      <th>MUTV_ALUM_FLAG</th>\n",
       "      <th>FIRST_NAME</th>\n",
       "      <th>LAST_NAME</th>\n",
       "      <th>Timestamp</th>\n",
       "      <th>Non-work email</th>\n",
       "      <th>Please select your highest level of education</th>\n",
       "      <th>Undergraduate graduation year</th>\n",
       "      <th>Current zip code</th>\n",
       "      <th>Outlet(s) you worked at</th>\n",
       "      <th>Position(s) you held within the outlet(s) chosen above</th>\n",
       "      <th>Years active at your Mizzou Student Media outlet</th>\n",
       "      <th>Current role and organization</th>\n",
       "      <th>Indicate the opportunities described above that you're interested in pursuing.</th>\n",
       "      <th>form_response</th>\n",
       "      <th>state</th>\n",
       "      <th>zip_avg_income</th>\n",
       "      <th>number_outlets</th>\n",
       "      <th>newsletter_list_flag</th>\n",
       "      <th>mentorship_list_flag</th>\n",
       "      <th>auditing_list_flag</th>\n",
       "      <th>apparel_list_flag</th>\n",
       "      <th>workshop_list_flag</th>\n",
       "      <th>networking_list_flag</th>\n",
       "      <th>homecoming_list_flag</th>\n",
       "      <th>facebook_list_flag</th>\n",
       "      <th>scholarship_list_flag</th>\n",
       "      <th>advisory_list_flag</th>\n",
       "      <th>leadership_list_flag</th>\n",
       "      <th>missouri_list_flag</th>\n",
       "      <th>multiple_outlets_list_flag</th>\n",
       "      <th>current_role_list_flag</th>\n",
       "      <th>affluent_list_flag</th>\n",
       "      <th>engagement_points</th>\n",
       "      <th>engaged_list_flag</th>\n",
       "      <th>PREF_EMAIL_ADDRESS</th>\n",
       "      <th>MEDIA_MADNESS_21_GIVING</th>\n",
       "    </tr>\n",
       "  </thead>\n",
       "  <tbody>\n",
       "    <tr>\n",
       "      <th>0</th>\n",
       "      <td>AAMER MADHANI</td>\n",
       "      <td>aamermadhani@gmail.com</td>\n",
       "      <td>True</td>\n",
       "      <td>False</td>\n",
       "      <td>False</td>\n",
       "      <td>AAMER</td>\n",
       "      <td>MADHANI</td>\n",
       "      <td>X</td>\n",
       "      <td>NaN</td>\n",
       "      <td>NaN</td>\n",
       "      <td>NaN</td>\n",
       "      <td>nan</td>\n",
       "      <td>NaN</td>\n",
       "      <td>NaN</td>\n",
       "      <td>NaN</td>\n",
       "      <td>NaN</td>\n",
       "      <td>NaN</td>\n",
       "      <td>False</td>\n",
       "      <td>NaN</td>\n",
       "      <td>NaN</td>\n",
       "      <td>1</td>\n",
       "      <td>False</td>\n",
       "      <td>False</td>\n",
       "      <td>False</td>\n",
       "      <td>False</td>\n",
       "      <td>False</td>\n",
       "      <td>False</td>\n",
       "      <td>False</td>\n",
       "      <td>False</td>\n",
       "      <td>False</td>\n",
       "      <td>False</td>\n",
       "      <td>False</td>\n",
       "      <td>False</td>\n",
       "      <td>False</td>\n",
       "      <td>False</td>\n",
       "      <td>False</td>\n",
       "      <td>0</td>\n",
       "      <td>False</td>\n",
       "      <td>aamermadhani@gmail.com</td>\n",
       "      <td>20.0</td>\n",
       "    </tr>\n",
       "    <tr>\n",
       "      <th>98</th>\n",
       "      <td>ANDREW O'DELL</td>\n",
       "      <td>aodell0615@yahoo.com</td>\n",
       "      <td>True</td>\n",
       "      <td>False</td>\n",
       "      <td>False</td>\n",
       "      <td>ANDREW</td>\n",
       "      <td>O'DELL</td>\n",
       "      <td>X</td>\n",
       "      <td>NaN</td>\n",
       "      <td>NaN</td>\n",
       "      <td>NaN</td>\n",
       "      <td>nan</td>\n",
       "      <td>NaN</td>\n",
       "      <td>NaN</td>\n",
       "      <td>NaN</td>\n",
       "      <td>NaN</td>\n",
       "      <td>NaN</td>\n",
       "      <td>False</td>\n",
       "      <td>NaN</td>\n",
       "      <td>NaN</td>\n",
       "      <td>1</td>\n",
       "      <td>False</td>\n",
       "      <td>False</td>\n",
       "      <td>False</td>\n",
       "      <td>False</td>\n",
       "      <td>False</td>\n",
       "      <td>False</td>\n",
       "      <td>False</td>\n",
       "      <td>False</td>\n",
       "      <td>False</td>\n",
       "      <td>False</td>\n",
       "      <td>False</td>\n",
       "      <td>False</td>\n",
       "      <td>False</td>\n",
       "      <td>False</td>\n",
       "      <td>False</td>\n",
       "      <td>0</td>\n",
       "      <td>False</td>\n",
       "      <td>aodell0615@yahoo.com</td>\n",
       "      <td>245.0</td>\n",
       "    </tr>\n",
       "    <tr>\n",
       "      <th>104</th>\n",
       "      <td>ANGELA GREILING KEANE</td>\n",
       "      <td>agreilingkeane@yahoo.com</td>\n",
       "      <td>True</td>\n",
       "      <td>False</td>\n",
       "      <td>False</td>\n",
       "      <td>ANGELA</td>\n",
       "      <td>KEANE</td>\n",
       "      <td>7/13/22 22:01</td>\n",
       "      <td>agreilingkeane@yahoo.com</td>\n",
       "      <td>Bachelor's Degree</td>\n",
       "      <td>1998</td>\n",
       "      <td>20002</td>\n",
       "      <td>The Maneater</td>\n",
       "      <td>reporter, editor</td>\n",
       "      <td>1994-1998</td>\n",
       "      <td>Bloomberg Government news director, Bloomberg ...</td>\n",
       "      <td>Receiving the bi-weekly alumni newsletter, Aud...</td>\n",
       "      <td>True</td>\n",
       "      <td>DC</td>\n",
       "      <td>92.163547</td>\n",
       "      <td>1</td>\n",
       "      <td>True</td>\n",
       "      <td>False</td>\n",
       "      <td>True</td>\n",
       "      <td>True</td>\n",
       "      <td>False</td>\n",
       "      <td>True</td>\n",
       "      <td>False</td>\n",
       "      <td>True</td>\n",
       "      <td>False</td>\n",
       "      <td>True</td>\n",
       "      <td>True</td>\n",
       "      <td>False</td>\n",
       "      <td>False</td>\n",
       "      <td>True</td>\n",
       "      <td>False</td>\n",
       "      <td>7</td>\n",
       "      <td>True</td>\n",
       "      <td>agreilingkeane@yahoo.com</td>\n",
       "      <td>100.0</td>\n",
       "    </tr>\n",
       "    <tr>\n",
       "      <th>279</th>\n",
       "      <td>CATHERINE SENDERLING-MCDONALD</td>\n",
       "      <td>Csend@cwda.org</td>\n",
       "      <td>True</td>\n",
       "      <td>False</td>\n",
       "      <td>False</td>\n",
       "      <td>CATHERINE</td>\n",
       "      <td>SENDERLING-MCDONALD</td>\n",
       "      <td>7/13/22 14:01</td>\n",
       "      <td>csend@cwda.org</td>\n",
       "      <td>Master's Degree</td>\n",
       "      <td>1993</td>\n",
       "      <td>95815</td>\n",
       "      <td>The Maneater</td>\n",
       "      <td>Editor in Chief (1992), Associate Editor (1991...</td>\n",
       "      <td>1990-1993</td>\n",
       "      <td>Executive Director, County Welfare Directors A...</td>\n",
       "      <td>Receiving the bi-weekly alumni newsletter, Aud...</td>\n",
       "      <td>True</td>\n",
       "      <td>CA</td>\n",
       "      <td>40.585863</td>\n",
       "      <td>1</td>\n",
       "      <td>True</td>\n",
       "      <td>False</td>\n",
       "      <td>True</td>\n",
       "      <td>True</td>\n",
       "      <td>True</td>\n",
       "      <td>True</td>\n",
       "      <td>False</td>\n",
       "      <td>True</td>\n",
       "      <td>True</td>\n",
       "      <td>False</td>\n",
       "      <td>True</td>\n",
       "      <td>False</td>\n",
       "      <td>False</td>\n",
       "      <td>True</td>\n",
       "      <td>False</td>\n",
       "      <td>8</td>\n",
       "      <td>True</td>\n",
       "      <td>Csend@cwda.org</td>\n",
       "      <td>550.0</td>\n",
       "    </tr>\n",
       "    <tr>\n",
       "      <th>318</th>\n",
       "      <td>CHRISTOPHER BLAKE</td>\n",
       "      <td>cswblake@hahnlaw.com</td>\n",
       "      <td>True</td>\n",
       "      <td>False</td>\n",
       "      <td>False</td>\n",
       "      <td>CHRISTOPHER</td>\n",
       "      <td>BLAKE</td>\n",
       "      <td>X</td>\n",
       "      <td>NaN</td>\n",
       "      <td>NaN</td>\n",
       "      <td>NaN</td>\n",
       "      <td>nan</td>\n",
       "      <td>NaN</td>\n",
       "      <td>NaN</td>\n",
       "      <td>NaN</td>\n",
       "      <td>NaN</td>\n",
       "      <td>NaN</td>\n",
       "      <td>False</td>\n",
       "      <td>NaN</td>\n",
       "      <td>NaN</td>\n",
       "      <td>1</td>\n",
       "      <td>False</td>\n",
       "      <td>False</td>\n",
       "      <td>False</td>\n",
       "      <td>False</td>\n",
       "      <td>False</td>\n",
       "      <td>False</td>\n",
       "      <td>False</td>\n",
       "      <td>False</td>\n",
       "      <td>False</td>\n",
       "      <td>False</td>\n",
       "      <td>False</td>\n",
       "      <td>False</td>\n",
       "      <td>False</td>\n",
       "      <td>False</td>\n",
       "      <td>False</td>\n",
       "      <td>0</td>\n",
       "      <td>False</td>\n",
       "      <td>cswblake@hahnlaw.com</td>\n",
       "      <td>100.0</td>\n",
       "    </tr>\n",
       "  </tbody>\n",
       "</table>\n",
       "</div>"
      ],
      "text/plain": [
       "                             index                   EMAIL_1  \\\n",
       "0                    AAMER MADHANI    aamermadhani@gmail.com   \n",
       "98                   ANDREW O'DELL      aodell0615@yahoo.com   \n",
       "104          ANGELA GREILING KEANE  agreilingkeane@yahoo.com   \n",
       "279  CATHERINE SENDERLING-MCDONALD            Csend@cwda.org   \n",
       "318              CHRISTOPHER BLAKE      cswblake@hahnlaw.com   \n",
       "\n",
       "     MANEATER_ALUM_FLAG  KCOU_ALUM_FLAG  MUTV_ALUM_FLAG   FIRST_NAME  \\\n",
       "0                  True           False           False        AAMER   \n",
       "98                 True           False           False       ANDREW   \n",
       "104                True           False           False       ANGELA   \n",
       "279                True           False           False    CATHERINE   \n",
       "318                True           False           False  CHRISTOPHER   \n",
       "\n",
       "               LAST_NAME      Timestamp            Non-work email  \\\n",
       "0                MADHANI              X                       NaN   \n",
       "98                O'DELL              X                       NaN   \n",
       "104                KEANE  7/13/22 22:01  agreilingkeane@yahoo.com   \n",
       "279  SENDERLING-MCDONALD  7/13/22 14:01            csend@cwda.org   \n",
       "318                BLAKE              X                       NaN   \n",
       "\n",
       "    Please select your highest level of education  \\\n",
       "0                                             NaN   \n",
       "98                                            NaN   \n",
       "104                             Bachelor's Degree   \n",
       "279                               Master's Degree   \n",
       "318                                           NaN   \n",
       "\n",
       "    Undergraduate graduation year Current zip code Outlet(s) you worked at  \\\n",
       "0                             NaN              nan                     NaN   \n",
       "98                            NaN              nan                     NaN   \n",
       "104                          1998            20002            The Maneater   \n",
       "279                          1993            95815            The Maneater   \n",
       "318                           NaN              nan                     NaN   \n",
       "\n",
       "    Position(s) you held within the outlet(s) chosen above  \\\n",
       "0                                                  NaN       \n",
       "98                                                 NaN       \n",
       "104                                   reporter, editor       \n",
       "279  Editor in Chief (1992), Associate Editor (1991...       \n",
       "318                                                NaN       \n",
       "\n",
       "    Years active at your Mizzou Student Media outlet  \\\n",
       "0                                                NaN   \n",
       "98                                               NaN   \n",
       "104                                        1994-1998   \n",
       "279                                        1990-1993   \n",
       "318                                              NaN   \n",
       "\n",
       "                         Current role and organization  \\\n",
       "0                                                  NaN   \n",
       "98                                                 NaN   \n",
       "104  Bloomberg Government news director, Bloomberg ...   \n",
       "279  Executive Director, County Welfare Directors A...   \n",
       "318                                                NaN   \n",
       "\n",
       "    Indicate the opportunities described above that you're interested in pursuing.  \\\n",
       "0                                                  NaN                               \n",
       "98                                                 NaN                               \n",
       "104  Receiving the bi-weekly alumni newsletter, Aud...                               \n",
       "279  Receiving the bi-weekly alumni newsletter, Aud...                               \n",
       "318                                                NaN                               \n",
       "\n",
       "     form_response state  zip_avg_income  number_outlets  \\\n",
       "0            False   NaN             NaN               1   \n",
       "98           False   NaN             NaN               1   \n",
       "104           True    DC       92.163547               1   \n",
       "279           True    CA       40.585863               1   \n",
       "318          False   NaN             NaN               1   \n",
       "\n",
       "     newsletter_list_flag  mentorship_list_flag  auditing_list_flag  \\\n",
       "0                   False                 False               False   \n",
       "98                  False                 False               False   \n",
       "104                  True                 False                True   \n",
       "279                  True                 False                True   \n",
       "318                 False                 False               False   \n",
       "\n",
       "     apparel_list_flag  workshop_list_flag  networking_list_flag  \\\n",
       "0                False               False                 False   \n",
       "98               False               False                 False   \n",
       "104               True               False                  True   \n",
       "279               True                True                  True   \n",
       "318              False               False                 False   \n",
       "\n",
       "     homecoming_list_flag  facebook_list_flag  scholarship_list_flag  \\\n",
       "0                   False               False                  False   \n",
       "98                  False               False                  False   \n",
       "104                 False                True                  False   \n",
       "279                 False                True                   True   \n",
       "318                 False               False                  False   \n",
       "\n",
       "     advisory_list_flag  leadership_list_flag  missouri_list_flag  \\\n",
       "0                 False                 False               False   \n",
       "98                False                 False               False   \n",
       "104                True                  True               False   \n",
       "279               False                  True               False   \n",
       "318               False                 False               False   \n",
       "\n",
       "     multiple_outlets_list_flag  current_role_list_flag  affluent_list_flag  \\\n",
       "0                         False                   False               False   \n",
       "98                        False                   False               False   \n",
       "104                       False                    True               False   \n",
       "279                       False                    True               False   \n",
       "318                       False                   False               False   \n",
       "\n",
       "     engagement_points  engaged_list_flag        PREF_EMAIL_ADDRESS  \\\n",
       "0                    0              False    aamermadhani@gmail.com   \n",
       "98                   0              False      aodell0615@yahoo.com   \n",
       "104                  7               True  agreilingkeane@yahoo.com   \n",
       "279                  8               True            Csend@cwda.org   \n",
       "318                  0              False      cswblake@hahnlaw.com   \n",
       "\n",
       "     MEDIA_MADNESS_21_GIVING  \n",
       "0                       20.0  \n",
       "98                     245.0  \n",
       "104                    100.0  \n",
       "279                    550.0  \n",
       "318                    100.0  "
      ]
     },
     "execution_count": 158,
     "metadata": {},
     "output_type": "execute_result"
    }
   ],
   "source": [
    "alumni_donation.loc[alumni_donation['MEDIA_MADNESS_21_GIVING']>0,].head()"
   ]
  },
  {
   "cell_type": "code",
   "execution_count": 159,
   "id": "1275c813",
   "metadata": {},
   "outputs": [],
   "source": [
    "cmm22 = pd.read_csv('/Users/gcdyw9/Downloads/media_madness_22.csv')\n",
    "cmm22['FULL_NAME'] = cmm22['FULL_NAME'].str.upper()\n",
    "cmm22_join = cmm22[['FULL_NAME','MEDIA_MADNESS_22_GIVING']]"
   ]
  },
  {
   "cell_type": "code",
   "execution_count": 160,
   "id": "9b52f0a1",
   "metadata": {},
   "outputs": [],
   "source": [
    "alumni_donation = alumni_donation.set_index('index').join(cmm22_join.set_index('FULL_NAME'),).reset_index()"
   ]
  },
  {
   "cell_type": "code",
   "execution_count": 161,
   "id": "dc1afca0",
   "metadata": {},
   "outputs": [
    {
     "data": {
      "text/plain": [
       "(1882, 41)"
      ]
     },
     "execution_count": 161,
     "metadata": {},
     "output_type": "execute_result"
    }
   ],
   "source": [
    "alumni_donation.shape"
   ]
  },
  {
   "cell_type": "code",
   "execution_count": 162,
   "id": "32a78881",
   "metadata": {},
   "outputs": [
    {
     "data": {
      "text/plain": [
       "array(['index', 'EMAIL_1', 'MANEATER_ALUM_FLAG', 'KCOU_ALUM_FLAG',\n",
       "       'MUTV_ALUM_FLAG', 'FIRST_NAME', 'LAST_NAME', 'Timestamp',\n",
       "       'Non-work email', 'Please select your highest level of education',\n",
       "       'Undergraduate graduation year', 'Current zip code',\n",
       "       'Outlet(s) you worked at',\n",
       "       'Position(s) you held within the outlet(s) chosen above',\n",
       "       'Years active at your Mizzou Student Media outlet',\n",
       "       'Current role and organization',\n",
       "       \"Indicate the opportunities described above that you're interested in pursuing.\",\n",
       "       'form_response', 'state', 'zip_avg_income', 'number_outlets',\n",
       "       'newsletter_list_flag', 'mentorship_list_flag',\n",
       "       'auditing_list_flag', 'apparel_list_flag', 'workshop_list_flag',\n",
       "       'networking_list_flag', 'homecoming_list_flag',\n",
       "       'facebook_list_flag', 'scholarship_list_flag',\n",
       "       'advisory_list_flag', 'leadership_list_flag', 'missouri_list_flag',\n",
       "       'multiple_outlets_list_flag', 'current_role_list_flag',\n",
       "       'affluent_list_flag', 'engagement_points', 'engaged_list_flag',\n",
       "       'PREF_EMAIL_ADDRESS', 'MEDIA_MADNESS_21_GIVING',\n",
       "       'MEDIA_MADNESS_22_GIVING'], dtype=object)"
      ]
     },
     "execution_count": 162,
     "metadata": {},
     "output_type": "execute_result"
    }
   ],
   "source": [
    "alumni_donation.columns.values"
   ]
  },
  {
   "cell_type": "code",
   "execution_count": 163,
   "id": "05461383",
   "metadata": {},
   "outputs": [
    {
     "data": {
      "text/html": [
       "<div>\n",
       "<style scoped>\n",
       "    .dataframe tbody tr th:only-of-type {\n",
       "        vertical-align: middle;\n",
       "    }\n",
       "\n",
       "    .dataframe tbody tr th {\n",
       "        vertical-align: top;\n",
       "    }\n",
       "\n",
       "    .dataframe thead th {\n",
       "        text-align: right;\n",
       "    }\n",
       "</style>\n",
       "<table border=\"1\" class=\"dataframe\">\n",
       "  <thead>\n",
       "    <tr style=\"text-align: right;\">\n",
       "      <th></th>\n",
       "      <th>index</th>\n",
       "      <th>EMAIL_1</th>\n",
       "      <th>MANEATER_ALUM_FLAG</th>\n",
       "      <th>KCOU_ALUM_FLAG</th>\n",
       "      <th>MUTV_ALUM_FLAG</th>\n",
       "      <th>FIRST_NAME</th>\n",
       "      <th>LAST_NAME</th>\n",
       "      <th>Timestamp</th>\n",
       "      <th>Non-work email</th>\n",
       "      <th>Please select your highest level of education</th>\n",
       "      <th>Undergraduate graduation year</th>\n",
       "      <th>Current zip code</th>\n",
       "      <th>Outlet(s) you worked at</th>\n",
       "      <th>Position(s) you held within the outlet(s) chosen above</th>\n",
       "      <th>Years active at your Mizzou Student Media outlet</th>\n",
       "      <th>Current role and organization</th>\n",
       "      <th>Indicate the opportunities described above that you're interested in pursuing.</th>\n",
       "      <th>form_response</th>\n",
       "      <th>state</th>\n",
       "      <th>zip_avg_income</th>\n",
       "      <th>number_outlets</th>\n",
       "      <th>newsletter_list_flag</th>\n",
       "      <th>mentorship_list_flag</th>\n",
       "      <th>auditing_list_flag</th>\n",
       "      <th>apparel_list_flag</th>\n",
       "      <th>workshop_list_flag</th>\n",
       "      <th>networking_list_flag</th>\n",
       "      <th>homecoming_list_flag</th>\n",
       "      <th>facebook_list_flag</th>\n",
       "      <th>scholarship_list_flag</th>\n",
       "      <th>advisory_list_flag</th>\n",
       "      <th>leadership_list_flag</th>\n",
       "      <th>missouri_list_flag</th>\n",
       "      <th>multiple_outlets_list_flag</th>\n",
       "      <th>current_role_list_flag</th>\n",
       "      <th>affluent_list_flag</th>\n",
       "      <th>engagement_points</th>\n",
       "      <th>engaged_list_flag</th>\n",
       "      <th>PREF_EMAIL_ADDRESS</th>\n",
       "      <th>MEDIA_MADNESS_21_GIVING</th>\n",
       "      <th>MEDIA_MADNESS_22_GIVING</th>\n",
       "    </tr>\n",
       "  </thead>\n",
       "  <tbody>\n",
       "    <tr>\n",
       "      <th>0</th>\n",
       "      <td>AAMER MADHANI</td>\n",
       "      <td>aamermadhani@gmail.com</td>\n",
       "      <td>True</td>\n",
       "      <td>False</td>\n",
       "      <td>False</td>\n",
       "      <td>AAMER</td>\n",
       "      <td>MADHANI</td>\n",
       "      <td>X</td>\n",
       "      <td>NaN</td>\n",
       "      <td>NaN</td>\n",
       "      <td>NaN</td>\n",
       "      <td>nan</td>\n",
       "      <td>NaN</td>\n",
       "      <td>NaN</td>\n",
       "      <td>NaN</td>\n",
       "      <td>NaN</td>\n",
       "      <td>NaN</td>\n",
       "      <td>False</td>\n",
       "      <td>NaN</td>\n",
       "      <td>NaN</td>\n",
       "      <td>1</td>\n",
       "      <td>False</td>\n",
       "      <td>False</td>\n",
       "      <td>False</td>\n",
       "      <td>False</td>\n",
       "      <td>False</td>\n",
       "      <td>False</td>\n",
       "      <td>False</td>\n",
       "      <td>False</td>\n",
       "      <td>False</td>\n",
       "      <td>False</td>\n",
       "      <td>False</td>\n",
       "      <td>False</td>\n",
       "      <td>False</td>\n",
       "      <td>False</td>\n",
       "      <td>False</td>\n",
       "      <td>0</td>\n",
       "      <td>False</td>\n",
       "      <td>aamermadhani@gmail.com</td>\n",
       "      <td>20.0</td>\n",
       "      <td>NaN</td>\n",
       "    </tr>\n",
       "    <tr>\n",
       "      <th>1</th>\n",
       "      <td>AARON CARTER</td>\n",
       "      <td>Aaroncarter51298@gmail.com</td>\n",
       "      <td>False</td>\n",
       "      <td>True</td>\n",
       "      <td>True</td>\n",
       "      <td>AARON</td>\n",
       "      <td>CARTER</td>\n",
       "      <td>X</td>\n",
       "      <td>NaN</td>\n",
       "      <td>NaN</td>\n",
       "      <td>NaN</td>\n",
       "      <td>nan</td>\n",
       "      <td>NaN</td>\n",
       "      <td>NaN</td>\n",
       "      <td>NaN</td>\n",
       "      <td>NaN</td>\n",
       "      <td>NaN</td>\n",
       "      <td>False</td>\n",
       "      <td>NaN</td>\n",
       "      <td>NaN</td>\n",
       "      <td>2</td>\n",
       "      <td>False</td>\n",
       "      <td>False</td>\n",
       "      <td>False</td>\n",
       "      <td>False</td>\n",
       "      <td>False</td>\n",
       "      <td>False</td>\n",
       "      <td>False</td>\n",
       "      <td>False</td>\n",
       "      <td>False</td>\n",
       "      <td>False</td>\n",
       "      <td>False</td>\n",
       "      <td>False</td>\n",
       "      <td>True</td>\n",
       "      <td>False</td>\n",
       "      <td>False</td>\n",
       "      <td>0</td>\n",
       "      <td>False</td>\n",
       "      <td>NaN</td>\n",
       "      <td>NaN</td>\n",
       "      <td>NaN</td>\n",
       "    </tr>\n",
       "    <tr>\n",
       "      <th>2</th>\n",
       "      <td>AARON CUMMINS</td>\n",
       "      <td>aaroncummins@yahoo.com</td>\n",
       "      <td>False</td>\n",
       "      <td>True</td>\n",
       "      <td>False</td>\n",
       "      <td>AARON</td>\n",
       "      <td>CUMMINS</td>\n",
       "      <td>X</td>\n",
       "      <td>NaN</td>\n",
       "      <td>NaN</td>\n",
       "      <td>NaN</td>\n",
       "      <td>nan</td>\n",
       "      <td>NaN</td>\n",
       "      <td>NaN</td>\n",
       "      <td>NaN</td>\n",
       "      <td>NaN</td>\n",
       "      <td>NaN</td>\n",
       "      <td>False</td>\n",
       "      <td>NaN</td>\n",
       "      <td>NaN</td>\n",
       "      <td>1</td>\n",
       "      <td>False</td>\n",
       "      <td>False</td>\n",
       "      <td>False</td>\n",
       "      <td>False</td>\n",
       "      <td>False</td>\n",
       "      <td>False</td>\n",
       "      <td>False</td>\n",
       "      <td>False</td>\n",
       "      <td>False</td>\n",
       "      <td>False</td>\n",
       "      <td>False</td>\n",
       "      <td>False</td>\n",
       "      <td>False</td>\n",
       "      <td>False</td>\n",
       "      <td>False</td>\n",
       "      <td>0</td>\n",
       "      <td>False</td>\n",
       "      <td>NaN</td>\n",
       "      <td>NaN</td>\n",
       "      <td>NaN</td>\n",
       "    </tr>\n",
       "    <tr>\n",
       "      <th>3</th>\n",
       "      <td>AARON LADD</td>\n",
       "      <td>laddaaron0@gmail.com</td>\n",
       "      <td>False</td>\n",
       "      <td>False</td>\n",
       "      <td>True</td>\n",
       "      <td>AARON</td>\n",
       "      <td>LADD</td>\n",
       "      <td>7/13/22 14:37</td>\n",
       "      <td>laddaaron0@gmail.com</td>\n",
       "      <td>Bachelor's Degree</td>\n",
       "      <td>2018</td>\n",
       "      <td>64111</td>\n",
       "      <td>MUTV</td>\n",
       "      <td>MUTV Sports Reporter</td>\n",
       "      <td>2015-2016</td>\n",
       "      <td>KSHB 41 TV</td>\n",
       "      <td>Becoming a mentor for the mentorship program, ...</td>\n",
       "      <td>True</td>\n",
       "      <td>MO</td>\n",
       "      <td>61.721542</td>\n",
       "      <td>1</td>\n",
       "      <td>True</td>\n",
       "      <td>True</td>\n",
       "      <td>False</td>\n",
       "      <td>False</td>\n",
       "      <td>False</td>\n",
       "      <td>False</td>\n",
       "      <td>False</td>\n",
       "      <td>False</td>\n",
       "      <td>False</td>\n",
       "      <td>False</td>\n",
       "      <td>False</td>\n",
       "      <td>True</td>\n",
       "      <td>False</td>\n",
       "      <td>False</td>\n",
       "      <td>False</td>\n",
       "      <td>2</td>\n",
       "      <td>False</td>\n",
       "      <td>NaN</td>\n",
       "      <td>NaN</td>\n",
       "      <td>NaN</td>\n",
       "    </tr>\n",
       "    <tr>\n",
       "      <th>4</th>\n",
       "      <td>AARON MORALES</td>\n",
       "      <td>morgan.amgardens@gmail.com</td>\n",
       "      <td>True</td>\n",
       "      <td>False</td>\n",
       "      <td>False</td>\n",
       "      <td>AARON</td>\n",
       "      <td>MORALES</td>\n",
       "      <td>X</td>\n",
       "      <td>NaN</td>\n",
       "      <td>NaN</td>\n",
       "      <td>NaN</td>\n",
       "      <td>nan</td>\n",
       "      <td>NaN</td>\n",
       "      <td>NaN</td>\n",
       "      <td>NaN</td>\n",
       "      <td>NaN</td>\n",
       "      <td>NaN</td>\n",
       "      <td>False</td>\n",
       "      <td>NaN</td>\n",
       "      <td>NaN</td>\n",
       "      <td>1</td>\n",
       "      <td>False</td>\n",
       "      <td>False</td>\n",
       "      <td>False</td>\n",
       "      <td>False</td>\n",
       "      <td>False</td>\n",
       "      <td>False</td>\n",
       "      <td>False</td>\n",
       "      <td>False</td>\n",
       "      <td>False</td>\n",
       "      <td>False</td>\n",
       "      <td>False</td>\n",
       "      <td>False</td>\n",
       "      <td>False</td>\n",
       "      <td>False</td>\n",
       "      <td>False</td>\n",
       "      <td>0</td>\n",
       "      <td>False</td>\n",
       "      <td>NaN</td>\n",
       "      <td>NaN</td>\n",
       "      <td>NaN</td>\n",
       "    </tr>\n",
       "  </tbody>\n",
       "</table>\n",
       "</div>"
      ],
      "text/plain": [
       "           index                     EMAIL_1  MANEATER_ALUM_FLAG  \\\n",
       "0  AAMER MADHANI      aamermadhani@gmail.com                True   \n",
       "1   AARON CARTER  Aaroncarter51298@gmail.com               False   \n",
       "2  AARON CUMMINS      aaroncummins@yahoo.com               False   \n",
       "3     AARON LADD        laddaaron0@gmail.com               False   \n",
       "4  AARON MORALES  morgan.amgardens@gmail.com                True   \n",
       "\n",
       "   KCOU_ALUM_FLAG  MUTV_ALUM_FLAG FIRST_NAME LAST_NAME      Timestamp  \\\n",
       "0           False           False      AAMER   MADHANI              X   \n",
       "1            True            True      AARON    CARTER              X   \n",
       "2            True           False      AARON   CUMMINS              X   \n",
       "3           False            True      AARON      LADD  7/13/22 14:37   \n",
       "4           False           False      AARON   MORALES              X   \n",
       "\n",
       "         Non-work email Please select your highest level of education  \\\n",
       "0                   NaN                                           NaN   \n",
       "1                   NaN                                           NaN   \n",
       "2                   NaN                                           NaN   \n",
       "3  laddaaron0@gmail.com                             Bachelor's Degree   \n",
       "4                   NaN                                           NaN   \n",
       "\n",
       "  Undergraduate graduation year Current zip code Outlet(s) you worked at  \\\n",
       "0                           NaN              nan                     NaN   \n",
       "1                           NaN              nan                     NaN   \n",
       "2                           NaN              nan                     NaN   \n",
       "3                          2018            64111                    MUTV   \n",
       "4                           NaN              nan                     NaN   \n",
       "\n",
       "  Position(s) you held within the outlet(s) chosen above  \\\n",
       "0                                                NaN       \n",
       "1                                                NaN       \n",
       "2                                                NaN       \n",
       "3                               MUTV Sports Reporter       \n",
       "4                                                NaN       \n",
       "\n",
       "  Years active at your Mizzou Student Media outlet  \\\n",
       "0                                              NaN   \n",
       "1                                              NaN   \n",
       "2                                              NaN   \n",
       "3                                        2015-2016   \n",
       "4                                              NaN   \n",
       "\n",
       "  Current role and organization  \\\n",
       "0                           NaN   \n",
       "1                           NaN   \n",
       "2                           NaN   \n",
       "3                   KSHB 41 TV    \n",
       "4                           NaN   \n",
       "\n",
       "  Indicate the opportunities described above that you're interested in pursuing.  \\\n",
       "0                                                NaN                               \n",
       "1                                                NaN                               \n",
       "2                                                NaN                               \n",
       "3  Becoming a mentor for the mentorship program, ...                               \n",
       "4                                                NaN                               \n",
       "\n",
       "   form_response state  zip_avg_income  number_outlets  newsletter_list_flag  \\\n",
       "0          False   NaN             NaN               1                 False   \n",
       "1          False   NaN             NaN               2                 False   \n",
       "2          False   NaN             NaN               1                 False   \n",
       "3           True    MO       61.721542               1                  True   \n",
       "4          False   NaN             NaN               1                 False   \n",
       "\n",
       "   mentorship_list_flag  auditing_list_flag  apparel_list_flag  \\\n",
       "0                 False               False              False   \n",
       "1                 False               False              False   \n",
       "2                 False               False              False   \n",
       "3                  True               False              False   \n",
       "4                 False               False              False   \n",
       "\n",
       "   workshop_list_flag  networking_list_flag  homecoming_list_flag  \\\n",
       "0               False                 False                 False   \n",
       "1               False                 False                 False   \n",
       "2               False                 False                 False   \n",
       "3               False                 False                 False   \n",
       "4               False                 False                 False   \n",
       "\n",
       "   facebook_list_flag  scholarship_list_flag  advisory_list_flag  \\\n",
       "0               False                  False               False   \n",
       "1               False                  False               False   \n",
       "2               False                  False               False   \n",
       "3               False                  False               False   \n",
       "4               False                  False               False   \n",
       "\n",
       "   leadership_list_flag  missouri_list_flag  multiple_outlets_list_flag  \\\n",
       "0                 False               False                       False   \n",
       "1                 False               False                        True   \n",
       "2                 False               False                       False   \n",
       "3                 False                True                       False   \n",
       "4                 False               False                       False   \n",
       "\n",
       "   current_role_list_flag  affluent_list_flag  engagement_points  \\\n",
       "0                   False               False                  0   \n",
       "1                   False               False                  0   \n",
       "2                   False               False                  0   \n",
       "3                   False               False                  2   \n",
       "4                   False               False                  0   \n",
       "\n",
       "   engaged_list_flag      PREF_EMAIL_ADDRESS  MEDIA_MADNESS_21_GIVING  \\\n",
       "0              False  aamermadhani@gmail.com                     20.0   \n",
       "1              False                     NaN                      NaN   \n",
       "2              False                     NaN                      NaN   \n",
       "3              False                     NaN                      NaN   \n",
       "4              False                     NaN                      NaN   \n",
       "\n",
       "   MEDIA_MADNESS_22_GIVING  \n",
       "0                      NaN  \n",
       "1                      NaN  \n",
       "2                      NaN  \n",
       "3                      NaN  \n",
       "4                      NaN  "
      ]
     },
     "execution_count": 163,
     "metadata": {},
     "output_type": "execute_result"
    }
   ],
   "source": [
    "alumni_donation.head()"
   ]
  },
  {
   "cell_type": "code",
   "execution_count": 164,
   "id": "c8e5d47c",
   "metadata": {},
   "outputs": [],
   "source": [
    "alumni_donation['MEDIA_MADNESS_21_FLAG'] = alumni_donation['MEDIA_MADNESS_21_GIVING']>0\n",
    "alumni_donation['MEDIA_MADNESS_22_FLAG'] = alumni_donation['MEDIA_MADNESS_22_GIVING']>0"
   ]
  },
  {
   "cell_type": "markdown",
   "id": "f35d9877",
   "metadata": {},
   "source": [
    "# Donation Email Lists"
   ]
  },
  {
   "cell_type": "markdown",
   "id": "13575f6e",
   "metadata": {},
   "source": [
    "### Lapsed donors"
   ]
  },
  {
   "cell_type": "code",
   "execution_count": 165,
   "id": "a599dcd6",
   "metadata": {},
   "outputs": [],
   "source": [
    "lapsed_list = alumni_donation.loc[(alumni_donation[\"MEDIA_MADNESS_21_FLAG\"]==True) &(alumni_donation[\"MEDIA_MADNESS_22_FLAG\"]==False),('index','EMAIL_1','MEDIA_MADNESS_21_GIVING')]"
   ]
  },
  {
   "cell_type": "code",
   "execution_count": 166,
   "id": "2eee23ee",
   "metadata": {},
   "outputs": [
    {
     "data": {
      "text/plain": [
       "(25, 3)"
      ]
     },
     "execution_count": 166,
     "metadata": {},
     "output_type": "execute_result"
    }
   ],
   "source": [
    "lapsed_list.shape"
   ]
  },
  {
   "cell_type": "code",
   "execution_count": 167,
   "id": "0873ead1",
   "metadata": {},
   "outputs": [
    {
     "data": {
      "text/plain": [
       "3350.0"
      ]
     },
     "execution_count": 167,
     "metadata": {},
     "output_type": "execute_result"
    }
   ],
   "source": [
    "sum(lapsed_list['MEDIA_MADNESS_21_GIVING'])"
   ]
  },
  {
   "cell_type": "markdown",
   "id": "4919674f",
   "metadata": {},
   "source": [
    "##### Flag creation"
   ]
  },
  {
   "cell_type": "code",
   "execution_count": 168,
   "id": "9cb4faa5",
   "metadata": {},
   "outputs": [],
   "source": [
    "lapsed_list_flag = [True if any(y in x for y in lapsed_list['index']) else False for x in alumni_donation['index'].fillna('x')]"
   ]
  },
  {
   "cell_type": "code",
   "execution_count": 169,
   "id": "78a3f6ad",
   "metadata": {},
   "outputs": [],
   "source": [
    "alumni_donation['lapsed_2021_flag'] = lapsed_list_flag"
   ]
  },
  {
   "cell_type": "code",
   "execution_count": 170,
   "id": "3e3587f6",
   "metadata": {},
   "outputs": [
    {
     "data": {
      "text/plain": [
       "False    1857\n",
       "True       25\n",
       "Name: lapsed_2021_flag, dtype: int64"
      ]
     },
     "execution_count": 170,
     "metadata": {},
     "output_type": "execute_result"
    }
   ],
   "source": [
    "alumni_donation['lapsed_2021_flag'].value_counts()"
   ]
  },
  {
   "cell_type": "markdown",
   "id": "b9c28661",
   "metadata": {},
   "source": [
    "lapsed_list.to_excel('/Users/gcdyw9/Documents/email_lists/LAPSED_DONOR_LIST_08_30_2022.xlsx')"
   ]
  },
  {
   "cell_type": "markdown",
   "id": "3769592b",
   "metadata": {},
   "source": [
    "### Alumni CMM donors"
   ]
  },
  {
   "cell_type": "code",
   "execution_count": 171,
   "id": "d416dac5",
   "metadata": {},
   "outputs": [],
   "source": [
    "cmm_donor_list = alumni_donation.loc[(alumni_donation[\"MEDIA_MADNESS_21_FLAG\"]==True) | (alumni_donation[\"MEDIA_MADNESS_22_FLAG\"]==True),('index','EMAIL_1')]"
   ]
  },
  {
   "cell_type": "code",
   "execution_count": 172,
   "id": "e5703a20",
   "metadata": {},
   "outputs": [
    {
     "data": {
      "text/plain": [
       "(36, 2)"
      ]
     },
     "execution_count": 172,
     "metadata": {},
     "output_type": "execute_result"
    }
   ],
   "source": [
    "cmm_donor_list.shape"
   ]
  },
  {
   "cell_type": "markdown",
   "id": "3965174a",
   "metadata": {},
   "source": [
    "##### Flag creation"
   ]
  },
  {
   "cell_type": "code",
   "execution_count": 173,
   "id": "9dfe3bbb",
   "metadata": {},
   "outputs": [],
   "source": [
    "cmm_donor_list_flag = [True if any(y in x for y in cmm_donor_list['index']) else False for x in alumni_donation['index'].fillna('x')]"
   ]
  },
  {
   "cell_type": "code",
   "execution_count": 174,
   "id": "9cc15d2a",
   "metadata": {},
   "outputs": [],
   "source": [
    "alumni_donation['cmm_donor_flag'] = cmm_donor_list_flag"
   ]
  },
  {
   "cell_type": "code",
   "execution_count": 175,
   "id": "6c5542db",
   "metadata": {},
   "outputs": [
    {
     "data": {
      "text/plain": [
       "False    1846\n",
       "True       36\n",
       "Name: cmm_donor_flag, dtype: int64"
      ]
     },
     "execution_count": 175,
     "metadata": {},
     "output_type": "execute_result"
    }
   ],
   "source": [
    "alumni_donation['cmm_donor_flag'].value_counts()"
   ]
  },
  {
   "cell_type": "code",
   "execution_count": null,
   "id": "f5c206de",
   "metadata": {},
   "outputs": [],
   "source": []
  },
  {
   "cell_type": "code",
   "execution_count": null,
   "id": "51525115",
   "metadata": {},
   "outputs": [],
   "source": []
  },
  {
   "cell_type": "code",
   "execution_count": null,
   "id": "06b91bed",
   "metadata": {},
   "outputs": [],
   "source": []
  },
  {
   "cell_type": "markdown",
   "id": "e5a5024d",
   "metadata": {},
   "source": [
    "cmm_donor_list.to_excel('/Users/gcdyw9/Documents/email_lists/CMM_DONOR_LIST_08_30_2022.xlsx')"
   ]
  },
  {
   "cell_type": "code",
   "execution_count": null,
   "id": "119208c7",
   "metadata": {},
   "outputs": [],
   "source": []
  },
  {
   "cell_type": "code",
   "execution_count": 205,
   "id": "e67780c9",
   "metadata": {},
   "outputs": [
    {
     "data": {
      "text/plain": [
       "array(['index', 'EMAIL_1', 'MANEATER_ALUM_FLAG', 'KCOU_ALUM_FLAG',\n",
       "       'MUTV_ALUM_FLAG', 'FIRST_NAME', 'LAST_NAME', 'Timestamp',\n",
       "       'Non-work email', 'Please select your highest level of education',\n",
       "       'Undergraduate graduation year', 'Current zip code',\n",
       "       'Outlet(s) you worked at',\n",
       "       'Position(s) you held within the outlet(s) chosen above',\n",
       "       'Years active at your Mizzou Student Media outlet',\n",
       "       'Current role and organization',\n",
       "       \"Indicate the opportunities described above that you're interested in pursuing.\",\n",
       "       'form_response', 'state', 'zip_avg_income', 'number_outlets',\n",
       "       'newsletter_list_flag', 'mentorship_list_flag',\n",
       "       'auditing_list_flag', 'apparel_list_flag', 'workshop_list_flag',\n",
       "       'networking_list_flag', 'homecoming_list_flag',\n",
       "       'facebook_list_flag', 'scholarship_list_flag',\n",
       "       'advisory_list_flag', 'leadership_list_flag', 'missouri_list_flag',\n",
       "       'multiple_outlets_list_flag', 'current_role_list_flag',\n",
       "       'affluent_list_flag', 'engagement_points', 'engaged_list_flag',\n",
       "       'PREF_EMAIL_ADDRESS', 'MEDIA_MADNESS_21_GIVING',\n",
       "       'MEDIA_MADNESS_22_GIVING', 'MEDIA_MADNESS_21_FLAG',\n",
       "       'MEDIA_MADNESS_22_FLAG', 'lapsed_2021_flag', 'cmm_donor_flag',\n",
       "       'target'], dtype=object)"
      ]
     },
     "execution_count": 205,
     "metadata": {},
     "output_type": "execute_result"
    }
   ],
   "source": [
    "alumni_donation.columns.values"
   ]
  },
  {
   "cell_type": "markdown",
   "id": "fe8f5817",
   "metadata": {},
   "source": [
    "alumni_donation.to_csv('/Users/gcdyw9/Documents/alumni_donations.csv')"
   ]
  },
  {
   "cell_type": "code",
   "execution_count": 210,
   "id": "e0f8c7c2",
   "metadata": {},
   "outputs": [
    {
     "data": {
      "text/plain": [
       "False    35\n",
       "True      1\n",
       "Name: KCOU_ALUM_FLAG, dtype: int64"
      ]
     },
     "execution_count": 210,
     "metadata": {},
     "output_type": "execute_result"
    }
   ],
   "source": [
    "alumni_donation.loc[(alumni_donation[\"MEDIA_MADNESS_21_FLAG\"]==True) | (alumni_donation[\"MEDIA_MADNESS_22_FLAG\"]==True),('KCOU_ALUM_FLAG')].value_counts()"
   ]
  },
  {
   "cell_type": "code",
   "execution_count": 213,
   "id": "a74e101f",
   "metadata": {},
   "outputs": [
    {
     "data": {
      "text/plain": [
       "1100.0"
      ]
     },
     "execution_count": 213,
     "metadata": {},
     "output_type": "execute_result"
    }
   ],
   "source": [
    "alumni_donation.loc[(alumni_donation[\"MEDIA_MADNESS_22_FLAG\"]==True),('MEDIA_MADNESS_22_GIVING')].sum()"
   ]
  },
  {
   "cell_type": "code",
   "execution_count": 214,
   "id": "a2c8b8a7",
   "metadata": {},
   "outputs": [
    {
     "data": {
      "text/plain": [
       "4450.0"
      ]
     },
     "execution_count": 214,
     "metadata": {},
     "output_type": "execute_result"
    }
   ],
   "source": [
    "alumni_donation.loc[(alumni_donation[\"MEDIA_MADNESS_21_FLAG\"]==True),('MEDIA_MADNESS_21_GIVING')].sum()"
   ]
  },
  {
   "cell_type": "code",
   "execution_count": 215,
   "id": "e51ee5d0",
   "metadata": {},
   "outputs": [
    {
     "data": {
      "text/html": [
       "<div>\n",
       "<style scoped>\n",
       "    .dataframe tbody tr th:only-of-type {\n",
       "        vertical-align: middle;\n",
       "    }\n",
       "\n",
       "    .dataframe tbody tr th {\n",
       "        vertical-align: top;\n",
       "    }\n",
       "\n",
       "    .dataframe thead th {\n",
       "        text-align: right;\n",
       "    }\n",
       "</style>\n",
       "<table border=\"1\" class=\"dataframe\">\n",
       "  <thead>\n",
       "    <tr style=\"text-align: right;\">\n",
       "      <th></th>\n",
       "      <th>index</th>\n",
       "      <th>EMAIL_1</th>\n",
       "      <th>MANEATER_ALUM_FLAG</th>\n",
       "      <th>KCOU_ALUM_FLAG</th>\n",
       "      <th>MUTV_ALUM_FLAG</th>\n",
       "      <th>FIRST_NAME</th>\n",
       "      <th>LAST_NAME</th>\n",
       "      <th>Timestamp</th>\n",
       "      <th>Non-work email</th>\n",
       "      <th>Please select your highest level of education</th>\n",
       "      <th>Undergraduate graduation year</th>\n",
       "      <th>Current zip code</th>\n",
       "      <th>Outlet(s) you worked at</th>\n",
       "      <th>Position(s) you held within the outlet(s) chosen above</th>\n",
       "      <th>Years active at your Mizzou Student Media outlet</th>\n",
       "      <th>Current role and organization</th>\n",
       "      <th>Indicate the opportunities described above that you're interested in pursuing.</th>\n",
       "      <th>form_response</th>\n",
       "      <th>state</th>\n",
       "      <th>zip_avg_income</th>\n",
       "      <th>number_outlets</th>\n",
       "      <th>newsletter_list_flag</th>\n",
       "      <th>mentorship_list_flag</th>\n",
       "      <th>auditing_list_flag</th>\n",
       "      <th>apparel_list_flag</th>\n",
       "      <th>workshop_list_flag</th>\n",
       "      <th>networking_list_flag</th>\n",
       "      <th>homecoming_list_flag</th>\n",
       "      <th>facebook_list_flag</th>\n",
       "      <th>scholarship_list_flag</th>\n",
       "      <th>advisory_list_flag</th>\n",
       "      <th>leadership_list_flag</th>\n",
       "      <th>missouri_list_flag</th>\n",
       "      <th>multiple_outlets_list_flag</th>\n",
       "      <th>current_role_list_flag</th>\n",
       "      <th>affluent_list_flag</th>\n",
       "      <th>engagement_points</th>\n",
       "      <th>engaged_list_flag</th>\n",
       "      <th>PREF_EMAIL_ADDRESS</th>\n",
       "      <th>MEDIA_MADNESS_21_GIVING</th>\n",
       "      <th>MEDIA_MADNESS_22_GIVING</th>\n",
       "      <th>MEDIA_MADNESS_21_FLAG</th>\n",
       "      <th>MEDIA_MADNESS_22_FLAG</th>\n",
       "      <th>lapsed_2021_flag</th>\n",
       "      <th>cmm_donor_flag</th>\n",
       "      <th>target</th>\n",
       "    </tr>\n",
       "  </thead>\n",
       "  <tbody>\n",
       "    <tr>\n",
       "      <th>0</th>\n",
       "      <td>AAMER MADHANI</td>\n",
       "      <td>aamermadhani@gmail.com</td>\n",
       "      <td>True</td>\n",
       "      <td>False</td>\n",
       "      <td>False</td>\n",
       "      <td>AAMER</td>\n",
       "      <td>MADHANI</td>\n",
       "      <td>X</td>\n",
       "      <td>NaN</td>\n",
       "      <td>NaN</td>\n",
       "      <td>NaN</td>\n",
       "      <td>nan</td>\n",
       "      <td>NaN</td>\n",
       "      <td>NaN</td>\n",
       "      <td>NaN</td>\n",
       "      <td>NaN</td>\n",
       "      <td>NaN</td>\n",
       "      <td>False</td>\n",
       "      <td>NaN</td>\n",
       "      <td>NaN</td>\n",
       "      <td>1</td>\n",
       "      <td>False</td>\n",
       "      <td>False</td>\n",
       "      <td>False</td>\n",
       "      <td>False</td>\n",
       "      <td>False</td>\n",
       "      <td>False</td>\n",
       "      <td>False</td>\n",
       "      <td>False</td>\n",
       "      <td>False</td>\n",
       "      <td>False</td>\n",
       "      <td>False</td>\n",
       "      <td>False</td>\n",
       "      <td>False</td>\n",
       "      <td>False</td>\n",
       "      <td>False</td>\n",
       "      <td>0</td>\n",
       "      <td>False</td>\n",
       "      <td>aamermadhani@gmail.com</td>\n",
       "      <td>20.0</td>\n",
       "      <td>NaN</td>\n",
       "      <td>True</td>\n",
       "      <td>False</td>\n",
       "      <td>True</td>\n",
       "      <td>True</td>\n",
       "      <td>True</td>\n",
       "    </tr>\n",
       "    <tr>\n",
       "      <th>1</th>\n",
       "      <td>AARON CARTER</td>\n",
       "      <td>Aaroncarter51298@gmail.com</td>\n",
       "      <td>False</td>\n",
       "      <td>True</td>\n",
       "      <td>True</td>\n",
       "      <td>AARON</td>\n",
       "      <td>CARTER</td>\n",
       "      <td>X</td>\n",
       "      <td>NaN</td>\n",
       "      <td>NaN</td>\n",
       "      <td>NaN</td>\n",
       "      <td>nan</td>\n",
       "      <td>NaN</td>\n",
       "      <td>NaN</td>\n",
       "      <td>NaN</td>\n",
       "      <td>NaN</td>\n",
       "      <td>NaN</td>\n",
       "      <td>False</td>\n",
       "      <td>NaN</td>\n",
       "      <td>NaN</td>\n",
       "      <td>2</td>\n",
       "      <td>False</td>\n",
       "      <td>False</td>\n",
       "      <td>False</td>\n",
       "      <td>False</td>\n",
       "      <td>False</td>\n",
       "      <td>False</td>\n",
       "      <td>False</td>\n",
       "      <td>False</td>\n",
       "      <td>False</td>\n",
       "      <td>False</td>\n",
       "      <td>False</td>\n",
       "      <td>False</td>\n",
       "      <td>True</td>\n",
       "      <td>False</td>\n",
       "      <td>False</td>\n",
       "      <td>0</td>\n",
       "      <td>False</td>\n",
       "      <td>NaN</td>\n",
       "      <td>NaN</td>\n",
       "      <td>NaN</td>\n",
       "      <td>False</td>\n",
       "      <td>False</td>\n",
       "      <td>False</td>\n",
       "      <td>False</td>\n",
       "      <td>False</td>\n",
       "    </tr>\n",
       "    <tr>\n",
       "      <th>2</th>\n",
       "      <td>AARON CUMMINS</td>\n",
       "      <td>aaroncummins@yahoo.com</td>\n",
       "      <td>False</td>\n",
       "      <td>True</td>\n",
       "      <td>False</td>\n",
       "      <td>AARON</td>\n",
       "      <td>CUMMINS</td>\n",
       "      <td>X</td>\n",
       "      <td>NaN</td>\n",
       "      <td>NaN</td>\n",
       "      <td>NaN</td>\n",
       "      <td>nan</td>\n",
       "      <td>NaN</td>\n",
       "      <td>NaN</td>\n",
       "      <td>NaN</td>\n",
       "      <td>NaN</td>\n",
       "      <td>NaN</td>\n",
       "      <td>False</td>\n",
       "      <td>NaN</td>\n",
       "      <td>NaN</td>\n",
       "      <td>1</td>\n",
       "      <td>False</td>\n",
       "      <td>False</td>\n",
       "      <td>False</td>\n",
       "      <td>False</td>\n",
       "      <td>False</td>\n",
       "      <td>False</td>\n",
       "      <td>False</td>\n",
       "      <td>False</td>\n",
       "      <td>False</td>\n",
       "      <td>False</td>\n",
       "      <td>False</td>\n",
       "      <td>False</td>\n",
       "      <td>False</td>\n",
       "      <td>False</td>\n",
       "      <td>False</td>\n",
       "      <td>0</td>\n",
       "      <td>False</td>\n",
       "      <td>NaN</td>\n",
       "      <td>NaN</td>\n",
       "      <td>NaN</td>\n",
       "      <td>False</td>\n",
       "      <td>False</td>\n",
       "      <td>False</td>\n",
       "      <td>False</td>\n",
       "      <td>False</td>\n",
       "    </tr>\n",
       "    <tr>\n",
       "      <th>3</th>\n",
       "      <td>AARON LADD</td>\n",
       "      <td>laddaaron0@gmail.com</td>\n",
       "      <td>False</td>\n",
       "      <td>False</td>\n",
       "      <td>True</td>\n",
       "      <td>AARON</td>\n",
       "      <td>LADD</td>\n",
       "      <td>7/13/22 14:37</td>\n",
       "      <td>laddaaron0@gmail.com</td>\n",
       "      <td>Bachelor's Degree</td>\n",
       "      <td>2018</td>\n",
       "      <td>64111</td>\n",
       "      <td>MUTV</td>\n",
       "      <td>MUTV Sports Reporter</td>\n",
       "      <td>2015-2016</td>\n",
       "      <td>KSHB 41 TV</td>\n",
       "      <td>Becoming a mentor for the mentorship program, ...</td>\n",
       "      <td>True</td>\n",
       "      <td>MO</td>\n",
       "      <td>61.721542</td>\n",
       "      <td>1</td>\n",
       "      <td>True</td>\n",
       "      <td>True</td>\n",
       "      <td>False</td>\n",
       "      <td>False</td>\n",
       "      <td>False</td>\n",
       "      <td>False</td>\n",
       "      <td>False</td>\n",
       "      <td>False</td>\n",
       "      <td>False</td>\n",
       "      <td>False</td>\n",
       "      <td>False</td>\n",
       "      <td>True</td>\n",
       "      <td>False</td>\n",
       "      <td>False</td>\n",
       "      <td>False</td>\n",
       "      <td>2</td>\n",
       "      <td>False</td>\n",
       "      <td>NaN</td>\n",
       "      <td>NaN</td>\n",
       "      <td>NaN</td>\n",
       "      <td>False</td>\n",
       "      <td>False</td>\n",
       "      <td>False</td>\n",
       "      <td>False</td>\n",
       "      <td>False</td>\n",
       "    </tr>\n",
       "    <tr>\n",
       "      <th>4</th>\n",
       "      <td>AARON MORALES</td>\n",
       "      <td>morgan.amgardens@gmail.com</td>\n",
       "      <td>True</td>\n",
       "      <td>False</td>\n",
       "      <td>False</td>\n",
       "      <td>AARON</td>\n",
       "      <td>MORALES</td>\n",
       "      <td>X</td>\n",
       "      <td>NaN</td>\n",
       "      <td>NaN</td>\n",
       "      <td>NaN</td>\n",
       "      <td>nan</td>\n",
       "      <td>NaN</td>\n",
       "      <td>NaN</td>\n",
       "      <td>NaN</td>\n",
       "      <td>NaN</td>\n",
       "      <td>NaN</td>\n",
       "      <td>False</td>\n",
       "      <td>NaN</td>\n",
       "      <td>NaN</td>\n",
       "      <td>1</td>\n",
       "      <td>False</td>\n",
       "      <td>False</td>\n",
       "      <td>False</td>\n",
       "      <td>False</td>\n",
       "      <td>False</td>\n",
       "      <td>False</td>\n",
       "      <td>False</td>\n",
       "      <td>False</td>\n",
       "      <td>False</td>\n",
       "      <td>False</td>\n",
       "      <td>False</td>\n",
       "      <td>False</td>\n",
       "      <td>False</td>\n",
       "      <td>False</td>\n",
       "      <td>False</td>\n",
       "      <td>0</td>\n",
       "      <td>False</td>\n",
       "      <td>NaN</td>\n",
       "      <td>NaN</td>\n",
       "      <td>NaN</td>\n",
       "      <td>False</td>\n",
       "      <td>False</td>\n",
       "      <td>False</td>\n",
       "      <td>False</td>\n",
       "      <td>False</td>\n",
       "    </tr>\n",
       "    <tr>\n",
       "      <th>...</th>\n",
       "      <td>...</td>\n",
       "      <td>...</td>\n",
       "      <td>...</td>\n",
       "      <td>...</td>\n",
       "      <td>...</td>\n",
       "      <td>...</td>\n",
       "      <td>...</td>\n",
       "      <td>...</td>\n",
       "      <td>...</td>\n",
       "      <td>...</td>\n",
       "      <td>...</td>\n",
       "      <td>...</td>\n",
       "      <td>...</td>\n",
       "      <td>...</td>\n",
       "      <td>...</td>\n",
       "      <td>...</td>\n",
       "      <td>...</td>\n",
       "      <td>...</td>\n",
       "      <td>...</td>\n",
       "      <td>...</td>\n",
       "      <td>...</td>\n",
       "      <td>...</td>\n",
       "      <td>...</td>\n",
       "      <td>...</td>\n",
       "      <td>...</td>\n",
       "      <td>...</td>\n",
       "      <td>...</td>\n",
       "      <td>...</td>\n",
       "      <td>...</td>\n",
       "      <td>...</td>\n",
       "      <td>...</td>\n",
       "      <td>...</td>\n",
       "      <td>...</td>\n",
       "      <td>...</td>\n",
       "      <td>...</td>\n",
       "      <td>...</td>\n",
       "      <td>...</td>\n",
       "      <td>...</td>\n",
       "      <td>...</td>\n",
       "      <td>...</td>\n",
       "      <td>...</td>\n",
       "      <td>...</td>\n",
       "      <td>...</td>\n",
       "      <td>...</td>\n",
       "      <td>...</td>\n",
       "      <td>...</td>\n",
       "    </tr>\n",
       "    <tr>\n",
       "      <th>1877</th>\n",
       "      <td>ZOE BRANCO</td>\n",
       "      <td>zbranco@sbcglobal.net</td>\n",
       "      <td>False</td>\n",
       "      <td>False</td>\n",
       "      <td>True</td>\n",
       "      <td>ZOE</td>\n",
       "      <td>BRANCO</td>\n",
       "      <td>X</td>\n",
       "      <td>NaN</td>\n",
       "      <td>NaN</td>\n",
       "      <td>NaN</td>\n",
       "      <td>nan</td>\n",
       "      <td>NaN</td>\n",
       "      <td>NaN</td>\n",
       "      <td>NaN</td>\n",
       "      <td>NaN</td>\n",
       "      <td>NaN</td>\n",
       "      <td>False</td>\n",
       "      <td>NaN</td>\n",
       "      <td>NaN</td>\n",
       "      <td>1</td>\n",
       "      <td>False</td>\n",
       "      <td>False</td>\n",
       "      <td>False</td>\n",
       "      <td>False</td>\n",
       "      <td>False</td>\n",
       "      <td>False</td>\n",
       "      <td>False</td>\n",
       "      <td>False</td>\n",
       "      <td>False</td>\n",
       "      <td>False</td>\n",
       "      <td>False</td>\n",
       "      <td>False</td>\n",
       "      <td>False</td>\n",
       "      <td>False</td>\n",
       "      <td>False</td>\n",
       "      <td>0</td>\n",
       "      <td>False</td>\n",
       "      <td>NaN</td>\n",
       "      <td>NaN</td>\n",
       "      <td>NaN</td>\n",
       "      <td>False</td>\n",
       "      <td>False</td>\n",
       "      <td>False</td>\n",
       "      <td>False</td>\n",
       "      <td>False</td>\n",
       "    </tr>\n",
       "    <tr>\n",
       "      <th>1878</th>\n",
       "      <td>ZOE LUNDSTRAM</td>\n",
       "      <td>zll5px@mail.missouri.edu</td>\n",
       "      <td>False</td>\n",
       "      <td>False</td>\n",
       "      <td>True</td>\n",
       "      <td>ZOE</td>\n",
       "      <td>LUNDSTRAM</td>\n",
       "      <td>X</td>\n",
       "      <td>NaN</td>\n",
       "      <td>NaN</td>\n",
       "      <td>NaN</td>\n",
       "      <td>nan</td>\n",
       "      <td>NaN</td>\n",
       "      <td>NaN</td>\n",
       "      <td>NaN</td>\n",
       "      <td>NaN</td>\n",
       "      <td>NaN</td>\n",
       "      <td>False</td>\n",
       "      <td>NaN</td>\n",
       "      <td>NaN</td>\n",
       "      <td>1</td>\n",
       "      <td>False</td>\n",
       "      <td>False</td>\n",
       "      <td>False</td>\n",
       "      <td>False</td>\n",
       "      <td>False</td>\n",
       "      <td>False</td>\n",
       "      <td>False</td>\n",
       "      <td>False</td>\n",
       "      <td>False</td>\n",
       "      <td>False</td>\n",
       "      <td>False</td>\n",
       "      <td>False</td>\n",
       "      <td>False</td>\n",
       "      <td>False</td>\n",
       "      <td>False</td>\n",
       "      <td>0</td>\n",
       "      <td>False</td>\n",
       "      <td>NaN</td>\n",
       "      <td>NaN</td>\n",
       "      <td>NaN</td>\n",
       "      <td>False</td>\n",
       "      <td>False</td>\n",
       "      <td>False</td>\n",
       "      <td>False</td>\n",
       "      <td>False</td>\n",
       "    </tr>\n",
       "    <tr>\n",
       "      <th>1879</th>\n",
       "      <td>ZOE RICH</td>\n",
       "      <td>zkrwg9@mail.missouri.edu</td>\n",
       "      <td>False</td>\n",
       "      <td>True</td>\n",
       "      <td>False</td>\n",
       "      <td>ZOE</td>\n",
       "      <td>RICH</td>\n",
       "      <td>X</td>\n",
       "      <td>NaN</td>\n",
       "      <td>NaN</td>\n",
       "      <td>NaN</td>\n",
       "      <td>nan</td>\n",
       "      <td>NaN</td>\n",
       "      <td>NaN</td>\n",
       "      <td>NaN</td>\n",
       "      <td>NaN</td>\n",
       "      <td>NaN</td>\n",
       "      <td>False</td>\n",
       "      <td>NaN</td>\n",
       "      <td>NaN</td>\n",
       "      <td>1</td>\n",
       "      <td>False</td>\n",
       "      <td>False</td>\n",
       "      <td>False</td>\n",
       "      <td>False</td>\n",
       "      <td>False</td>\n",
       "      <td>False</td>\n",
       "      <td>False</td>\n",
       "      <td>False</td>\n",
       "      <td>False</td>\n",
       "      <td>False</td>\n",
       "      <td>False</td>\n",
       "      <td>False</td>\n",
       "      <td>False</td>\n",
       "      <td>False</td>\n",
       "      <td>False</td>\n",
       "      <td>0</td>\n",
       "      <td>False</td>\n",
       "      <td>NaN</td>\n",
       "      <td>NaN</td>\n",
       "      <td>NaN</td>\n",
       "      <td>False</td>\n",
       "      <td>False</td>\n",
       "      <td>False</td>\n",
       "      <td>False</td>\n",
       "      <td>False</td>\n",
       "    </tr>\n",
       "    <tr>\n",
       "      <th>1880</th>\n",
       "      <td>ZOLA CROWDER</td>\n",
       "      <td>zjc5xc@mail.missouri.edu</td>\n",
       "      <td>False</td>\n",
       "      <td>False</td>\n",
       "      <td>True</td>\n",
       "      <td>ZOLA</td>\n",
       "      <td>CROWDER</td>\n",
       "      <td>X</td>\n",
       "      <td>NaN</td>\n",
       "      <td>NaN</td>\n",
       "      <td>NaN</td>\n",
       "      <td>nan</td>\n",
       "      <td>NaN</td>\n",
       "      <td>NaN</td>\n",
       "      <td>NaN</td>\n",
       "      <td>NaN</td>\n",
       "      <td>NaN</td>\n",
       "      <td>False</td>\n",
       "      <td>NaN</td>\n",
       "      <td>NaN</td>\n",
       "      <td>1</td>\n",
       "      <td>False</td>\n",
       "      <td>False</td>\n",
       "      <td>False</td>\n",
       "      <td>False</td>\n",
       "      <td>False</td>\n",
       "      <td>False</td>\n",
       "      <td>False</td>\n",
       "      <td>False</td>\n",
       "      <td>False</td>\n",
       "      <td>False</td>\n",
       "      <td>False</td>\n",
       "      <td>False</td>\n",
       "      <td>False</td>\n",
       "      <td>False</td>\n",
       "      <td>False</td>\n",
       "      <td>0</td>\n",
       "      <td>False</td>\n",
       "      <td>NaN</td>\n",
       "      <td>NaN</td>\n",
       "      <td>NaN</td>\n",
       "      <td>False</td>\n",
       "      <td>False</td>\n",
       "      <td>False</td>\n",
       "      <td>False</td>\n",
       "      <td>False</td>\n",
       "    </tr>\n",
       "    <tr>\n",
       "      <th>1881</th>\n",
       "      <td>NaN</td>\n",
       "      <td>NaN</td>\n",
       "      <td>True</td>\n",
       "      <td>True</td>\n",
       "      <td>False</td>\n",
       "      <td>NaN</td>\n",
       "      <td>NaN</td>\n",
       "      <td>X</td>\n",
       "      <td>NaN</td>\n",
       "      <td>NaN</td>\n",
       "      <td>NaN</td>\n",
       "      <td>nan</td>\n",
       "      <td>NaN</td>\n",
       "      <td>NaN</td>\n",
       "      <td>NaN</td>\n",
       "      <td>NaN</td>\n",
       "      <td>NaN</td>\n",
       "      <td>False</td>\n",
       "      <td>NaN</td>\n",
       "      <td>NaN</td>\n",
       "      <td>2</td>\n",
       "      <td>False</td>\n",
       "      <td>False</td>\n",
       "      <td>False</td>\n",
       "      <td>False</td>\n",
       "      <td>False</td>\n",
       "      <td>False</td>\n",
       "      <td>False</td>\n",
       "      <td>False</td>\n",
       "      <td>False</td>\n",
       "      <td>False</td>\n",
       "      <td>False</td>\n",
       "      <td>False</td>\n",
       "      <td>False</td>\n",
       "      <td>False</td>\n",
       "      <td>False</td>\n",
       "      <td>0</td>\n",
       "      <td>False</td>\n",
       "      <td>NaN</td>\n",
       "      <td>NaN</td>\n",
       "      <td>NaN</td>\n",
       "      <td>False</td>\n",
       "      <td>False</td>\n",
       "      <td>False</td>\n",
       "      <td>False</td>\n",
       "      <td>False</td>\n",
       "    </tr>\n",
       "  </tbody>\n",
       "</table>\n",
       "<p>1882 rows × 46 columns</p>\n",
       "</div>"
      ],
      "text/plain": [
       "              index                     EMAIL_1  MANEATER_ALUM_FLAG  \\\n",
       "0     AAMER MADHANI      aamermadhani@gmail.com                True   \n",
       "1      AARON CARTER  Aaroncarter51298@gmail.com               False   \n",
       "2     AARON CUMMINS      aaroncummins@yahoo.com               False   \n",
       "3        AARON LADD        laddaaron0@gmail.com               False   \n",
       "4     AARON MORALES  morgan.amgardens@gmail.com                True   \n",
       "...             ...                         ...                 ...   \n",
       "1877     ZOE BRANCO       zbranco@sbcglobal.net               False   \n",
       "1878  ZOE LUNDSTRAM    zll5px@mail.missouri.edu               False   \n",
       "1879       ZOE RICH    zkrwg9@mail.missouri.edu               False   \n",
       "1880   ZOLA CROWDER    zjc5xc@mail.missouri.edu               False   \n",
       "1881            NaN                         NaN                True   \n",
       "\n",
       "      KCOU_ALUM_FLAG  MUTV_ALUM_FLAG FIRST_NAME  LAST_NAME      Timestamp  \\\n",
       "0              False           False      AAMER    MADHANI              X   \n",
       "1               True            True      AARON     CARTER              X   \n",
       "2               True           False      AARON    CUMMINS              X   \n",
       "3              False            True      AARON       LADD  7/13/22 14:37   \n",
       "4              False           False      AARON    MORALES              X   \n",
       "...              ...             ...        ...        ...            ...   \n",
       "1877           False            True        ZOE     BRANCO              X   \n",
       "1878           False            True        ZOE  LUNDSTRAM              X   \n",
       "1879            True           False        ZOE       RICH              X   \n",
       "1880           False            True       ZOLA    CROWDER              X   \n",
       "1881            True           False        NaN        NaN              X   \n",
       "\n",
       "            Non-work email Please select your highest level of education  \\\n",
       "0                      NaN                                           NaN   \n",
       "1                      NaN                                           NaN   \n",
       "2                      NaN                                           NaN   \n",
       "3     laddaaron0@gmail.com                             Bachelor's Degree   \n",
       "4                      NaN                                           NaN   \n",
       "...                    ...                                           ...   \n",
       "1877                   NaN                                           NaN   \n",
       "1878                   NaN                                           NaN   \n",
       "1879                   NaN                                           NaN   \n",
       "1880                   NaN                                           NaN   \n",
       "1881                   NaN                                           NaN   \n",
       "\n",
       "     Undergraduate graduation year Current zip code Outlet(s) you worked at  \\\n",
       "0                              NaN              nan                     NaN   \n",
       "1                              NaN              nan                     NaN   \n",
       "2                              NaN              nan                     NaN   \n",
       "3                             2018            64111                    MUTV   \n",
       "4                              NaN              nan                     NaN   \n",
       "...                            ...              ...                     ...   \n",
       "1877                           NaN              nan                     NaN   \n",
       "1878                           NaN              nan                     NaN   \n",
       "1879                           NaN              nan                     NaN   \n",
       "1880                           NaN              nan                     NaN   \n",
       "1881                           NaN              nan                     NaN   \n",
       "\n",
       "     Position(s) you held within the outlet(s) chosen above  \\\n",
       "0                                                   NaN       \n",
       "1                                                   NaN       \n",
       "2                                                   NaN       \n",
       "3                                  MUTV Sports Reporter       \n",
       "4                                                   NaN       \n",
       "...                                                 ...       \n",
       "1877                                                NaN       \n",
       "1878                                                NaN       \n",
       "1879                                                NaN       \n",
       "1880                                                NaN       \n",
       "1881                                                NaN       \n",
       "\n",
       "     Years active at your Mizzou Student Media outlet  \\\n",
       "0                                                 NaN   \n",
       "1                                                 NaN   \n",
       "2                                                 NaN   \n",
       "3                                           2015-2016   \n",
       "4                                                 NaN   \n",
       "...                                               ...   \n",
       "1877                                              NaN   \n",
       "1878                                              NaN   \n",
       "1879                                              NaN   \n",
       "1880                                              NaN   \n",
       "1881                                              NaN   \n",
       "\n",
       "     Current role and organization  \\\n",
       "0                              NaN   \n",
       "1                              NaN   \n",
       "2                              NaN   \n",
       "3                      KSHB 41 TV    \n",
       "4                              NaN   \n",
       "...                            ...   \n",
       "1877                           NaN   \n",
       "1878                           NaN   \n",
       "1879                           NaN   \n",
       "1880                           NaN   \n",
       "1881                           NaN   \n",
       "\n",
       "     Indicate the opportunities described above that you're interested in pursuing.  \\\n",
       "0                                                   NaN                               \n",
       "1                                                   NaN                               \n",
       "2                                                   NaN                               \n",
       "3     Becoming a mentor for the mentorship program, ...                               \n",
       "4                                                   NaN                               \n",
       "...                                                 ...                               \n",
       "1877                                                NaN                               \n",
       "1878                                                NaN                               \n",
       "1879                                                NaN                               \n",
       "1880                                                NaN                               \n",
       "1881                                                NaN                               \n",
       "\n",
       "      form_response state  zip_avg_income  number_outlets  \\\n",
       "0             False   NaN             NaN               1   \n",
       "1             False   NaN             NaN               2   \n",
       "2             False   NaN             NaN               1   \n",
       "3              True    MO       61.721542               1   \n",
       "4             False   NaN             NaN               1   \n",
       "...             ...   ...             ...             ...   \n",
       "1877          False   NaN             NaN               1   \n",
       "1878          False   NaN             NaN               1   \n",
       "1879          False   NaN             NaN               1   \n",
       "1880          False   NaN             NaN               1   \n",
       "1881          False   NaN             NaN               2   \n",
       "\n",
       "      newsletter_list_flag  mentorship_list_flag  auditing_list_flag  \\\n",
       "0                    False                 False               False   \n",
       "1                    False                 False               False   \n",
       "2                    False                 False               False   \n",
       "3                     True                  True               False   \n",
       "4                    False                 False               False   \n",
       "...                    ...                   ...                 ...   \n",
       "1877                 False                 False               False   \n",
       "1878                 False                 False               False   \n",
       "1879                 False                 False               False   \n",
       "1880                 False                 False               False   \n",
       "1881                 False                 False               False   \n",
       "\n",
       "      apparel_list_flag  workshop_list_flag  networking_list_flag  \\\n",
       "0                 False               False                 False   \n",
       "1                 False               False                 False   \n",
       "2                 False               False                 False   \n",
       "3                 False               False                 False   \n",
       "4                 False               False                 False   \n",
       "...                 ...                 ...                   ...   \n",
       "1877              False               False                 False   \n",
       "1878              False               False                 False   \n",
       "1879              False               False                 False   \n",
       "1880              False               False                 False   \n",
       "1881              False               False                 False   \n",
       "\n",
       "      homecoming_list_flag  facebook_list_flag  scholarship_list_flag  \\\n",
       "0                    False               False                  False   \n",
       "1                    False               False                  False   \n",
       "2                    False               False                  False   \n",
       "3                    False               False                  False   \n",
       "4                    False               False                  False   \n",
       "...                    ...                 ...                    ...   \n",
       "1877                 False               False                  False   \n",
       "1878                 False               False                  False   \n",
       "1879                 False               False                  False   \n",
       "1880                 False               False                  False   \n",
       "1881                 False               False                  False   \n",
       "\n",
       "      advisory_list_flag  leadership_list_flag  missouri_list_flag  \\\n",
       "0                  False                 False               False   \n",
       "1                  False                 False               False   \n",
       "2                  False                 False               False   \n",
       "3                  False                 False                True   \n",
       "4                  False                 False               False   \n",
       "...                  ...                   ...                 ...   \n",
       "1877               False                 False               False   \n",
       "1878               False                 False               False   \n",
       "1879               False                 False               False   \n",
       "1880               False                 False               False   \n",
       "1881               False                 False               False   \n",
       "\n",
       "      multiple_outlets_list_flag  current_role_list_flag  affluent_list_flag  \\\n",
       "0                          False                   False               False   \n",
       "1                           True                   False               False   \n",
       "2                          False                   False               False   \n",
       "3                          False                   False               False   \n",
       "4                          False                   False               False   \n",
       "...                          ...                     ...                 ...   \n",
       "1877                       False                   False               False   \n",
       "1878                       False                   False               False   \n",
       "1879                       False                   False               False   \n",
       "1880                       False                   False               False   \n",
       "1881                       False                   False               False   \n",
       "\n",
       "      engagement_points  engaged_list_flag      PREF_EMAIL_ADDRESS  \\\n",
       "0                     0              False  aamermadhani@gmail.com   \n",
       "1                     0              False                     NaN   \n",
       "2                     0              False                     NaN   \n",
       "3                     2              False                     NaN   \n",
       "4                     0              False                     NaN   \n",
       "...                 ...                ...                     ...   \n",
       "1877                  0              False                     NaN   \n",
       "1878                  0              False                     NaN   \n",
       "1879                  0              False                     NaN   \n",
       "1880                  0              False                     NaN   \n",
       "1881                  0              False                     NaN   \n",
       "\n",
       "      MEDIA_MADNESS_21_GIVING  MEDIA_MADNESS_22_GIVING  MEDIA_MADNESS_21_FLAG  \\\n",
       "0                        20.0                      NaN                   True   \n",
       "1                         NaN                      NaN                  False   \n",
       "2                         NaN                      NaN                  False   \n",
       "3                         NaN                      NaN                  False   \n",
       "4                         NaN                      NaN                  False   \n",
       "...                       ...                      ...                    ...   \n",
       "1877                      NaN                      NaN                  False   \n",
       "1878                      NaN                      NaN                  False   \n",
       "1879                      NaN                      NaN                  False   \n",
       "1880                      NaN                      NaN                  False   \n",
       "1881                      NaN                      NaN                  False   \n",
       "\n",
       "      MEDIA_MADNESS_22_FLAG  lapsed_2021_flag  cmm_donor_flag  target  \n",
       "0                     False              True            True    True  \n",
       "1                     False             False           False   False  \n",
       "2                     False             False           False   False  \n",
       "3                     False             False           False   False  \n",
       "4                     False             False           False   False  \n",
       "...                     ...               ...             ...     ...  \n",
       "1877                  False             False           False   False  \n",
       "1878                  False             False           False   False  \n",
       "1879                  False             False           False   False  \n",
       "1880                  False             False           False   False  \n",
       "1881                  False             False           False   False  \n",
       "\n",
       "[1882 rows x 46 columns]"
      ]
     },
     "execution_count": 215,
     "metadata": {},
     "output_type": "execute_result"
    }
   ],
   "source": [
    "alumni_donation"
   ]
  },
  {
   "cell_type": "markdown",
   "id": "e6cbdf15",
   "metadata": {},
   "source": [
    "_____"
   ]
  },
  {
   "cell_type": "markdown",
   "id": "ff61f948",
   "metadata": {},
   "source": [
    "_____"
   ]
  },
  {
   "cell_type": "markdown",
   "id": "ee4063ca",
   "metadata": {},
   "source": [
    "_____"
   ]
  },
  {
   "cell_type": "markdown",
   "id": "bc9c1079",
   "metadata": {},
   "source": [
    "_____"
   ]
  },
  {
   "cell_type": "markdown",
   "id": "9d12f002",
   "metadata": {},
   "source": [
    "_____"
   ]
  },
  {
   "cell_type": "markdown",
   "id": "287e80c4",
   "metadata": {},
   "source": [
    "# Attempt at Model 1"
   ]
  },
  {
   "cell_type": "code",
   "execution_count": 1,
   "id": "a48b9782",
   "metadata": {},
   "outputs": [],
   "source": [
    "#Import packages\n",
    "import warnings\n",
    "import importlib\n",
    "warnings.simplefilter(action='ignore')\n",
    "warnings.filterwarnings('ignore')\n",
    "import category_encoders as ce\n",
    "import os, sys,pandas as pd,json, numpy as np\n",
    "from datetime import timedelta,datetime as dt, date\n",
    "import sqlalchemy, matplotlib.pyplot as plt\n",
    "\n",
    "from sklearn.datasets import load_iris\n",
    "from sklearn.tree import DecisionTreeClassifier\n",
    "from sklearn.model_selection import train_test_split, StratifiedShuffleSplit, StratifiedKFold\n",
    "from sklearn.metrics import confusion_matrix, classification_report, auc, roc_auc_score, roc_curve, recall_score\n",
    "from sklearn.tree import export_graphviz\n",
    "from io import StringIO \n",
    "from IPython.display import Image \n",
    "from pydot import graph_from_dot_data\n",
    "from sklearn import tree\n",
    "\n",
    "from imblearn.over_sampling import RandomOverSampler\n",
    "from imblearn.under_sampling import RandomUnderSampler"
   ]
  },
  {
   "cell_type": "markdown",
   "id": "7ee0544d",
   "metadata": {},
   "source": [
    "!pip install graphviz"
   ]
  },
  {
   "cell_type": "markdown",
   "id": "ab03a4ce",
   "metadata": {},
   "source": [
    "!pip install category_encoders\n"
   ]
  },
  {
   "cell_type": "markdown",
   "id": "41e19f90",
   "metadata": {},
   "source": [
    "!pip install pydot\n"
   ]
  },
  {
   "cell_type": "markdown",
   "id": "4917e991",
   "metadata": {},
   "source": [
    "!pip install imblearn"
   ]
  },
  {
   "cell_type": "markdown",
   "id": "67c32362",
   "metadata": {},
   "source": [
    "!pip install sklearn"
   ]
  },
  {
   "cell_type": "code",
   "execution_count": 176,
   "id": "08da386a",
   "metadata": {},
   "outputs": [
    {
     "data": {
      "text/plain": [
       "array(['index', 'EMAIL_1', 'MANEATER_ALUM_FLAG', 'KCOU_ALUM_FLAG',\n",
       "       'MUTV_ALUM_FLAG', 'FIRST_NAME', 'LAST_NAME', 'Timestamp',\n",
       "       'Non-work email', 'Please select your highest level of education',\n",
       "       'Undergraduate graduation year', 'Current zip code',\n",
       "       'Outlet(s) you worked at',\n",
       "       'Position(s) you held within the outlet(s) chosen above',\n",
       "       'Years active at your Mizzou Student Media outlet',\n",
       "       'Current role and organization',\n",
       "       \"Indicate the opportunities described above that you're interested in pursuing.\",\n",
       "       'form_response', 'state', 'zip_avg_income', 'number_outlets',\n",
       "       'newsletter_list_flag', 'mentorship_list_flag',\n",
       "       'auditing_list_flag', 'apparel_list_flag', 'workshop_list_flag',\n",
       "       'networking_list_flag', 'homecoming_list_flag',\n",
       "       'facebook_list_flag', 'scholarship_list_flag',\n",
       "       'advisory_list_flag', 'leadership_list_flag', 'missouri_list_flag',\n",
       "       'multiple_outlets_list_flag', 'current_role_list_flag',\n",
       "       'affluent_list_flag', 'engagement_points', 'engaged_list_flag',\n",
       "       'PREF_EMAIL_ADDRESS', 'MEDIA_MADNESS_21_GIVING',\n",
       "       'MEDIA_MADNESS_22_GIVING', 'MEDIA_MADNESS_21_FLAG',\n",
       "       'MEDIA_MADNESS_22_FLAG', 'lapsed_2021_flag', 'cmm_donor_flag'],\n",
       "      dtype=object)"
      ]
     },
     "execution_count": 176,
     "metadata": {},
     "output_type": "execute_result"
    }
   ],
   "source": [
    "alumni_donation.columns.values"
   ]
  },
  {
   "cell_type": "code",
   "execution_count": 180,
   "id": "6df6950b",
   "metadata": {},
   "outputs": [
    {
     "data": {
      "text/plain": [
       "False    1846\n",
       "True       36\n",
       "Name: target, dtype: int64"
      ]
     },
     "execution_count": 180,
     "metadata": {},
     "output_type": "execute_result"
    }
   ],
   "source": [
    "alumni_donation['target'].value_counts(dropna=False)"
   ]
  },
  {
   "cell_type": "markdown",
   "id": "486c70b6",
   "metadata": {},
   "source": [
    "### Target"
   ]
  },
  {
   "cell_type": "code",
   "execution_count": 181,
   "id": "7ff2c0b6",
   "metadata": {},
   "outputs": [],
   "source": [
    "alumni_donation['target'] = alumni_donation['cmm_donor_flag']"
   ]
  },
  {
   "cell_type": "markdown",
   "id": "86eae472",
   "metadata": {},
   "source": [
    "### Defining modeling table"
   ]
  },
  {
   "cell_type": "code",
   "execution_count": 182,
   "id": "08335c9a",
   "metadata": {},
   "outputs": [],
   "source": [
    "data_model = alumni_donation"
   ]
  },
  {
   "cell_type": "code",
   "execution_count": 183,
   "id": "b71cdc60",
   "metadata": {},
   "outputs": [
    {
     "data": {
      "text/plain": [
       "(1882, 46)"
      ]
     },
     "execution_count": 183,
     "metadata": {},
     "output_type": "execute_result"
    }
   ],
   "source": [
    "data_model.shape"
   ]
  },
  {
   "cell_type": "markdown",
   "id": "33c6f654",
   "metadata": {},
   "source": [
    "### Model build"
   ]
  },
  {
   "cell_type": "code",
   "execution_count": 184,
   "id": "ef374ed2",
   "metadata": {},
   "outputs": [
    {
     "data": {
      "text/plain": [
       "array(['index', 'EMAIL_1', 'MANEATER_ALUM_FLAG', 'KCOU_ALUM_FLAG',\n",
       "       'MUTV_ALUM_FLAG', 'FIRST_NAME', 'LAST_NAME', 'Timestamp',\n",
       "       'Non-work email', 'Please select your highest level of education',\n",
       "       'Undergraduate graduation year', 'Current zip code',\n",
       "       'Outlet(s) you worked at',\n",
       "       'Position(s) you held within the outlet(s) chosen above',\n",
       "       'Years active at your Mizzou Student Media outlet',\n",
       "       'Current role and organization',\n",
       "       \"Indicate the opportunities described above that you're interested in pursuing.\",\n",
       "       'form_response', 'state', 'zip_avg_income', 'number_outlets',\n",
       "       'newsletter_list_flag', 'mentorship_list_flag',\n",
       "       'auditing_list_flag', 'apparel_list_flag', 'workshop_list_flag',\n",
       "       'networking_list_flag', 'homecoming_list_flag',\n",
       "       'facebook_list_flag', 'scholarship_list_flag',\n",
       "       'advisory_list_flag', 'leadership_list_flag', 'missouri_list_flag',\n",
       "       'multiple_outlets_list_flag', 'current_role_list_flag',\n",
       "       'affluent_list_flag', 'engagement_points', 'engaged_list_flag',\n",
       "       'PREF_EMAIL_ADDRESS', 'MEDIA_MADNESS_21_GIVING',\n",
       "       'MEDIA_MADNESS_22_GIVING', 'MEDIA_MADNESS_21_FLAG',\n",
       "       'MEDIA_MADNESS_22_FLAG', 'lapsed_2021_flag', 'cmm_donor_flag',\n",
       "       'target'], dtype=object)"
      ]
     },
     "execution_count": 184,
     "metadata": {},
     "output_type": "execute_result"
    }
   ],
   "source": [
    "data_model.columns.values"
   ]
  },
  {
   "cell_type": "code",
   "execution_count": 185,
   "id": "f2a70fd9",
   "metadata": {},
   "outputs": [],
   "source": [
    "input_list=[#'index', 'EMAIL_1', \n",
    "            'MANEATER_ALUM_FLAG', 'KCOU_ALUM_FLAG',\n",
    "       'MUTV_ALUM_FLAG', #'FIRST_NAME', 'LAST_NAME', 'Timestamp',\n",
    "      # 'Non-work email', \n",
    "    #'Please select your highest level of education',\n",
    "      # 'Undergraduate graduation year', 'Current zip code',\n",
    "      # 'Outlet(s) you worked at',\n",
    "      # 'Position(s) you held within the outlet(s) chosen above',\n",
    "#        'Years active at your Mizzou Student Media outlet',\n",
    "#        'Current role and organization',\n",
    "#        \"Indicate the opportunities described above that you're interested in pursuing.\",\n",
    "       'form_response', 'state', 'zip_avg_income', 'number_outlets',\n",
    "       'newsletter_list_flag', 'mentorship_list_flag',\n",
    "       'auditing_list_flag', 'apparel_list_flag', 'workshop_list_flag',\n",
    "       'networking_list_flag', 'homecoming_list_flag',\n",
    "       'facebook_list_flag', 'scholarship_list_flag',\n",
    "       'advisory_list_flag', 'leadership_list_flag', 'missouri_list_flag',\n",
    "       'multiple_outlets_list_flag', 'current_role_list_flag',\n",
    "       'affluent_list_flag', 'engagement_points', 'engaged_list_flag',\n",
    "      # 'PREF_EMAIL_ADDRESS', \n",
    "#     'MEDIA_MADNESS_21_GIVING',\n",
    "#        'MEDIA_MADNESS_22_GIVING', 'MEDIA_MADNESS_21_FLAG',\n",
    "#        'MEDIA_MADNESS_22_FLAG', 'lapsed_2021_flag', 'cmm_donor_flag',\n",
    "     #  'target'\n",
    "]"
   ]
  },
  {
   "cell_type": "code",
   "execution_count": 186,
   "id": "3bb98097",
   "metadata": {},
   "outputs": [
    {
     "data": {
      "text/plain": [
       "24"
      ]
     },
     "execution_count": 186,
     "metadata": {},
     "output_type": "execute_result"
    }
   ],
   "source": [
    "len(input_list)"
   ]
  },
  {
   "cell_type": "code",
   "execution_count": 187,
   "id": "14580641",
   "metadata": {},
   "outputs": [],
   "source": [
    "X = data_model[input_list]"
   ]
  },
  {
   "cell_type": "code",
   "execution_count": 188,
   "id": "da72670f",
   "metadata": {},
   "outputs": [],
   "source": [
    "y = data_model['target'].astype(int).fillna(0)"
   ]
  },
  {
   "cell_type": "code",
   "execution_count": 189,
   "id": "7c1ae8d1",
   "metadata": {},
   "outputs": [
    {
     "data": {
      "text/plain": [
       "Counter({1: 36, 0: 1846})"
      ]
     },
     "execution_count": 189,
     "metadata": {},
     "output_type": "execute_result"
    }
   ],
   "source": [
    "from collections import Counter\n",
    "Counter(y)"
   ]
  },
  {
   "cell_type": "markdown",
   "id": "f0b8dcad",
   "metadata": {},
   "source": [
    "### Data partition"
   ]
  },
  {
   "cell_type": "code",
   "execution_count": 190,
   "id": "72cfd396",
   "metadata": {},
   "outputs": [],
   "source": [
    "sss=StratifiedShuffleSplit(n_splits=1,train_size=0.8,random_state=187)"
   ]
  },
  {
   "cell_type": "code",
   "execution_count": 191,
   "id": "aca80745",
   "metadata": {},
   "outputs": [],
   "source": [
    "for train_index,test_index in sss.split(X,y):\n",
    "    X_train,y_train = X.iloc[train_index], y.iloc[train_index]\n",
    "    X_test, y_test = X.iloc[test_index], y.iloc[test_index]"
   ]
  },
  {
   "cell_type": "markdown",
   "id": "4a79609d",
   "metadata": {},
   "source": [
    "\n",
    "\n",
    "\n",
    "\n",
    "\n",
    "\n",
    "\n",
    "\n",
    "\n",
    "\n",
    "\n",
    "\n",
    "\n",
    "\n",
    "\n",
    "\n",
    "\n",
    "\n",
    "\n",
    "\n",
    "\n",
    "\n",
    "\n",
    "\n",
    "\n",
    "\n",
    "\n",
    "\n",
    "\n",
    "\n",
    "\n",
    "\n",
    "\n",
    "\n",
    "\n",
    "\n",
    "\n",
    "#### One Hot Encoding"
   ]
  },
  {
   "cell_type": "code",
   "execution_count": 192,
   "id": "d4f9861c",
   "metadata": {},
   "outputs": [],
   "source": [
    "ohe = ce.OneHotEncoder(use_cat_names=True)\n",
    "trainXohe = ohe.fit_transform(X_train).fillna(0)\n",
    "testXohe = ohe.transform(X_test).fillna(0)"
   ]
  },
  {
   "cell_type": "code",
   "execution_count": 193,
   "id": "b8a99d40",
   "metadata": {},
   "outputs": [
    {
     "data": {
      "text/plain": [
       "(1505, 46)"
      ]
     },
     "execution_count": 193,
     "metadata": {},
     "output_type": "execute_result"
    }
   ],
   "source": [
    "trainXohe.shape"
   ]
  },
  {
   "cell_type": "code",
   "execution_count": 194,
   "id": "d5629741",
   "metadata": {},
   "outputs": [
    {
     "data": {
      "text/plain": [
       "29"
      ]
     },
     "execution_count": 194,
     "metadata": {},
     "output_type": "execute_result"
    }
   ],
   "source": [
    "y_train.sum()"
   ]
  },
  {
   "cell_type": "code",
   "execution_count": 195,
   "id": "7826197f",
   "metadata": {
    "scrolled": true
   },
   "outputs": [
    {
     "data": {
      "text/html": [
       "<div>\n",
       "<style scoped>\n",
       "    .dataframe tbody tr th:only-of-type {\n",
       "        vertical-align: middle;\n",
       "    }\n",
       "\n",
       "    .dataframe tbody tr th {\n",
       "        vertical-align: top;\n",
       "    }\n",
       "\n",
       "    .dataframe thead th {\n",
       "        text-align: right;\n",
       "    }\n",
       "</style>\n",
       "<table border=\"1\" class=\"dataframe\">\n",
       "  <thead>\n",
       "    <tr style=\"text-align: right;\">\n",
       "      <th></th>\n",
       "      <th>MANEATER_ALUM_FLAG</th>\n",
       "      <th>KCOU_ALUM_FLAG</th>\n",
       "      <th>MUTV_ALUM_FLAG</th>\n",
       "      <th>form_response</th>\n",
       "      <th>state_nan</th>\n",
       "      <th>state_PA</th>\n",
       "      <th>state_GA</th>\n",
       "      <th>state_MO</th>\n",
       "      <th>state_KS</th>\n",
       "      <th>state_IL</th>\n",
       "      <th>state_MN</th>\n",
       "      <th>state_CT</th>\n",
       "      <th>state_NY</th>\n",
       "      <th>state_MD</th>\n",
       "      <th>state_VA</th>\n",
       "      <th>state_MI</th>\n",
       "      <th>state_TN</th>\n",
       "      <th>state_TX</th>\n",
       "      <th>state_CA</th>\n",
       "      <th>state_WI</th>\n",
       "      <th>state_NC</th>\n",
       "      <th>state_CO</th>\n",
       "      <th>state_WA</th>\n",
       "      <th>state_FL</th>\n",
       "      <th>state_MA</th>\n",
       "      <th>state_DC</th>\n",
       "      <th>state_SC</th>\n",
       "      <th>zip_avg_income</th>\n",
       "      <th>number_outlets</th>\n",
       "      <th>newsletter_list_flag</th>\n",
       "      <th>mentorship_list_flag</th>\n",
       "      <th>auditing_list_flag</th>\n",
       "      <th>apparel_list_flag</th>\n",
       "      <th>workshop_list_flag</th>\n",
       "      <th>networking_list_flag</th>\n",
       "      <th>homecoming_list_flag</th>\n",
       "      <th>facebook_list_flag</th>\n",
       "      <th>scholarship_list_flag</th>\n",
       "      <th>advisory_list_flag</th>\n",
       "      <th>leadership_list_flag</th>\n",
       "      <th>missouri_list_flag</th>\n",
       "      <th>multiple_outlets_list_flag</th>\n",
       "      <th>current_role_list_flag</th>\n",
       "      <th>affluent_list_flag</th>\n",
       "      <th>engagement_points</th>\n",
       "      <th>engaged_list_flag</th>\n",
       "    </tr>\n",
       "  </thead>\n",
       "  <tbody>\n",
       "    <tr>\n",
       "      <th>1838</th>\n",
       "      <td>True</td>\n",
       "      <td>False</td>\n",
       "      <td>False</td>\n",
       "      <td>False</td>\n",
       "      <td>1</td>\n",
       "      <td>0</td>\n",
       "      <td>0</td>\n",
       "      <td>0</td>\n",
       "      <td>0</td>\n",
       "      <td>0</td>\n",
       "      <td>0</td>\n",
       "      <td>0</td>\n",
       "      <td>0</td>\n",
       "      <td>0</td>\n",
       "      <td>0</td>\n",
       "      <td>0</td>\n",
       "      <td>0</td>\n",
       "      <td>0</td>\n",
       "      <td>0</td>\n",
       "      <td>0</td>\n",
       "      <td>0</td>\n",
       "      <td>0</td>\n",
       "      <td>0</td>\n",
       "      <td>0</td>\n",
       "      <td>0</td>\n",
       "      <td>0</td>\n",
       "      <td>0</td>\n",
       "      <td>0.0</td>\n",
       "      <td>1</td>\n",
       "      <td>False</td>\n",
       "      <td>False</td>\n",
       "      <td>False</td>\n",
       "      <td>False</td>\n",
       "      <td>False</td>\n",
       "      <td>False</td>\n",
       "      <td>False</td>\n",
       "      <td>False</td>\n",
       "      <td>False</td>\n",
       "      <td>False</td>\n",
       "      <td>False</td>\n",
       "      <td>False</td>\n",
       "      <td>False</td>\n",
       "      <td>False</td>\n",
       "      <td>False</td>\n",
       "      <td>0</td>\n",
       "      <td>False</td>\n",
       "    </tr>\n",
       "    <tr>\n",
       "      <th>546</th>\n",
       "      <td>True</td>\n",
       "      <td>False</td>\n",
       "      <td>False</td>\n",
       "      <td>False</td>\n",
       "      <td>1</td>\n",
       "      <td>0</td>\n",
       "      <td>0</td>\n",
       "      <td>0</td>\n",
       "      <td>0</td>\n",
       "      <td>0</td>\n",
       "      <td>0</td>\n",
       "      <td>0</td>\n",
       "      <td>0</td>\n",
       "      <td>0</td>\n",
       "      <td>0</td>\n",
       "      <td>0</td>\n",
       "      <td>0</td>\n",
       "      <td>0</td>\n",
       "      <td>0</td>\n",
       "      <td>0</td>\n",
       "      <td>0</td>\n",
       "      <td>0</td>\n",
       "      <td>0</td>\n",
       "      <td>0</td>\n",
       "      <td>0</td>\n",
       "      <td>0</td>\n",
       "      <td>0</td>\n",
       "      <td>0.0</td>\n",
       "      <td>1</td>\n",
       "      <td>False</td>\n",
       "      <td>False</td>\n",
       "      <td>False</td>\n",
       "      <td>False</td>\n",
       "      <td>False</td>\n",
       "      <td>False</td>\n",
       "      <td>False</td>\n",
       "      <td>False</td>\n",
       "      <td>False</td>\n",
       "      <td>False</td>\n",
       "      <td>False</td>\n",
       "      <td>False</td>\n",
       "      <td>False</td>\n",
       "      <td>False</td>\n",
       "      <td>False</td>\n",
       "      <td>0</td>\n",
       "      <td>False</td>\n",
       "    </tr>\n",
       "    <tr>\n",
       "      <th>1807</th>\n",
       "      <td>True</td>\n",
       "      <td>False</td>\n",
       "      <td>False</td>\n",
       "      <td>False</td>\n",
       "      <td>1</td>\n",
       "      <td>0</td>\n",
       "      <td>0</td>\n",
       "      <td>0</td>\n",
       "      <td>0</td>\n",
       "      <td>0</td>\n",
       "      <td>0</td>\n",
       "      <td>0</td>\n",
       "      <td>0</td>\n",
       "      <td>0</td>\n",
       "      <td>0</td>\n",
       "      <td>0</td>\n",
       "      <td>0</td>\n",
       "      <td>0</td>\n",
       "      <td>0</td>\n",
       "      <td>0</td>\n",
       "      <td>0</td>\n",
       "      <td>0</td>\n",
       "      <td>0</td>\n",
       "      <td>0</td>\n",
       "      <td>0</td>\n",
       "      <td>0</td>\n",
       "      <td>0</td>\n",
       "      <td>0.0</td>\n",
       "      <td>1</td>\n",
       "      <td>False</td>\n",
       "      <td>False</td>\n",
       "      <td>False</td>\n",
       "      <td>False</td>\n",
       "      <td>False</td>\n",
       "      <td>False</td>\n",
       "      <td>False</td>\n",
       "      <td>False</td>\n",
       "      <td>False</td>\n",
       "      <td>False</td>\n",
       "      <td>False</td>\n",
       "      <td>False</td>\n",
       "      <td>False</td>\n",
       "      <td>False</td>\n",
       "      <td>False</td>\n",
       "      <td>0</td>\n",
       "      <td>False</td>\n",
       "    </tr>\n",
       "    <tr>\n",
       "      <th>1725</th>\n",
       "      <td>True</td>\n",
       "      <td>False</td>\n",
       "      <td>False</td>\n",
       "      <td>False</td>\n",
       "      <td>1</td>\n",
       "      <td>0</td>\n",
       "      <td>0</td>\n",
       "      <td>0</td>\n",
       "      <td>0</td>\n",
       "      <td>0</td>\n",
       "      <td>0</td>\n",
       "      <td>0</td>\n",
       "      <td>0</td>\n",
       "      <td>0</td>\n",
       "      <td>0</td>\n",
       "      <td>0</td>\n",
       "      <td>0</td>\n",
       "      <td>0</td>\n",
       "      <td>0</td>\n",
       "      <td>0</td>\n",
       "      <td>0</td>\n",
       "      <td>0</td>\n",
       "      <td>0</td>\n",
       "      <td>0</td>\n",
       "      <td>0</td>\n",
       "      <td>0</td>\n",
       "      <td>0</td>\n",
       "      <td>0.0</td>\n",
       "      <td>1</td>\n",
       "      <td>False</td>\n",
       "      <td>False</td>\n",
       "      <td>False</td>\n",
       "      <td>False</td>\n",
       "      <td>False</td>\n",
       "      <td>False</td>\n",
       "      <td>False</td>\n",
       "      <td>False</td>\n",
       "      <td>False</td>\n",
       "      <td>False</td>\n",
       "      <td>False</td>\n",
       "      <td>False</td>\n",
       "      <td>False</td>\n",
       "      <td>False</td>\n",
       "      <td>False</td>\n",
       "      <td>0</td>\n",
       "      <td>False</td>\n",
       "    </tr>\n",
       "    <tr>\n",
       "      <th>1016</th>\n",
       "      <td>True</td>\n",
       "      <td>False</td>\n",
       "      <td>False</td>\n",
       "      <td>False</td>\n",
       "      <td>1</td>\n",
       "      <td>0</td>\n",
       "      <td>0</td>\n",
       "      <td>0</td>\n",
       "      <td>0</td>\n",
       "      <td>0</td>\n",
       "      <td>0</td>\n",
       "      <td>0</td>\n",
       "      <td>0</td>\n",
       "      <td>0</td>\n",
       "      <td>0</td>\n",
       "      <td>0</td>\n",
       "      <td>0</td>\n",
       "      <td>0</td>\n",
       "      <td>0</td>\n",
       "      <td>0</td>\n",
       "      <td>0</td>\n",
       "      <td>0</td>\n",
       "      <td>0</td>\n",
       "      <td>0</td>\n",
       "      <td>0</td>\n",
       "      <td>0</td>\n",
       "      <td>0</td>\n",
       "      <td>0.0</td>\n",
       "      <td>1</td>\n",
       "      <td>False</td>\n",
       "      <td>False</td>\n",
       "      <td>False</td>\n",
       "      <td>False</td>\n",
       "      <td>False</td>\n",
       "      <td>False</td>\n",
       "      <td>False</td>\n",
       "      <td>False</td>\n",
       "      <td>False</td>\n",
       "      <td>False</td>\n",
       "      <td>False</td>\n",
       "      <td>False</td>\n",
       "      <td>False</td>\n",
       "      <td>False</td>\n",
       "      <td>False</td>\n",
       "      <td>0</td>\n",
       "      <td>False</td>\n",
       "    </tr>\n",
       "  </tbody>\n",
       "</table>\n",
       "</div>"
      ],
      "text/plain": [
       "      MANEATER_ALUM_FLAG  KCOU_ALUM_FLAG  MUTV_ALUM_FLAG  form_response  \\\n",
       "1838                True           False           False          False   \n",
       "546                 True           False           False          False   \n",
       "1807                True           False           False          False   \n",
       "1725                True           False           False          False   \n",
       "1016                True           False           False          False   \n",
       "\n",
       "      state_nan  state_PA  state_GA  state_MO  state_KS  state_IL  state_MN  \\\n",
       "1838          1         0         0         0         0         0         0   \n",
       "546           1         0         0         0         0         0         0   \n",
       "1807          1         0         0         0         0         0         0   \n",
       "1725          1         0         0         0         0         0         0   \n",
       "1016          1         0         0         0         0         0         0   \n",
       "\n",
       "      state_CT  state_NY  state_MD  state_VA  state_MI  state_TN  state_TX  \\\n",
       "1838         0         0         0         0         0         0         0   \n",
       "546          0         0         0         0         0         0         0   \n",
       "1807         0         0         0         0         0         0         0   \n",
       "1725         0         0         0         0         0         0         0   \n",
       "1016         0         0         0         0         0         0         0   \n",
       "\n",
       "      state_CA  state_WI  state_NC  state_CO  state_WA  state_FL  state_MA  \\\n",
       "1838         0         0         0         0         0         0         0   \n",
       "546          0         0         0         0         0         0         0   \n",
       "1807         0         0         0         0         0         0         0   \n",
       "1725         0         0         0         0         0         0         0   \n",
       "1016         0         0         0         0         0         0         0   \n",
       "\n",
       "      state_DC  state_SC  zip_avg_income  number_outlets  \\\n",
       "1838         0         0             0.0               1   \n",
       "546          0         0             0.0               1   \n",
       "1807         0         0             0.0               1   \n",
       "1725         0         0             0.0               1   \n",
       "1016         0         0             0.0               1   \n",
       "\n",
       "      newsletter_list_flag  mentorship_list_flag  auditing_list_flag  \\\n",
       "1838                 False                 False               False   \n",
       "546                  False                 False               False   \n",
       "1807                 False                 False               False   \n",
       "1725                 False                 False               False   \n",
       "1016                 False                 False               False   \n",
       "\n",
       "      apparel_list_flag  workshop_list_flag  networking_list_flag  \\\n",
       "1838              False               False                 False   \n",
       "546               False               False                 False   \n",
       "1807              False               False                 False   \n",
       "1725              False               False                 False   \n",
       "1016              False               False                 False   \n",
       "\n",
       "      homecoming_list_flag  facebook_list_flag  scholarship_list_flag  \\\n",
       "1838                 False               False                  False   \n",
       "546                  False               False                  False   \n",
       "1807                 False               False                  False   \n",
       "1725                 False               False                  False   \n",
       "1016                 False               False                  False   \n",
       "\n",
       "      advisory_list_flag  leadership_list_flag  missouri_list_flag  \\\n",
       "1838               False                 False               False   \n",
       "546                False                 False               False   \n",
       "1807               False                 False               False   \n",
       "1725               False                 False               False   \n",
       "1016               False                 False               False   \n",
       "\n",
       "      multiple_outlets_list_flag  current_role_list_flag  affluent_list_flag  \\\n",
       "1838                       False                   False               False   \n",
       "546                        False                   False               False   \n",
       "1807                       False                   False               False   \n",
       "1725                       False                   False               False   \n",
       "1016                       False                   False               False   \n",
       "\n",
       "      engagement_points  engaged_list_flag  \n",
       "1838                  0              False  \n",
       "546                   0              False  \n",
       "1807                  0              False  \n",
       "1725                  0              False  \n",
       "1016                  0              False  "
      ]
     },
     "execution_count": 195,
     "metadata": {},
     "output_type": "execute_result"
    }
   ],
   "source": [
    "trainXohe.head()"
   ]
  },
  {
   "cell_type": "markdown",
   "id": "5931b743",
   "metadata": {},
   "source": [
    "#### Train Model 1 (explainability)"
   ]
  },
  {
   "cell_type": "code",
   "execution_count": 196,
   "id": "a1e0dbf6",
   "metadata": {
    "scrolled": true
   },
   "outputs": [
    {
     "name": "stdout",
     "output_type": "stream",
     "text": [
      "Counter({0: 1846, 1: 36})\n",
      "Counter({0: 116, 1: 29})\n",
      "  Train Recall Score: 0.1724137931034483\n",
      "  Train AUC: 0.5732758620689656\n",
      "  Test Recall Score: 0.14285714285714285\n",
      "  Test AUC: 0.5660231660231659\n"
     ]
    },
    {
     "data": {
      "text/plain": [
       "<AxesSubplot:>"
      ]
     },
     "execution_count": 196,
     "metadata": {},
     "output_type": "execute_result"
    },
    {
     "data": {
      "image/png": "[encoded data removed]",
      "text/plain": [
       "<Figure size 432x288 with 1 Axes>"
      ]
     },
     "metadata": {
      "needs_background": "light"
     },
     "output_type": "display_data"
    }
   ],
   "source": [
    "from imblearn.under_sampling import RandomUnderSampler  \n",
    "from collections import Counter\n",
    "\n",
    "undersample = RandomUnderSampler(sampling_strategy=.25)\n",
    "# summarize class distribution\n",
    "print(Counter(y))\n",
    "# fit and apply the transform\n",
    "X_over, y_over = undersample.fit_resample(trainXohe, y_train)\n",
    "# summarize class distribution\n",
    "print(Counter(y_over))\n",
    "\n",
    "\n",
    "def eval_metrics(actual,pred):\n",
    "    recall=recall_score(actual,pred)\n",
    "    auc=roc_auc_score(actual,pred)\n",
    "    return recall, auc  \n",
    "\n",
    "#Train/Fit\n",
    "dtc = DecisionTreeClassifier(\n",
    "  max_depth = 4,\n",
    "    min_samples_leaf=5,\n",
    ")\n",
    "#X_over=trainXohe\n",
    "#y_over=y_train\n",
    "dtc.fit(X_over, y_over)\n",
    "\n",
    "# Predict\n",
    "y_train_pred = dtc.predict(X_over)\n",
    "\n",
    "(train_recall, train_auc) = eval_metrics(y_over, y_train_pred)\n",
    "\n",
    "print(f\"  Train Recall Score: {train_recall}\")\n",
    "print(f\"  Train AUC: {train_auc}\")\n",
    "\n",
    "# Predict\n",
    "y_test_pred = dtc.predict(testXohe)\n",
    "\n",
    "(test_recall, test_auc) = eval_metrics(y_test, y_test_pred)\n",
    "\n",
    "print(f\"  Test Recall Score: {test_recall}\")\n",
    "print(f\"  Test AUC: {test_auc}\") \n",
    "\n",
    "pd.Series(dtc.predict_proba(X_over)[:,1]).hist(bins=50)"
   ]
  },
  {
   "cell_type": "code",
   "execution_count": 197,
   "id": "3c5a1a73",
   "metadata": {},
   "outputs": [],
   "source": [
    "#dtc.fit(trainXohe[['student_mean_amount']], y_train)"
   ]
  },
  {
   "cell_type": "markdown",
   "id": "d8050442",
   "metadata": {},
   "source": [
    "dot_data = StringIO()\n",
    "export_graphviz(dtc, \n",
    "                out_file=dot_data, \n",
    "                rounded=True,\n",
    "                filled=True,\n",
    "                #feature_names=trainXohe[['student_mean_amount']].columns.values\n",
    "                feature_names = X_over.columns.values\n",
    "               )\n",
    "(graph, ) = graph_from_dot_data(dot_data.getvalue())\n",
    "Image(graph.create_png())"
   ]
  },
  {
   "cell_type": "code",
   "execution_count": 256,
   "id": "2c62effa",
   "metadata": {},
   "outputs": [],
   "source": [
    "y_pred=dtc.predict(trainXohe)"
   ]
  },
  {
   "cell_type": "code",
   "execution_count": 257,
   "id": "499afc50",
   "metadata": {},
   "outputs": [
    {
     "data": {
      "text/plain": [
       "array([[1448,   28],\n",
       "       [  24,    5]])"
      ]
     },
     "execution_count": 257,
     "metadata": {},
     "output_type": "execute_result"
    }
   ],
   "source": [
    "churned = np.array(y_train)#.argmax(axis=1)\n",
    "predictions = np.array(y_pred)#.argmax(axis=1)\n",
    "confusion_matrix(churned, predictions)"
   ]
  },
  {
   "cell_type": "code",
   "execution_count": 258,
   "id": "76415acd",
   "metadata": {},
   "outputs": [
    {
     "name": "stdout",
     "output_type": "stream",
     "text": [
      "              precision    recall  f1-score   support\n",
      "\n",
      "           0       0.98      0.98      0.98      1476\n",
      "           1       0.15      0.17      0.16        29\n",
      "\n",
      "    accuracy                           0.97      1505\n",
      "   macro avg       0.57      0.58      0.57      1505\n",
      "weighted avg       0.97      0.97      0.97      1505\n",
      "\n"
     ]
    }
   ],
   "source": [
    "print(classification_report(churned,predictions))"
   ]
  },
  {
   "cell_type": "markdown",
   "id": "377826d1",
   "metadata": {},
   "source": [
    "#### Predict Test Set"
   ]
  },
  {
   "cell_type": "code",
   "execution_count": 259,
   "id": "5627df65",
   "metadata": {},
   "outputs": [],
   "source": [
    "y_pred=dtc.predict(testXohe)"
   ]
  },
  {
   "cell_type": "code",
   "execution_count": 260,
   "id": "a6146dd9",
   "metadata": {},
   "outputs": [
    {
     "data": {
      "text/plain": [
       "array([[362,   8],\n",
       "       [  4,   3]])"
      ]
     },
     "execution_count": 260,
     "metadata": {},
     "output_type": "execute_result"
    }
   ],
   "source": [
    "churned = np.array(y_test)#.argmax(axis=1)\n",
    "predictions = np.array(y_pred)#.argmax(axis=1)\n",
    "confusion_matrix(churned, predictions)"
   ]
  },
  {
   "cell_type": "code",
   "execution_count": 261,
   "id": "6f7144fb",
   "metadata": {
    "scrolled": true
   },
   "outputs": [
    {
     "name": "stdout",
     "output_type": "stream",
     "text": [
      "              precision    recall  f1-score   support\n",
      "\n",
      "           0       0.99      0.98      0.98       370\n",
      "           1       0.27      0.43      0.33         7\n",
      "\n",
      "    accuracy                           0.97       377\n",
      "   macro avg       0.63      0.70      0.66       377\n",
      "weighted avg       0.98      0.97      0.97       377\n",
      "\n"
     ]
    }
   ],
   "source": [
    "print(classification_report(churned,predictions))"
   ]
  },
  {
   "cell_type": "markdown",
   "id": "e283397b",
   "metadata": {},
   "source": [
    "! pip freeze"
   ]
  },
  {
   "cell_type": "markdown",
   "id": "94e42fec",
   "metadata": {},
   "source": [
    "!pip install gprof2dot"
   ]
  },
  {
   "cell_type": "markdown",
   "id": "ab2692a3",
   "metadata": {},
   "source": [
    "!pip install graphviz"
   ]
  },
  {
   "cell_type": "code",
   "execution_count": 199,
   "id": "e88bb20f",
   "metadata": {},
   "outputs": [
    {
     "name": "stdout",
     "output_type": "stream",
     "text": [
      "Password:\n",
      "sudo: a password is required\n"
     ]
    }
   ],
   "source": [
    "! sudo apt-get install graphviz"
   ]
  },
  {
   "cell_type": "markdown",
   "id": "08128c8e",
   "metadata": {
    "scrolled": true
   },
   "source": [
    "!pip install dot"
   ]
  },
  {
   "cell_type": "raw",
   "id": "2809184e",
   "metadata": {},
   "source": []
  },
  {
   "cell_type": "markdown",
   "id": "f6317360",
   "metadata": {
    "scrolled": true
   },
   "source": [
    "brew install gprof2dot"
   ]
  },
  {
   "cell_type": "code",
   "execution_count": null,
   "id": "a1cb4ec3",
   "metadata": {},
   "outputs": [],
   "source": []
  }
 ],
 "metadata": {
  "kernelspec": {
   "display_name": "Python 3",
   "language": "python",
   "name": "python3"
  },
  "language_info": {
   "codemirror_mode": {
    "name": "ipython",
    "version": 3
   },
   "file_extension": ".py",
   "mimetype": "text/x-python",
   "name": "python",
   "nbconvert_exporter": "python",
   "pygments_lexer": "ipython3",
   "version": "3.8.8"
  }
 },
 "nbformat": 4,
 "nbformat_minor": 5
}
