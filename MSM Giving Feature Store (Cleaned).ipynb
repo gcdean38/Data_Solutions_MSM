{
 "cells": [
  {
   "cell_type": "markdown",
   "id": "c3b14c61",
   "metadata": {},
   "source": [
    "**Last updated: Monday, August 29, 2022**"
   ]
  },
  {
   "cell_type": "markdown",
   "id": "5c3f2644",
   "metadata": {},
   "source": [
    "## Set configurations"
   ]
  },
  {
   "cell_type": "markdown",
   "id": "77bc6411",
   "metadata": {},
   "source": [
    "Using pandas is the only package necessary to bulid the feature store. The max columns is set to 500 because by the end there will be over 35 features"
   ]
  },
  {
   "cell_type": "code",
   "execution_count": 1,
   "id": "69b24913",
   "metadata": {},
   "outputs": [],
   "source": [
    "import pandas as pd\n",
    "pd.set_option('display.max_columns', 500)"
   ]
  },
  {
   "cell_type": "markdown",
   "id": "6a0d7f0c",
   "metadata": {},
   "source": [
    "## Read alumni data"
   ]
  },
  {
   "cell_type": "markdown",
   "id": "31487383",
   "metadata": {},
   "source": [
    "This is a file containing all of the alumni from the various outlets. It was compiled from three different sheets with the alumni from each outlet. This file can be provided, but at this present time, I don't know what changes will be made that may render that moot."
   ]
  },
  {
   "cell_type": "code",
   "execution_count": 2,
   "id": "1aa7be4f",
   "metadata": {},
   "outputs": [
    {
     "data": {
      "text/html": [
       "<div>\n",
       "<style scoped>\n",
       "    .dataframe tbody tr th:only-of-type {\n",
       "        vertical-align: middle;\n",
       "    }\n",
       "\n",
       "    .dataframe tbody tr th {\n",
       "        vertical-align: top;\n",
       "    }\n",
       "\n",
       "    .dataframe thead th {\n",
       "        text-align: right;\n",
       "    }\n",
       "</style>\n",
       "<table border=\"1\" class=\"dataframe\">\n",
       "  <thead>\n",
       "    <tr style=\"text-align: right;\">\n",
       "      <th></th>\n",
       "      <th>FULL_NAME</th>\n",
       "      <th>EMAIL_1</th>\n",
       "      <th>MANEATER_ALUM_FLAG</th>\n",
       "      <th>KCOU_ALUM_FLAG</th>\n",
       "      <th>MUTV_ALUM_FLAG</th>\n",
       "      <th>FIRST_NAME</th>\n",
       "      <th>LAST_NAME</th>\n",
       "    </tr>\n",
       "  </thead>\n",
       "  <tbody>\n",
       "    <tr>\n",
       "      <th>0</th>\n",
       "      <td>GRACE SANDS</td>\n",
       "      <td>gcsn8c@mail.missouri.edu</td>\n",
       "      <td>True</td>\n",
       "      <td>True</td>\n",
       "      <td>False</td>\n",
       "      <td>GRACE</td>\n",
       "      <td>SANDS</td>\n",
       "    </tr>\n",
       "    <tr>\n",
       "      <th>1</th>\n",
       "      <td>TARA MORTS</td>\n",
       "      <td>tlmkkm@mail.missouri.edu</td>\n",
       "      <td>True</td>\n",
       "      <td>False</td>\n",
       "      <td>False</td>\n",
       "      <td>TARA</td>\n",
       "      <td>MORTS</td>\n",
       "    </tr>\n",
       "    <tr>\n",
       "      <th>2</th>\n",
       "      <td>VICTORIA CHEYNE</td>\n",
       "      <td>torircheyne@hotmail.com</td>\n",
       "      <td>True</td>\n",
       "      <td>False</td>\n",
       "      <td>False</td>\n",
       "      <td>VICTORIA</td>\n",
       "      <td>CHEYNE</td>\n",
       "    </tr>\n",
       "    <tr>\n",
       "      <th>3</th>\n",
       "      <td>CHARLES SPERRY</td>\n",
       "      <td>yosquirt@mac.com</td>\n",
       "      <td>True</td>\n",
       "      <td>False</td>\n",
       "      <td>False</td>\n",
       "      <td>CHARLES</td>\n",
       "      <td>SPERRY</td>\n",
       "    </tr>\n",
       "    <tr>\n",
       "      <th>4</th>\n",
       "      <td>WILLIAM TAMMEUS</td>\n",
       "      <td>wtammeus@gmail.com</td>\n",
       "      <td>True</td>\n",
       "      <td>False</td>\n",
       "      <td>False</td>\n",
       "      <td>WILLIAM</td>\n",
       "      <td>TAMMEUS</td>\n",
       "    </tr>\n",
       "  </tbody>\n",
       "</table>\n",
       "</div>"
      ],
      "text/plain": [
       "         FULL_NAME                   EMAIL_1  MANEATER_ALUM_FLAG  \\\n",
       "0      GRACE SANDS  gcsn8c@mail.missouri.edu                True   \n",
       "1       TARA MORTS  tlmkkm@mail.missouri.edu                True   \n",
       "2  VICTORIA CHEYNE   torircheyne@hotmail.com                True   \n",
       "3   CHARLES SPERRY          yosquirt@mac.com                True   \n",
       "4  WILLIAM TAMMEUS        wtammeus@gmail.com                True   \n",
       "\n",
       "   KCOU_ALUM_FLAG  MUTV_ALUM_FLAG FIRST_NAME LAST_NAME  \n",
       "0            True           False      GRACE     SANDS  \n",
       "1           False           False       TARA     MORTS  \n",
       "2           False           False   VICTORIA    CHEYNE  \n",
       "3           False           False    CHARLES    SPERRY  \n",
       "4           False           False    WILLIAM   TAMMEUS  "
      ]
     },
     "execution_count": 2,
     "metadata": {},
     "output_type": "execute_result"
    }
   ],
   "source": [
    "msm_alumni = pd.read_excel(\"/Users/gcdyw9/Downloads/full_alum_data.xlsx\",sheet_name=\"Sheet1\")\n",
    "msm_alumni.head()"
   ]
  },
  {
   "cell_type": "markdown",
   "id": "c3dc7c1b",
   "metadata": {},
   "source": [
    "## Read form responses"
   ]
  },
  {
   "cell_type": "markdown",
   "id": "ef8cdb37",
   "metadata": {},
   "source": [
    "This is a file that is pulled from a Google Form response sheet that was sent out to an unknown number of MSM alumni. I am intending to pull this every month or so to update. In order to join on the alumnis' full name, I coerced the name column to all caps"
   ]
  },
  {
   "cell_type": "code",
   "execution_count": 4,
   "id": "b6bdaea5",
   "metadata": {
    "scrolled": false
   },
   "outputs": [
    {
     "data": {
      "text/html": [
       "<div>\n",
       "<style scoped>\n",
       "    .dataframe tbody tr th:only-of-type {\n",
       "        vertical-align: middle;\n",
       "    }\n",
       "\n",
       "    .dataframe tbody tr th {\n",
       "        vertical-align: top;\n",
       "    }\n",
       "\n",
       "    .dataframe thead th {\n",
       "        text-align: right;\n",
       "    }\n",
       "</style>\n",
       "<table border=\"1\" class=\"dataframe\">\n",
       "  <thead>\n",
       "    <tr style=\"text-align: right;\">\n",
       "      <th></th>\n",
       "      <th>Timestamp</th>\n",
       "      <th>Full name</th>\n",
       "      <th>Non-work email</th>\n",
       "      <th>Please select your highest level of education</th>\n",
       "      <th>Undergraduate graduation year</th>\n",
       "      <th>Current zip code</th>\n",
       "      <th>Outlet(s) you worked at</th>\n",
       "      <th>Position(s) you held within the outlet(s) chosen above</th>\n",
       "      <th>Years active at your Mizzou Student Media outlet</th>\n",
       "      <th>Current role and organization</th>\n",
       "      <th>Indicate the opportunities described above that you're interested in pursuing.</th>\n",
       "    </tr>\n",
       "  </thead>\n",
       "  <tbody>\n",
       "    <tr>\n",
       "      <th>0</th>\n",
       "      <td>7/12/22 6:31</td>\n",
       "      <td>SETH WICKERSHAM</td>\n",
       "      <td>sethwickersham@hotmail.com</td>\n",
       "      <td>Bachelor's Degree</td>\n",
       "      <td>2000</td>\n",
       "      <td>6107</td>\n",
       "      <td>The Maneater</td>\n",
       "      <td>Staff Writer</td>\n",
       "      <td>1997</td>\n",
       "      <td>Senior Writer, ESPN; book author</td>\n",
       "      <td>Receiving the bi-weekly alumni newsletter</td>\n",
       "    </tr>\n",
       "    <tr>\n",
       "      <th>1</th>\n",
       "      <td>7/13/22 13:57</td>\n",
       "      <td>CARIN HUFFMAN GRINCH</td>\n",
       "      <td>carinhuffmangrinch@gmail.com</td>\n",
       "      <td>Bachelor's Degree</td>\n",
       "      <td>2000</td>\n",
       "      <td>65203</td>\n",
       "      <td>The Maneater</td>\n",
       "      <td>Ad Sales Rep, Classifieds Manager, Business Ma...</td>\n",
       "      <td>1997 - 2000</td>\n",
       "      <td>Director of Donor Relations, University of Mis...</td>\n",
       "      <td>Receiving the bi-weekly alumni newsletter, Aud...</td>\n",
       "    </tr>\n",
       "    <tr>\n",
       "      <th>2</th>\n",
       "      <td>7/13/22 13:59</td>\n",
       "      <td>ERIC ADAMS</td>\n",
       "      <td>eadams@lebanon.k12.mo.us</td>\n",
       "      <td>Master's Degree</td>\n",
       "      <td>1996</td>\n",
       "      <td>65536</td>\n",
       "      <td>The Maneater</td>\n",
       "      <td>photographer, reporter &amp; photo editor</td>\n",
       "      <td>1991-95</td>\n",
       "      <td>video-photo, digital media teacher at Lebanon ...</td>\n",
       "      <td>Becoming a mentor for the mentorship program, ...</td>\n",
       "    </tr>\n",
       "    <tr>\n",
       "      <th>3</th>\n",
       "      <td>7/13/22 14:00</td>\n",
       "      <td>MARY PRICHARD</td>\n",
       "      <td>Maryprich@gmail.com</td>\n",
       "      <td>Master's Degree</td>\n",
       "      <td>2004</td>\n",
       "      <td>64155</td>\n",
       "      <td>The Maneater</td>\n",
       "      <td>Website management, reporter</td>\n",
       "      <td>2</td>\n",
       "      <td>Journalism Educator &amp; HS media adviser in Miss...</td>\n",
       "      <td>Receiving the bi-weekly alumni newsletter, Aud...</td>\n",
       "    </tr>\n",
       "    <tr>\n",
       "      <th>4</th>\n",
       "      <td>7/13/22 14:01</td>\n",
       "      <td>KATHERINE KNOTT</td>\n",
       "      <td>Kknott123@gmail.com</td>\n",
       "      <td>Bachelor's Degree</td>\n",
       "      <td>2016</td>\n",
       "      <td>22902</td>\n",
       "      <td>The Maneater</td>\n",
       "      <td>Managing editor</td>\n",
       "      <td>2012-16</td>\n",
       "      <td>Education Reporter, The Daily Progress</td>\n",
       "      <td>Becoming a mentor for the mentorship program, ...</td>\n",
       "    </tr>\n",
       "  </tbody>\n",
       "</table>\n",
       "</div>"
      ],
      "text/plain": [
       "       Timestamp             Full name                Non-work email  \\\n",
       "0   7/12/22 6:31       SETH WICKERSHAM    sethwickersham@hotmail.com   \n",
       "1  7/13/22 13:57  CARIN HUFFMAN GRINCH  carinhuffmangrinch@gmail.com   \n",
       "2  7/13/22 13:59            ERIC ADAMS      eadams@lebanon.k12.mo.us   \n",
       "3  7/13/22 14:00         MARY PRICHARD           Maryprich@gmail.com   \n",
       "4  7/13/22 14:01       KATHERINE KNOTT           Kknott123@gmail.com   \n",
       "\n",
       "  Please select your highest level of education Undergraduate graduation year  \\\n",
       "0                             Bachelor's Degree                          2000   \n",
       "1                             Bachelor's Degree                          2000   \n",
       "2                               Master's Degree                          1996   \n",
       "3                               Master's Degree                          2004   \n",
       "4                             Bachelor's Degree                          2016   \n",
       "\n",
       "  Current zip code Outlet(s) you worked at  \\\n",
       "0             6107            The Maneater   \n",
       "1            65203            The Maneater   \n",
       "2            65536            The Maneater   \n",
       "3            64155            The Maneater   \n",
       "4            22902            The Maneater   \n",
       "\n",
       "  Position(s) you held within the outlet(s) chosen above  \\\n",
       "0                                       Staff Writer       \n",
       "1  Ad Sales Rep, Classifieds Manager, Business Ma...       \n",
       "2              photographer, reporter & photo editor       \n",
       "3                      Website management, reporter        \n",
       "4                                    Managing editor       \n",
       "\n",
       "  Years active at your Mizzou Student Media outlet  \\\n",
       "0                                             1997   \n",
       "1                                      1997 - 2000   \n",
       "2                                          1991-95   \n",
       "3                                                2   \n",
       "4                                          2012-16   \n",
       "\n",
       "                       Current role and organization  \\\n",
       "0                  Senior Writer, ESPN; book author    \n",
       "1  Director of Donor Relations, University of Mis...   \n",
       "2  video-photo, digital media teacher at Lebanon ...   \n",
       "3  Journalism Educator & HS media adviser in Miss...   \n",
       "4            Education Reporter, The Daily Progress    \n",
       "\n",
       "  Indicate the opportunities described above that you're interested in pursuing.  \n",
       "0          Receiving the bi-weekly alumni newsletter                              \n",
       "1  Receiving the bi-weekly alumni newsletter, Aud...                              \n",
       "2  Becoming a mentor for the mentorship program, ...                              \n",
       "3  Receiving the bi-weekly alumni newsletter, Aud...                              \n",
       "4  Becoming a mentor for the mentorship program, ...                              "
      ]
     },
     "execution_count": 4,
     "metadata": {},
     "output_type": "execute_result"
    }
   ],
   "source": [
    "alumni_form = pd.read_csv(\"/Users/gcdyw9/Downloads/Mizzou Student Media Alumni Involvement Form.csv\")\n",
    "alumni_form['Full name'] = alumni_form['Full name'].str.upper()\n",
    "alumni_form.head()"
   ]
  },
  {
   "cell_type": "markdown",
   "id": "fd41528c",
   "metadata": {},
   "source": [
    "## Join Alumni and Response data"
   ]
  },
  {
   "cell_type": "markdown",
   "id": "ec22f57b",
   "metadata": {},
   "source": [
    "Below I joined the alumni and response data, with the alumni data being the primary in the join given it was significantly larger than the response data. Given it had the most consistency between parallel columns in each dataset, I merged on the full name, which then became the index"
   ]
  },
  {
   "cell_type": "code",
   "execution_count": 6,
   "id": "aeedbe02",
   "metadata": {},
   "outputs": [],
   "source": [
    "alumni_join = msm_alumni.set_index('FULL_NAME').join(alumni_form.set_index('Full name')).reset_index()"
   ]
  },
  {
   "cell_type": "code",
   "execution_count": 7,
   "id": "e41f1737",
   "metadata": {
    "scrolled": false
   },
   "outputs": [
    {
     "data": {
      "text/html": [
       "<div>\n",
       "<style scoped>\n",
       "    .dataframe tbody tr th:only-of-type {\n",
       "        vertical-align: middle;\n",
       "    }\n",
       "\n",
       "    .dataframe tbody tr th {\n",
       "        vertical-align: top;\n",
       "    }\n",
       "\n",
       "    .dataframe thead th {\n",
       "        text-align: right;\n",
       "    }\n",
       "</style>\n",
       "<table border=\"1\" class=\"dataframe\">\n",
       "  <thead>\n",
       "    <tr style=\"text-align: right;\">\n",
       "      <th></th>\n",
       "      <th>index</th>\n",
       "      <th>EMAIL_1</th>\n",
       "      <th>MANEATER_ALUM_FLAG</th>\n",
       "      <th>KCOU_ALUM_FLAG</th>\n",
       "      <th>MUTV_ALUM_FLAG</th>\n",
       "      <th>FIRST_NAME</th>\n",
       "      <th>LAST_NAME</th>\n",
       "      <th>Timestamp</th>\n",
       "      <th>Non-work email</th>\n",
       "      <th>Please select your highest level of education</th>\n",
       "      <th>Undergraduate graduation year</th>\n",
       "      <th>Current zip code</th>\n",
       "      <th>Outlet(s) you worked at</th>\n",
       "      <th>Position(s) you held within the outlet(s) chosen above</th>\n",
       "      <th>Years active at your Mizzou Student Media outlet</th>\n",
       "      <th>Current role and organization</th>\n",
       "      <th>Indicate the opportunities described above that you're interested in pursuing.</th>\n",
       "    </tr>\n",
       "  </thead>\n",
       "  <tbody>\n",
       "    <tr>\n",
       "      <th>0</th>\n",
       "      <td>AAMER MADHANI</td>\n",
       "      <td>aamermadhani@gmail.com</td>\n",
       "      <td>True</td>\n",
       "      <td>False</td>\n",
       "      <td>False</td>\n",
       "      <td>AAMER</td>\n",
       "      <td>MADHANI</td>\n",
       "      <td>NaN</td>\n",
       "      <td>NaN</td>\n",
       "      <td>NaN</td>\n",
       "      <td>NaN</td>\n",
       "      <td>NaN</td>\n",
       "      <td>NaN</td>\n",
       "      <td>NaN</td>\n",
       "      <td>NaN</td>\n",
       "      <td>NaN</td>\n",
       "      <td>NaN</td>\n",
       "    </tr>\n",
       "    <tr>\n",
       "      <th>1</th>\n",
       "      <td>AARON CARTER</td>\n",
       "      <td>Aaroncarter51298@gmail.com</td>\n",
       "      <td>False</td>\n",
       "      <td>True</td>\n",
       "      <td>True</td>\n",
       "      <td>AARON</td>\n",
       "      <td>CARTER</td>\n",
       "      <td>NaN</td>\n",
       "      <td>NaN</td>\n",
       "      <td>NaN</td>\n",
       "      <td>NaN</td>\n",
       "      <td>NaN</td>\n",
       "      <td>NaN</td>\n",
       "      <td>NaN</td>\n",
       "      <td>NaN</td>\n",
       "      <td>NaN</td>\n",
       "      <td>NaN</td>\n",
       "    </tr>\n",
       "    <tr>\n",
       "      <th>2</th>\n",
       "      <td>AARON CUMMINS</td>\n",
       "      <td>aaroncummins@yahoo.com</td>\n",
       "      <td>False</td>\n",
       "      <td>True</td>\n",
       "      <td>False</td>\n",
       "      <td>AARON</td>\n",
       "      <td>CUMMINS</td>\n",
       "      <td>NaN</td>\n",
       "      <td>NaN</td>\n",
       "      <td>NaN</td>\n",
       "      <td>NaN</td>\n",
       "      <td>NaN</td>\n",
       "      <td>NaN</td>\n",
       "      <td>NaN</td>\n",
       "      <td>NaN</td>\n",
       "      <td>NaN</td>\n",
       "      <td>NaN</td>\n",
       "    </tr>\n",
       "    <tr>\n",
       "      <th>3</th>\n",
       "      <td>AARON LADD</td>\n",
       "      <td>laddaaron0@gmail.com</td>\n",
       "      <td>False</td>\n",
       "      <td>False</td>\n",
       "      <td>True</td>\n",
       "      <td>AARON</td>\n",
       "      <td>LADD</td>\n",
       "      <td>7/13/22 14:37</td>\n",
       "      <td>laddaaron0@gmail.com</td>\n",
       "      <td>Bachelor's Degree</td>\n",
       "      <td>2018</td>\n",
       "      <td>64111</td>\n",
       "      <td>MUTV</td>\n",
       "      <td>MUTV Sports Reporter</td>\n",
       "      <td>2015-2016</td>\n",
       "      <td>KSHB 41 TV</td>\n",
       "      <td>Becoming a mentor for the mentorship program, ...</td>\n",
       "    </tr>\n",
       "    <tr>\n",
       "      <th>4</th>\n",
       "      <td>AARON MORALES</td>\n",
       "      <td>morgan.amgardens@gmail.com</td>\n",
       "      <td>True</td>\n",
       "      <td>False</td>\n",
       "      <td>False</td>\n",
       "      <td>AARON</td>\n",
       "      <td>MORALES</td>\n",
       "      <td>NaN</td>\n",
       "      <td>NaN</td>\n",
       "      <td>NaN</td>\n",
       "      <td>NaN</td>\n",
       "      <td>NaN</td>\n",
       "      <td>NaN</td>\n",
       "      <td>NaN</td>\n",
       "      <td>NaN</td>\n",
       "      <td>NaN</td>\n",
       "      <td>NaN</td>\n",
       "    </tr>\n",
       "  </tbody>\n",
       "</table>\n",
       "</div>"
      ],
      "text/plain": [
       "           index                     EMAIL_1  MANEATER_ALUM_FLAG  \\\n",
       "0  AAMER MADHANI      aamermadhani@gmail.com                True   \n",
       "1   AARON CARTER  Aaroncarter51298@gmail.com               False   \n",
       "2  AARON CUMMINS      aaroncummins@yahoo.com               False   \n",
       "3     AARON LADD        laddaaron0@gmail.com               False   \n",
       "4  AARON MORALES  morgan.amgardens@gmail.com                True   \n",
       "\n",
       "   KCOU_ALUM_FLAG  MUTV_ALUM_FLAG FIRST_NAME LAST_NAME      Timestamp  \\\n",
       "0           False           False      AAMER   MADHANI            NaN   \n",
       "1            True            True      AARON    CARTER            NaN   \n",
       "2            True           False      AARON   CUMMINS            NaN   \n",
       "3           False            True      AARON      LADD  7/13/22 14:37   \n",
       "4           False           False      AARON   MORALES            NaN   \n",
       "\n",
       "         Non-work email Please select your highest level of education  \\\n",
       "0                   NaN                                           NaN   \n",
       "1                   NaN                                           NaN   \n",
       "2                   NaN                                           NaN   \n",
       "3  laddaaron0@gmail.com                             Bachelor's Degree   \n",
       "4                   NaN                                           NaN   \n",
       "\n",
       "  Undergraduate graduation year Current zip code Outlet(s) you worked at  \\\n",
       "0                           NaN              NaN                     NaN   \n",
       "1                           NaN              NaN                     NaN   \n",
       "2                           NaN              NaN                     NaN   \n",
       "3                          2018            64111                    MUTV   \n",
       "4                           NaN              NaN                     NaN   \n",
       "\n",
       "  Position(s) you held within the outlet(s) chosen above  \\\n",
       "0                                                NaN       \n",
       "1                                                NaN       \n",
       "2                                                NaN       \n",
       "3                               MUTV Sports Reporter       \n",
       "4                                                NaN       \n",
       "\n",
       "  Years active at your Mizzou Student Media outlet  \\\n",
       "0                                              NaN   \n",
       "1                                              NaN   \n",
       "2                                              NaN   \n",
       "3                                        2015-2016   \n",
       "4                                              NaN   \n",
       "\n",
       "  Current role and organization  \\\n",
       "0                           NaN   \n",
       "1                           NaN   \n",
       "2                           NaN   \n",
       "3                   KSHB 41 TV    \n",
       "4                           NaN   \n",
       "\n",
       "  Indicate the opportunities described above that you're interested in pursuing.  \n",
       "0                                                NaN                              \n",
       "1                                                NaN                              \n",
       "2                                                NaN                              \n",
       "3  Becoming a mentor for the mentorship program, ...                              \n",
       "4                                                NaN                              "
      ]
     },
     "execution_count": 7,
     "metadata": {},
     "output_type": "execute_result"
    }
   ],
   "source": [
    "alumni_join.head()"
   ]
  },
  {
   "cell_type": "markdown",
   "id": "511b2db2",
   "metadata": {},
   "source": [
    "_____"
   ]
  },
  {
   "cell_type": "markdown",
   "id": "8a5623ef",
   "metadata": {},
   "source": [
    "#### Create form response flag"
   ]
  },
  {
   "cell_type": "markdown",
   "id": "e4bd7844",
   "metadata": {},
   "source": [
    "The first feature I created was whether or not the alumni had filled out the form by checking each account to see if they had a timestamp (indicative of a response)"
   ]
  },
  {
   "cell_type": "code",
   "execution_count": 9,
   "id": "bb7da6d3",
   "metadata": {},
   "outputs": [],
   "source": [
    "alumni_join['Timestamp'] = alumni_join['Timestamp'].fillna(\"X\")"
   ]
  },
  {
   "cell_type": "code",
   "execution_count": 10,
   "id": "92d4321b",
   "metadata": {},
   "outputs": [],
   "source": [
    "form_responses = []\n",
    "for x in alumni_join['Timestamp']:\n",
    "    if x == \"X\":\n",
    "        form_responses.append(False)\n",
    "    else:\n",
    "        form_responses.append(True)"
   ]
  },
  {
   "cell_type": "code",
   "execution_count": 11,
   "id": "486de354",
   "metadata": {
    "scrolled": true
   },
   "outputs": [],
   "source": [
    "alumni_join['form_response'] = form_responses"
   ]
  },
  {
   "cell_type": "markdown",
   "id": "37ec2818",
   "metadata": {},
   "source": [
    "__________"
   ]
  },
  {
   "cell_type": "markdown",
   "id": "f304c359",
   "metadata": {},
   "source": [
    "## Zip code data"
   ]
  },
  {
   "cell_type": "markdown",
   "id": "f9b76661",
   "metadata": {},
   "source": [
    "### Read in zip code data"
   ]
  },
  {
   "cell_type": "markdown",
   "id": "6b01964a",
   "metadata": {},
   "source": [
    "I got this data from the IRS about average income by zip code across the US. One of the fields on the alumni survey was their current zipcode, which will be used to gather more information"
   ]
  },
  {
   "cell_type": "code",
   "execution_count": 12,
   "id": "bd403c9f",
   "metadata": {},
   "outputs": [],
   "source": [
    "data_zip = pd.read_csv('/Users/gcdyw9/Downloads/19zpallagi.csv')"
   ]
  },
  {
   "cell_type": "code",
   "execution_count": 14,
   "id": "2e52a462",
   "metadata": {},
   "outputs": [],
   "source": [
    "data_zip_dummy = data_zip.set_index('zipcode')"
   ]
  },
  {
   "cell_type": "markdown",
   "id": "2b3332e8",
   "metadata": {},
   "source": [
    "### Aggregate zipcode sheet"
   ]
  },
  {
   "cell_type": "markdown",
   "id": "fc92cbf2",
   "metadata": {},
   "source": [
    "I aggregated the IRS sheet by zipcode because ther raw data was subdivided by a few categories"
   ]
  },
  {
   "cell_type": "code",
   "execution_count": 15,
   "id": "fbf60e81",
   "metadata": {},
   "outputs": [],
   "source": [
    "zipcode_data = data_zip.groupby('zipcode').agg(\n",
    "    state=pd.NamedAgg('STATE',max),\n",
    "    returns = pd.NamedAgg('returns',sum),\n",
    "    individuals = pd.NamedAgg('individuals',sum),\n",
    "    incomes = pd.NamedAgg('income_returns',sum),\n",
    "    total_income = pd.NamedAgg('income',sum),\n",
    "    salaries = pd.NamedAgg('salaries_return',sum),\n",
    "    total_salaries = pd.NamedAgg('salaries',sum)\n",
    ")\n",
    "zipcode_data = zipcode_data.drop(zipcode_data[zipcode_data.index == 0].index)\n",
    "zipcode_data = zipcode_data.drop(zipcode_data[zipcode_data.index == 99999].index)\n",
    "zipcode_data = zipcode_data.reset_index()"
   ]
  },
  {
   "cell_type": "markdown",
   "id": "1627e270",
   "metadata": {},
   "source": [
    "### Create different average income calculations (avg_income3 is the most accurate)"
   ]
  },
  {
   "cell_type": "code",
   "execution_count": 16,
   "id": "c2826c3e",
   "metadata": {},
   "outputs": [],
   "source": [
    "zipcode_data['avg_income1'] = zipcode_data['total_income']/zipcode_data['individuals']\n",
    "zipcode_data['avg_income2'] = zipcode_data['total_income']/zipcode_data['returns']\n",
    "zipcode_data['avg_income3'] = zipcode_data['total_income']/zipcode_data['incomes']"
   ]
  },
  {
   "cell_type": "code",
   "execution_count": 17,
   "id": "aa7d987b",
   "metadata": {},
   "outputs": [
    {
     "data": {
      "text/plain": [
       "zipcode              99901\n",
       "state                   WY\n",
       "avg_income2    3296.829631\n",
       "dtype: object"
      ]
     },
     "execution_count": 17,
     "metadata": {},
     "output_type": "execute_result"
    }
   ],
   "source": [
    "zipcode_data[['zipcode','state','avg_income2']].max()"
   ]
  },
  {
   "cell_type": "markdown",
   "id": "d5dc565d",
   "metadata": {},
   "source": [
    "zipcode_data.loc[zipcode_data['avg_income3']==zipcode_data['avg_income3'].max(),('zipcode','state','avg_income3')]"
   ]
  },
  {
   "cell_type": "markdown",
   "id": "065e2f5a",
   "metadata": {},
   "source": [
    "### Data exploration"
   ]
  },
  {
   "cell_type": "code",
   "execution_count": 18,
   "id": "a83c5fa5",
   "metadata": {},
   "outputs": [
    {
     "data": {
      "text/plain": [
       "count    27593.000000\n",
       "mean        69.830687\n",
       "std         55.670185\n",
       "min         12.700000\n",
       "25%         48.234742\n",
       "50%         57.569445\n",
       "75%         72.875001\n",
       "max       3296.829631\n",
       "Name: avg_income3, dtype: float64"
      ]
     },
     "execution_count": 18,
     "metadata": {},
     "output_type": "execute_result"
    }
   ],
   "source": [
    "zipcode_data['avg_income3'].describe()"
   ]
  },
  {
   "cell_type": "code",
   "execution_count": 19,
   "id": "6d343fd8",
   "metadata": {},
   "outputs": [
    {
     "data": {
      "text/plain": [
       "<AxesSubplot:>"
      ]
     },
     "execution_count": 19,
     "metadata": {},
     "output_type": "execute_result"
    },
    {
     "data": {
      "image/png": "[encoded data removed]",
      "text/plain": [
       "<Figure size 432x288 with 1 Axes>"
      ]
     },
     "metadata": {
      "needs_background": "light"
     },
     "output_type": "display_data"
    }
   ],
   "source": [
    "zipcode_data.loc[zipcode_data['avg_income3']<400,'avg_income3'].hist(bins=50)"
   ]
  },
  {
   "cell_type": "markdown",
   "id": "52cbbdce",
   "metadata": {},
   "source": [
    "### Change dtypes for zipcodes for mapping"
   ]
  },
  {
   "cell_type": "code",
   "execution_count": 20,
   "id": "77c8ad83",
   "metadata": {},
   "outputs": [],
   "source": [
    "zipcode_data['zipcode'] = zipcode_data['zipcode'].astype(str)"
   ]
  },
  {
   "cell_type": "code",
   "execution_count": 21,
   "id": "1ae13a32",
   "metadata": {},
   "outputs": [],
   "source": [
    "alumni_join['Current zip code']= alumni_join['Current zip code'].astype(str)"
   ]
  },
  {
   "cell_type": "markdown",
   "id": "1eb54ee8",
   "metadata": {},
   "source": [
    "### Join the zipcode data to the alumni_join df"
   ]
  },
  {
   "cell_type": "markdown",
   "id": "51927553",
   "metadata": {},
   "source": []
  },
  {
   "cell_type": "code",
   "execution_count": 22,
   "id": "9a651160",
   "metadata": {},
   "outputs": [],
   "source": [
    "alumni_join['state'] = alumni_join['Current zip code'].map(zipcode_data.set_index('zipcode')['state'])"
   ]
  },
  {
   "cell_type": "code",
   "execution_count": 23,
   "id": "5e178be7",
   "metadata": {},
   "outputs": [],
   "source": [
    "alumni_join['zip_avg_income'] = alumni_join['Current zip code'].map(zipcode_data.set_index('zipcode')['avg_income3'])"
   ]
  },
  {
   "cell_type": "markdown",
   "id": "a496b2da",
   "metadata": {},
   "source": [
    "_____"
   ]
  },
  {
   "cell_type": "markdown",
   "id": "66240176",
   "metadata": {},
   "source": [
    "### Fix Northeast zip codes"
   ]
  },
  {
   "cell_type": "code",
   "execution_count": 26,
   "id": "0a2e141a",
   "metadata": {
    "scrolled": true
   },
   "outputs": [
    {
     "name": "stderr",
     "output_type": "stream",
     "text": [
      "<ipython-input-26-b470dbdcb78d>:1: SettingWithCopyWarning: \n",
      "A value is trying to be set on a copy of a slice from a DataFrame.\n",
      "Try using .loc[row_indexer,col_indexer] = value instead\n",
      "\n",
      "See the caveats in the documentation: https://pandas.pydata.org/pandas-docs/stable/user_guide/indexing.html#returning-a-view-versus-a-copy\n",
      "  zipcode_data.loc[zipcode_data['state']=='CT']['zipcode'] = \"0\"+zipcode_data.loc[zipcode_data['state']=='CT']['zipcode']\n"
     ]
    }
   ],
   "source": [
    "zipcode_data.loc[zipcode_data['state']=='CT']['zipcode'] = \"0\"+zipcode_data.loc[zipcode_data['state']=='CT']['zipcode']"
   ]
  },
  {
   "cell_type": "code",
   "execution_count": 27,
   "id": "a5b9aeaa",
   "metadata": {},
   "outputs": [],
   "source": [
    "zipcode_data.loc[zipcode_data['state']=='NJ','zipcode'] = \"0\"+zipcode_data.loc[zipcode_data['state']=='NJ','zipcode']\n"
   ]
  },
  {
   "cell_type": "code",
   "execution_count": 28,
   "id": "b1bb472c",
   "metadata": {},
   "outputs": [],
   "source": [
    "zipcode_data.loc[zipcode_data['state']=='CT','zipcode'] = \"0\"+zipcode_data.loc[zipcode_data['state']=='CT','zipcode']\n"
   ]
  },
  {
   "cell_type": "code",
   "execution_count": 29,
   "id": "b2ef3877",
   "metadata": {},
   "outputs": [],
   "source": [
    "zipcode_data.loc[zipcode_data['state']=='VT','zipcode'] = \"0\"+zipcode_data.loc[zipcode_data['state']=='VT','zipcode']\n"
   ]
  },
  {
   "cell_type": "code",
   "execution_count": 30,
   "id": "384fb726",
   "metadata": {},
   "outputs": [],
   "source": [
    "zipcode_data.loc[zipcode_data['state']=='MA','zipcode'] = \"0\"+zipcode_data.loc[zipcode_data['state']=='MA','zipcode']\n"
   ]
  },
  {
   "cell_type": "markdown",
   "id": "2da3030f",
   "metadata": {},
   "source": [
    "______"
   ]
  },
  {
   "cell_type": "markdown",
   "id": "5856179d",
   "metadata": {},
   "source": [
    "______"
   ]
  },
  {
   "cell_type": "markdown",
   "id": "f5abbefc",
   "metadata": {},
   "source": [
    "______"
   ]
  },
  {
   "cell_type": "markdown",
   "id": "4451d95c",
   "metadata": {},
   "source": [
    "## Calculate the number of outlets per account"
   ]
  },
  {
   "cell_type": "code",
   "execution_count": 35,
   "id": "cd4d79de",
   "metadata": {},
   "outputs": [],
   "source": [
    "alumni_join['number_outlets'] = alumni_join[['MANEATER_ALUM_FLAG','KCOU_ALUM_FLAG','MUTV_ALUM_FLAG']].sum(axis=1)"
   ]
  },
  {
   "cell_type": "markdown",
   "id": "93592cd5",
   "metadata": {},
   "source": [
    "______"
   ]
  },
  {
   "cell_type": "markdown",
   "id": "cc700e72",
   "metadata": {},
   "source": [
    "# Email lists"
   ]
  },
  {
   "cell_type": "markdown",
   "id": "53b52e77",
   "metadata": {},
   "source": [
    "## Opportunities"
   ]
  },
  {
   "cell_type": "markdown",
   "id": "eb1b8a3e",
   "metadata": {},
   "source": [
    "### Newsletter"
   ]
  },
  {
   "cell_type": "code",
   "execution_count": 39,
   "id": "8f4aa2f9",
   "metadata": {},
   "outputs": [],
   "source": [
    "newsletter_list = alumni_join.loc[alumni_join[\"Indicate the opportunities described above that you're interested in pursuing.\"].fillna(\"\").str.contains(\"Receiving the bi-weekly alumni newsletter\", case=False),('index','EMAIL_1')]"
   ]
  },
  {
   "cell_type": "code",
   "execution_count": 40,
   "id": "ec85cc82",
   "metadata": {},
   "outputs": [
    {
     "data": {
      "text/plain": [
       "(71, 2)"
      ]
     },
     "execution_count": 40,
     "metadata": {},
     "output_type": "execute_result"
    }
   ],
   "source": [
    "newsletter_list.shape"
   ]
  },
  {
   "cell_type": "code",
   "execution_count": 41,
   "id": "4992b2d2",
   "metadata": {},
   "outputs": [],
   "source": [
    "newsletter_list_flag = [True if any(y in x for y in newsletter_list['index']) else False for x in alumni_join['index'].fillna(\"X\")]"
   ]
  },
  {
   "cell_type": "markdown",
   "id": "02b9a1c0",
   "metadata": {},
   "source": [
    "##### Flag creation"
   ]
  },
  {
   "cell_type": "code",
   "execution_count": 43,
   "id": "240f0563",
   "metadata": {},
   "outputs": [],
   "source": [
    "alumni_join['newsletter_list_flag'] = newsletter_list_flag"
   ]
  },
  {
   "cell_type": "code",
   "execution_count": 44,
   "id": "d5e40ed1",
   "metadata": {},
   "outputs": [
    {
     "data": {
      "text/plain": [
       "False    1811\n",
       "True       71\n",
       "Name: newsletter_list_flag, dtype: int64"
      ]
     },
     "execution_count": 44,
     "metadata": {},
     "output_type": "execute_result"
    }
   ],
   "source": [
    "alumni_join['newsletter_list_flag'].value_counts()"
   ]
  },
  {
   "cell_type": "markdown",
   "id": "0e1ce333",
   "metadata": {},
   "source": [
    "newsletter_list.to_excel('/Users/gcdyw9/Documents/email_lists/NEWSLETTER_LIST_08_29_2022.xlsx')"
   ]
  },
  {
   "cell_type": "markdown",
   "id": "0c533884",
   "metadata": {},
   "source": [
    "### Mentorship"
   ]
  },
  {
   "cell_type": "code",
   "execution_count": 45,
   "id": "04e08453",
   "metadata": {},
   "outputs": [],
   "source": [
    "mentorship_list = alumni_join.loc[alumni_join[\"Indicate the opportunities described above that you're interested in pursuing.\"].fillna(\"\").str.contains(\"Becoming a mentor for the mentorship program\", case=False),('index','EMAIL_1')]"
   ]
  },
  {
   "cell_type": "code",
   "execution_count": 46,
   "id": "ef7e5b6c",
   "metadata": {},
   "outputs": [
    {
     "data": {
      "text/plain": [
       "(38, 2)"
      ]
     },
     "execution_count": 46,
     "metadata": {},
     "output_type": "execute_result"
    }
   ],
   "source": [
    "mentorship_list.shape"
   ]
  },
  {
   "cell_type": "markdown",
   "id": "af41059d",
   "metadata": {},
   "source": [
    "##### Flag creation"
   ]
  },
  {
   "cell_type": "code",
   "execution_count": 47,
   "id": "bb21940b",
   "metadata": {},
   "outputs": [],
   "source": [
    "mentorship_list_flag = [True if any(y in x for y in mentorship_list['index']) else False for x in alumni_join['index'].fillna('x')]"
   ]
  },
  {
   "cell_type": "code",
   "execution_count": 48,
   "id": "006dc5eb",
   "metadata": {},
   "outputs": [],
   "source": [
    "alumni_join['mentorship_list_flag'] = mentorship_list_flag"
   ]
  },
  {
   "cell_type": "code",
   "execution_count": 49,
   "id": "c65aea19",
   "metadata": {},
   "outputs": [
    {
     "data": {
      "text/plain": [
       "False    1844\n",
       "True       38\n",
       "Name: mentorship_list_flag, dtype: int64"
      ]
     },
     "execution_count": 49,
     "metadata": {},
     "output_type": "execute_result"
    }
   ],
   "source": [
    "alumni_join['mentorship_list_flag'].value_counts()"
   ]
  },
  {
   "cell_type": "markdown",
   "id": "e9a359f3",
   "metadata": {},
   "source": [
    "mentorship_list.to_excel('/Users/gcdyw9/Documents/email_lists/MENTORSHIP_LIST_08_29_2022.xlsx')"
   ]
  },
  {
   "cell_type": "markdown",
   "id": "70e7b8eb",
   "metadata": {},
   "source": [
    "### Auditing"
   ]
  },
  {
   "cell_type": "code",
   "execution_count": 50,
   "id": "f883e391",
   "metadata": {},
   "outputs": [],
   "source": [
    "auditing_list = alumni_join.loc[alumni_join[\"Indicate the opportunities described above that you're interested in pursuing.\"].fillna(\"\").str.contains(\"Auditing content from the MSM outlets, asynchronously, 4 times per year\", case=False),('index','EMAIL_1')]"
   ]
  },
  {
   "cell_type": "code",
   "execution_count": 51,
   "id": "e536b814",
   "metadata": {},
   "outputs": [
    {
     "data": {
      "text/plain": [
       "(37, 2)"
      ]
     },
     "execution_count": 51,
     "metadata": {},
     "output_type": "execute_result"
    }
   ],
   "source": [
    "auditing_list.shape"
   ]
  },
  {
   "cell_type": "markdown",
   "id": "4019b682",
   "metadata": {},
   "source": [
    "##### Flag creation"
   ]
  },
  {
   "cell_type": "code",
   "execution_count": 52,
   "id": "327f4868",
   "metadata": {},
   "outputs": [],
   "source": [
    "auditing_list_flag = [True if any(y in x for y in auditing_list['index']) else False for x in alumni_join['index'].fillna('x')]"
   ]
  },
  {
   "cell_type": "code",
   "execution_count": 53,
   "id": "6c9bde5e",
   "metadata": {},
   "outputs": [],
   "source": [
    "alumni_join['auditing_list_flag'] = auditing_list_flag"
   ]
  },
  {
   "cell_type": "code",
   "execution_count": 54,
   "id": "969a950c",
   "metadata": {},
   "outputs": [
    {
     "data": {
      "text/plain": [
       "False    1844\n",
       "True       38\n",
       "Name: auditing_list_flag, dtype: int64"
      ]
     },
     "execution_count": 54,
     "metadata": {},
     "output_type": "execute_result"
    }
   ],
   "source": [
    "alumni_join['auditing_list_flag'].value_counts()"
   ]
  },
  {
   "cell_type": "markdown",
   "id": "a63bab9e",
   "metadata": {},
   "source": [
    "auditing_list.to_excel('/Users/gcdyw9/Documents/email_lists/AUDITING_LIST_08_26_2022.xlsx')"
   ]
  },
  {
   "cell_type": "markdown",
   "id": "21ab3c36",
   "metadata": {},
   "source": [
    "### Apparel"
   ]
  },
  {
   "cell_type": "code",
   "execution_count": 55,
   "id": "c68d47bc",
   "metadata": {},
   "outputs": [],
   "source": [
    "apparel_list = alumni_join.loc[alumni_join[\"Indicate the opportunities described above that you're interested in pursuing.\"].fillna(\"\").str.contains(\"Buying apparel\", case=False),('index','EMAIL_1')]"
   ]
  },
  {
   "cell_type": "code",
   "execution_count": 56,
   "id": "d2d1815b",
   "metadata": {},
   "outputs": [
    {
     "data": {
      "text/plain": [
       "(44, 2)"
      ]
     },
     "execution_count": 56,
     "metadata": {},
     "output_type": "execute_result"
    }
   ],
   "source": [
    "apparel_list.shape"
   ]
  },
  {
   "cell_type": "markdown",
   "id": "a7150398",
   "metadata": {},
   "source": [
    "##### Flag creation"
   ]
  },
  {
   "cell_type": "code",
   "execution_count": 57,
   "id": "2bec4034",
   "metadata": {},
   "outputs": [],
   "source": [
    "apparel_list_flag = [True if any(y in x for y in apparel_list['index']) else False for x in alumni_join['index'].fillna('x')]"
   ]
  },
  {
   "cell_type": "code",
   "execution_count": 58,
   "id": "4661cf36",
   "metadata": {},
   "outputs": [],
   "source": [
    "alumni_join['apparel_list_flag'] = apparel_list_flag"
   ]
  },
  {
   "cell_type": "code",
   "execution_count": 59,
   "id": "f8633a9b",
   "metadata": {
    "scrolled": true
   },
   "outputs": [
    {
     "data": {
      "text/plain": [
       "False    1838\n",
       "True       44\n",
       "Name: apparel_list_flag, dtype: int64"
      ]
     },
     "execution_count": 59,
     "metadata": {},
     "output_type": "execute_result"
    }
   ],
   "source": [
    "alumni_join['apparel_list_flag'].value_counts()"
   ]
  },
  {
   "cell_type": "markdown",
   "id": "3cce1de3",
   "metadata": {},
   "source": [
    "apparel_list.to_excel('/Users/gcdyw9/Documents/email_lists/APPAREL_LIST_08_26_2022.xlsx')"
   ]
  },
  {
   "cell_type": "markdown",
   "id": "c5945c91",
   "metadata": {},
   "source": [
    "### Workshops"
   ]
  },
  {
   "cell_type": "code",
   "execution_count": 60,
   "id": "2d8a6fd3",
   "metadata": {},
   "outputs": [],
   "source": [
    "workshop_list = alumni_join.loc[alumni_join[\"Indicate the opportunities described above that you're interested in pursuing.\"].fillna('').str.contains(\"Running workshops for current staff\", case=False),('index','EMAIL_1')]"
   ]
  },
  {
   "cell_type": "code",
   "execution_count": 61,
   "id": "1dc2969d",
   "metadata": {},
   "outputs": [
    {
     "data": {
      "text/plain": [
       "(26, 2)"
      ]
     },
     "execution_count": 61,
     "metadata": {},
     "output_type": "execute_result"
    }
   ],
   "source": [
    "workshop_list.shape"
   ]
  },
  {
   "cell_type": "markdown",
   "id": "98c97d54",
   "metadata": {},
   "source": [
    "##### Flag creation"
   ]
  },
  {
   "cell_type": "code",
   "execution_count": 62,
   "id": "3e8197ed",
   "metadata": {},
   "outputs": [],
   "source": [
    "workshop_list_flag = [True if any(y in x for y in workshop_list['index']) else False for x in alumni_join['index'].fillna('x')]"
   ]
  },
  {
   "cell_type": "code",
   "execution_count": 63,
   "id": "a30a7ae2",
   "metadata": {},
   "outputs": [],
   "source": [
    "alumni_join['workshop_list_flag'] = workshop_list_flag"
   ]
  },
  {
   "cell_type": "code",
   "execution_count": 64,
   "id": "b1f4a33f",
   "metadata": {},
   "outputs": [
    {
     "data": {
      "text/plain": [
       "False    1856\n",
       "True       26\n",
       "Name: workshop_list_flag, dtype: int64"
      ]
     },
     "execution_count": 64,
     "metadata": {},
     "output_type": "execute_result"
    }
   ],
   "source": [
    "alumni_join['workshop_list_flag'].value_counts()"
   ]
  },
  {
   "cell_type": "markdown",
   "id": "232db6ae",
   "metadata": {},
   "source": [
    "workshop_list.to_excel('/Users/gcdyw9/Documents/email_lists/WORKSHOP_LIST_08_29_2022.xlsx')"
   ]
  },
  {
   "cell_type": "markdown",
   "id": "1267fab5",
   "metadata": {},
   "source": [
    "### Networking"
   ]
  },
  {
   "cell_type": "code",
   "execution_count": 65,
   "id": "98d24e33",
   "metadata": {},
   "outputs": [],
   "source": [
    "networking_list = alumni_join.loc[alumni_join[\"Indicate the opportunities described above that you're interested in pursuing.\"].fillna('').str.contains(\"Attending networking events for staff\", case=False),('index','EMAIL_1')]"
   ]
  },
  {
   "cell_type": "code",
   "execution_count": 66,
   "id": "9020c4c4",
   "metadata": {},
   "outputs": [
    {
     "data": {
      "text/plain": [
       "(26, 2)"
      ]
     },
     "execution_count": 66,
     "metadata": {},
     "output_type": "execute_result"
    }
   ],
   "source": [
    "networking_list.shape"
   ]
  },
  {
   "cell_type": "markdown",
   "id": "5a7a883d",
   "metadata": {},
   "source": [
    "##### Flag creation"
   ]
  },
  {
   "cell_type": "code",
   "execution_count": 67,
   "id": "fa8868f4",
   "metadata": {},
   "outputs": [],
   "source": [
    "networking_list_flag = [True if any(y in x for y in networking_list['index']) else False for x in alumni_join['index'].fillna('x')]"
   ]
  },
  {
   "cell_type": "code",
   "execution_count": 68,
   "id": "db28ea51",
   "metadata": {},
   "outputs": [],
   "source": [
    "alumni_join['networking_list_flag'] = networking_list_flag"
   ]
  },
  {
   "cell_type": "code",
   "execution_count": 69,
   "id": "7a6f8a99",
   "metadata": {
    "scrolled": true
   },
   "outputs": [
    {
     "data": {
      "text/plain": [
       "False    1856\n",
       "True       26\n",
       "Name: networking_list_flag, dtype: int64"
      ]
     },
     "execution_count": 69,
     "metadata": {},
     "output_type": "execute_result"
    }
   ],
   "source": [
    "alumni_join['networking_list_flag'].value_counts()"
   ]
  },
  {
   "cell_type": "markdown",
   "id": "b2149e03",
   "metadata": {},
   "source": [
    "networking_list.to_excel('/Users/gcdyw9/Documents/email_lists/NETWORKING_LIST_08_29_2022.xlsx')"
   ]
  },
  {
   "cell_type": "markdown",
   "id": "9b8bbbe6",
   "metadata": {},
   "source": [
    "### Homecoming"
   ]
  },
  {
   "cell_type": "code",
   "execution_count": 70,
   "id": "100ff0aa",
   "metadata": {},
   "outputs": [],
   "source": [
    "homecoming_list = alumni_join.loc[alumni_join[\"Indicate the opportunities described above that you're interested in pursuing.\"].fillna('').str.contains(\"Participating in an in-person homecoming event\", case=False),('index','EMAIL_1','state')]"
   ]
  },
  {
   "cell_type": "code",
   "execution_count": 71,
   "id": "de3b9aba",
   "metadata": {},
   "outputs": [
    {
     "data": {
      "text/plain": [
       "(24, 3)"
      ]
     },
     "execution_count": 71,
     "metadata": {},
     "output_type": "execute_result"
    }
   ],
   "source": [
    "homecoming_list.shape"
   ]
  },
  {
   "cell_type": "markdown",
   "id": "3a56672a",
   "metadata": {},
   "source": [
    "##### Flag creation"
   ]
  },
  {
   "cell_type": "code",
   "execution_count": 72,
   "id": "0bac759f",
   "metadata": {},
   "outputs": [],
   "source": [
    "homecoming_list_flag = [True if any(y in x for y in homecoming_list['index']) else False for x in alumni_join['index'].fillna('x')]"
   ]
  },
  {
   "cell_type": "code",
   "execution_count": 73,
   "id": "9cc36272",
   "metadata": {},
   "outputs": [],
   "source": [
    "alumni_join['homecoming_list_flag'] = homecoming_list_flag"
   ]
  },
  {
   "cell_type": "code",
   "execution_count": 74,
   "id": "303bd557",
   "metadata": {
    "scrolled": true
   },
   "outputs": [
    {
     "data": {
      "text/plain": [
       "False    1858\n",
       "True       24\n",
       "Name: homecoming_list_flag, dtype: int64"
      ]
     },
     "execution_count": 74,
     "metadata": {},
     "output_type": "execute_result"
    }
   ],
   "source": [
    "alumni_join['homecoming_list_flag'].value_counts()"
   ]
  },
  {
   "cell_type": "markdown",
   "id": "b2783dfc",
   "metadata": {},
   "source": [
    "homecoming_list.to_excel('/Users/gcdyw9/Documents/email_lists/HOMECOMING_LIST_08_29_2022.xlsx')"
   ]
  },
  {
   "cell_type": "markdown",
   "id": "625c561c",
   "metadata": {},
   "source": [
    "### Facebook"
   ]
  },
  {
   "cell_type": "code",
   "execution_count": 75,
   "id": "45e68ddc",
   "metadata": {},
   "outputs": [],
   "source": [
    "facebook_list = alumni_join.loc[alumni_join[\"Indicate the opportunities described above that you're interested in pursuing.\"].fillna('').str.contains(\"Being in a Mizzou Student Media alumni facebook group\", case=False),('index','EMAIL_1')]"
   ]
  },
  {
   "cell_type": "code",
   "execution_count": 76,
   "id": "6eed3424",
   "metadata": {},
   "outputs": [
    {
     "data": {
      "text/plain": [
       "(48, 2)"
      ]
     },
     "execution_count": 76,
     "metadata": {},
     "output_type": "execute_result"
    }
   ],
   "source": [
    "facebook_list.shape"
   ]
  },
  {
   "cell_type": "markdown",
   "id": "bcf4e676",
   "metadata": {},
   "source": [
    "##### Flag creation"
   ]
  },
  {
   "cell_type": "code",
   "execution_count": 77,
   "id": "b3f3c788",
   "metadata": {},
   "outputs": [],
   "source": [
    "facebook_list_flag = [True if any(y in x for y in facebook_list['index']) else False for x in alumni_join['index'].fillna('x')]"
   ]
  },
  {
   "cell_type": "code",
   "execution_count": 78,
   "id": "a409ffd0",
   "metadata": {},
   "outputs": [],
   "source": [
    "alumni_join['facebook_list_flag'] = facebook_list_flag"
   ]
  },
  {
   "cell_type": "code",
   "execution_count": 79,
   "id": "c8195c7f",
   "metadata": {
    "scrolled": true
   },
   "outputs": [
    {
     "data": {
      "text/plain": [
       "False    1834\n",
       "True       48\n",
       "Name: facebook_list_flag, dtype: int64"
      ]
     },
     "execution_count": 79,
     "metadata": {},
     "output_type": "execute_result"
    }
   ],
   "source": [
    "alumni_join['facebook_list_flag'].value_counts()"
   ]
  },
  {
   "cell_type": "markdown",
   "id": "f97cdc6b",
   "metadata": {},
   "source": [
    "facebook_list.to_excel('/Users/gcdyw9/Documents/email_lists/FACEBOOK_LIST_08_29_2022.xlsx')"
   ]
  },
  {
   "cell_type": "markdown",
   "id": "fe7381db",
   "metadata": {},
   "source": [
    "### Scholarship"
   ]
  },
  {
   "cell_type": "code",
   "execution_count": 80,
   "id": "4a173f4e",
   "metadata": {},
   "outputs": [],
   "source": [
    "scholarship_list = alumni_join.loc[alumni_join[\"Indicate the opportunities described above that you're interested in pursuing.\"].fillna('').str.contains(\"Help select scholarship recipients\", case=False),('index','EMAIL_1')]"
   ]
  },
  {
   "cell_type": "code",
   "execution_count": 81,
   "id": "ce4f4d96",
   "metadata": {},
   "outputs": [
    {
     "data": {
      "text/plain": [
       "(32, 2)"
      ]
     },
     "execution_count": 81,
     "metadata": {},
     "output_type": "execute_result"
    }
   ],
   "source": [
    "scholarship_list.shape"
   ]
  },
  {
   "cell_type": "markdown",
   "id": "d338fcbe",
   "metadata": {},
   "source": [
    "##### Flag creation"
   ]
  },
  {
   "cell_type": "code",
   "execution_count": 82,
   "id": "8f06e048",
   "metadata": {},
   "outputs": [],
   "source": [
    "scholarship_list_flag = [True if any(y in x for y in scholarship_list['index']) else False for x in alumni_join['index'].fillna('x')]"
   ]
  },
  {
   "cell_type": "code",
   "execution_count": 83,
   "id": "1a762446",
   "metadata": {},
   "outputs": [],
   "source": [
    "alumni_join['scholarship_list_flag'] = scholarship_list_flag"
   ]
  },
  {
   "cell_type": "code",
   "execution_count": 84,
   "id": "a8cfb82e",
   "metadata": {},
   "outputs": [
    {
     "data": {
      "text/plain": [
       "False    1850\n",
       "True       32\n",
       "Name: scholarship_list_flag, dtype: int64"
      ]
     },
     "execution_count": 84,
     "metadata": {},
     "output_type": "execute_result"
    }
   ],
   "source": [
    "alumni_join['scholarship_list_flag'].value_counts()"
   ]
  },
  {
   "cell_type": "markdown",
   "id": "05dba24f",
   "metadata": {},
   "source": [
    "scholarship_list.to_excel('/Users/gcdyw9/Documents/email_lists/SCHOLARSHIP_LIST_08_26_2022.xlsx')"
   ]
  },
  {
   "cell_type": "markdown",
   "id": "8427fa4b",
   "metadata": {},
   "source": [
    "### Advisory Board"
   ]
  },
  {
   "cell_type": "code",
   "execution_count": 85,
   "id": "1bd10740",
   "metadata": {},
   "outputs": [],
   "source": [
    "advisory_list = alumni_join.loc[alumni_join[\"Indicate the opportunities described above that you're interested in pursuing.\"].fillna('').str.contains(\"Serve on the MSM advisory board\", case=False),('index','EMAIL_1')]"
   ]
  },
  {
   "cell_type": "code",
   "execution_count": 86,
   "id": "6c2c2539",
   "metadata": {},
   "outputs": [
    {
     "data": {
      "text/plain": [
       "(22, 2)"
      ]
     },
     "execution_count": 86,
     "metadata": {},
     "output_type": "execute_result"
    }
   ],
   "source": [
    "advisory_list.shape"
   ]
  },
  {
   "cell_type": "markdown",
   "id": "10079cc3",
   "metadata": {},
   "source": [
    "##### Flag creation"
   ]
  },
  {
   "cell_type": "code",
   "execution_count": 87,
   "id": "3ae9b765",
   "metadata": {},
   "outputs": [],
   "source": [
    "advisory_list_flag = [True if any(y in x for y in advisory_list['index']) else False for x in alumni_join['index'].fillna('x')]"
   ]
  },
  {
   "cell_type": "code",
   "execution_count": 88,
   "id": "7a6a531b",
   "metadata": {},
   "outputs": [],
   "source": [
    "alumni_join['advisory_list_flag'] = advisory_list_flag"
   ]
  },
  {
   "cell_type": "code",
   "execution_count": 89,
   "id": "a0c0991e",
   "metadata": {},
   "outputs": [
    {
     "data": {
      "text/plain": [
       "False    1860\n",
       "True       22\n",
       "Name: advisory_list_flag, dtype: int64"
      ]
     },
     "execution_count": 89,
     "metadata": {},
     "output_type": "execute_result"
    }
   ],
   "source": [
    "alumni_join['advisory_list_flag'].value_counts()"
   ]
  },
  {
   "cell_type": "markdown",
   "id": "15878bf3",
   "metadata": {},
   "source": [
    "advisory_list.to_excel('/Users/gcdyw9/Documents/email_lists/ADVISORY_LIST_08_26_2022.xlsx')"
   ]
  },
  {
   "cell_type": "markdown",
   "id": "b7f894fa",
   "metadata": {},
   "source": [
    "### Leadership Position"
   ]
  },
  {
   "cell_type": "code",
   "execution_count": 90,
   "id": "80e4b907",
   "metadata": {},
   "outputs": [],
   "source": [
    "leadership_list = alumni_join.loc[alumni_join[\"Position(s) you held within the outlet(s) chosen above\"].fillna('').str.contains((\"editor|director|manager\"), case=False),('index','EMAIL_1')]"
   ]
  },
  {
   "cell_type": "code",
   "execution_count": 91,
   "id": "9a3ac605",
   "metadata": {},
   "outputs": [
    {
     "data": {
      "text/plain": [
       "(44, 2)"
      ]
     },
     "execution_count": 91,
     "metadata": {},
     "output_type": "execute_result"
    }
   ],
   "source": [
    "leadership_list.shape"
   ]
  },
  {
   "cell_type": "markdown",
   "id": "e669b8b8",
   "metadata": {},
   "source": [
    "##### Flag creation"
   ]
  },
  {
   "cell_type": "code",
   "execution_count": 92,
   "id": "9a69911e",
   "metadata": {},
   "outputs": [],
   "source": [
    "leadership_list_flag = [True if any(y in x for y in leadership_list['index']) else False for x in alumni_join['index'].fillna('x')]"
   ]
  },
  {
   "cell_type": "code",
   "execution_count": 93,
   "id": "b89fd3a9",
   "metadata": {},
   "outputs": [],
   "source": [
    "alumni_join['leadership_list_flag'] = leadership_list_flag"
   ]
  },
  {
   "cell_type": "code",
   "execution_count": 94,
   "id": "103dafe2",
   "metadata": {
    "scrolled": true
   },
   "outputs": [
    {
     "data": {
      "text/plain": [
       "False    1838\n",
       "True       44\n",
       "Name: leadership_list_flag, dtype: int64"
      ]
     },
     "execution_count": 94,
     "metadata": {},
     "output_type": "execute_result"
    }
   ],
   "source": [
    "alumni_join['leadership_list_flag'].value_counts()"
   ]
  },
  {
   "cell_type": "markdown",
   "id": "eeba9375",
   "metadata": {},
   "source": [
    "leadership_list.to_excel('/Users/gcdyw9/Documents/email_lists/LEADERSHIP_LIST_08_29_2022.xlsx')"
   ]
  },
  {
   "cell_type": "markdown",
   "id": "db4fdae8",
   "metadata": {},
   "source": [
    "### Missouri"
   ]
  },
  {
   "cell_type": "code",
   "execution_count": 95,
   "id": "749e28df",
   "metadata": {},
   "outputs": [],
   "source": [
    "missouri_list = alumni_join.loc[alumni_join[\"state\"].fillna('').str.contains((\"MO\"), case=False),('index','EMAIL_1')]"
   ]
  },
  {
   "cell_type": "code",
   "execution_count": 96,
   "id": "2aafc619",
   "metadata": {},
   "outputs": [
    {
     "data": {
      "text/plain": [
       "(19, 2)"
      ]
     },
     "execution_count": 96,
     "metadata": {},
     "output_type": "execute_result"
    }
   ],
   "source": [
    "missouri_list.shape"
   ]
  },
  {
   "cell_type": "markdown",
   "id": "8f5bc14d",
   "metadata": {},
   "source": [
    "##### Flag creation"
   ]
  },
  {
   "cell_type": "code",
   "execution_count": 97,
   "id": "eb4c95e9",
   "metadata": {},
   "outputs": [],
   "source": [
    "missouri_list_flag = [True if any(y in x for y in missouri_list['index']) else False for x in alumni_join['index'].fillna('x')]"
   ]
  },
  {
   "cell_type": "code",
   "execution_count": 98,
   "id": "589e4fdb",
   "metadata": {},
   "outputs": [],
   "source": [
    "alumni_join['missouri_list_flag'] = missouri_list_flag"
   ]
  },
  {
   "cell_type": "code",
   "execution_count": 99,
   "id": "be4b45cf",
   "metadata": {
    "scrolled": true
   },
   "outputs": [
    {
     "data": {
      "text/plain": [
       "False    1863\n",
       "True       19\n",
       "Name: missouri_list_flag, dtype: int64"
      ]
     },
     "execution_count": 99,
     "metadata": {},
     "output_type": "execute_result"
    }
   ],
   "source": [
    "alumni_join['missouri_list_flag'].value_counts()"
   ]
  },
  {
   "cell_type": "markdown",
   "id": "f86e56d4",
   "metadata": {},
   "source": [
    "missouri_list.to_excel('/Users/gcdyw9/Documents/email_lists/MISSOURI_LIST_08_29_2022.xlsx')"
   ]
  },
  {
   "cell_type": "markdown",
   "id": "20be12f5",
   "metadata": {},
   "source": [
    "### Multiple Outlets"
   ]
  },
  {
   "cell_type": "code",
   "execution_count": 100,
   "id": "d269d924",
   "metadata": {},
   "outputs": [],
   "source": [
    "multiple_outlets_list = alumni_join.loc[alumni_join[\"number_outlets\"]>1,('index','EMAIL_1')]"
   ]
  },
  {
   "cell_type": "code",
   "execution_count": 101,
   "id": "5480e6cb",
   "metadata": {},
   "outputs": [
    {
     "data": {
      "text/plain": [
       "(96, 2)"
      ]
     },
     "execution_count": 101,
     "metadata": {},
     "output_type": "execute_result"
    }
   ],
   "source": [
    "multiple_outlets_list.shape"
   ]
  },
  {
   "cell_type": "markdown",
   "id": "d1221503",
   "metadata": {},
   "source": [
    "##### Flag creation"
   ]
  },
  {
   "cell_type": "code",
   "execution_count": 102,
   "id": "ede27560",
   "metadata": {},
   "outputs": [],
   "source": [
    "multiple_outlets_list_flag = [True if any(y in x for y in multiple_outlets_list['index'].astype(str)) else False for x in alumni_join['index'].fillna('x')]"
   ]
  },
  {
   "cell_type": "code",
   "execution_count": 103,
   "id": "393e2782",
   "metadata": {},
   "outputs": [],
   "source": [
    "alumni_join['multiple_outlets_list_flag'] = multiple_outlets_list_flag"
   ]
  },
  {
   "cell_type": "code",
   "execution_count": 104,
   "id": "d41c7f55",
   "metadata": {},
   "outputs": [
    {
     "data": {
      "text/plain": [
       "False    1787\n",
       "True       95\n",
       "Name: multiple_outlets_list_flag, dtype: int64"
      ]
     },
     "execution_count": 104,
     "metadata": {},
     "output_type": "execute_result"
    }
   ],
   "source": [
    "alumni_join['multiple_outlets_list_flag'].value_counts()"
   ]
  },
  {
   "cell_type": "markdown",
   "id": "a47df6f1",
   "metadata": {},
   "source": [
    "multiple_outlets_list.to_excel('/Users/gcdyw9/Documents/email_lists/MULTIPLE_OUTLETS_LIST_08_26_2022.xlsx')"
   ]
  },
  {
   "cell_type": "markdown",
   "id": "947e5d51",
   "metadata": {},
   "source": [
    "### Education"
   ]
  },
  {
   "cell_type": "markdown",
   "id": "31f9f849",
   "metadata": {},
   "source": [
    "alumni_form[\"Please select your highest level of education\"].value_counts()"
   ]
  },
  {
   "cell_type": "markdown",
   "id": "27015fc6",
   "metadata": {},
   "source": [
    "alumni_form.loc[alumni_form[\"Please select your highest level of education\"]==\"Bachelor's Degree\",'zip_avg_income'].mean()"
   ]
  },
  {
   "cell_type": "markdown",
   "id": "49da6027",
   "metadata": {},
   "source": [
    "alumni_form.loc[alumni_form[\"Please select your highest level of education\"]==\"Master's Degree\",'zip_avg_income'].mean()"
   ]
  },
  {
   "cell_type": "markdown",
   "id": "38eeac2e",
   "metadata": {},
   "source": [
    "alumni_form.loc[alumni_form[\"Please select your highest level of education\"]==\"Law Degree\",'zip_avg_income'].mean()"
   ]
  },
  {
   "cell_type": "markdown",
   "id": "d1ff447b",
   "metadata": {},
   "source": [
    "alumni_form.loc[alumni_form[\"Please select your highest level of education\"]==\"PhD\",'zip_avg_income'].mean()"
   ]
  },
  {
   "cell_type": "markdown",
   "id": "9701147d",
   "metadata": {},
   "source": [
    "alumni_form.loc[alumni_form[\"Please select your highest level of education\"]==\"Master's Degree, working on M.D.\",'zip_avg_income'].mean()"
   ]
  },
  {
   "cell_type": "markdown",
   "id": "00dfe06c",
   "metadata": {},
   "source": [
    "missouri_list = alumni_form.loc[alumni_form[\"state\"].str.contains((\"MO\"), case=False),('Full name','Non-work email')]"
   ]
  },
  {
   "cell_type": "markdown",
   "id": "9c5c0519",
   "metadata": {},
   "source": [
    "missouri_list.shape"
   ]
  },
  {
   "cell_type": "markdown",
   "id": "8396eac2",
   "metadata": {},
   "source": [
    "missouri_list.to_excel('/Users/gcdyw9/Documents/email_lists/MISSOURI_LIST_08_26_2022.xlsx')"
   ]
  },
  {
   "cell_type": "markdown",
   "id": "5aca566b",
   "metadata": {},
   "source": [
    "### Current Leadership Position"
   ]
  },
  {
   "cell_type": "code",
   "execution_count": 105,
   "id": "fa94b66c",
   "metadata": {},
   "outputs": [],
   "source": [
    "current_role_list = alumni_join.loc[alumni_join[\"Current role and organization\"].fillna(\"\").str.contains((\"editor|director|manager|senior\"), case=False),('index','EMAIL_1')]"
   ]
  },
  {
   "cell_type": "code",
   "execution_count": 106,
   "id": "b0f66af4",
   "metadata": {},
   "outputs": [
    {
     "data": {
      "text/plain": [
       "(29, 2)"
      ]
     },
     "execution_count": 106,
     "metadata": {},
     "output_type": "execute_result"
    }
   ],
   "source": [
    "current_role_list.shape"
   ]
  },
  {
   "cell_type": "markdown",
   "id": "1754d105",
   "metadata": {},
   "source": [
    "##### Flag creation"
   ]
  },
  {
   "cell_type": "code",
   "execution_count": 107,
   "id": "5c0cfff7",
   "metadata": {},
   "outputs": [],
   "source": [
    "current_role_list_flag = [True if any(y in x for y in current_role_list['index']) else False for x in alumni_join['index'].fillna('x')]"
   ]
  },
  {
   "cell_type": "code",
   "execution_count": 108,
   "id": "3ffdbb05",
   "metadata": {},
   "outputs": [],
   "source": [
    "alumni_join['current_role_list_flag'] = current_role_list_flag"
   ]
  },
  {
   "cell_type": "code",
   "execution_count": 109,
   "id": "65c22421",
   "metadata": {},
   "outputs": [
    {
     "data": {
      "text/plain": [
       "False    1853\n",
       "True       29\n",
       "Name: current_role_list_flag, dtype: int64"
      ]
     },
     "execution_count": 109,
     "metadata": {},
     "output_type": "execute_result"
    }
   ],
   "source": [
    "alumni_join['current_role_list_flag'].value_counts()"
   ]
  },
  {
   "cell_type": "markdown",
   "id": "e30ccb8e",
   "metadata": {},
   "source": [
    "current_role_list.to_excel('/Users/gcdyw9/Documents/email_lists/CURRENT_ROLE_LIST_08_29_2022.xlsx')"
   ]
  },
  {
   "cell_type": "markdown",
   "id": "7f7379dc",
   "metadata": {},
   "source": [
    "### Affluent Location"
   ]
  },
  {
   "cell_type": "code",
   "execution_count": 110,
   "id": "c8b45e9b",
   "metadata": {},
   "outputs": [],
   "source": [
    "affluent_list = alumni_join.loc[alumni_join[\"zip_avg_income\"]>=100,('index','EMAIL_1')]"
   ]
  },
  {
   "cell_type": "code",
   "execution_count": 111,
   "id": "8d1941e9",
   "metadata": {},
   "outputs": [
    {
     "data": {
      "text/plain": [
       "(29, 2)"
      ]
     },
     "execution_count": 111,
     "metadata": {},
     "output_type": "execute_result"
    }
   ],
   "source": [
    "affluent_list.shape"
   ]
  },
  {
   "cell_type": "markdown",
   "id": "660ce272",
   "metadata": {},
   "source": [
    "##### Flag creation"
   ]
  },
  {
   "cell_type": "code",
   "execution_count": 112,
   "id": "ddac6176",
   "metadata": {},
   "outputs": [],
   "source": [
    "affluent_list_flag = [True if any(y in x for y in affluent_list['index']) else False for x in alumni_join['index'].fillna('x')]"
   ]
  },
  {
   "cell_type": "code",
   "execution_count": 113,
   "id": "87242db4",
   "metadata": {},
   "outputs": [],
   "source": [
    "alumni_join['affluent_list_flag'] = affluent_list_flag"
   ]
  },
  {
   "cell_type": "code",
   "execution_count": 114,
   "id": "e72ac8a7",
   "metadata": {},
   "outputs": [
    {
     "data": {
      "text/plain": [
       "False    1853\n",
       "True       29\n",
       "Name: affluent_list_flag, dtype: int64"
      ]
     },
     "execution_count": 114,
     "metadata": {},
     "output_type": "execute_result"
    }
   ],
   "source": [
    "alumni_join['affluent_list_flag'].value_counts()"
   ]
  },
  {
   "cell_type": "markdown",
   "id": "6d42f2c9",
   "metadata": {},
   "source": [
    "affluent_list.to_excel('/Users/gcdyw9/Documents/email_lists/AFFLUENT_LIST_08_29_2022.xlsx')"
   ]
  },
  {
   "cell_type": "markdown",
   "id": "a5fe1b4b",
   "metadata": {},
   "source": [
    "### No form response"
   ]
  },
  {
   "cell_type": "code",
   "execution_count": 115,
   "id": "d79d99f3",
   "metadata": {},
   "outputs": [],
   "source": [
    "no_form = alumni_join.loc[alumni_join[\"form_response\"]==False,('index','EMAIL_1')]"
   ]
  },
  {
   "cell_type": "code",
   "execution_count": 116,
   "id": "6c8136ef",
   "metadata": {},
   "outputs": [
    {
     "data": {
      "text/plain": [
       "(1803, 2)"
      ]
     },
     "execution_count": 116,
     "metadata": {},
     "output_type": "execute_result"
    }
   ],
   "source": [
    "no_form.shape"
   ]
  },
  {
   "cell_type": "markdown",
   "id": "11f457b6",
   "metadata": {},
   "source": [
    "no_form.to_excel('/Users/gcdyw9/Documents/email_lists/NO_FORM_08_29_2022.xlsx')"
   ]
  },
  {
   "cell_type": "markdown",
   "id": "cfa8e5a1",
   "metadata": {},
   "source": [
    "______"
   ]
  },
  {
   "cell_type": "markdown",
   "id": "24973bac",
   "metadata": {},
   "source": [
    "# Feature creation"
   ]
  },
  {
   "cell_type": "markdown",
   "id": "737dc6e1",
   "metadata": {},
   "source": [
    "#### Number of engagement points"
   ]
  },
  {
   "cell_type": "code",
   "execution_count": 117,
   "id": "fd5bc7ee",
   "metadata": {},
   "outputs": [
    {
     "data": {
      "text/plain": [
       "array(['index', 'EMAIL_1', 'MANEATER_ALUM_FLAG', 'KCOU_ALUM_FLAG',\n",
       "       'MUTV_ALUM_FLAG', 'FIRST_NAME', 'LAST_NAME', 'Timestamp',\n",
       "       'Non-work email', 'Please select your highest level of education',\n",
       "       'Undergraduate graduation year', 'Current zip code',\n",
       "       'Outlet(s) you worked at',\n",
       "       'Position(s) you held within the outlet(s) chosen above',\n",
       "       'Years active at your Mizzou Student Media outlet',\n",
       "       'Current role and organization',\n",
       "       \"Indicate the opportunities described above that you're interested in pursuing.\",\n",
       "       'form_response', 'state', 'zip_avg_income', 'number_outlets',\n",
       "       'newsletter_list_flag', 'mentorship_list_flag',\n",
       "       'auditing_list_flag', 'apparel_list_flag', 'workshop_list_flag',\n",
       "       'networking_list_flag', 'homecoming_list_flag',\n",
       "       'facebook_list_flag', 'scholarship_list_flag',\n",
       "       'advisory_list_flag', 'leadership_list_flag', 'missouri_list_flag',\n",
       "       'multiple_outlets_list_flag', 'current_role_list_flag',\n",
       "       'affluent_list_flag'], dtype=object)"
      ]
     },
     "execution_count": 117,
     "metadata": {},
     "output_type": "execute_result"
    }
   ],
   "source": [
    "alumni_join.columns.values"
   ]
  },
  {
   "cell_type": "code",
   "execution_count": 118,
   "id": "d533c147",
   "metadata": {},
   "outputs": [],
   "source": [
    "alumni_join['engagement_points'] = alumni_join[['newsletter_list_flag',\n",
    "       'mentorship_list_flag', 'auditing_list_flag', 'apparel_list_flag',\n",
    "       'workshop_list_flag', 'networking_list_flag',\n",
    "       'homecoming_list_flag', 'facebook_list_flag',\n",
    "       'scholarship_list_flag', 'advisory_list_flag',\n",
    "       'leadership_list_flag']].sum(axis=1)"
   ]
  },
  {
   "cell_type": "code",
   "execution_count": 119,
   "id": "f3c5326a",
   "metadata": {},
   "outputs": [
    {
     "data": {
      "text/plain": [
       "<AxesSubplot:>"
      ]
     },
     "execution_count": 119,
     "metadata": {},
     "output_type": "execute_result"
    },
    {
     "data": {
      "image/png": "[encoded data removed]",
      "text/plain": [
       "<Figure size 432x288 with 1 Axes>"
      ]
     },
     "metadata": {
      "needs_background": "light"
     },
     "output_type": "display_data"
    }
   ],
   "source": [
    "alumni_join.loc[alumni_join['engagement_points']>0,'engagement_points'].hist(bins=11)"
   ]
  },
  {
   "cell_type": "markdown",
   "id": "44c56ba2",
   "metadata": {},
   "source": [
    "### Engaged"
   ]
  },
  {
   "cell_type": "code",
   "execution_count": 120,
   "id": "5dd882be",
   "metadata": {},
   "outputs": [],
   "source": [
    "engaged_list = alumni_join.loc[alumni_join[\"engagement_points\"]>=7,('index','EMAIL_1')]"
   ]
  },
  {
   "cell_type": "code",
   "execution_count": 121,
   "id": "fd680db1",
   "metadata": {},
   "outputs": [
    {
     "data": {
      "text/plain": [
       "(24, 2)"
      ]
     },
     "execution_count": 121,
     "metadata": {},
     "output_type": "execute_result"
    }
   ],
   "source": [
    "engaged_list.shape"
   ]
  },
  {
   "cell_type": "markdown",
   "id": "7dce08d1",
   "metadata": {},
   "source": [
    "##### Flag creation"
   ]
  },
  {
   "cell_type": "code",
   "execution_count": 122,
   "id": "2c4b267e",
   "metadata": {},
   "outputs": [],
   "source": [
    "engaged_list_flag = [True if any(y in x for y in engaged_list['index']) else False for x in alumni_join['index'].fillna('x')]"
   ]
  },
  {
   "cell_type": "code",
   "execution_count": 123,
   "id": "8dc118f4",
   "metadata": {},
   "outputs": [],
   "source": [
    "alumni_join['engaged_list_flag'] = engaged_list_flag"
   ]
  },
  {
   "cell_type": "code",
   "execution_count": 124,
   "id": "ca7de787",
   "metadata": {},
   "outputs": [
    {
     "data": {
      "text/plain": [
       "False    1858\n",
       "True       24\n",
       "Name: engaged_list_flag, dtype: int64"
      ]
     },
     "execution_count": 124,
     "metadata": {},
     "output_type": "execute_result"
    }
   ],
   "source": [
    "alumni_join['engaged_list_flag'].value_counts()"
   ]
  },
  {
   "cell_type": "code",
   "execution_count": 125,
   "id": "fb2d4c32",
   "metadata": {},
   "outputs": [
    {
     "data": {
      "text/plain": [
       "(1882, 38)"
      ]
     },
     "execution_count": 125,
     "metadata": {},
     "output_type": "execute_result"
    }
   ],
   "source": [
    "alumni_join.shape"
   ]
  },
  {
   "cell_type": "markdown",
   "id": "f622e8d1",
   "metadata": {},
   "source": [
    "engaged_list.to_excel('/Users/gcdyw9/Documents/email_lists/HIGHLY_ENGAGED_LIST_08_29_2022.xlsx')"
   ]
  },
  {
   "cell_type": "markdown",
   "id": "3414632e",
   "metadata": {},
   "source": [
    "_____"
   ]
  }
 ],
 "metadata": {
  "kernelspec": {
   "display_name": "Python 3",
   "language": "python",
   "name": "python3"
  },
  "language_info": {
   "codemirror_mode": {
    "name": "ipython",
    "version": 3
   },
   "file_extension": ".py",
   "mimetype": "text/x-python",
   "name": "python",
   "nbconvert_exporter": "python",
   "pygments_lexer": "ipython3",
   "version": "3.8.8"
  }
 },
 "nbformat": 4,
 "nbformat_minor": 5
}
