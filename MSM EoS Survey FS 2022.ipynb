{
 "cells": [
  {
   "cell_type": "code",
   "execution_count": 2,
   "id": "e3db2e2d",
   "metadata": {},
   "outputs": [],
   "source": [
    "import pandas as pd\n",
    "pd.options.display.max_columns = 100"
   ]
  },
  {
   "cell_type": "code",
   "execution_count": 22,
   "id": "a0c5856e",
   "metadata": {},
   "outputs": [],
   "source": [
    "data = pd.read_csv('../MSM_Survey_FS22.csv')"
   ]
  },
  {
   "cell_type": "code",
   "execution_count": 23,
   "id": "19b3d701",
   "metadata": {},
   "outputs": [
    {
     "data": {
      "text/html": [
       "<div>\n",
       "<style scoped>\n",
       "    .dataframe tbody tr th:only-of-type {\n",
       "        vertical-align: middle;\n",
       "    }\n",
       "\n",
       "    .dataframe tbody tr th {\n",
       "        vertical-align: top;\n",
       "    }\n",
       "\n",
       "    .dataframe thead th {\n",
       "        text-align: right;\n",
       "    }\n",
       "</style>\n",
       "<table border=\"1\" class=\"dataframe\">\n",
       "  <thead>\n",
       "    <tr style=\"text-align: right;\">\n",
       "      <th></th>\n",
       "      <th>Start Date</th>\n",
       "      <th>End Date</th>\n",
       "      <th>Response Type</th>\n",
       "      <th>IP Address</th>\n",
       "      <th>Progress</th>\n",
       "      <th>Duration (in seconds)</th>\n",
       "      <th>Finished</th>\n",
       "      <th>Recorded Date</th>\n",
       "      <th>Response ID</th>\n",
       "      <th>Recipient Last Name</th>\n",
       "      <th>Location Latitude</th>\n",
       "      <th>Location Longitude</th>\n",
       "      <th>Distribution Channel</th>\n",
       "      <th>User Language</th>\n",
       "      <th>How would you best describe your gender identity? - Selected Choice</th>\n",
       "      <th>How would you best describe your gender identity? - Self Identify (please specify) - Text</th>\n",
       "      <th>How would you best describe your racial/ethnic identity?</th>\n",
       "      <th>3.\\tIs there any other demographic information you would like to share?</th>\n",
       "      <th>What is your current class standing?</th>\n",
       "      <th>In which of the following schools or colleges at the University of Missouri are you currently enrolled? (Check all that apply) - Selected Choice</th>\n",
       "      <th>In which of the following schools or colleges at the University of Missouri are you currently enrolled? (Check all that apply) - Other (please specify) - Text</th>\n",
       "      <th>Which student media entity did you work for this semester? (Check all that apply)</th>\n",
       "      <th>Which section(s) or department(s) within your outlet do you work for? (Check all that apply)</th>\n",
       "      <th>What is the highest position you hold within an MSM outlet?</th>\n",
       "      <th>How many semesters have you worked at Mizzou Student Media? (Including the current semester)</th>\n",
       "      <th>Are you planning to return next semester? - Selected Choice</th>\n",
       "      <th>Are you planning to return next semester? - No, please explain - Text</th>\n",
       "      <th>Do you feel that Mizzou Student Media is a safe, inclusive, equitable space? - Selected Choice</th>\n",
       "      <th>Do you feel that Mizzou Student Media is a safe, inclusive, equitable space? - Yes (please explain) - Text</th>\n",
       "      <th>Do you feel that Mizzou Student Media is a safe, inclusive, equitable space? - No (please explain) - Text</th>\n",
       "      <th>Which of the following skills did you learn from your experience in Mizzou Student Media?  (Check all that apply) - Selected Choice</th>\n",
       "      <th>Which of the following skills did you learn from your experience in Mizzou Student Media?  (Check all that apply) - Other - Please specify - Text</th>\n",
       "      <th>On a scale of 1-5, how satisfied are you with the executive leadership of your outlet (General Managers, Editor-in-Chief/Managing Editor)? - Leadership</th>\n",
       "      <th>On a scale of 1-5, how would you rate your knowledge of the equipment at your outlet? - Equipment Knowledge</th>\n",
       "      <th>On a scale of 1-5, how would you rate the effectiveness of training and onboarding at your outlet? - Training &amp; Onboarding</th>\n",
       "      <th>On a scale of 1-5, how effective is the Mizzou Student Media Team in supporting the efforts and operations of your outlet? - MSM Team</th>\n",
       "      <th>How would you describe the culture of your outlet? - Culture</th>\n",
       "      <th>Please explain at least one way in which your media outlet can work to improve your learning experience.</th>\n",
       "      <th>How do you believe your media outlet can improve its coverage?</th>\n",
       "      <th>Please leave a shoutout for someone who made a positive impact on your Mizzou Student Media experience this semester.</th>\n",
       "      <th>Is there anything else you would like to share?</th>\n",
       "    </tr>\n",
       "  </thead>\n",
       "  <tbody>\n",
       "    <tr>\n",
       "      <th>0</th>\n",
       "      <td>11/28/22 14:44</td>\n",
       "      <td>11/28/22 15:33</td>\n",
       "      <td>IP Address</td>\n",
       "      <td>161.130.189.202</td>\n",
       "      <td>100</td>\n",
       "      <td>2914</td>\n",
       "      <td>True</td>\n",
       "      <td>11/28/22 15:33</td>\n",
       "      <td>R_2Yr1vpN2RqqcwH9</td>\n",
       "      <td>NaN</td>\n",
       "      <td>38.9361</td>\n",
       "      <td>-92.3056</td>\n",
       "      <td>anonymous</td>\n",
       "      <td>EN</td>\n",
       "      <td>Self Identify (please specify)</td>\n",
       "      <td>Non-binary man</td>\n",
       "      <td>White</td>\n",
       "      <td>NaN</td>\n",
       "      <td>Junior</td>\n",
       "      <td>College of Arts and Science (includes the Scho...</td>\n",
       "      <td>NaN</td>\n",
       "      <td>MUTV</td>\n",
       "      <td>NaN</td>\n",
       "      <td>Outlet executive (GM, AGM, EIC, ME)</td>\n",
       "      <td>5</td>\n",
       "      <td>No, please explain</td>\n",
       "      <td>With MUTV folding, I don't really see a place ...</td>\n",
       "      <td>Yes (please explain)</td>\n",
       "      <td>I'm not the right person to ask, because any i...</td>\n",
       "      <td>NaN</td>\n",
       "      <td>Collaboration,Communication,Leadership,Prepara...</td>\n",
       "      <td>NaN</td>\n",
       "      <td>3.0</td>\n",
       "      <td>2.0</td>\n",
       "      <td>3.0</td>\n",
       "      <td>4.0</td>\n",
       "      <td>3.0</td>\n",
       "      <td>N/A - media outlet no longer exists</td>\n",
       "      <td>N/A - media outlet no longer exists</td>\n",
       "      <td>Shoutout to the entire MSM exec board and MSM ...</td>\n",
       "      <td>NaN</td>\n",
       "    </tr>\n",
       "    <tr>\n",
       "      <th>1</th>\n",
       "      <td>11/28/22 19:46</td>\n",
       "      <td>11/28/22 19:47</td>\n",
       "      <td>IP Address</td>\n",
       "      <td>174.210.3.36</td>\n",
       "      <td>100</td>\n",
       "      <td>113</td>\n",
       "      <td>True</td>\n",
       "      <td>11/28/22 19:47</td>\n",
       "      <td>R_xzT7ZuuwwEV3IGJ</td>\n",
       "      <td>NaN</td>\n",
       "      <td>38.6154</td>\n",
       "      <td>-90.2159</td>\n",
       "      <td>anonymous</td>\n",
       "      <td>EN</td>\n",
       "      <td>Woman</td>\n",
       "      <td>NaN</td>\n",
       "      <td>White</td>\n",
       "      <td>NaN</td>\n",
       "      <td>Sophomore</td>\n",
       "      <td>School of Journalism</td>\n",
       "      <td>NaN</td>\n",
       "      <td>Maneater,KCOU</td>\n",
       "      <td>News,Opinion,Visuals</td>\n",
       "      <td>Outlet executive board member (KCOU, MUTV, Man...</td>\n",
       "      <td>2</td>\n",
       "      <td>No, please explain</td>\n",
       "      <td>NaN</td>\n",
       "      <td>Yes (please explain)</td>\n",
       "      <td>NaN</td>\n",
       "      <td>NaN</td>\n",
       "      <td>Live radio production</td>\n",
       "      <td>NaN</td>\n",
       "      <td>5.0</td>\n",
       "      <td>NaN</td>\n",
       "      <td>NaN</td>\n",
       "      <td>1.0</td>\n",
       "      <td>3.0</td>\n",
       "      <td>NaN</td>\n",
       "      <td>NaN</td>\n",
       "      <td>NaN</td>\n",
       "      <td>NaN</td>\n",
       "    </tr>\n",
       "    <tr>\n",
       "      <th>2</th>\n",
       "      <td>11/28/22 19:50</td>\n",
       "      <td>11/28/22 19:55</td>\n",
       "      <td>IP Address</td>\n",
       "      <td>173.30.197.174</td>\n",
       "      <td>100</td>\n",
       "      <td>311</td>\n",
       "      <td>True</td>\n",
       "      <td>11/28/22 19:55</td>\n",
       "      <td>R_3O8PdtFyItEyDeh</td>\n",
       "      <td>NaN</td>\n",
       "      <td>38.9361</td>\n",
       "      <td>-92.3056</td>\n",
       "      <td>anonymous</td>\n",
       "      <td>EN</td>\n",
       "      <td>Man</td>\n",
       "      <td>NaN</td>\n",
       "      <td>White</td>\n",
       "      <td>NaN</td>\n",
       "      <td>Sophomore</td>\n",
       "      <td>School of Journalism</td>\n",
       "      <td>NaN</td>\n",
       "      <td>KCOU</td>\n",
       "      <td>Sports</td>\n",
       "      <td>Outlet executive board member (KCOU, MUTV, Man...</td>\n",
       "      <td>3</td>\n",
       "      <td>Yes</td>\n",
       "      <td>NaN</td>\n",
       "      <td>Yes (please explain)</td>\n",
       "      <td>Yes, but we can continue to improve.</td>\n",
       "      <td>NaN</td>\n",
       "      <td>Adobe Audition,Adobe Photoshop,Adobe Premiere,...</td>\n",
       "      <td>NaN</td>\n",
       "      <td>5.0</td>\n",
       "      <td>4.0</td>\n",
       "      <td>5.0</td>\n",
       "      <td>4.0</td>\n",
       "      <td>4.0</td>\n",
       "      <td>NaN</td>\n",
       "      <td>Sending crews to more out-of-town events.</td>\n",
       "      <td>Jack McGrath. He is a fantastic leader and eve...</td>\n",
       "      <td>NaN</td>\n",
       "    </tr>\n",
       "    <tr>\n",
       "      <th>3</th>\n",
       "      <td>11/28/22 19:54</td>\n",
       "      <td>11/28/22 19:58</td>\n",
       "      <td>IP Address</td>\n",
       "      <td>173.31.207.246</td>\n",
       "      <td>100</td>\n",
       "      <td>232</td>\n",
       "      <td>True</td>\n",
       "      <td>11/28/22 19:58</td>\n",
       "      <td>R_UEY6UajKM5DB8Qx</td>\n",
       "      <td>NaN</td>\n",
       "      <td>38.9933</td>\n",
       "      <td>-92.3078</td>\n",
       "      <td>anonymous</td>\n",
       "      <td>EN</td>\n",
       "      <td>Woman</td>\n",
       "      <td>NaN</td>\n",
       "      <td>White</td>\n",
       "      <td>NaN</td>\n",
       "      <td>Sophomore</td>\n",
       "      <td>School of Journalism</td>\n",
       "      <td>NaN</td>\n",
       "      <td>KCOU</td>\n",
       "      <td>Music</td>\n",
       "      <td>Staff member</td>\n",
       "      <td>1</td>\n",
       "      <td>Yes</td>\n",
       "      <td>NaN</td>\n",
       "      <td>Yes (please explain)</td>\n",
       "      <td>everyone has been really kind and loving so fa...</td>\n",
       "      <td>NaN</td>\n",
       "      <td>Audio editing,Audio production,Data journalism...</td>\n",
       "      <td>NaN</td>\n",
       "      <td>4.0</td>\n",
       "      <td>3.0</td>\n",
       "      <td>3.0</td>\n",
       "      <td>5.0</td>\n",
       "      <td>5.0</td>\n",
       "      <td>being more clear on training? maybe? or just o...</td>\n",
       "      <td>i think they do a good job, maybe requiring a ...</td>\n",
       "      <td>i really love working with anna demeyer the mu...</td>\n",
       "      <td>NaN</td>\n",
       "    </tr>\n",
       "    <tr>\n",
       "      <th>4</th>\n",
       "      <td>11/29/22 9:07</td>\n",
       "      <td>11/29/22 9:16</td>\n",
       "      <td>IP Address</td>\n",
       "      <td>161.130.189.240</td>\n",
       "      <td>100</td>\n",
       "      <td>536</td>\n",
       "      <td>True</td>\n",
       "      <td>11/29/22 9:16</td>\n",
       "      <td>R_3Di3fGaqhDs26dL</td>\n",
       "      <td>NaN</td>\n",
       "      <td>38.9361</td>\n",
       "      <td>-92.3056</td>\n",
       "      <td>anonymous</td>\n",
       "      <td>EN</td>\n",
       "      <td>Woman</td>\n",
       "      <td>NaN</td>\n",
       "      <td>White</td>\n",
       "      <td>I'm Jewish</td>\n",
       "      <td>Junior</td>\n",
       "      <td>College of Arts and Science (includes the Scho...</td>\n",
       "      <td>NaN</td>\n",
       "      <td>MUTV,KCOU</td>\n",
       "      <td>News,Social Media</td>\n",
       "      <td>Outlet executive board member (KCOU, MUTV, Man...</td>\n",
       "      <td>5</td>\n",
       "      <td>Yes</td>\n",
       "      <td>NaN</td>\n",
       "      <td>Yes (please explain)</td>\n",
       "      <td>MSM has been extremely welcoming and encouragi...</td>\n",
       "      <td>NaN</td>\n",
       "      <td>Adobe Audition,Adobe Illustrator,Adobe Photosh...</td>\n",
       "      <td>NaN</td>\n",
       "      <td>5.0</td>\n",
       "      <td>4.0</td>\n",
       "      <td>NaN</td>\n",
       "      <td>3.0</td>\n",
       "      <td>5.0</td>\n",
       "      <td>At this point, I'm honestly still doing KCOU f...</td>\n",
       "      <td>I think we could definitely emphasize original...</td>\n",
       "      <td>Harshawn Ratanpal has been great to work with ...</td>\n",
       "      <td>I think all the outlets have had a tough time ...</td>\n",
       "    </tr>\n",
       "  </tbody>\n",
       "</table>\n",
       "</div>"
      ],
      "text/plain": [
       "       Start Date        End Date Response Type       IP Address  Progress  \\\n",
       "0  11/28/22 14:44  11/28/22 15:33    IP Address  161.130.189.202       100   \n",
       "1  11/28/22 19:46  11/28/22 19:47    IP Address     174.210.3.36       100   \n",
       "2  11/28/22 19:50  11/28/22 19:55    IP Address   173.30.197.174       100   \n",
       "3  11/28/22 19:54  11/28/22 19:58    IP Address   173.31.207.246       100   \n",
       "4   11/29/22 9:07   11/29/22 9:16    IP Address  161.130.189.240       100   \n",
       "\n",
       "   Duration (in seconds)  Finished   Recorded Date        Response ID  \\\n",
       "0                   2914      True  11/28/22 15:33  R_2Yr1vpN2RqqcwH9   \n",
       "1                    113      True  11/28/22 19:47  R_xzT7ZuuwwEV3IGJ   \n",
       "2                    311      True  11/28/22 19:55  R_3O8PdtFyItEyDeh   \n",
       "3                    232      True  11/28/22 19:58  R_UEY6UajKM5DB8Qx   \n",
       "4                    536      True   11/29/22 9:16  R_3Di3fGaqhDs26dL   \n",
       "\n",
       "   Recipient Last Name  Location Latitude  Location Longitude  \\\n",
       "0                  NaN            38.9361            -92.3056   \n",
       "1                  NaN            38.6154            -90.2159   \n",
       "2                  NaN            38.9361            -92.3056   \n",
       "3                  NaN            38.9933            -92.3078   \n",
       "4                  NaN            38.9361            -92.3056   \n",
       "\n",
       "  Distribution Channel User Language  \\\n",
       "0            anonymous            EN   \n",
       "1            anonymous            EN   \n",
       "2            anonymous            EN   \n",
       "3            anonymous            EN   \n",
       "4            anonymous            EN   \n",
       "\n",
       "  How would you best describe your gender identity? - Selected Choice  \\\n",
       "0                     Self Identify (please specify)                    \n",
       "1                                              Woman                    \n",
       "2                                                Man                    \n",
       "3                                              Woman                    \n",
       "4                                              Woman                    \n",
       "\n",
       "  How would you best describe your gender identity? - Self Identify (please specify) - Text  \\\n",
       "0                                     Non-binary man                                          \n",
       "1                                                NaN                                          \n",
       "2                                                NaN                                          \n",
       "3                                                NaN                                          \n",
       "4                                                NaN                                          \n",
       "\n",
       "  How would you best describe your racial/ethnic identity?  \\\n",
       "0                                              White         \n",
       "1                                              White         \n",
       "2                                              White         \n",
       "3                                              White         \n",
       "4                                              White         \n",
       "\n",
       "  3.\\tIs there any other demographic information you would like to share?  \\\n",
       "0                                                NaN                        \n",
       "1                                                NaN                        \n",
       "2                                                NaN                        \n",
       "3                                                NaN                        \n",
       "4                                         I'm Jewish                        \n",
       "\n",
       "  What is your current class standing?  \\\n",
       "0                               Junior   \n",
       "1                            Sophomore   \n",
       "2                            Sophomore   \n",
       "3                            Sophomore   \n",
       "4                               Junior   \n",
       "\n",
       "  In which of the following schools or colleges at the University of Missouri are you currently enrolled? (Check all that apply) - Selected Choice  \\\n",
       "0  College of Arts and Science (includes the Scho...                                                                                                 \n",
       "1                               School of Journalism                                                                                                 \n",
       "2                               School of Journalism                                                                                                 \n",
       "3                               School of Journalism                                                                                                 \n",
       "4  College of Arts and Science (includes the Scho...                                                                                                 \n",
       "\n",
       "  In which of the following schools or colleges at the University of Missouri are you currently enrolled? (Check all that apply) - Other (please specify) - Text  \\\n",
       "0                                                NaN                                                                                                               \n",
       "1                                                NaN                                                                                                               \n",
       "2                                                NaN                                                                                                               \n",
       "3                                                NaN                                                                                                               \n",
       "4                                                NaN                                                                                                               \n",
       "\n",
       "  Which student media entity did you work for this semester? (Check all that apply)  \\\n",
       "0                                               MUTV                                  \n",
       "1                                      Maneater,KCOU                                  \n",
       "2                                               KCOU                                  \n",
       "3                                               KCOU                                  \n",
       "4                                          MUTV,KCOU                                  \n",
       "\n",
       "  Which section(s) or department(s) within your outlet do you work for? (Check all that apply)  \\\n",
       "0                                                NaN                                             \n",
       "1                               News,Opinion,Visuals                                             \n",
       "2                                             Sports                                             \n",
       "3                                              Music                                             \n",
       "4                                  News,Social Media                                             \n",
       "\n",
       "  What is the highest position you hold within an MSM outlet?  \\\n",
       "0                Outlet executive (GM, AGM, EIC, ME)            \n",
       "1  Outlet executive board member (KCOU, MUTV, Man...            \n",
       "2  Outlet executive board member (KCOU, MUTV, Man...            \n",
       "3                                       Staff member            \n",
       "4  Outlet executive board member (KCOU, MUTV, Man...            \n",
       "\n",
       "  How many semesters have you worked at Mizzou Student Media? (Including the current semester)  \\\n",
       "0                                                  5                                             \n",
       "1                                                  2                                             \n",
       "2                                                  3                                             \n",
       "3                                                  1                                             \n",
       "4                                                  5                                             \n",
       "\n",
       "  Are you planning to return next semester? - Selected Choice  \\\n",
       "0                                 No, please explain            \n",
       "1                                 No, please explain            \n",
       "2                                                Yes            \n",
       "3                                                Yes            \n",
       "4                                                Yes            \n",
       "\n",
       "  Are you planning to return next semester? - No, please explain - Text  \\\n",
       "0  With MUTV folding, I don't really see a place ...                      \n",
       "1                                                NaN                      \n",
       "2                                                NaN                      \n",
       "3                                                NaN                      \n",
       "4                                                NaN                      \n",
       "\n",
       "  Do you feel that Mizzou Student Media is a safe, inclusive, equitable space? - Selected Choice  \\\n",
       "0                               Yes (please explain)                                               \n",
       "1                               Yes (please explain)                                               \n",
       "2                               Yes (please explain)                                               \n",
       "3                               Yes (please explain)                                               \n",
       "4                               Yes (please explain)                                               \n",
       "\n",
       "  Do you feel that Mizzou Student Media is a safe, inclusive, equitable space? - Yes (please explain) - Text  \\\n",
       "0  I'm not the right person to ask, because any i...                                                           \n",
       "1                                                NaN                                                           \n",
       "2               Yes, but we can continue to improve.                                                           \n",
       "3  everyone has been really kind and loving so fa...                                                           \n",
       "4  MSM has been extremely welcoming and encouragi...                                                           \n",
       "\n",
       "   Do you feel that Mizzou Student Media is a safe, inclusive, equitable space? - No (please explain) - Text  \\\n",
       "0                                                NaN                                                           \n",
       "1                                                NaN                                                           \n",
       "2                                                NaN                                                           \n",
       "3                                                NaN                                                           \n",
       "4                                                NaN                                                           \n",
       "\n",
       "  Which of the following skills did you learn from your experience in Mizzou Student Media?  (Check all that apply) - Selected Choice  \\\n",
       "0  Collaboration,Communication,Leadership,Prepara...                                                                                    \n",
       "1                              Live radio production                                                                                    \n",
       "2  Adobe Audition,Adobe Photoshop,Adobe Premiere,...                                                                                    \n",
       "3  Audio editing,Audio production,Data journalism...                                                                                    \n",
       "4  Adobe Audition,Adobe Illustrator,Adobe Photosh...                                                                                    \n",
       "\n",
       "  Which of the following skills did you learn from your experience in Mizzou Student Media?  (Check all that apply) - Other - Please specify - Text  \\\n",
       "0                                                NaN                                                                                                  \n",
       "1                                                NaN                                                                                                  \n",
       "2                                                NaN                                                                                                  \n",
       "3                                                NaN                                                                                                  \n",
       "4                                                NaN                                                                                                  \n",
       "\n",
       "   On a scale of 1-5, how satisfied are you with the executive leadership of your outlet (General Managers, Editor-in-Chief/Managing Editor)? - Leadership  \\\n",
       "0                                                3.0                                                                                                         \n",
       "1                                                5.0                                                                                                         \n",
       "2                                                5.0                                                                                                         \n",
       "3                                                4.0                                                                                                         \n",
       "4                                                5.0                                                                                                         \n",
       "\n",
       "   On a scale of 1-5, how would you rate your knowledge of the equipment at your outlet? - Equipment Knowledge  \\\n",
       "0                                                2.0                                                             \n",
       "1                                                NaN                                                             \n",
       "2                                                4.0                                                             \n",
       "3                                                3.0                                                             \n",
       "4                                                4.0                                                             \n",
       "\n",
       "   On a scale of 1-5, how would you rate the effectiveness of training and onboarding at your outlet? - Training & Onboarding  \\\n",
       "0                                                3.0                                                                            \n",
       "1                                                NaN                                                                            \n",
       "2                                                5.0                                                                            \n",
       "3                                                3.0                                                                            \n",
       "4                                                NaN                                                                            \n",
       "\n",
       "   On a scale of 1-5, how effective is the Mizzou Student Media Team in supporting the efforts and operations of your outlet? - MSM Team  \\\n",
       "0                                                4.0                                                                                       \n",
       "1                                                1.0                                                                                       \n",
       "2                                                4.0                                                                                       \n",
       "3                                                5.0                                                                                       \n",
       "4                                                3.0                                                                                       \n",
       "\n",
       "   How would you describe the culture of your outlet? - Culture  \\\n",
       "0                                                3.0              \n",
       "1                                                3.0              \n",
       "2                                                4.0              \n",
       "3                                                5.0              \n",
       "4                                                5.0              \n",
       "\n",
       "  Please explain at least one way in which your media outlet can work to improve your learning experience.  \\\n",
       "0                N/A - media outlet no longer exists                                                         \n",
       "1                                                NaN                                                         \n",
       "2                                                NaN                                                         \n",
       "3  being more clear on training? maybe? or just o...                                                         \n",
       "4  At this point, I'm honestly still doing KCOU f...                                                         \n",
       "\n",
       "  How do you believe your media outlet can improve its coverage?  \\\n",
       "0                N/A - media outlet no longer exists               \n",
       "1                                                NaN               \n",
       "2          Sending crews to more out-of-town events.               \n",
       "3  i think they do a good job, maybe requiring a ...               \n",
       "4  I think we could definitely emphasize original...               \n",
       "\n",
       "  Please leave a shoutout for someone who made a positive impact on your Mizzou Student Media experience this semester.  \\\n",
       "0  Shoutout to the entire MSM exec board and MSM ...                                                                      \n",
       "1                                                NaN                                                                      \n",
       "2  Jack McGrath. He is a fantastic leader and eve...                                                                      \n",
       "3  i really love working with anna demeyer the mu...                                                                      \n",
       "4  Harshawn Ratanpal has been great to work with ...                                                                      \n",
       "\n",
       "     Is there anything else you would like to share?  \n",
       "0                                                NaN  \n",
       "1                                                NaN  \n",
       "2                                                NaN  \n",
       "3                                                NaN  \n",
       "4  I think all the outlets have had a tough time ...  "
      ]
     },
     "execution_count": 23,
     "metadata": {},
     "output_type": "execute_result"
    }
   ],
   "source": [
    "data.head()"
   ]
  },
  {
   "cell_type": "code",
   "execution_count": 24,
   "id": "fcb89b37",
   "metadata": {},
   "outputs": [
    {
     "data": {
      "text/plain": [
       "array(['Start Date', 'End Date', 'Response Type', 'IP Address',\n",
       "       'Progress', 'Duration (in seconds)', 'Finished', 'Recorded Date',\n",
       "       'Response ID', 'Recipient Last Name', 'Location Latitude',\n",
       "       'Location Longitude', 'Distribution Channel', 'User Language',\n",
       "       'How would you best describe your gender identity? - Selected Choice',\n",
       "       'How would you best describe your gender identity? - Self Identify (please specify) - Text',\n",
       "       'How would you best describe your racial/ethnic identity?',\n",
       "       '3.\\tIs there any other demographic information you would like to share?',\n",
       "       'What is your current class standing?',\n",
       "       'In which of the following schools or colleges at the University of Missouri are you currently enrolled? (Check all that apply) - Selected Choice',\n",
       "       'In which of the following schools or colleges at the University of Missouri are you currently enrolled? (Check all that apply) - Other (please specify) - Text',\n",
       "       'Which student media entity did you work for this semester? (Check all that apply)',\n",
       "       'Which section(s) or department(s) within your outlet do you work for? (Check all that apply)',\n",
       "       'What is the highest position you hold within an MSM outlet?',\n",
       "       'How many semesters have you worked at Mizzou Student Media? (Including the current semester)',\n",
       "       'Are you planning to return next semester? - Selected Choice',\n",
       "       'Are you planning to return next semester? - No, please explain - Text',\n",
       "       'Do you feel that Mizzou Student Media is a safe, inclusive, equitable space? - Selected Choice',\n",
       "       'Do you feel that Mizzou Student Media is a safe, inclusive, equitable space? - Yes (please explain) - Text',\n",
       "       'Do you feel that Mizzou Student Media is a safe, inclusive, equitable space? - No (please explain) - Text',\n",
       "       'Which of the following skills did you learn from your experience in Mizzou Student Media?  (Check all that apply) - Selected Choice',\n",
       "       'Which of the following skills did you learn from your experience in Mizzou Student Media?  (Check all that apply) - Other - Please specify - Text',\n",
       "       'On a scale of 1-5, how satisfied are you with the executive leadership of your outlet (General Managers, Editor-in-Chief/Managing Editor)? - Leadership',\n",
       "       'On a scale of 1-5, how would you rate your knowledge of the equipment at your outlet? - Equipment Knowledge',\n",
       "       'On a scale of 1-5, how would you rate the effectiveness of training and onboarding at your outlet? - Training & Onboarding',\n",
       "       'On a scale of 1-5, how effective is the Mizzou Student Media Team in supporting the efforts and operations of your outlet? - MSM Team',\n",
       "       'How would you describe the culture of your outlet? - Culture',\n",
       "       'Please explain at least one way in which your media outlet can work to improve your learning experience.',\n",
       "       'How do you believe your media outlet can improve its coverage?',\n",
       "       'Please leave a shoutout for someone who made a positive impact on your Mizzou Student Media experience this semester.',\n",
       "       'Is there anything else you would like to share?'], dtype=object)"
      ]
     },
     "execution_count": 24,
     "metadata": {},
     "output_type": "execute_result"
    }
   ],
   "source": [
    "data.columns.values"
   ]
  },
  {
   "cell_type": "markdown",
   "id": "4c7da7f0",
   "metadata": {},
   "source": [
    "## Flags"
   ]
  },
  {
   "cell_type": "code",
   "execution_count": 25,
   "id": "1a2e2456",
   "metadata": {
    "scrolled": false
   },
   "outputs": [],
   "source": [
    "maneater_responses = data.loc[data['Which student media entity did you work for this semester? (Check all that apply)'].fillna(\"\").str.contains((\"Maneater\")),]"
   ]
  },
  {
   "cell_type": "code",
   "execution_count": 26,
   "id": "b3e08da1",
   "metadata": {
    "scrolled": false
   },
   "outputs": [],
   "source": [
    "kcou_responses = data.loc[data['Which student media entity did you work for this semester? (Check all that apply)'].fillna(\"\").str.contains((\"KCOU\")),]"
   ]
  },
  {
   "cell_type": "code",
   "execution_count": 27,
   "id": "8e989709",
   "metadata": {
    "scrolled": false
   },
   "outputs": [],
   "source": [
    "mutv_responses = data.loc[data['Which student media entity did you work for this semester? (Check all that apply)'].fillna(\"\").str.contains((\"MUTV\")),]"
   ]
  },
  {
   "cell_type": "code",
   "execution_count": 28,
   "id": "f6c39738",
   "metadata": {},
   "outputs": [],
   "source": [
    "msm_responses = data.loc[data['Which student media entity did you work for this semester? (Check all that apply)'].fillna(\"\").str.contains((\"Mizzou Student Media Team\")),]"
   ]
  },
  {
   "cell_type": "code",
   "execution_count": 30,
   "id": "83eceb7d",
   "metadata": {},
   "outputs": [],
   "source": [
    "maneater_flag = [True if any(y in x for y in maneater_responses['Response ID']) else False for x in data['Response ID'].fillna('x')]"
   ]
  },
  {
   "cell_type": "code",
   "execution_count": 31,
   "id": "1c1b4954",
   "metadata": {},
   "outputs": [],
   "source": [
    "kcou_flag = [True if any(y in x for y in kcou_responses['Response ID']) else False for x in data['Response ID'].fillna('x')]"
   ]
  },
  {
   "cell_type": "code",
   "execution_count": 32,
   "id": "e0d397f6",
   "metadata": {},
   "outputs": [],
   "source": [
    "msm_flag = [True if any(y in x for y in msm_responses['Response ID']) else False for x in data['Response ID'].fillna('x')]"
   ]
  },
  {
   "cell_type": "code",
   "execution_count": 33,
   "id": "380cc07e",
   "metadata": {},
   "outputs": [],
   "source": [
    "mutv_flag = [True if any(y in x for y in mutv_responses['Response ID']) else False for x in data['Response ID'].fillna('x')]"
   ]
  },
  {
   "cell_type": "code",
   "execution_count": 37,
   "id": "29372d81",
   "metadata": {},
   "outputs": [],
   "source": [
    "data['maneater_flag'] = maneater_flag"
   ]
  },
  {
   "cell_type": "code",
   "execution_count": 38,
   "id": "1cb19905",
   "metadata": {},
   "outputs": [],
   "source": [
    "data['mutv_flag'] = mutv_flag"
   ]
  },
  {
   "cell_type": "code",
   "execution_count": 39,
   "id": "760e1207",
   "metadata": {},
   "outputs": [],
   "source": [
    "data['kcou_flag'] = kcou_flag"
   ]
  },
  {
   "cell_type": "code",
   "execution_count": 40,
   "id": "4cd6d861",
   "metadata": {},
   "outputs": [],
   "source": [
    "data['msm_flag'] = msm_flag"
   ]
  },
  {
   "cell_type": "code",
   "execution_count": 51,
   "id": "3ed180ea",
   "metadata": {},
   "outputs": [],
   "source": [
    "staff_responses = data.loc[data['What is the highest position you hold within an MSM outlet?'].fillna(\"\").str.contains((\"Staff member\")),]"
   ]
  },
  {
   "cell_type": "code",
   "execution_count": 52,
   "id": "25b728d4",
   "metadata": {},
   "outputs": [],
   "source": [
    "staff_flag = [True if any(y in x for y in staff_responses['Response ID']) else False for x in data['Response ID'].fillna('x')]"
   ]
  },
  {
   "cell_type": "code",
   "execution_count": 53,
   "id": "75a6b460",
   "metadata": {},
   "outputs": [],
   "source": [
    "data['staff_flag'] = staff_flag"
   ]
  },
  {
   "cell_type": "code",
   "execution_count": 59,
   "id": "e7d3bdef",
   "metadata": {},
   "outputs": [],
   "source": [
    "board_responses = data.loc[data['What is the highest position you hold within an MSM outlet?'].fillna(\"\").str.contains((\"executive\")),]"
   ]
  },
  {
   "cell_type": "code",
   "execution_count": 60,
   "id": "909e39c7",
   "metadata": {},
   "outputs": [],
   "source": [
    "board_flag = [True if any(y in x for y in board_responses['Response ID']) else False for x in data['Response ID'].fillna('x')]"
   ]
  },
  {
   "cell_type": "code",
   "execution_count": 61,
   "id": "93e3e884",
   "metadata": {},
   "outputs": [],
   "source": [
    "data['board_flag'] = board_flag"
   ]
  },
  {
   "cell_type": "code",
   "execution_count": null,
   "id": "ef958775",
   "metadata": {},
   "outputs": [],
   "source": []
  },
  {
   "cell_type": "code",
   "execution_count": 44,
   "id": "fbbd1868",
   "metadata": {},
   "outputs": [
    {
     "data": {
      "text/plain": [
       "Staff member                                                            25\n",
       "Outlet executive board member (KCOU, MUTV, Maneater Editorial Board)    23\n",
       "MSM Team Member                                                         19\n",
       "Outlet executive (GM, AGM, EIC, ME)                                      2\n",
       "Other                                                                    1\n",
       "Name: What is the highest position you hold within an MSM outlet?, dtype: int64"
      ]
     },
     "execution_count": 44,
     "metadata": {},
     "output_type": "execute_result"
    }
   ],
   "source": [
    "data['What is the highest position you hold within an MSM outlet?'].value_counts()"
   ]
  },
  {
   "cell_type": "code",
   "execution_count": 36,
   "id": "646cac96",
   "metadata": {},
   "outputs": [
    {
     "data": {
      "text/plain": [
       "array(['Start Date', 'End Date', 'Response Type', 'IP Address',\n",
       "       'Progress', 'Duration (in seconds)', 'Finished', 'Recorded Date',\n",
       "       'Response ID', 'Recipient Last Name', 'Location Latitude',\n",
       "       'Location Longitude', 'Distribution Channel', 'User Language',\n",
       "       'How would you best describe your gender identity? - Selected Choice',\n",
       "       'How would you best describe your gender identity? - Self Identify (please specify) - Text',\n",
       "       'How would you best describe your racial/ethnic identity?',\n",
       "       '3.\\tIs there any other demographic information you would like to share?',\n",
       "       'What is your current class standing?',\n",
       "       'In which of the following schools or colleges at the University of Missouri are you currently enrolled? (Check all that apply) - Selected Choice',\n",
       "       'In which of the following schools or colleges at the University of Missouri are you currently enrolled? (Check all that apply) - Other (please specify) - Text',\n",
       "       'Which student media entity did you work for this semester? (Check all that apply)',\n",
       "       'Which section(s) or department(s) within your outlet do you work for? (Check all that apply)',\n",
       "       'What is the highest position you hold within an MSM outlet?',\n",
       "       'How many semesters have you worked at Mizzou Student Media? (Including the current semester)',\n",
       "       'Are you planning to return next semester? - Selected Choice',\n",
       "       'Are you planning to return next semester? - No, please explain - Text',\n",
       "       'Do you feel that Mizzou Student Media is a safe, inclusive, equitable space? - Selected Choice',\n",
       "       'Do you feel that Mizzou Student Media is a safe, inclusive, equitable space? - Yes (please explain) - Text',\n",
       "       'Do you feel that Mizzou Student Media is a safe, inclusive, equitable space? - No (please explain) - Text',\n",
       "       'Which of the following skills did you learn from your experience in Mizzou Student Media?  (Check all that apply) - Selected Choice',\n",
       "       'Which of the following skills did you learn from your experience in Mizzou Student Media?  (Check all that apply) - Other - Please specify - Text',\n",
       "       'On a scale of 1-5, how satisfied are you with the executive leadership of your outlet (General Managers, Editor-in-Chief/Managing Editor)? - Leadership',\n",
       "       'On a scale of 1-5, how would you rate your knowledge of the equipment at your outlet? - Equipment Knowledge',\n",
       "       'On a scale of 1-5, how would you rate the effectiveness of training and onboarding at your outlet? - Training & Onboarding',\n",
       "       'On a scale of 1-5, how effective is the Mizzou Student Media Team in supporting the efforts and operations of your outlet? - MSM Team',\n",
       "       'How would you describe the culture of your outlet? - Culture',\n",
       "       'Please explain at least one way in which your media outlet can work to improve your learning experience.',\n",
       "       'How do you believe your media outlet can improve its coverage?',\n",
       "       'Please leave a shoutout for someone who made a positive impact on your Mizzou Student Media experience this semester.',\n",
       "       'Is there anything else you would like to share?', 'maneater_flag'],\n",
       "      dtype=object)"
      ]
     },
     "execution_count": 36,
     "metadata": {},
     "output_type": "execute_result"
    }
   ],
   "source": [
    "data.columns.values"
   ]
  },
  {
   "cell_type": "code",
   "execution_count": 17,
   "id": "a9a9227b",
   "metadata": {
    "scrolled": false
   },
   "outputs": [
    {
     "data": {
      "text/plain": [
       "KCOU                                                      32\n",
       "Maneater                                                  18\n",
       "Mizzou Student Media Team                                  5\n",
       "MUTV,KCOU                                                  3\n",
       "Maneater,MSM Podcast Network                               3\n",
       "Maneater,Mizzou Student Media Team,MSM Podcast Network     2\n",
       "Maneater,KCOU                                              2\n",
       "Maneater,MUTV                                              1\n",
       "Maneater,MUTV,KCOU                                         1\n",
       "KCOU,Mizzou Student Media Team                             1\n",
       "Mizzou Student Media Team,MSM Podcast Network              1\n",
       "MUTV                                                       1\n",
       "Name: Which student media entity did you work for this semester? (Check all that apply), dtype: int64"
      ]
     },
     "execution_count": 17,
     "metadata": {},
     "output_type": "execute_result"
    }
   ],
   "source": [
    "data['Which student media entity did you work for this semester? (Check all that apply)'].value_counts()"
   ]
  },
  {
   "cell_type": "code",
   "execution_count": null,
   "id": "8dc24425",
   "metadata": {},
   "outputs": [],
   "source": []
  },
  {
   "cell_type": "code",
   "execution_count": 15,
   "id": "2a329235",
   "metadata": {},
   "outputs": [],
   "source": [
    "executive_responses = data.loc[data['What is the highest position you hold within an MSM outlet?'].fillna(\"\").str.contains((\"GM\")),]"
   ]
  },
  {
   "cell_type": "code",
   "execution_count": 16,
   "id": "f71f2641",
   "metadata": {},
   "outputs": [
    {
     "data": {
      "text/html": [
       "<div>\n",
       "<style scoped>\n",
       "    .dataframe tbody tr th:only-of-type {\n",
       "        vertical-align: middle;\n",
       "    }\n",
       "\n",
       "    .dataframe tbody tr th {\n",
       "        vertical-align: top;\n",
       "    }\n",
       "\n",
       "    .dataframe thead th {\n",
       "        text-align: right;\n",
       "    }\n",
       "</style>\n",
       "<table border=\"1\" class=\"dataframe\">\n",
       "  <thead>\n",
       "    <tr style=\"text-align: right;\">\n",
       "      <th></th>\n",
       "      <th>Start Date</th>\n",
       "      <th>End Date</th>\n",
       "      <th>Response Type</th>\n",
       "      <th>IP Address</th>\n",
       "      <th>Progress</th>\n",
       "      <th>Duration (in seconds)</th>\n",
       "      <th>Finished</th>\n",
       "      <th>Recorded Date</th>\n",
       "      <th>Response ID</th>\n",
       "      <th>Recipient Last Name</th>\n",
       "      <th>Location Latitude</th>\n",
       "      <th>Location Longitude</th>\n",
       "      <th>Distribution Channel</th>\n",
       "      <th>User Language</th>\n",
       "      <th>How would you best describe your gender identity? - Selected Choice</th>\n",
       "      <th>How would you best describe your gender identity? - Self Identify (please specify) - Text</th>\n",
       "      <th>How would you best describe your racial/ethnic identity?</th>\n",
       "      <th>3.\\tIs there any other demographic information you would like to share?</th>\n",
       "      <th>What is your current class standing?</th>\n",
       "      <th>In which of the following schools or colleges at the University of Missouri are you currently enrolled? (Check all that apply) - Selected Choice</th>\n",
       "      <th>In which of the following schools or colleges at the University of Missouri are you currently enrolled? (Check all that apply) - Other (please specify) - Text</th>\n",
       "      <th>Which student media entity did you work for this semester? (Check all that apply)</th>\n",
       "      <th>Which section(s) or department(s) within your outlet do you work for? (Check all that apply)</th>\n",
       "      <th>What is the highest position you hold within an MSM outlet?</th>\n",
       "      <th>How many semesters have you worked at Mizzou Student Media? (Including the current semester)</th>\n",
       "      <th>Are you planning to return next semester? - Selected Choice</th>\n",
       "      <th>Are you planning to return next semester? - No, please explain - Text</th>\n",
       "      <th>Do you feel that Mizzou Student Media is a safe, inclusive, equitable space? - Selected Choice</th>\n",
       "      <th>Do you feel that Mizzou Student Media is a safe, inclusive, equitable space? - Yes (please explain) - Text</th>\n",
       "      <th>Do you feel that Mizzou Student Media is a safe, inclusive, equitable space? - No (please explain) - Text</th>\n",
       "      <th>Which of the following skills did you learn from your experience in Mizzou Student Media?  (Check all that apply) - Selected Choice</th>\n",
       "      <th>Which of the following skills did you learn from your experience in Mizzou Student Media?  (Check all that apply) - Other - Please specify - Text</th>\n",
       "      <th>On a scale of 1-5, how satisfied are you with the executive leadership of your outlet (General Managers, Editor-in-Chief/Managing Editor)? - Leadership</th>\n",
       "      <th>On a scale of 1-5, how would you rate your knowledge of the equipment at your outlet? - Equipment Knowledge</th>\n",
       "      <th>On a scale of 1-5, how would you rate the effectiveness of training and onboarding at your outlet? - Training &amp; Onboarding</th>\n",
       "      <th>On a scale of 1-5, how effective is the Mizzou Student Media Team in supporting the efforts and operations of your outlet? - MSM Team</th>\n",
       "      <th>How would you describe the culture of your outlet? - Culture</th>\n",
       "      <th>Please explain at least one way in which your media outlet can work to improve your learning experience.</th>\n",
       "      <th>How do you believe your media outlet can improve its coverage?</th>\n",
       "      <th>Please leave a shoutout for someone who made a positive impact on your Mizzou Student Media experience this semester.</th>\n",
       "      <th>Is there anything else you would like to share?</th>\n",
       "    </tr>\n",
       "  </thead>\n",
       "  <tbody>\n",
       "    <tr>\n",
       "      <th>0</th>\n",
       "      <td>11/28/22 14:44</td>\n",
       "      <td>11/28/22 15:33</td>\n",
       "      <td>IP Address</td>\n",
       "      <td>161.130.189.202</td>\n",
       "      <td>100</td>\n",
       "      <td>2914</td>\n",
       "      <td>True</td>\n",
       "      <td>11/28/22 15:33</td>\n",
       "      <td>R_2Yr1vpN2RqqcwH9</td>\n",
       "      <td>NaN</td>\n",
       "      <td>38.9361</td>\n",
       "      <td>-92.3056</td>\n",
       "      <td>anonymous</td>\n",
       "      <td>EN</td>\n",
       "      <td>Self Identify (please specify)</td>\n",
       "      <td>Non-binary man</td>\n",
       "      <td>White</td>\n",
       "      <td>NaN</td>\n",
       "      <td>Junior</td>\n",
       "      <td>College of Arts and Science (includes the Scho...</td>\n",
       "      <td>NaN</td>\n",
       "      <td>MUTV</td>\n",
       "      <td>NaN</td>\n",
       "      <td>Outlet executive (GM, AGM, EIC, ME)</td>\n",
       "      <td>5</td>\n",
       "      <td>No, please explain</td>\n",
       "      <td>With MUTV folding, I don't really see a place ...</td>\n",
       "      <td>Yes (please explain)</td>\n",
       "      <td>I'm not the right person to ask, because any i...</td>\n",
       "      <td>NaN</td>\n",
       "      <td>Collaboration,Communication,Leadership,Prepara...</td>\n",
       "      <td>NaN</td>\n",
       "      <td>3.0</td>\n",
       "      <td>2.0</td>\n",
       "      <td>3.0</td>\n",
       "      <td>4.0</td>\n",
       "      <td>3.0</td>\n",
       "      <td>N/A - media outlet no longer exists</td>\n",
       "      <td>N/A - media outlet no longer exists</td>\n",
       "      <td>Shoutout to the entire MSM exec board and MSM ...</td>\n",
       "      <td>NaN</td>\n",
       "    </tr>\n",
       "    <tr>\n",
       "      <th>50</th>\n",
       "      <td>12/7/22 9:44</td>\n",
       "      <td>12/7/22 9:47</td>\n",
       "      <td>IP Address</td>\n",
       "      <td>172.58.59.1</td>\n",
       "      <td>100</td>\n",
       "      <td>158</td>\n",
       "      <td>True</td>\n",
       "      <td>12/7/22 9:47</td>\n",
       "      <td>R_djm8c1lfBGftgUF</td>\n",
       "      <td>NaN</td>\n",
       "      <td>39.7388</td>\n",
       "      <td>-104.9868</td>\n",
       "      <td>anonymous</td>\n",
       "      <td>EN</td>\n",
       "      <td>Woman</td>\n",
       "      <td>NaN</td>\n",
       "      <td>White</td>\n",
       "      <td>NaN</td>\n",
       "      <td>Sophomore</td>\n",
       "      <td>College of Arts and Science (includes the Scho...</td>\n",
       "      <td>NaN</td>\n",
       "      <td>Maneater,MSM Podcast Network</td>\n",
       "      <td>NaN</td>\n",
       "      <td>Outlet executive (GM, AGM, EIC, ME)</td>\n",
       "      <td>3</td>\n",
       "      <td>Yes</td>\n",
       "      <td>NaN</td>\n",
       "      <td>Yes (please explain)</td>\n",
       "      <td>NaN</td>\n",
       "      <td>NaN</td>\n",
       "      <td>Adobe Audition,Adobe Premiere,AP Style,Audio e...</td>\n",
       "      <td>NaN</td>\n",
       "      <td>4.0</td>\n",
       "      <td>4.0</td>\n",
       "      <td>4.0</td>\n",
       "      <td>NaN</td>\n",
       "      <td>4.0</td>\n",
       "      <td>I believe my outlet needs to engage in more bo...</td>\n",
       "      <td>Our coverage needs to be more frequent and rob...</td>\n",
       "      <td>Piper Molins was an incredible member of the M...</td>\n",
       "      <td>NaN</td>\n",
       "    </tr>\n",
       "  </tbody>\n",
       "</table>\n",
       "</div>"
      ],
      "text/plain": [
       "        Start Date        End Date Response Type       IP Address  Progress  \\\n",
       "0   11/28/22 14:44  11/28/22 15:33    IP Address  161.130.189.202       100   \n",
       "50    12/7/22 9:44    12/7/22 9:47    IP Address      172.58.59.1       100   \n",
       "\n",
       "    Duration (in seconds)  Finished   Recorded Date        Response ID  \\\n",
       "0                    2914      True  11/28/22 15:33  R_2Yr1vpN2RqqcwH9   \n",
       "50                    158      True    12/7/22 9:47  R_djm8c1lfBGftgUF   \n",
       "\n",
       "    Recipient Last Name  Location Latitude  Location Longitude  \\\n",
       "0                   NaN            38.9361            -92.3056   \n",
       "50                  NaN            39.7388           -104.9868   \n",
       "\n",
       "   Distribution Channel User Language  \\\n",
       "0             anonymous            EN   \n",
       "50            anonymous            EN   \n",
       "\n",
       "   How would you best describe your gender identity? - Selected Choice  \\\n",
       "0                      Self Identify (please specify)                    \n",
       "50                                              Woman                    \n",
       "\n",
       "   How would you best describe your gender identity? - Self Identify (please specify) - Text  \\\n",
       "0                                      Non-binary man                                          \n",
       "50                                                NaN                                          \n",
       "\n",
       "   How would you best describe your racial/ethnic identity?  \\\n",
       "0                                               White         \n",
       "50                                              White         \n",
       "\n",
       "   3.\\tIs there any other demographic information you would like to share?  \\\n",
       "0                                                 NaN                        \n",
       "50                                                NaN                        \n",
       "\n",
       "   What is your current class standing?  \\\n",
       "0                                Junior   \n",
       "50                            Sophomore   \n",
       "\n",
       "   In which of the following schools or colleges at the University of Missouri are you currently enrolled? (Check all that apply) - Selected Choice  \\\n",
       "0   College of Arts and Science (includes the Scho...                                                                                                 \n",
       "50  College of Arts and Science (includes the Scho...                                                                                                 \n",
       "\n",
       "   In which of the following schools or colleges at the University of Missouri are you currently enrolled? (Check all that apply) - Other (please specify) - Text  \\\n",
       "0                                                 NaN                                                                                                               \n",
       "50                                                NaN                                                                                                               \n",
       "\n",
       "   Which student media entity did you work for this semester? (Check all that apply)  \\\n",
       "0                                                MUTV                                  \n",
       "50                       Maneater,MSM Podcast Network                                  \n",
       "\n",
       "   Which section(s) or department(s) within your outlet do you work for? (Check all that apply)  \\\n",
       "0                                                 NaN                                             \n",
       "50                                                NaN                                             \n",
       "\n",
       "   What is the highest position you hold within an MSM outlet?  \\\n",
       "0                 Outlet executive (GM, AGM, EIC, ME)            \n",
       "50                Outlet executive (GM, AGM, EIC, ME)            \n",
       "\n",
       "   How many semesters have you worked at Mizzou Student Media? (Including the current semester)  \\\n",
       "0                                                   5                                             \n",
       "50                                                  3                                             \n",
       "\n",
       "   Are you planning to return next semester? - Selected Choice  \\\n",
       "0                                  No, please explain            \n",
       "50                                                Yes            \n",
       "\n",
       "   Are you planning to return next semester? - No, please explain - Text  \\\n",
       "0   With MUTV folding, I don't really see a place ...                      \n",
       "50                                                NaN                      \n",
       "\n",
       "   Do you feel that Mizzou Student Media is a safe, inclusive, equitable space? - Selected Choice  \\\n",
       "0                                Yes (please explain)                                               \n",
       "50                               Yes (please explain)                                               \n",
       "\n",
       "   Do you feel that Mizzou Student Media is a safe, inclusive, equitable space? - Yes (please explain) - Text  \\\n",
       "0   I'm not the right person to ask, because any i...                                                           \n",
       "50                                                NaN                                                           \n",
       "\n",
       "    Do you feel that Mizzou Student Media is a safe, inclusive, equitable space? - No (please explain) - Text  \\\n",
       "0                                                 NaN                                                           \n",
       "50                                                NaN                                                           \n",
       "\n",
       "   Which of the following skills did you learn from your experience in Mizzou Student Media?  (Check all that apply) - Selected Choice  \\\n",
       "0   Collaboration,Communication,Leadership,Prepara...                                                                                    \n",
       "50  Adobe Audition,Adobe Premiere,AP Style,Audio e...                                                                                    \n",
       "\n",
       "   Which of the following skills did you learn from your experience in Mizzou Student Media?  (Check all that apply) - Other - Please specify - Text  \\\n",
       "0                                                 NaN                                                                                                  \n",
       "50                                                NaN                                                                                                  \n",
       "\n",
       "    On a scale of 1-5, how satisfied are you with the executive leadership of your outlet (General Managers, Editor-in-Chief/Managing Editor)? - Leadership  \\\n",
       "0                                                 3.0                                                                                                         \n",
       "50                                                4.0                                                                                                         \n",
       "\n",
       "    On a scale of 1-5, how would you rate your knowledge of the equipment at your outlet? - Equipment Knowledge  \\\n",
       "0                                                 2.0                                                             \n",
       "50                                                4.0                                                             \n",
       "\n",
       "    On a scale of 1-5, how would you rate the effectiveness of training and onboarding at your outlet? - Training & Onboarding  \\\n",
       "0                                                 3.0                                                                            \n",
       "50                                                4.0                                                                            \n",
       "\n",
       "    On a scale of 1-5, how effective is the Mizzou Student Media Team in supporting the efforts and operations of your outlet? - MSM Team  \\\n",
       "0                                                 4.0                                                                                       \n",
       "50                                                NaN                                                                                       \n",
       "\n",
       "    How would you describe the culture of your outlet? - Culture  \\\n",
       "0                                                 3.0              \n",
       "50                                                4.0              \n",
       "\n",
       "   Please explain at least one way in which your media outlet can work to improve your learning experience.  \\\n",
       "0                 N/A - media outlet no longer exists                                                         \n",
       "50  I believe my outlet needs to engage in more bo...                                                         \n",
       "\n",
       "   How do you believe your media outlet can improve its coverage?  \\\n",
       "0                 N/A - media outlet no longer exists               \n",
       "50  Our coverage needs to be more frequent and rob...               \n",
       "\n",
       "   Please leave a shoutout for someone who made a positive impact on your Mizzou Student Media experience this semester.  \\\n",
       "0   Shoutout to the entire MSM exec board and MSM ...                                                                      \n",
       "50  Piper Molins was an incredible member of the M...                                                                      \n",
       "\n",
       "   Is there anything else you would like to share?  \n",
       "0                                              NaN  \n",
       "50                                             NaN  "
      ]
     },
     "execution_count": 16,
     "metadata": {},
     "output_type": "execute_result"
    }
   ],
   "source": [
    "executive_responses"
   ]
  },
  {
   "cell_type": "code",
   "execution_count": null,
   "id": "cefb08f7",
   "metadata": {
    "scrolled": false
   },
   "outputs": [],
   "source": []
  },
  {
   "cell_type": "code",
   "execution_count": 9,
   "id": "5b547f38",
   "metadata": {},
   "outputs": [],
   "source": [
    "## Total People: Maneater: 198 (32 exec) | KCOU: 258 (13 exec)"
   ]
  },
  {
   "cell_type": "code",
   "execution_count": 42,
   "id": "5120e5b0",
   "metadata": {},
   "outputs": [
    {
     "data": {
      "text/plain": [
       "0.13636363636363635"
      ]
     },
     "execution_count": 42,
     "metadata": {},
     "output_type": "execute_result"
    }
   ],
   "source": [
    "sum(data['maneater_flag'])/198"
   ]
  },
  {
   "cell_type": "code",
   "execution_count": 43,
   "id": "213a08c4",
   "metadata": {},
   "outputs": [
    {
     "data": {
      "text/plain": [
       "0.1511627906976744"
      ]
     },
     "execution_count": 43,
     "metadata": {},
     "output_type": "execute_result"
    }
   ],
   "source": [
    "sum(data['kcou_flag'])/258"
   ]
  },
  {
   "cell_type": "code",
   "execution_count": 55,
   "id": "2943191e",
   "metadata": {},
   "outputs": [
    {
     "data": {
      "text/plain": [
       "0.06082725060827251"
      ]
     },
     "execution_count": 55,
     "metadata": {},
     "output_type": "execute_result"
    }
   ],
   "source": [
    "sum(data['staff_flag'])/(258+198-32-13)"
   ]
  },
  {
   "cell_type": "code",
   "execution_count": 54,
   "id": "f0b4d895",
   "metadata": {},
   "outputs": [
    {
     "data": {
      "text/plain": [
       "25"
      ]
     },
     "execution_count": 54,
     "metadata": {},
     "output_type": "execute_result"
    }
   ],
   "source": [
    "sum(data['staff_flag'])"
   ]
  },
  {
   "cell_type": "code",
   "execution_count": 58,
   "id": "712b2df1",
   "metadata": {},
   "outputs": [
    {
     "data": {
      "text/plain": [
       "0.8"
      ]
     },
     "execution_count": 58,
     "metadata": {},
     "output_type": "execute_result"
    }
   ],
   "source": [
    "(len(data['staff_flag'])-sum(data['staff_flag'])-sum(data['msm_flag']))/(32+13)"
   ]
  },
  {
   "cell_type": "code",
   "execution_count": 62,
   "id": "31fa692b",
   "metadata": {},
   "outputs": [
    {
     "data": {
      "text/plain": [
       "25"
      ]
     },
     "execution_count": 62,
     "metadata": {},
     "output_type": "execute_result"
    }
   ],
   "source": [
    "sum(data['board_flag'])"
   ]
  },
  {
   "cell_type": "code",
   "execution_count": 64,
   "id": "0c1f4351",
   "metadata": {},
   "outputs": [
    {
     "data": {
      "text/plain": [
       "9"
      ]
     },
     "execution_count": 64,
     "metadata": {},
     "output_type": "execute_result"
    }
   ],
   "source": [
    "sum(data['msm_flag'])"
   ]
  },
  {
   "cell_type": "code",
   "execution_count": 115,
   "id": "452dc73c",
   "metadata": {},
   "outputs": [
    {
     "data": {
      "text/plain": [
       "array(['Start Date', 'End Date', 'Response Type', 'IP Address',\n",
       "       'Progress', 'Duration (in seconds)', 'Finished', 'Recorded Date',\n",
       "       'Response ID', 'Recipient Last Name', 'Location Latitude',\n",
       "       'Location Longitude', 'Distribution Channel', 'User Language',\n",
       "       'How would you best describe your gender identity? - Selected Choice',\n",
       "       'How would you best describe your gender identity? - Self Identify (please specify) - Text',\n",
       "       'How would you best describe your racial/ethnic identity?',\n",
       "       '3.\\tIs there any other demographic information you would like to share?',\n",
       "       'What is your current class standing?',\n",
       "       'In which of the following schools or colleges at the University of Missouri are you currently enrolled? (Check all that apply) - Selected Choice',\n",
       "       'In which of the following schools or colleges at the University of Missouri are you currently enrolled? (Check all that apply) - Other (please specify) - Text',\n",
       "       'Which student media entity did you work for this semester? (Check all that apply)',\n",
       "       'Which section(s) or department(s) within your outlet do you work for? (Check all that apply)',\n",
       "       'What is the highest position you hold within an MSM outlet?',\n",
       "       'How many semesters have you worked at Mizzou Student Media? (Including the current semester)',\n",
       "       'Are you planning to return next semester? - Selected Choice',\n",
       "       'Are you planning to return next semester? - No, please explain - Text',\n",
       "       'Do you feel that Mizzou Student Media is a safe, inclusive, equitable space? - Selected Choice',\n",
       "       'Do you feel that Mizzou Student Media is a safe, inclusive, equitable space? - Yes (please explain) - Text',\n",
       "       'Do you feel that Mizzou Student Media is a safe, inclusive, equitable space? - No (please explain) - Text',\n",
       "       'Which of the following skills did you learn from your experience in Mizzou Student Media?  (Check all that apply) - Selected Choice',\n",
       "       'Which of the following skills did you learn from your experience in Mizzou Student Media?  (Check all that apply) - Other - Please specify - Text',\n",
       "       'On a scale of 1-5, how satisfied are you with the executive leadership of your outlet (General Managers, Editor-in-Chief/Managing Editor)? - Leadership',\n",
       "       'On a scale of 1-5, how would you rate your knowledge of the equipment at your outlet? - Equipment Knowledge',\n",
       "       'On a scale of 1-5, how would you rate the effectiveness of training and onboarding at your outlet? - Training & Onboarding',\n",
       "       'On a scale of 1-5, how effective is the Mizzou Student Media Team in supporting the efforts and operations of your outlet? - MSM Team',\n",
       "       'How would you describe the culture of your outlet? - Culture',\n",
       "       'Please explain at least one way in which your media outlet can work to improve your learning experience.',\n",
       "       'How do you believe your media outlet can improve its coverage?',\n",
       "       'Please leave a shoutout for someone who made a positive impact on your Mizzou Student Media experience this semester.',\n",
       "       'Is there anything else you would like to share?', 'maneater_flag',\n",
       "       'mutv_flag', 'kcou_flag', 'msm_flag', 'staff_flag', 'board_flag'],\n",
       "      dtype=object)"
      ]
     },
     "execution_count": 115,
     "metadata": {},
     "output_type": "execute_result"
    }
   ],
   "source": [
    "data.columns.values"
   ]
  },
  {
   "cell_type": "markdown",
   "id": "6a50bb33",
   "metadata": {},
   "source": [
    "## Maneater Analysis"
   ]
  },
  {
   "cell_type": "markdown",
   "id": "1bd73c02",
   "metadata": {},
   "source": [
    "### Outlet Demographic Numbers"
   ]
  },
  {
   "cell_type": "markdown",
   "id": "cd736a4c",
   "metadata": {},
   "source": [
    "#### Semesters"
   ]
  },
  {
   "cell_type": "code",
   "execution_count": 108,
   "id": "bd5a232b",
   "metadata": {
    "scrolled": false
   },
   "outputs": [
    {
     "data": {
      "text/plain": [
       "1    15\n",
       "3     9\n",
       "2     3\n",
       "Name: How many semesters have you worked at Mizzou Student Media? (Including the current semester), dtype: int64"
      ]
     },
     "execution_count": 108,
     "metadata": {},
     "output_type": "execute_result"
    }
   ],
   "source": [
    "maneater_responses['How many semesters have you worked at Mizzou Student Media? (Including the current semester)'].value_counts()"
   ]
  },
  {
   "cell_type": "code",
   "execution_count": 112,
   "id": "8ae1056d",
   "metadata": {
    "scrolled": false
   },
   "outputs": [
    {
     "data": {
      "text/plain": [
       "1.7777777777777777"
      ]
     },
     "execution_count": 112,
     "metadata": {},
     "output_type": "execute_result"
    }
   ],
   "source": [
    "maneater_responses['How many semesters have you worked at Mizzou Student Media? (Including the current semester)'].astype(int).mean()"
   ]
  },
  {
   "cell_type": "markdown",
   "id": "f43b2e4e",
   "metadata": {},
   "source": [
    "#### Gender"
   ]
  },
  {
   "cell_type": "code",
   "execution_count": 113,
   "id": "483292c5",
   "metadata": {},
   "outputs": [
    {
     "data": {
      "text/plain": [
       "Woman                                     18\n",
       "Man                                        5\n",
       "Non-binary/gender non-conforming           3\n",
       "Woman,Non-binary/gender non-conforming     1\n",
       "Name: How would you best describe your gender identity? - Selected Choice, dtype: int64"
      ]
     },
     "execution_count": 113,
     "metadata": {},
     "output_type": "execute_result"
    }
   ],
   "source": [
    "maneater_responses['How would you best describe your gender identity? - Selected Choice'].value_counts()"
   ]
  },
  {
   "cell_type": "code",
   "execution_count": 130,
   "id": "31c0fd69",
   "metadata": {},
   "outputs": [
    {
     "data": {
      "text/plain": [
       "Woman                                     0.666667\n",
       "Man                                       0.185185\n",
       "Non-binary/gender non-conforming          0.111111\n",
       "Woman,Non-binary/gender non-conforming    0.037037\n",
       "Name: How would you best describe your gender identity? - Selected Choice, dtype: float64"
      ]
     },
     "execution_count": 130,
     "metadata": {},
     "output_type": "execute_result"
    }
   ],
   "source": [
    "maneater_responses['How would you best describe your gender identity? - Selected Choice'].value_counts(normalize=True)"
   ]
  },
  {
   "cell_type": "markdown",
   "id": "b33824be",
   "metadata": {},
   "source": [
    "#### Race/Ethnicity"
   ]
  },
  {
   "cell_type": "code",
   "execution_count": 114,
   "id": "510275ff",
   "metadata": {},
   "outputs": [
    {
     "data": {
      "text/plain": [
       "White                                        21\n",
       "Hispanic, Latino, or Spanish Origin,White     3\n",
       "Asian,Middle Eastern or North African         1\n",
       "Black or African American                     1\n",
       "Middle Eastern or North African,White         1\n",
       "Name: How would you best describe your racial/ethnic identity?, dtype: int64"
      ]
     },
     "execution_count": 114,
     "metadata": {},
     "output_type": "execute_result"
    }
   ],
   "source": [
    "    maneater_responses['How would you best describe your racial/ethnic identity?'].value_counts()"
   ]
  },
  {
   "cell_type": "code",
   "execution_count": 131,
   "id": "7fbac94e",
   "metadata": {},
   "outputs": [
    {
     "data": {
      "text/plain": [
       "White                                        0.777778\n",
       "Hispanic, Latino, or Spanish Origin,White    0.111111\n",
       "Asian,Middle Eastern or North African        0.037037\n",
       "Black or African American                    0.037037\n",
       "Middle Eastern or North African,White        0.037037\n",
       "Name: How would you best describe your racial/ethnic identity?, dtype: float64"
      ]
     },
     "execution_count": 131,
     "metadata": {},
     "output_type": "execute_result"
    }
   ],
   "source": [
    "    maneater_responses['How would you best describe your racial/ethnic identity?'].value_counts(normalize=True)"
   ]
  },
  {
   "cell_type": "markdown",
   "id": "ba9b55e4",
   "metadata": {},
   "source": [
    "#### Class Standing"
   ]
  },
  {
   "cell_type": "code",
   "execution_count": 116,
   "id": "313ff321",
   "metadata": {},
   "outputs": [
    {
     "data": {
      "text/plain": [
       "Sophomore                  15\n",
       "Freshman                   10\n",
       "Junior                      1\n",
       "Non-traditional student     1\n",
       "Name: What is your current class standing?, dtype: int64"
      ]
     },
     "execution_count": 116,
     "metadata": {},
     "output_type": "execute_result"
    }
   ],
   "source": [
    "maneater_responses['What is your current class standing?'].value_counts()"
   ]
  },
  {
   "cell_type": "code",
   "execution_count": 132,
   "id": "0c91295f",
   "metadata": {},
   "outputs": [
    {
     "data": {
      "text/plain": [
       "Sophomore                  0.555556\n",
       "Freshman                   0.370370\n",
       "Junior                     0.037037\n",
       "Non-traditional student    0.037037\n",
       "Name: What is your current class standing?, dtype: float64"
      ]
     },
     "execution_count": 132,
     "metadata": {},
     "output_type": "execute_result"
    }
   ],
   "source": [
    "maneater_responses['What is your current class standing?'].value_counts(normalize=True)"
   ]
  },
  {
   "cell_type": "markdown",
   "id": "b8232a00",
   "metadata": {},
   "source": [
    "#### Returning"
   ]
  },
  {
   "cell_type": "code",
   "execution_count": 117,
   "id": "cd03c8bc",
   "metadata": {},
   "outputs": [
    {
     "data": {
      "text/plain": [
       "Yes                   24\n",
       "No, please explain     3\n",
       "Name: Are you planning to return next semester? - Selected Choice, dtype: int64"
      ]
     },
     "execution_count": 117,
     "metadata": {},
     "output_type": "execute_result"
    }
   ],
   "source": [
    "maneater_responses['Are you planning to return next semester? - Selected Choice'].value_counts()"
   ]
  },
  {
   "cell_type": "code",
   "execution_count": 133,
   "id": "c6866729",
   "metadata": {},
   "outputs": [
    {
     "data": {
      "text/plain": [
       "Yes                   0.888889\n",
       "No, please explain    0.111111\n",
       "Name: Are you planning to return next semester? - Selected Choice, dtype: float64"
      ]
     },
     "execution_count": 133,
     "metadata": {},
     "output_type": "execute_result"
    }
   ],
   "source": [
    "maneater_responses['Are you planning to return next semester? - Selected Choice'].value_counts(normalize=True)"
   ]
  },
  {
   "cell_type": "markdown",
   "id": "9b8e4254",
   "metadata": {},
   "source": [
    "#### Safety"
   ]
  },
  {
   "cell_type": "code",
   "execution_count": 118,
   "id": "174b554f",
   "metadata": {},
   "outputs": [
    {
     "data": {
      "text/plain": [
       "Yes (please explain)    26\n",
       "No (please explain)      1\n",
       "Name: Do you feel that Mizzou Student Media is a safe, inclusive, equitable space? - Selected Choice, dtype: int64"
      ]
     },
     "execution_count": 118,
     "metadata": {},
     "output_type": "execute_result"
    }
   ],
   "source": [
    "maneater_responses['Do you feel that Mizzou Student Media is a safe, inclusive, equitable space? - Selected Choice'].value_counts()"
   ]
  },
  {
   "cell_type": "code",
   "execution_count": 134,
   "id": "61c63a59",
   "metadata": {},
   "outputs": [
    {
     "data": {
      "text/plain": [
       "Yes (please explain)    0.962963\n",
       "No (please explain)     0.037037\n",
       "Name: Do you feel that Mizzou Student Media is a safe, inclusive, equitable space? - Selected Choice, dtype: float64"
      ]
     },
     "execution_count": 134,
     "metadata": {},
     "output_type": "execute_result"
    }
   ],
   "source": [
    "maneater_responses['Do you feel that Mizzou Student Media is a safe, inclusive, equitable space? - Selected Choice'].value_counts(normalize=True)"
   ]
  },
  {
   "cell_type": "markdown",
   "id": "1e6b7ee2",
   "metadata": {},
   "source": [
    "### Leadership Satisfaction"
   ]
  },
  {
   "cell_type": "code",
   "execution_count": 68,
   "id": "8393694a",
   "metadata": {},
   "outputs": [
    {
     "data": {
      "text/plain": [
       "count    27.000000\n",
       "mean      4.370370\n",
       "std       0.883531\n",
       "min       1.000000\n",
       "25%       4.000000\n",
       "50%       5.000000\n",
       "75%       5.000000\n",
       "max       5.000000\n",
       "Name: On a scale of 1-5, how satisfied are you with the executive leadership of your outlet (General Managers, Editor-in-Chief/Managing Editor)? - Leadership, dtype: float64"
      ]
     },
     "execution_count": 68,
     "metadata": {},
     "output_type": "execute_result"
    }
   ],
   "source": [
    "maneater_responses['On a scale of 1-5, how satisfied are you with the executive leadership of your outlet (General Managers, Editor-in-Chief/Managing Editor)? - Leadership'].describe()"
   ]
  },
  {
   "cell_type": "code",
   "execution_count": 74,
   "id": "1ee9bc31",
   "metadata": {},
   "outputs": [
    {
     "data": {
      "text/plain": [
       "<AxesSubplot:>"
      ]
     },
     "execution_count": 74,
     "metadata": {},
     "output_type": "execute_result"
    },
    {
     "data": {
      "image/png": "[encoded data removed]",
      "text/plain": [
       "<Figure size 432x288 with 1 Axes>"
      ]
     },
     "metadata": {
      "needs_background": "light"
     },
     "output_type": "display_data"
    }
   ],
   "source": [
    "maneater_responses['On a scale of 1-5, how satisfied are you with the executive leadership of your outlet (General Managers, Editor-in-Chief/Managing Editor)? - Leadership'].hist(bins=5)"
   ]
  },
  {
   "cell_type": "code",
   "execution_count": 73,
   "id": "67b68f46",
   "metadata": {},
   "outputs": [
    {
     "data": {
      "text/plain": [
       "5.0    14\n",
       "4.0    11\n",
       "3.0     1\n",
       "1.0     1\n",
       "Name: On a scale of 1-5, how satisfied are you with the executive leadership of your outlet (General Managers, Editor-in-Chief/Managing Editor)? - Leadership, dtype: int64"
      ]
     },
     "execution_count": 73,
     "metadata": {},
     "output_type": "execute_result"
    }
   ],
   "source": [
    "maneater_responses['On a scale of 1-5, how satisfied are you with the executive leadership of your outlet (General Managers, Editor-in-Chief/Managing Editor)? - Leadership'].value_counts()"
   ]
  },
  {
   "cell_type": "code",
   "execution_count": 78,
   "id": "2410a17d",
   "metadata": {},
   "outputs": [
    {
     "data": {
      "text/plain": [
       "0.9259259259259259"
      ]
     },
     "execution_count": 78,
     "metadata": {},
     "output_type": "execute_result"
    }
   ],
   "source": [
    "25/27"
   ]
  },
  {
   "cell_type": "markdown",
   "id": "004a3a95",
   "metadata": {},
   "source": [
    "### MSM Team Effectiveness"
   ]
  },
  {
   "cell_type": "code",
   "execution_count": 79,
   "id": "4f92cf51",
   "metadata": {},
   "outputs": [
    {
     "data": {
      "text/plain": [
       "count    26.000000\n",
       "mean      3.461538\n",
       "std       1.174079\n",
       "min       1.000000\n",
       "25%       3.000000\n",
       "50%       4.000000\n",
       "75%       4.000000\n",
       "max       5.000000\n",
       "Name: On a scale of 1-5, how effective is the Mizzou Student Media Team in supporting the efforts and operations of your outlet? - MSM Team, dtype: float64"
      ]
     },
     "execution_count": 79,
     "metadata": {},
     "output_type": "execute_result"
    }
   ],
   "source": [
    "maneater_responses['On a scale of 1-5, how effective is the Mizzou Student Media Team in supporting the efforts and operations of your outlet? - MSM Team'].describe()"
   ]
  },
  {
   "cell_type": "code",
   "execution_count": 80,
   "id": "6ba86c60",
   "metadata": {},
   "outputs": [
    {
     "data": {
      "text/plain": [
       "<AxesSubplot:>"
      ]
     },
     "execution_count": 80,
     "metadata": {},
     "output_type": "execute_result"
    },
    {
     "data": {
      "image/png": "[encoded data removed]",
      "text/plain": [
       "<Figure size 432x288 with 1 Axes>"
      ]
     },
     "metadata": {
      "needs_background": "light"
     },
     "output_type": "display_data"
    }
   ],
   "source": [
    "maneater_responses['On a scale of 1-5, how effective is the Mizzou Student Media Team in supporting the efforts and operations of your outlet? - MSM Team'].hist(bins=5)"
   ]
  },
  {
   "cell_type": "code",
   "execution_count": 81,
   "id": "f14c07eb",
   "metadata": {},
   "outputs": [
    {
     "data": {
      "text/plain": [
       "4.0    9\n",
       "3.0    7\n",
       "5.0    5\n",
       "2.0    3\n",
       "1.0    2\n",
       "Name: On a scale of 1-5, how effective is the Mizzou Student Media Team in supporting the efforts and operations of your outlet? - MSM Team, dtype: int64"
      ]
     },
     "execution_count": 81,
     "metadata": {},
     "output_type": "execute_result"
    }
   ],
   "source": [
    "maneater_responses['On a scale of 1-5, how effective is the Mizzou Student Media Team in supporting the efforts and operations of your outlet? - MSM Team'].value_counts()"
   ]
  },
  {
   "cell_type": "code",
   "execution_count": 85,
   "id": "8bd018a9",
   "metadata": {},
   "outputs": [
    {
     "data": {
      "text/plain": [
       "0.5384615384615384"
      ]
     },
     "execution_count": 85,
     "metadata": {},
     "output_type": "execute_result"
    }
   ],
   "source": [
    "14/26"
   ]
  },
  {
   "cell_type": "code",
   "execution_count": 87,
   "id": "78788e8a",
   "metadata": {},
   "outputs": [
    {
     "data": {
      "text/plain": [
       "count    26.000000\n",
       "mean      3.538462\n",
       "std       0.904689\n",
       "min       1.000000\n",
       "25%       3.000000\n",
       "50%       4.000000\n",
       "75%       4.000000\n",
       "max       5.000000\n",
       "Name: On a scale of 1-5, how would you rate the effectiveness of training and onboarding at your outlet? - Training & Onboarding, dtype: float64"
      ]
     },
     "execution_count": 87,
     "metadata": {},
     "output_type": "execute_result"
    }
   ],
   "source": [
    "maneater_responses['On a scale of 1-5, how would you rate the effectiveness of training and onboarding at your outlet? - Training & Onboarding'].describe()"
   ]
  },
  {
   "cell_type": "markdown",
   "id": "5d231a08",
   "metadata": {},
   "source": [
    "### Onboarding Effectiveness"
   ]
  },
  {
   "cell_type": "code",
   "execution_count": 103,
   "id": "9e6bd0b4",
   "metadata": {},
   "outputs": [
    {
     "data": {
      "text/plain": [
       "count    26.000000\n",
       "mean      3.538462\n",
       "std       0.904689\n",
       "min       1.000000\n",
       "25%       3.000000\n",
       "50%       4.000000\n",
       "75%       4.000000\n",
       "max       5.000000\n",
       "Name: On a scale of 1-5, how would you rate the effectiveness of training and onboarding at your outlet? - Training & Onboarding, dtype: float64"
      ]
     },
     "execution_count": 103,
     "metadata": {},
     "output_type": "execute_result"
    }
   ],
   "source": [
    "maneater_responses['On a scale of 1-5, how would you rate the effectiveness of training and onboarding at your outlet? - Training & Onboarding'].describe()"
   ]
  },
  {
   "cell_type": "code",
   "execution_count": 88,
   "id": "953c9eae",
   "metadata": {},
   "outputs": [
    {
     "data": {
      "text/plain": [
       "<AxesSubplot:>"
      ]
     },
     "execution_count": 88,
     "metadata": {},
     "output_type": "execute_result"
    },
    {
     "data": {
      "image/png": "[encoded data removed]",
      "text/plain": [
       "<Figure size 432x288 with 1 Axes>"
      ]
     },
     "metadata": {
      "needs_background": "light"
     },
     "output_type": "display_data"
    }
   ],
   "source": [
    "maneater_responses['On a scale of 1-5, how would you rate the effectiveness of training and onboarding at your outlet? - Training & Onboarding'].hist(bins=5)"
   ]
  },
  {
   "cell_type": "code",
   "execution_count": 89,
   "id": "d51238db",
   "metadata": {},
   "outputs": [
    {
     "data": {
      "text/plain": [
       "4.0    11\n",
       "3.0    10\n",
       "5.0     3\n",
       "2.0     1\n",
       "1.0     1\n",
       "Name: On a scale of 1-5, how would you rate the effectiveness of training and onboarding at your outlet? - Training & Onboarding, dtype: int64"
      ]
     },
     "execution_count": 89,
     "metadata": {},
     "output_type": "execute_result"
    }
   ],
   "source": [
    "maneater_responses['On a scale of 1-5, how would you rate the effectiveness of training and onboarding at your outlet? - Training & Onboarding'].value_counts()"
   ]
  },
  {
   "cell_type": "code",
   "execution_count": 85,
   "id": "2456b8a4",
   "metadata": {},
   "outputs": [
    {
     "data": {
      "text/plain": [
       "0.5384615384615384"
      ]
     },
     "execution_count": 85,
     "metadata": {},
     "output_type": "execute_result"
    }
   ],
   "source": [
    "14/26"
   ]
  },
  {
   "cell_type": "code",
   "execution_count": 91,
   "id": "50a5cf22",
   "metadata": {},
   "outputs": [
    {
     "data": {
      "text/plain": [
       "0.4909146949248281"
      ]
     },
     "execution_count": 91,
     "metadata": {},
     "output_type": "execute_result"
    }
   ],
   "source": [
    "maneater_responses['On a scale of 1-5, how would you rate the effectiveness of training and onboarding at your outlet? - Training & Onboarding'].corr(maneater_responses['On a scale of 1-5, how effective is the Mizzou Student Media Team in supporting the efforts and operations of your outlet? - MSM Team'])"
   ]
  },
  {
   "cell_type": "code",
   "execution_count": 92,
   "id": "b5e04c67",
   "metadata": {},
   "outputs": [
    {
     "data": {
      "text/plain": [
       "0.4236555010232974"
      ]
     },
     "execution_count": 92,
     "metadata": {},
     "output_type": "execute_result"
    }
   ],
   "source": [
    "data['On a scale of 1-5, how would you rate the effectiveness of training and onboarding at your outlet? - Training & Onboarding'].corr(data['On a scale of 1-5, how effective is the Mizzou Student Media Team in supporting the efforts and operations of your outlet? - MSM Team'])"
   ]
  },
  {
   "cell_type": "markdown",
   "id": "9af7120b",
   "metadata": {},
   "source": [
    "### Equipment Knowledge"
   ]
  },
  {
   "cell_type": "code",
   "execution_count": 98,
   "id": "97039fe0",
   "metadata": {},
   "outputs": [
    {
     "data": {
      "text/plain": [
       "count    23.000000\n",
       "mean      3.260870\n",
       "std       0.751809\n",
       "min       2.000000\n",
       "25%       3.000000\n",
       "50%       3.000000\n",
       "75%       4.000000\n",
       "max       5.000000\n",
       "Name: On a scale of 1-5, how would you rate your knowledge of the equipment at your outlet? - Equipment Knowledge, dtype: float64"
      ]
     },
     "execution_count": 98,
     "metadata": {},
     "output_type": "execute_result"
    }
   ],
   "source": [
    "maneater_responses['On a scale of 1-5, how would you rate your knowledge of the equipment at your outlet? - Equipment Knowledge'].describe()"
   ]
  },
  {
   "cell_type": "code",
   "execution_count": 99,
   "id": "f096655d",
   "metadata": {},
   "outputs": [
    {
     "data": {
      "text/plain": [
       "<AxesSubplot:>"
      ]
     },
     "execution_count": 99,
     "metadata": {},
     "output_type": "execute_result"
    },
    {
     "data": {
      "image/png": "[encoded data removed]",
      "text/plain": [
       "<Figure size 432x288 with 1 Axes>"
      ]
     },
     "metadata": {
      "needs_background": "light"
     },
     "output_type": "display_data"
    }
   ],
   "source": [
    "maneater_responses['On a scale of 1-5, how would you rate your knowledge of the equipment at your outlet? - Equipment Knowledge'].hist(bins=5)"
   ]
  },
  {
   "cell_type": "code",
   "execution_count": 100,
   "id": "82dff216",
   "metadata": {},
   "outputs": [
    {
     "data": {
      "text/plain": [
       "3.0    12\n",
       "4.0     7\n",
       "2.0     3\n",
       "5.0     1\n",
       "Name: On a scale of 1-5, how would you rate your knowledge of the equipment at your outlet? - Equipment Knowledge, dtype: int64"
      ]
     },
     "execution_count": 100,
     "metadata": {},
     "output_type": "execute_result"
    }
   ],
   "source": [
    "maneater_responses['On a scale of 1-5, how would you rate your knowledge of the equipment at your outlet? - Equipment Knowledge'].value_counts()"
   ]
  },
  {
   "cell_type": "code",
   "execution_count": 102,
   "id": "232a8430",
   "metadata": {},
   "outputs": [
    {
     "data": {
      "text/plain": [
       "0.34782608695652173"
      ]
     },
     "execution_count": 102,
     "metadata": {},
     "output_type": "execute_result"
    }
   ],
   "source": [
    "8/23"
   ]
  },
  {
   "cell_type": "markdown",
   "id": "9487d46d",
   "metadata": {},
   "source": [
    "## KCOU Analysis"
   ]
  },
  {
   "cell_type": "markdown",
   "id": "449107f4",
   "metadata": {},
   "source": [
    "### Outlet Demographic Numbers"
   ]
  },
  {
   "cell_type": "markdown",
   "id": "b8653319",
   "metadata": {},
   "source": [
    "#### Semesters"
   ]
  },
  {
   "cell_type": "code",
   "execution_count": 119,
   "id": "59665f4c",
   "metadata": {
    "scrolled": false
   },
   "outputs": [
    {
     "data": {
      "text/plain": [
       "1     18\n",
       "6+     6\n",
       "3      6\n",
       "4      5\n",
       "5      3\n",
       "2      1\n",
       "Name: How many semesters have you worked at Mizzou Student Media? (Including the current semester), dtype: int64"
      ]
     },
     "execution_count": 119,
     "metadata": {},
     "output_type": "execute_result"
    }
   ],
   "source": [
    "kcou_responses['How many semesters have you worked at Mizzou Student Media? (Including the current semester)'].value_counts()"
   ]
  },
  {
   "cell_type": "markdown",
   "id": "4a572ba7",
   "metadata": {},
   "source": [
    "#### Gender"
   ]
  },
  {
   "cell_type": "code",
   "execution_count": 121,
   "id": "b463e47e",
   "metadata": {
    "scrolled": true
   },
   "outputs": [
    {
     "data": {
      "text/plain": [
       "Man                                 22\n",
       "Woman                               14\n",
       "Non-binary/gender non-conforming     3\n",
       "Name: How would you best describe your gender identity? - Selected Choice, dtype: int64"
      ]
     },
     "execution_count": 121,
     "metadata": {},
     "output_type": "execute_result"
    }
   ],
   "source": [
    "kcou_responses['How would you best describe your gender identity? - Selected Choice'].value_counts()"
   ]
  },
  {
   "cell_type": "code",
   "execution_count": 129,
   "id": "9133c6b1",
   "metadata": {
    "scrolled": true
   },
   "outputs": [
    {
     "data": {
      "text/plain": [
       "Man                                 0.564103\n",
       "Woman                               0.358974\n",
       "Non-binary/gender non-conforming    0.076923\n",
       "Name: How would you best describe your gender identity? - Selected Choice, dtype: float64"
      ]
     },
     "execution_count": 129,
     "metadata": {},
     "output_type": "execute_result"
    }
   ],
   "source": [
    "kcou_responses['How would you best describe your gender identity? - Selected Choice'].value_counts(normalize=True)"
   ]
  },
  {
   "cell_type": "markdown",
   "id": "92bb19a6",
   "metadata": {},
   "source": [
    "#### Race/Ethnicity"
   ]
  },
  {
   "cell_type": "code",
   "execution_count": 122,
   "id": "7b66a094",
   "metadata": {},
   "outputs": [
    {
     "data": {
      "text/plain": [
       "White                                    33\n",
       "Hispanic, Latino, or Spanish Origin       2\n",
       "Black or African American,White           1\n",
       "Asian                                     1\n",
       "Middle Eastern or North African,White     1\n",
       "Black or African American                 1\n",
       "Name: How would you best describe your racial/ethnic identity?, dtype: int64"
      ]
     },
     "execution_count": 122,
     "metadata": {},
     "output_type": "execute_result"
    }
   ],
   "source": [
    "kcou_responses['How would you best describe your racial/ethnic identity?'].value_counts()"
   ]
  },
  {
   "cell_type": "markdown",
   "id": "eb9f0328",
   "metadata": {},
   "source": [
    "#### Class Standing"
   ]
  },
  {
   "cell_type": "code",
   "execution_count": 123,
   "id": "170b103a",
   "metadata": {},
   "outputs": [
    {
     "data": {
      "text/plain": [
       "Sophomore    13\n",
       "Freshman      9\n",
       "Senior        9\n",
       "Junior        8\n",
       "Name: What is your current class standing?, dtype: int64"
      ]
     },
     "execution_count": 123,
     "metadata": {},
     "output_type": "execute_result"
    }
   ],
   "source": [
    "kcou_responses['What is your current class standing?'].value_counts()"
   ]
  },
  {
   "cell_type": "code",
   "execution_count": 128,
   "id": "d365119d",
   "metadata": {},
   "outputs": [
    {
     "data": {
      "text/plain": [
       "Sophomore    0.333333\n",
       "Freshman     0.230769\n",
       "Senior       0.230769\n",
       "Junior       0.205128\n",
       "Name: What is your current class standing?, dtype: float64"
      ]
     },
     "execution_count": 128,
     "metadata": {},
     "output_type": "execute_result"
    }
   ],
   "source": [
    "kcou_responses['What is your current class standing?'].value_counts(normalize=True)"
   ]
  },
  {
   "cell_type": "markdown",
   "id": "53536f4a",
   "metadata": {},
   "source": [
    "#### Returning"
   ]
  },
  {
   "cell_type": "code",
   "execution_count": 124,
   "id": "05d2723d",
   "metadata": {},
   "outputs": [
    {
     "data": {
      "text/plain": [
       "Yes                   38\n",
       "No, please explain     1\n",
       "Name: Are you planning to return next semester? - Selected Choice, dtype: int64"
      ]
     },
     "execution_count": 124,
     "metadata": {},
     "output_type": "execute_result"
    }
   ],
   "source": [
    "kcou_responses['Are you planning to return next semester? - Selected Choice'].value_counts()"
   ]
  },
  {
   "cell_type": "code",
   "execution_count": 127,
   "id": "efe2b6e3",
   "metadata": {},
   "outputs": [
    {
     "data": {
      "text/plain": [
       "Yes                   0.974359\n",
       "No, please explain    0.025641\n",
       "Name: Are you planning to return next semester? - Selected Choice, dtype: float64"
      ]
     },
     "execution_count": 127,
     "metadata": {},
     "output_type": "execute_result"
    }
   ],
   "source": [
    "kcou_responses['Are you planning to return next semester? - Selected Choice'].value_counts(normalize=True)"
   ]
  },
  {
   "cell_type": "markdown",
   "id": "91aac7ed",
   "metadata": {},
   "source": [
    "#### Safety"
   ]
  },
  {
   "cell_type": "code",
   "execution_count": 125,
   "id": "30a05c1a",
   "metadata": {},
   "outputs": [
    {
     "data": {
      "text/plain": [
       "Yes (please explain)    38\n",
       "No (please explain)      1\n",
       "Name: Do you feel that Mizzou Student Media is a safe, inclusive, equitable space? - Selected Choice, dtype: int64"
      ]
     },
     "execution_count": 125,
     "metadata": {},
     "output_type": "execute_result"
    }
   ],
   "source": [
    "kcou_responses['Do you feel that Mizzou Student Media is a safe, inclusive, equitable space? - Selected Choice'].value_counts()"
   ]
  },
  {
   "cell_type": "code",
   "execution_count": 126,
   "id": "c0c0d576",
   "metadata": {},
   "outputs": [
    {
     "data": {
      "text/plain": [
       "Yes (please explain)    0.974359\n",
       "No (please explain)     0.025641\n",
       "Name: Do you feel that Mizzou Student Media is a safe, inclusive, equitable space? - Selected Choice, dtype: float64"
      ]
     },
     "execution_count": 126,
     "metadata": {},
     "output_type": "execute_result"
    }
   ],
   "source": [
    "kcou_responses['Do you feel that Mizzou Student Media is a safe, inclusive, equitable space? - Selected Choice'].value_counts(normalize=True)"
   ]
  },
  {
   "cell_type": "markdown",
   "id": "fad8f113",
   "metadata": {},
   "source": [
    "### Leadership Satisfaction"
   ]
  },
  {
   "cell_type": "code",
   "execution_count": 69,
   "id": "b540aafb",
   "metadata": {},
   "outputs": [
    {
     "data": {
      "text/plain": [
       "count    38.000000\n",
       "mean      4.605263\n",
       "std       0.789782\n",
       "min       1.000000\n",
       "25%       4.000000\n",
       "50%       5.000000\n",
       "75%       5.000000\n",
       "max       5.000000\n",
       "Name: On a scale of 1-5, how satisfied are you with the executive leadership of your outlet (General Managers, Editor-in-Chief/Managing Editor)? - Leadership, dtype: float64"
      ]
     },
     "execution_count": 69,
     "metadata": {},
     "output_type": "execute_result"
    }
   ],
   "source": [
    "kcou_responses['On a scale of 1-5, how satisfied are you with the executive leadership of your outlet (General Managers, Editor-in-Chief/Managing Editor)? - Leadership'].describe()"
   ]
  },
  {
   "cell_type": "code",
   "execution_count": 75,
   "id": "3c794e0e",
   "metadata": {},
   "outputs": [
    {
     "data": {
      "text/plain": [
       "<AxesSubplot:>"
      ]
     },
     "execution_count": 75,
     "metadata": {},
     "output_type": "execute_result"
    },
    {
     "data": {
      "image/png": "[encoded data removed]",
      "text/plain": [
       "<Figure size 432x288 with 1 Axes>"
      ]
     },
     "metadata": {
      "needs_background": "light"
     },
     "output_type": "display_data"
    }
   ],
   "source": [
    "kcou_responses['On a scale of 1-5, how satisfied are you with the executive leadership of your outlet (General Managers, Editor-in-Chief/Managing Editor)? - Leadership'].hist(bins=5)"
   ]
  },
  {
   "cell_type": "code",
   "execution_count": 72,
   "id": "5e6bd8c0",
   "metadata": {},
   "outputs": [
    {
     "data": {
      "text/plain": [
       "5.0    27\n",
       "4.0     9\n",
       "3.0     1\n",
       "1.0     1\n",
       "Name: On a scale of 1-5, how satisfied are you with the executive leadership of your outlet (General Managers, Editor-in-Chief/Managing Editor)? - Leadership, dtype: int64"
      ]
     },
     "execution_count": 72,
     "metadata": {},
     "output_type": "execute_result"
    }
   ],
   "source": [
    "kcou_responses['On a scale of 1-5, how satisfied are you with the executive leadership of your outlet (General Managers, Editor-in-Chief/Managing Editor)? - Leadership'].value_counts()"
   ]
  },
  {
   "cell_type": "code",
   "execution_count": 77,
   "id": "1f4eb898",
   "metadata": {},
   "outputs": [
    {
     "data": {
      "text/plain": [
       "0.9473684210526315"
      ]
     },
     "execution_count": 77,
     "metadata": {},
     "output_type": "execute_result"
    }
   ],
   "source": [
    "36/38"
   ]
  },
  {
   "cell_type": "markdown",
   "id": "b5f9231e",
   "metadata": {},
   "source": [
    "### MSM Team effectiveness"
   ]
  },
  {
   "cell_type": "code",
   "execution_count": 82,
   "id": "f415ed66",
   "metadata": {},
   "outputs": [
    {
     "data": {
      "text/plain": [
       "count    35.000000\n",
       "mean      3.657143\n",
       "std       1.136115\n",
       "min       1.000000\n",
       "25%       3.000000\n",
       "50%       4.000000\n",
       "75%       4.500000\n",
       "max       5.000000\n",
       "Name: On a scale of 1-5, how effective is the Mizzou Student Media Team in supporting the efforts and operations of your outlet? - MSM Team, dtype: float64"
      ]
     },
     "execution_count": 82,
     "metadata": {},
     "output_type": "execute_result"
    }
   ],
   "source": [
    "kcou_responses['On a scale of 1-5, how effective is the Mizzou Student Media Team in supporting the efforts and operations of your outlet? - MSM Team'].describe()"
   ]
  },
  {
   "cell_type": "code",
   "execution_count": 83,
   "id": "9adbd992",
   "metadata": {},
   "outputs": [
    {
     "data": {
      "text/plain": [
       "<AxesSubplot:>"
      ]
     },
     "execution_count": 83,
     "metadata": {},
     "output_type": "execute_result"
    },
    {
     "data": {
      "image/png": "[encoded data removed]",
      "text/plain": [
       "<Figure size 432x288 with 1 Axes>"
      ]
     },
     "metadata": {
      "needs_background": "light"
     },
     "output_type": "display_data"
    }
   ],
   "source": [
    "kcou_responses['On a scale of 1-5, how effective is the Mizzou Student Media Team in supporting the efforts and operations of your outlet? - MSM Team'].hist(bins=5)"
   ]
  },
  {
   "cell_type": "code",
   "execution_count": 84,
   "id": "b5cde5d4",
   "metadata": {},
   "outputs": [
    {
     "data": {
      "text/plain": [
       "4.0    12\n",
       "3.0     9\n",
       "5.0     9\n",
       "2.0     3\n",
       "1.0     2\n",
       "Name: On a scale of 1-5, how effective is the Mizzou Student Media Team in supporting the efforts and operations of your outlet? - MSM Team, dtype: int64"
      ]
     },
     "execution_count": 84,
     "metadata": {},
     "output_type": "execute_result"
    }
   ],
   "source": [
    "kcou_responses['On a scale of 1-5, how effective is the Mizzou Student Media Team in supporting the efforts and operations of your outlet? - MSM Team'].value_counts()"
   ]
  },
  {
   "cell_type": "code",
   "execution_count": 86,
   "id": "deb852cd",
   "metadata": {},
   "outputs": [
    {
     "data": {
      "text/plain": [
       "0.6"
      ]
     },
     "execution_count": 86,
     "metadata": {},
     "output_type": "execute_result"
    }
   ],
   "source": [
    "21/35"
   ]
  },
  {
   "cell_type": "markdown",
   "id": "6b6fd9dd",
   "metadata": {},
   "source": [
    "### Onboarding Effectiveness"
   ]
  },
  {
   "cell_type": "code",
   "execution_count": 93,
   "id": "b541edf2",
   "metadata": {},
   "outputs": [
    {
     "data": {
      "text/plain": [
       "count    33.000000\n",
       "mean      3.727273\n",
       "std       0.839372\n",
       "min       2.000000\n",
       "25%       3.000000\n",
       "50%       4.000000\n",
       "75%       4.000000\n",
       "max       5.000000\n",
       "Name: On a scale of 1-5, how would you rate the effectiveness of training and onboarding at your outlet? - Training & Onboarding, dtype: float64"
      ]
     },
     "execution_count": 93,
     "metadata": {},
     "output_type": "execute_result"
    }
   ],
   "source": [
    "kcou_responses['On a scale of 1-5, how would you rate the effectiveness of training and onboarding at your outlet? - Training & Onboarding'].describe()"
   ]
  },
  {
   "cell_type": "code",
   "execution_count": 94,
   "id": "15cd7363",
   "metadata": {},
   "outputs": [
    {
     "data": {
      "text/plain": [
       "<AxesSubplot:>"
      ]
     },
     "execution_count": 94,
     "metadata": {},
     "output_type": "execute_result"
    },
    {
     "data": {
      "image/png": "[encoded data removed]",
      "text/plain": [
       "<Figure size 432x288 with 1 Axes>"
      ]
     },
     "metadata": {
      "needs_background": "light"
     },
     "output_type": "display_data"
    }
   ],
   "source": [
    "kcou_responses['On a scale of 1-5, how would you rate the effectiveness of training and onboarding at your outlet? - Training & Onboarding'].hist(bins=5)"
   ]
  },
  {
   "cell_type": "code",
   "execution_count": 95,
   "id": "59c3d786",
   "metadata": {},
   "outputs": [
    {
     "data": {
      "text/plain": [
       "3.0    14\n",
       "4.0    11\n",
       "5.0     7\n",
       "2.0     1\n",
       "Name: On a scale of 1-5, how would you rate the effectiveness of training and onboarding at your outlet? - Training & Onboarding, dtype: int64"
      ]
     },
     "execution_count": 95,
     "metadata": {},
     "output_type": "execute_result"
    }
   ],
   "source": [
    "kcou_responses['On a scale of 1-5, how would you rate the effectiveness of training and onboarding at your outlet? - Training & Onboarding'].value_counts()"
   ]
  },
  {
   "cell_type": "code",
   "execution_count": 96,
   "id": "3fca3447",
   "metadata": {},
   "outputs": [
    {
     "data": {
      "text/plain": [
       "0.5454545454545454"
      ]
     },
     "execution_count": 96,
     "metadata": {},
     "output_type": "execute_result"
    }
   ],
   "source": [
    "18/33"
   ]
  },
  {
   "cell_type": "code",
   "execution_count": 97,
   "id": "e20569d7",
   "metadata": {},
   "outputs": [
    {
     "data": {
      "text/plain": [
       "0.2935853032711225"
      ]
     },
     "execution_count": 97,
     "metadata": {},
     "output_type": "execute_result"
    }
   ],
   "source": [
    "kcou_responses['On a scale of 1-5, how would you rate the effectiveness of training and onboarding at your outlet? - Training & Onboarding'].corr(kcou_responses['On a scale of 1-5, how effective is the Mizzou Student Media Team in supporting the efforts and operations of your outlet? - MSM Team'])"
   ]
  },
  {
   "cell_type": "markdown",
   "id": "0505dff6",
   "metadata": {},
   "source": [
    "### Equipment Knowledge"
   ]
  },
  {
   "cell_type": "code",
   "execution_count": 104,
   "id": "99ed14ac",
   "metadata": {},
   "outputs": [
    {
     "data": {
      "text/plain": [
       "count    36.000000\n",
       "mean      3.666667\n",
       "std       0.828079\n",
       "min       1.000000\n",
       "25%       3.000000\n",
       "50%       4.000000\n",
       "75%       4.000000\n",
       "max       5.000000\n",
       "Name: On a scale of 1-5, how would you rate your knowledge of the equipment at your outlet? - Equipment Knowledge, dtype: float64"
      ]
     },
     "execution_count": 104,
     "metadata": {},
     "output_type": "execute_result"
    }
   ],
   "source": [
    "kcou_responses['On a scale of 1-5, how would you rate your knowledge of the equipment at your outlet? - Equipment Knowledge'].describe()"
   ]
  },
  {
   "cell_type": "code",
   "execution_count": 105,
   "id": "ab88a32a",
   "metadata": {},
   "outputs": [
    {
     "data": {
      "text/plain": [
       "<AxesSubplot:>"
      ]
     },
     "execution_count": 105,
     "metadata": {},
     "output_type": "execute_result"
    },
    {
     "data": {
      "image/png": "[encoded data removed]",
      "text/plain": [
       "<Figure size 432x288 with 1 Axes>"
      ]
     },
     "metadata": {
      "needs_background": "light"
     },
     "output_type": "display_data"
    }
   ],
   "source": [
    "kcou_responses['On a scale of 1-5, how would you rate your knowledge of the equipment at your outlet? - Equipment Knowledge'].hist(bins=5)"
   ]
  },
  {
   "cell_type": "code",
   "execution_count": 106,
   "id": "669ae7ab",
   "metadata": {},
   "outputs": [
    {
     "data": {
      "text/plain": [
       "4.0    19\n",
       "3.0    11\n",
       "5.0     4\n",
       "2.0     1\n",
       "1.0     1\n",
       "Name: On a scale of 1-5, how would you rate your knowledge of the equipment at your outlet? - Equipment Knowledge, dtype: int64"
      ]
     },
     "execution_count": 106,
     "metadata": {},
     "output_type": "execute_result"
    }
   ],
   "source": [
    "kcou_responses['On a scale of 1-5, how would you rate your knowledge of the equipment at your outlet? - Equipment Knowledge'].value_counts()"
   ]
  },
  {
   "cell_type": "code",
   "execution_count": 107,
   "id": "3aa6edd8",
   "metadata": {},
   "outputs": [
    {
     "data": {
      "text/plain": [
       "0.6388888888888888"
      ]
     },
     "execution_count": 107,
     "metadata": {},
     "output_type": "execute_result"
    }
   ],
   "source": [
    "23/36"
   ]
  },
  {
   "cell_type": "markdown",
   "id": "f1aea29d",
   "metadata": {},
   "source": [
    "# Geoffrey Curiosity"
   ]
  },
  {
   "cell_type": "code",
   "execution_count": 136,
   "id": "a9eda798",
   "metadata": {},
   "outputs": [
    {
     "data": {
      "text/plain": [
       "array(['Start Date', 'End Date', 'Response Type', 'IP Address',\n",
       "       'Progress', 'Duration (in seconds)', 'Finished', 'Recorded Date',\n",
       "       'Response ID', 'Recipient Last Name', 'Location Latitude',\n",
       "       'Location Longitude', 'Distribution Channel', 'User Language',\n",
       "       'How would you best describe your gender identity? - Selected Choice',\n",
       "       'How would you best describe your gender identity? - Self Identify (please specify) - Text',\n",
       "       'How would you best describe your racial/ethnic identity?',\n",
       "       '3.\\tIs there any other demographic information you would like to share?',\n",
       "       'What is your current class standing?',\n",
       "       'In which of the following schools or colleges at the University of Missouri are you currently enrolled? (Check all that apply) - Selected Choice',\n",
       "       'In which of the following schools or colleges at the University of Missouri are you currently enrolled? (Check all that apply) - Other (please specify) - Text',\n",
       "       'Which student media entity did you work for this semester? (Check all that apply)',\n",
       "       'Which section(s) or department(s) within your outlet do you work for? (Check all that apply)',\n",
       "       'What is the highest position you hold within an MSM outlet?',\n",
       "       'How many semesters have you worked at Mizzou Student Media? (Including the current semester)',\n",
       "       'Are you planning to return next semester? - Selected Choice',\n",
       "       'Are you planning to return next semester? - No, please explain - Text',\n",
       "       'Do you feel that Mizzou Student Media is a safe, inclusive, equitable space? - Selected Choice',\n",
       "       'Do you feel that Mizzou Student Media is a safe, inclusive, equitable space? - Yes (please explain) - Text',\n",
       "       'Do you feel that Mizzou Student Media is a safe, inclusive, equitable space? - No (please explain) - Text',\n",
       "       'Which of the following skills did you learn from your experience in Mizzou Student Media?  (Check all that apply) - Selected Choice',\n",
       "       'Which of the following skills did you learn from your experience in Mizzou Student Media?  (Check all that apply) - Other - Please specify - Text',\n",
       "       'On a scale of 1-5, how satisfied are you with the executive leadership of your outlet (General Managers, Editor-in-Chief/Managing Editor)? - Leadership',\n",
       "       'On a scale of 1-5, how would you rate your knowledge of the equipment at your outlet? - Equipment Knowledge',\n",
       "       'On a scale of 1-5, how would you rate the effectiveness of training and onboarding at your outlet? - Training & Onboarding',\n",
       "       'On a scale of 1-5, how effective is the Mizzou Student Media Team in supporting the efforts and operations of your outlet? - MSM Team',\n",
       "       'How would you describe the culture of your outlet? - Culture',\n",
       "       'Please explain at least one way in which your media outlet can work to improve your learning experience.',\n",
       "       'How do you believe your media outlet can improve its coverage?',\n",
       "       'Please leave a shoutout for someone who made a positive impact on your Mizzou Student Media experience this semester.',\n",
       "       'Is there anything else you would like to share?'], dtype=object)"
      ]
     },
     "execution_count": 136,
     "metadata": {},
     "output_type": "execute_result"
    }
   ],
   "source": [
    "maneater_responses.columns.values"
   ]
  },
  {
   "cell_type": "code",
   "execution_count": 138,
   "id": "5fb2a495",
   "metadata": {},
   "outputs": [],
   "source": [
    "maneater_sports = maneater_responses.loc[maneater_responses['Which section(s) or department(s) within your outlet do you work for? (Check all that apply)'].fillna(\"\").str.contains((\"Sports\")),]"
   ]
  },
  {
   "cell_type": "code",
   "execution_count": 143,
   "id": "3aa18bc3",
   "metadata": {},
   "outputs": [
    {
     "data": {
      "text/plain": [
       "Man                                       0.4\n",
       "Non-binary/gender non-conforming          0.2\n",
       "Woman                                     0.2\n",
       "Woman,Non-binary/gender non-conforming    0.2\n",
       "Name: How would you best describe your gender identity? - Selected Choice, dtype: float64"
      ]
     },
     "execution_count": 143,
     "metadata": {},
     "output_type": "execute_result"
    }
   ],
   "source": [
    "maneater_sports['How would you best describe your gender identity? - Selected Choice'].value_counts(normalize=True)"
   ]
  },
  {
   "cell_type": "code",
   "execution_count": 144,
   "id": "74f24ba3",
   "metadata": {},
   "outputs": [],
   "source": [
    "kcou_sports = kcou_responses.loc[kcou_responses['Which section(s) or department(s) within your outlet do you work for? (Check all that apply)'].fillna(\"\").str.contains((\"Sports\")),]"
   ]
  },
  {
   "cell_type": "code",
   "execution_count": 146,
   "id": "f88eedf5",
   "metadata": {},
   "outputs": [
    {
     "data": {
      "text/plain": [
       "Man      12\n",
       "Woman     1\n",
       "Name: How would you best describe your gender identity? - Selected Choice, dtype: int64"
      ]
     },
     "execution_count": 146,
     "metadata": {},
     "output_type": "execute_result"
    }
   ],
   "source": [
    "kcou_sports['How would you best describe your gender identity? - Selected Choice'].value_counts(normalize=False)"
   ]
  },
  {
   "cell_type": "code",
   "execution_count": 145,
   "id": "f4cd3162",
   "metadata": {},
   "outputs": [
    {
     "data": {
      "text/plain": [
       "Man      0.923077\n",
       "Woman    0.076923\n",
       "Name: How would you best describe your gender identity? - Selected Choice, dtype: float64"
      ]
     },
     "execution_count": 145,
     "metadata": {},
     "output_type": "execute_result"
    }
   ],
   "source": [
    "kcou_sports['How would you best describe your gender identity? - Selected Choice'].value_counts(normalize=True)"
   ]
  },
  {
   "cell_type": "code",
   "execution_count": null,
   "id": "4d6b9b92",
   "metadata": {},
   "outputs": [],
   "source": []
  }
 ],
 "metadata": {
  "kernelspec": {
   "display_name": "Python 3",
   "language": "python",
   "name": "python3"
  },
  "language_info": {
   "codemirror_mode": {
    "name": "ipython",
    "version": 3
   },
   "file_extension": ".py",
   "mimetype": "text/x-python",
   "name": "python",
   "nbconvert_exporter": "python",
   "pygments_lexer": "ipython3",
   "version": "3.8.8"
  }
 },
 "nbformat": 4,
 "nbformat_minor": 5
}
