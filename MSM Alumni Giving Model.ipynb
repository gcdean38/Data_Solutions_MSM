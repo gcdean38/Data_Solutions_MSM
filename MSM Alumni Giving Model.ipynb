{
 "cells": [
  {
   "cell_type": "markdown",
   "id": "7dd11057",
   "metadata": {},
   "source": [
    "## Set configurations"
   ]
  },
  {
   "cell_type": "code",
   "execution_count": 1,
   "id": "a9729b2b",
   "metadata": {},
   "outputs": [],
   "source": [
    "import pandas as pd\n",
    "pd.set_option('display.max_columns', 500)"
   ]
  },
  {
   "cell_type": "markdown",
   "id": "daae47db",
   "metadata": {},
   "source": [
    "# Attempt at Model 1"
   ]
  },
  {
   "cell_type": "code",
   "execution_count": 2,
   "id": "68e7630d",
   "metadata": {},
   "outputs": [],
   "source": [
    "#Import packages\n",
    "import warnings\n",
    "import importlib\n",
    "warnings.simplefilter(action='ignore')\n",
    "warnings.filterwarnings('ignore')\n",
    "import category_encoders as ce\n",
    "import os, sys,pandas as pd,json, numpy as np\n",
    "from datetime import timedelta,datetime as dt, date\n",
    "import sqlalchemy, matplotlib.pyplot as plt\n",
    "\n",
    "from sklearn.datasets import load_iris\n",
    "from sklearn.tree import DecisionTreeClassifier\n",
    "from sklearn.model_selection import train_test_split, StratifiedShuffleSplit, StratifiedKFold\n",
    "from sklearn.metrics import confusion_matrix, classification_report, auc, roc_auc_score, roc_curve, recall_score\n",
    "from sklearn.tree import export_graphviz\n",
    "from io import StringIO \n",
    "from IPython.display import Image \n",
    "from pydot import graph_from_dot_data\n",
    "from sklearn import tree\n",
    "\n",
    "from imblearn.over_sampling import RandomOverSampler\n",
    "from imblearn.under_sampling import RandomUnderSampler"
   ]
  },
  {
   "cell_type": "code",
   "execution_count": 3,
   "id": "ba526481",
   "metadata": {},
   "outputs": [
    {
     "name": "stdout",
     "output_type": "stream",
     "text": [
      "Requirement already satisfied: graphviz in /Users/gcdyw9/opt/anaconda3/lib/python3.8/site-packages (0.20.1)\r\n"
     ]
    }
   ],
   "source": [
    "!pip install graphviz"
   ]
  },
  {
   "cell_type": "code",
   "execution_count": 4,
   "id": "0fd23fed",
   "metadata": {},
   "outputs": [
    {
     "name": "stdout",
     "output_type": "stream",
     "text": [
      "Requirement already satisfied: category_encoders in /Users/gcdyw9/opt/anaconda3/lib/python3.8/site-packages (2.5.0)\n",
      "Requirement already satisfied: statsmodels>=0.9.0 in /Users/gcdyw9/opt/anaconda3/lib/python3.8/site-packages (from category_encoders) (0.12.2)\n",
      "Requirement already satisfied: pandas>=1.0.5 in /Users/gcdyw9/opt/anaconda3/lib/python3.8/site-packages (from category_encoders) (1.2.4)\n",
      "Requirement already satisfied: numpy>=1.14.0 in /Users/gcdyw9/opt/anaconda3/lib/python3.8/site-packages (from category_encoders) (1.20.1)\n",
      "Requirement already satisfied: scipy>=1.0.0 in /Users/gcdyw9/opt/anaconda3/lib/python3.8/site-packages (from category_encoders) (1.6.2)\n",
      "Requirement already satisfied: patsy>=0.5.1 in /Users/gcdyw9/opt/anaconda3/lib/python3.8/site-packages (from category_encoders) (0.5.1)\n",
      "Requirement already satisfied: scikit-learn>=0.20.0 in /Users/gcdyw9/opt/anaconda3/lib/python3.8/site-packages (from category_encoders) (1.1.2)\n",
      "Requirement already satisfied: python-dateutil>=2.7.3 in /Users/gcdyw9/opt/anaconda3/lib/python3.8/site-packages (from pandas>=1.0.5->category_encoders) (2.8.1)\n",
      "Requirement already satisfied: pytz>=2017.3 in /Users/gcdyw9/opt/anaconda3/lib/python3.8/site-packages (from pandas>=1.0.5->category_encoders) (2021.1)\n",
      "Requirement already satisfied: six in /Users/gcdyw9/opt/anaconda3/lib/python3.8/site-packages (from patsy>=0.5.1->category_encoders) (1.15.0)\n",
      "Requirement already satisfied: threadpoolctl>=2.0.0 in /Users/gcdyw9/opt/anaconda3/lib/python3.8/site-packages (from scikit-learn>=0.20.0->category_encoders) (2.1.0)\n",
      "Requirement already satisfied: joblib>=1.0.0 in /Users/gcdyw9/opt/anaconda3/lib/python3.8/site-packages (from scikit-learn>=0.20.0->category_encoders) (1.0.1)\n"
     ]
    }
   ],
   "source": [
    "!pip install category_encoders\n"
   ]
  },
  {
   "cell_type": "code",
   "execution_count": 5,
   "id": "fab2c12e",
   "metadata": {},
   "outputs": [
    {
     "name": "stdout",
     "output_type": "stream",
     "text": [
      "Requirement already satisfied: pydot in /Users/gcdyw9/opt/anaconda3/lib/python3.8/site-packages (1.4.2)\r\n",
      "Requirement already satisfied: pyparsing>=2.1.4 in /Users/gcdyw9/opt/anaconda3/lib/python3.8/site-packages (from pydot) (2.4.7)\r\n"
     ]
    }
   ],
   "source": [
    "!pip install pydot\n"
   ]
  },
  {
   "cell_type": "code",
   "execution_count": 6,
   "id": "717d1c99",
   "metadata": {},
   "outputs": [
    {
     "name": "stdout",
     "output_type": "stream",
     "text": [
      "Requirement already satisfied: imblearn in /Users/gcdyw9/opt/anaconda3/lib/python3.8/site-packages (0.0)\r\n",
      "Requirement already satisfied: imbalanced-learn in /Users/gcdyw9/opt/anaconda3/lib/python3.8/site-packages (from imblearn) (0.9.1)\r\n",
      "Requirement already satisfied: threadpoolctl>=2.0.0 in /Users/gcdyw9/opt/anaconda3/lib/python3.8/site-packages (from imbalanced-learn->imblearn) (2.1.0)\r\n",
      "Requirement already satisfied: numpy>=1.17.3 in /Users/gcdyw9/opt/anaconda3/lib/python3.8/site-packages (from imbalanced-learn->imblearn) (1.20.1)\r\n",
      "Requirement already satisfied: scipy>=1.3.2 in /Users/gcdyw9/opt/anaconda3/lib/python3.8/site-packages (from imbalanced-learn->imblearn) (1.6.2)\r\n",
      "Requirement already satisfied: scikit-learn>=1.1.0 in /Users/gcdyw9/opt/anaconda3/lib/python3.8/site-packages (from imbalanced-learn->imblearn) (1.1.2)\r\n",
      "Requirement already satisfied: joblib>=1.0.0 in /Users/gcdyw9/opt/anaconda3/lib/python3.8/site-packages (from imbalanced-learn->imblearn) (1.0.1)\r\n"
     ]
    }
   ],
   "source": [
    "!pip install imblearn"
   ]
  },
  {
   "cell_type": "code",
   "execution_count": 7,
   "id": "381bcf84",
   "metadata": {},
   "outputs": [
    {
     "name": "stdout",
     "output_type": "stream",
     "text": [
      "Requirement already satisfied: sklearn in /Users/gcdyw9/opt/anaconda3/lib/python3.8/site-packages (0.0)\n",
      "Requirement already satisfied: scikit-learn in /Users/gcdyw9/opt/anaconda3/lib/python3.8/site-packages (from sklearn) (1.1.2)\n",
      "Requirement already satisfied: numpy>=1.17.3 in /Users/gcdyw9/opt/anaconda3/lib/python3.8/site-packages (from scikit-learn->sklearn) (1.20.1)\n",
      "Requirement already satisfied: joblib>=1.0.0 in /Users/gcdyw9/opt/anaconda3/lib/python3.8/site-packages (from scikit-learn->sklearn) (1.0.1)\n",
      "Requirement already satisfied: scipy>=1.3.2 in /Users/gcdyw9/opt/anaconda3/lib/python3.8/site-packages (from scikit-learn->sklearn) (1.6.2)\n",
      "Requirement already satisfied: threadpoolctl>=2.0.0 in /Users/gcdyw9/opt/anaconda3/lib/python3.8/site-packages (from scikit-learn->sklearn) (2.1.0)\n"
     ]
    }
   ],
   "source": [
    "!pip install sklearn"
   ]
  },
  {
   "cell_type": "markdown",
   "id": "7d2bc7f8",
   "metadata": {},
   "source": [
    "## Read alumni data"
   ]
  },
  {
   "cell_type": "code",
   "execution_count": 14,
   "id": "a7de368c",
   "metadata": {
    "scrolled": true
   },
   "outputs": [
    {
     "data": {
      "text/html": [
       "<div>\n",
       "<style scoped>\n",
       "    .dataframe tbody tr th:only-of-type {\n",
       "        vertical-align: middle;\n",
       "    }\n",
       "\n",
       "    .dataframe tbody tr th {\n",
       "        vertical-align: top;\n",
       "    }\n",
       "\n",
       "    .dataframe thead th {\n",
       "        text-align: right;\n",
       "    }\n",
       "</style>\n",
       "<table border=\"1\" class=\"dataframe\">\n",
       "  <thead>\n",
       "    <tr style=\"text-align: right;\">\n",
       "      <th></th>\n",
       "      <th>Unnamed: 0</th>\n",
       "      <th>index</th>\n",
       "      <th>EMAIL_1</th>\n",
       "      <th>MANEATER_ALUM_FLAG</th>\n",
       "      <th>KCOU_ALUM_FLAG</th>\n",
       "      <th>MUTV_ALUM_FLAG</th>\n",
       "      <th>FIRST_NAME</th>\n",
       "      <th>LAST_NAME</th>\n",
       "      <th>Timestamp</th>\n",
       "      <th>Non-work email</th>\n",
       "      <th>Please select your highest level of education</th>\n",
       "      <th>Undergraduate graduation year</th>\n",
       "      <th>Current zip code</th>\n",
       "      <th>Outlet(s) you worked at</th>\n",
       "      <th>Position(s) you held within the outlet(s) chosen above</th>\n",
       "      <th>Years active at your Mizzou Student Media outlet</th>\n",
       "      <th>Current role and organization</th>\n",
       "      <th>Indicate the opportunities described above that you're interested in pursuing.</th>\n",
       "      <th>form_response</th>\n",
       "      <th>state</th>\n",
       "      <th>zip_avg_income</th>\n",
       "      <th>number_outlets</th>\n",
       "      <th>newsletter_list_flag</th>\n",
       "      <th>mentorship_list_flag</th>\n",
       "      <th>auditing_list_flag</th>\n",
       "      <th>apparel_list_flag</th>\n",
       "      <th>workshop_list_flag</th>\n",
       "      <th>networking_list_flag</th>\n",
       "      <th>homecoming_list_flag</th>\n",
       "      <th>facebook_list_flag</th>\n",
       "      <th>scholarship_list_flag</th>\n",
       "      <th>advisory_list_flag</th>\n",
       "      <th>leadership_list_flag</th>\n",
       "      <th>missouri_list_flag</th>\n",
       "      <th>multiple_outlets_list_flag</th>\n",
       "      <th>current_role_list_flag</th>\n",
       "      <th>affluent_list_flag</th>\n",
       "      <th>engagement_points</th>\n",
       "      <th>engaged_list_flag</th>\n",
       "      <th>PREF_EMAIL_ADDRESS</th>\n",
       "      <th>MEDIA_MADNESS_21_GIVING</th>\n",
       "      <th>MEDIA_MADNESS_22_GIVING</th>\n",
       "      <th>MEDIA_MADNESS_21_FLAG</th>\n",
       "      <th>MEDIA_MADNESS_22_FLAG</th>\n",
       "      <th>lapsed_2021_flag</th>\n",
       "      <th>cmm_donor_flag</th>\n",
       "      <th>target</th>\n",
       "    </tr>\n",
       "  </thead>\n",
       "  <tbody>\n",
       "    <tr>\n",
       "      <th>0</th>\n",
       "      <td>0</td>\n",
       "      <td>AAMER MADHANI</td>\n",
       "      <td>aamermadhani@gmail.com</td>\n",
       "      <td>True</td>\n",
       "      <td>False</td>\n",
       "      <td>False</td>\n",
       "      <td>AAMER</td>\n",
       "      <td>MADHANI</td>\n",
       "      <td>X</td>\n",
       "      <td>NaN</td>\n",
       "      <td>NaN</td>\n",
       "      <td>NaN</td>\n",
       "      <td>NaN</td>\n",
       "      <td>NaN</td>\n",
       "      <td>NaN</td>\n",
       "      <td>NaN</td>\n",
       "      <td>NaN</td>\n",
       "      <td>NaN</td>\n",
       "      <td>False</td>\n",
       "      <td>NaN</td>\n",
       "      <td>NaN</td>\n",
       "      <td>1</td>\n",
       "      <td>False</td>\n",
       "      <td>False</td>\n",
       "      <td>False</td>\n",
       "      <td>False</td>\n",
       "      <td>False</td>\n",
       "      <td>False</td>\n",
       "      <td>False</td>\n",
       "      <td>False</td>\n",
       "      <td>False</td>\n",
       "      <td>False</td>\n",
       "      <td>False</td>\n",
       "      <td>False</td>\n",
       "      <td>False</td>\n",
       "      <td>False</td>\n",
       "      <td>False</td>\n",
       "      <td>0</td>\n",
       "      <td>False</td>\n",
       "      <td>aamermadhani@gmail.com</td>\n",
       "      <td>20.0</td>\n",
       "      <td>NaN</td>\n",
       "      <td>True</td>\n",
       "      <td>False</td>\n",
       "      <td>True</td>\n",
       "      <td>True</td>\n",
       "      <td>True</td>\n",
       "    </tr>\n",
       "    <tr>\n",
       "      <th>1</th>\n",
       "      <td>1</td>\n",
       "      <td>AARON CARTER</td>\n",
       "      <td>Aaroncarter51298@gmail.com</td>\n",
       "      <td>False</td>\n",
       "      <td>True</td>\n",
       "      <td>True</td>\n",
       "      <td>AARON</td>\n",
       "      <td>CARTER</td>\n",
       "      <td>X</td>\n",
       "      <td>NaN</td>\n",
       "      <td>NaN</td>\n",
       "      <td>NaN</td>\n",
       "      <td>NaN</td>\n",
       "      <td>NaN</td>\n",
       "      <td>NaN</td>\n",
       "      <td>NaN</td>\n",
       "      <td>NaN</td>\n",
       "      <td>NaN</td>\n",
       "      <td>False</td>\n",
       "      <td>NaN</td>\n",
       "      <td>NaN</td>\n",
       "      <td>2</td>\n",
       "      <td>False</td>\n",
       "      <td>False</td>\n",
       "      <td>False</td>\n",
       "      <td>False</td>\n",
       "      <td>False</td>\n",
       "      <td>False</td>\n",
       "      <td>False</td>\n",
       "      <td>False</td>\n",
       "      <td>False</td>\n",
       "      <td>False</td>\n",
       "      <td>False</td>\n",
       "      <td>False</td>\n",
       "      <td>True</td>\n",
       "      <td>False</td>\n",
       "      <td>False</td>\n",
       "      <td>0</td>\n",
       "      <td>False</td>\n",
       "      <td>NaN</td>\n",
       "      <td>NaN</td>\n",
       "      <td>NaN</td>\n",
       "      <td>False</td>\n",
       "      <td>False</td>\n",
       "      <td>False</td>\n",
       "      <td>False</td>\n",
       "      <td>False</td>\n",
       "    </tr>\n",
       "    <tr>\n",
       "      <th>2</th>\n",
       "      <td>2</td>\n",
       "      <td>AARON CUMMINS</td>\n",
       "      <td>aaroncummins@yahoo.com</td>\n",
       "      <td>False</td>\n",
       "      <td>True</td>\n",
       "      <td>False</td>\n",
       "      <td>AARON</td>\n",
       "      <td>CUMMINS</td>\n",
       "      <td>X</td>\n",
       "      <td>NaN</td>\n",
       "      <td>NaN</td>\n",
       "      <td>NaN</td>\n",
       "      <td>NaN</td>\n",
       "      <td>NaN</td>\n",
       "      <td>NaN</td>\n",
       "      <td>NaN</td>\n",
       "      <td>NaN</td>\n",
       "      <td>NaN</td>\n",
       "      <td>False</td>\n",
       "      <td>NaN</td>\n",
       "      <td>NaN</td>\n",
       "      <td>1</td>\n",
       "      <td>False</td>\n",
       "      <td>False</td>\n",
       "      <td>False</td>\n",
       "      <td>False</td>\n",
       "      <td>False</td>\n",
       "      <td>False</td>\n",
       "      <td>False</td>\n",
       "      <td>False</td>\n",
       "      <td>False</td>\n",
       "      <td>False</td>\n",
       "      <td>False</td>\n",
       "      <td>False</td>\n",
       "      <td>False</td>\n",
       "      <td>False</td>\n",
       "      <td>False</td>\n",
       "      <td>0</td>\n",
       "      <td>False</td>\n",
       "      <td>NaN</td>\n",
       "      <td>NaN</td>\n",
       "      <td>NaN</td>\n",
       "      <td>False</td>\n",
       "      <td>False</td>\n",
       "      <td>False</td>\n",
       "      <td>False</td>\n",
       "      <td>False</td>\n",
       "    </tr>\n",
       "    <tr>\n",
       "      <th>3</th>\n",
       "      <td>3</td>\n",
       "      <td>AARON LADD</td>\n",
       "      <td>laddaaron0@gmail.com</td>\n",
       "      <td>False</td>\n",
       "      <td>False</td>\n",
       "      <td>True</td>\n",
       "      <td>AARON</td>\n",
       "      <td>LADD</td>\n",
       "      <td>7/13/22 14:37</td>\n",
       "      <td>laddaaron0@gmail.com</td>\n",
       "      <td>Bachelor's Degree</td>\n",
       "      <td>2018</td>\n",
       "      <td>64111</td>\n",
       "      <td>MUTV</td>\n",
       "      <td>MUTV Sports Reporter</td>\n",
       "      <td>2015-2016</td>\n",
       "      <td>KSHB 41 TV</td>\n",
       "      <td>Becoming a mentor for the mentorship program, ...</td>\n",
       "      <td>True</td>\n",
       "      <td>MO</td>\n",
       "      <td>61.721542</td>\n",
       "      <td>1</td>\n",
       "      <td>True</td>\n",
       "      <td>True</td>\n",
       "      <td>False</td>\n",
       "      <td>False</td>\n",
       "      <td>False</td>\n",
       "      <td>False</td>\n",
       "      <td>False</td>\n",
       "      <td>False</td>\n",
       "      <td>False</td>\n",
       "      <td>False</td>\n",
       "      <td>False</td>\n",
       "      <td>True</td>\n",
       "      <td>False</td>\n",
       "      <td>False</td>\n",
       "      <td>False</td>\n",
       "      <td>2</td>\n",
       "      <td>False</td>\n",
       "      <td>NaN</td>\n",
       "      <td>NaN</td>\n",
       "      <td>NaN</td>\n",
       "      <td>False</td>\n",
       "      <td>False</td>\n",
       "      <td>False</td>\n",
       "      <td>False</td>\n",
       "      <td>False</td>\n",
       "    </tr>\n",
       "    <tr>\n",
       "      <th>4</th>\n",
       "      <td>4</td>\n",
       "      <td>AARON MORALES</td>\n",
       "      <td>morgan.amgardens@gmail.com</td>\n",
       "      <td>True</td>\n",
       "      <td>False</td>\n",
       "      <td>False</td>\n",
       "      <td>AARON</td>\n",
       "      <td>MORALES</td>\n",
       "      <td>X</td>\n",
       "      <td>NaN</td>\n",
       "      <td>NaN</td>\n",
       "      <td>NaN</td>\n",
       "      <td>NaN</td>\n",
       "      <td>NaN</td>\n",
       "      <td>NaN</td>\n",
       "      <td>NaN</td>\n",
       "      <td>NaN</td>\n",
       "      <td>NaN</td>\n",
       "      <td>False</td>\n",
       "      <td>NaN</td>\n",
       "      <td>NaN</td>\n",
       "      <td>1</td>\n",
       "      <td>False</td>\n",
       "      <td>False</td>\n",
       "      <td>False</td>\n",
       "      <td>False</td>\n",
       "      <td>False</td>\n",
       "      <td>False</td>\n",
       "      <td>False</td>\n",
       "      <td>False</td>\n",
       "      <td>False</td>\n",
       "      <td>False</td>\n",
       "      <td>False</td>\n",
       "      <td>False</td>\n",
       "      <td>False</td>\n",
       "      <td>False</td>\n",
       "      <td>False</td>\n",
       "      <td>0</td>\n",
       "      <td>False</td>\n",
       "      <td>NaN</td>\n",
       "      <td>NaN</td>\n",
       "      <td>NaN</td>\n",
       "      <td>False</td>\n",
       "      <td>False</td>\n",
       "      <td>False</td>\n",
       "      <td>False</td>\n",
       "      <td>False</td>\n",
       "    </tr>\n",
       "  </tbody>\n",
       "</table>\n",
       "</div>"
      ],
      "text/plain": [
       "   Unnamed: 0          index                     EMAIL_1  MANEATER_ALUM_FLAG  \\\n",
       "0           0  AAMER MADHANI      aamermadhani@gmail.com                True   \n",
       "1           1   AARON CARTER  Aaroncarter51298@gmail.com               False   \n",
       "2           2  AARON CUMMINS      aaroncummins@yahoo.com               False   \n",
       "3           3     AARON LADD        laddaaron0@gmail.com               False   \n",
       "4           4  AARON MORALES  morgan.amgardens@gmail.com                True   \n",
       "\n",
       "   KCOU_ALUM_FLAG  MUTV_ALUM_FLAG FIRST_NAME LAST_NAME      Timestamp  \\\n",
       "0           False           False      AAMER   MADHANI              X   \n",
       "1            True            True      AARON    CARTER              X   \n",
       "2            True           False      AARON   CUMMINS              X   \n",
       "3           False            True      AARON      LADD  7/13/22 14:37   \n",
       "4           False           False      AARON   MORALES              X   \n",
       "\n",
       "         Non-work email Please select your highest level of education  \\\n",
       "0                   NaN                                           NaN   \n",
       "1                   NaN                                           NaN   \n",
       "2                   NaN                                           NaN   \n",
       "3  laddaaron0@gmail.com                             Bachelor's Degree   \n",
       "4                   NaN                                           NaN   \n",
       "\n",
       "  Undergraduate graduation year Current zip code Outlet(s) you worked at  \\\n",
       "0                           NaN              NaN                     NaN   \n",
       "1                           NaN              NaN                     NaN   \n",
       "2                           NaN              NaN                     NaN   \n",
       "3                          2018            64111                    MUTV   \n",
       "4                           NaN              NaN                     NaN   \n",
       "\n",
       "  Position(s) you held within the outlet(s) chosen above  \\\n",
       "0                                                NaN       \n",
       "1                                                NaN       \n",
       "2                                                NaN       \n",
       "3                               MUTV Sports Reporter       \n",
       "4                                                NaN       \n",
       "\n",
       "  Years active at your Mizzou Student Media outlet  \\\n",
       "0                                              NaN   \n",
       "1                                              NaN   \n",
       "2                                              NaN   \n",
       "3                                        2015-2016   \n",
       "4                                              NaN   \n",
       "\n",
       "  Current role and organization  \\\n",
       "0                           NaN   \n",
       "1                           NaN   \n",
       "2                           NaN   \n",
       "3                   KSHB 41 TV    \n",
       "4                           NaN   \n",
       "\n",
       "  Indicate the opportunities described above that you're interested in pursuing.  \\\n",
       "0                                                NaN                               \n",
       "1                                                NaN                               \n",
       "2                                                NaN                               \n",
       "3  Becoming a mentor for the mentorship program, ...                               \n",
       "4                                                NaN                               \n",
       "\n",
       "   form_response state  zip_avg_income  number_outlets  newsletter_list_flag  \\\n",
       "0          False   NaN             NaN               1                 False   \n",
       "1          False   NaN             NaN               2                 False   \n",
       "2          False   NaN             NaN               1                 False   \n",
       "3           True    MO       61.721542               1                  True   \n",
       "4          False   NaN             NaN               1                 False   \n",
       "\n",
       "   mentorship_list_flag  auditing_list_flag  apparel_list_flag  \\\n",
       "0                 False               False              False   \n",
       "1                 False               False              False   \n",
       "2                 False               False              False   \n",
       "3                  True               False              False   \n",
       "4                 False               False              False   \n",
       "\n",
       "   workshop_list_flag  networking_list_flag  homecoming_list_flag  \\\n",
       "0               False                 False                 False   \n",
       "1               False                 False                 False   \n",
       "2               False                 False                 False   \n",
       "3               False                 False                 False   \n",
       "4               False                 False                 False   \n",
       "\n",
       "   facebook_list_flag  scholarship_list_flag  advisory_list_flag  \\\n",
       "0               False                  False               False   \n",
       "1               False                  False               False   \n",
       "2               False                  False               False   \n",
       "3               False                  False               False   \n",
       "4               False                  False               False   \n",
       "\n",
       "   leadership_list_flag  missouri_list_flag  multiple_outlets_list_flag  \\\n",
       "0                 False               False                       False   \n",
       "1                 False               False                        True   \n",
       "2                 False               False                       False   \n",
       "3                 False                True                       False   \n",
       "4                 False               False                       False   \n",
       "\n",
       "   current_role_list_flag  affluent_list_flag  engagement_points  \\\n",
       "0                   False               False                  0   \n",
       "1                   False               False                  0   \n",
       "2                   False               False                  0   \n",
       "3                   False               False                  2   \n",
       "4                   False               False                  0   \n",
       "\n",
       "   engaged_list_flag      PREF_EMAIL_ADDRESS  MEDIA_MADNESS_21_GIVING  \\\n",
       "0              False  aamermadhani@gmail.com                     20.0   \n",
       "1              False                     NaN                      NaN   \n",
       "2              False                     NaN                      NaN   \n",
       "3              False                     NaN                      NaN   \n",
       "4              False                     NaN                      NaN   \n",
       "\n",
       "   MEDIA_MADNESS_22_GIVING  MEDIA_MADNESS_21_FLAG  MEDIA_MADNESS_22_FLAG  \\\n",
       "0                      NaN                   True                  False   \n",
       "1                      NaN                  False                  False   \n",
       "2                      NaN                  False                  False   \n",
       "3                      NaN                  False                  False   \n",
       "4                      NaN                  False                  False   \n",
       "\n",
       "   lapsed_2021_flag  cmm_donor_flag  target  \n",
       "0              True            True    True  \n",
       "1             False           False   False  \n",
       "2             False           False   False  \n",
       "3             False           False   False  \n",
       "4             False           False   False  "
      ]
     },
     "execution_count": 14,
     "metadata": {},
     "output_type": "execute_result"
    }
   ],
   "source": [
    "alumni_donation = pd.read_csv(\"/Users/gcdyw9/Documents/alumni_donations.csv\")\n",
    "alumni_donation.head()"
   ]
  },
  {
   "cell_type": "code",
   "execution_count": 15,
   "id": "4caa5d80",
   "metadata": {},
   "outputs": [
    {
     "data": {
      "text/plain": [
       "False    1846\n",
       "True       36\n",
       "Name: target, dtype: int64"
      ]
     },
     "execution_count": 15,
     "metadata": {},
     "output_type": "execute_result"
    }
   ],
   "source": [
    "alumni_donation['target'].value_counts(dropna=False)"
   ]
  },
  {
   "cell_type": "code",
   "execution_count": 16,
   "id": "c33fc109",
   "metadata": {
    "scrolled": true
   },
   "outputs": [
    {
     "data": {
      "text/plain": [
       "array(['Unnamed: 0', 'index', 'EMAIL_1', 'MANEATER_ALUM_FLAG',\n",
       "       'KCOU_ALUM_FLAG', 'MUTV_ALUM_FLAG', 'FIRST_NAME', 'LAST_NAME',\n",
       "       'Timestamp', 'Non-work email',\n",
       "       'Please select your highest level of education',\n",
       "       'Undergraduate graduation year', 'Current zip code',\n",
       "       'Outlet(s) you worked at',\n",
       "       'Position(s) you held within the outlet(s) chosen above',\n",
       "       'Years active at your Mizzou Student Media outlet',\n",
       "       'Current role and organization',\n",
       "       \"Indicate the opportunities described above that you're interested in pursuing.\",\n",
       "       'form_response', 'state', 'zip_avg_income', 'number_outlets',\n",
       "       'newsletter_list_flag', 'mentorship_list_flag',\n",
       "       'auditing_list_flag', 'apparel_list_flag', 'workshop_list_flag',\n",
       "       'networking_list_flag', 'homecoming_list_flag',\n",
       "       'facebook_list_flag', 'scholarship_list_flag',\n",
       "       'advisory_list_flag', 'leadership_list_flag', 'missouri_list_flag',\n",
       "       'multiple_outlets_list_flag', 'current_role_list_flag',\n",
       "       'affluent_list_flag', 'engagement_points', 'engaged_list_flag',\n",
       "       'PREF_EMAIL_ADDRESS', 'MEDIA_MADNESS_21_GIVING',\n",
       "       'MEDIA_MADNESS_22_GIVING', 'MEDIA_MADNESS_21_FLAG',\n",
       "       'MEDIA_MADNESS_22_FLAG', 'lapsed_2021_flag', 'cmm_donor_flag',\n",
       "       'target'], dtype=object)"
      ]
     },
     "execution_count": 16,
     "metadata": {},
     "output_type": "execute_result"
    }
   ],
   "source": [
    "alumni_donation.columns.values"
   ]
  },
  {
   "cell_type": "code",
   "execution_count": null,
   "id": "51f7392c",
   "metadata": {},
   "outputs": [],
   "source": []
  },
  {
   "cell_type": "markdown",
   "id": "48904a99",
   "metadata": {},
   "source": [
    "### Target"
   ]
  },
  {
   "cell_type": "code",
   "execution_count": 17,
   "id": "cabd3332",
   "metadata": {},
   "outputs": [],
   "source": [
    "alumni_donation['target'] = alumni_donation['cmm_donor_flag']"
   ]
  },
  {
   "cell_type": "markdown",
   "id": "2e1b693d",
   "metadata": {},
   "source": [
    "### Defining modeling table"
   ]
  },
  {
   "cell_type": "code",
   "execution_count": 18,
   "id": "cf442a15",
   "metadata": {},
   "outputs": [],
   "source": [
    "data_model = alumni_donation"
   ]
  },
  {
   "cell_type": "code",
   "execution_count": 19,
   "id": "7809a39f",
   "metadata": {},
   "outputs": [
    {
     "data": {
      "text/plain": [
       "(1882, 47)"
      ]
     },
     "execution_count": 19,
     "metadata": {},
     "output_type": "execute_result"
    }
   ],
   "source": [
    "data_model.shape"
   ]
  },
  {
   "cell_type": "markdown",
   "id": "bfa9e436",
   "metadata": {},
   "source": [
    "### Model build"
   ]
  },
  {
   "cell_type": "code",
   "execution_count": 20,
   "id": "38129dbf",
   "metadata": {},
   "outputs": [
    {
     "data": {
      "text/plain": [
       "array(['Unnamed: 0', 'index', 'EMAIL_1', 'MANEATER_ALUM_FLAG',\n",
       "       'KCOU_ALUM_FLAG', 'MUTV_ALUM_FLAG', 'FIRST_NAME', 'LAST_NAME',\n",
       "       'Timestamp', 'Non-work email',\n",
       "       'Please select your highest level of education',\n",
       "       'Undergraduate graduation year', 'Current zip code',\n",
       "       'Outlet(s) you worked at',\n",
       "       'Position(s) you held within the outlet(s) chosen above',\n",
       "       'Years active at your Mizzou Student Media outlet',\n",
       "       'Current role and organization',\n",
       "       \"Indicate the opportunities described above that you're interested in pursuing.\",\n",
       "       'form_response', 'state', 'zip_avg_income', 'number_outlets',\n",
       "       'newsletter_list_flag', 'mentorship_list_flag',\n",
       "       'auditing_list_flag', 'apparel_list_flag', 'workshop_list_flag',\n",
       "       'networking_list_flag', 'homecoming_list_flag',\n",
       "       'facebook_list_flag', 'scholarship_list_flag',\n",
       "       'advisory_list_flag', 'leadership_list_flag', 'missouri_list_flag',\n",
       "       'multiple_outlets_list_flag', 'current_role_list_flag',\n",
       "       'affluent_list_flag', 'engagement_points', 'engaged_list_flag',\n",
       "       'PREF_EMAIL_ADDRESS', 'MEDIA_MADNESS_21_GIVING',\n",
       "       'MEDIA_MADNESS_22_GIVING', 'MEDIA_MADNESS_21_FLAG',\n",
       "       'MEDIA_MADNESS_22_FLAG', 'lapsed_2021_flag', 'cmm_donor_flag',\n",
       "       'target'], dtype=object)"
      ]
     },
     "execution_count": 20,
     "metadata": {},
     "output_type": "execute_result"
    }
   ],
   "source": [
    "data_model.columns.values"
   ]
  },
  {
   "cell_type": "code",
   "execution_count": 21,
   "id": "d493d4a4",
   "metadata": {},
   "outputs": [],
   "source": [
    "input_list=[#'index', 'EMAIL_1', \n",
    "            'MANEATER_ALUM_FLAG', 'KCOU_ALUM_FLAG',\n",
    "       'MUTV_ALUM_FLAG', #'FIRST_NAME', 'LAST_NAME', 'Timestamp',\n",
    "      # 'Non-work email', \n",
    "    #'Please select your highest level of education',\n",
    "      # 'Undergraduate graduation year', 'Current zip code',\n",
    "      # 'Outlet(s) you worked at',\n",
    "      # 'Position(s) you held within the outlet(s) chosen above',\n",
    "#        'Years active at your Mizzou Student Media outlet',\n",
    "#        'Current role and organization',\n",
    "#        \"Indicate the opportunities described above that you're interested in pursuing.\",\n",
    "       'form_response', 'state', 'zip_avg_income', 'number_outlets',\n",
    "       'newsletter_list_flag', 'mentorship_list_flag',\n",
    "       'auditing_list_flag', 'apparel_list_flag', 'workshop_list_flag',\n",
    "       'networking_list_flag', 'homecoming_list_flag',\n",
    "       'facebook_list_flag', 'scholarship_list_flag',\n",
    "       'advisory_list_flag', 'leadership_list_flag', 'missouri_list_flag',\n",
    "       'multiple_outlets_list_flag', 'current_role_list_flag',\n",
    "       'affluent_list_flag', 'engagement_points', 'engaged_list_flag',\n",
    "      # 'PREF_EMAIL_ADDRESS', \n",
    "#     'MEDIA_MADNESS_21_GIVING',\n",
    "#        'MEDIA_MADNESS_22_GIVING', 'MEDIA_MADNESS_21_FLAG',\n",
    "#        'MEDIA_MADNESS_22_FLAG', 'lapsed_2021_flag', 'cmm_donor_flag',\n",
    "     #  'target'\n",
    "]"
   ]
  },
  {
   "cell_type": "code",
   "execution_count": 22,
   "id": "ff8a6bae",
   "metadata": {},
   "outputs": [
    {
     "data": {
      "text/plain": [
       "24"
      ]
     },
     "execution_count": 22,
     "metadata": {},
     "output_type": "execute_result"
    }
   ],
   "source": [
    "len(input_list)"
   ]
  },
  {
   "cell_type": "code",
   "execution_count": 23,
   "id": "fc81c363",
   "metadata": {},
   "outputs": [],
   "source": [
    "X = data_model[input_list]"
   ]
  },
  {
   "cell_type": "code",
   "execution_count": 24,
   "id": "a24f2ab3",
   "metadata": {},
   "outputs": [],
   "source": [
    "y = data_model['target'].astype(int).fillna(0)"
   ]
  },
  {
   "cell_type": "code",
   "execution_count": 25,
   "id": "cbdbe8bf",
   "metadata": {},
   "outputs": [
    {
     "data": {
      "text/plain": [
       "Counter({1: 36, 0: 1846})"
      ]
     },
     "execution_count": 25,
     "metadata": {},
     "output_type": "execute_result"
    }
   ],
   "source": [
    "from collections import Counter\n",
    "Counter(y)"
   ]
  },
  {
   "cell_type": "markdown",
   "id": "7862cf44",
   "metadata": {},
   "source": [
    "### Data partition"
   ]
  },
  {
   "cell_type": "code",
   "execution_count": 26,
   "id": "bddf6b23",
   "metadata": {},
   "outputs": [],
   "source": [
    "sss=StratifiedShuffleSplit(n_splits=1,train_size=0.8,random_state=187)"
   ]
  },
  {
   "cell_type": "code",
   "execution_count": 27,
   "id": "aca80745",
   "metadata": {},
   "outputs": [],
   "source": [
    "for train_index,test_index in sss.split(X,y):\n",
    "    X_train,y_train = X.iloc[train_index], y.iloc[train_index]\n",
    "    X_test, y_test = X.iloc[test_index], y.iloc[test_index]"
   ]
  },
  {
   "cell_type": "markdown",
   "id": "4a79609d",
   "metadata": {},
   "source": [
    "\n",
    "\n",
    "\n",
    "\n",
    "\n",
    "\n",
    "\n",
    "\n",
    "\n",
    "\n",
    "\n",
    "\n",
    "\n",
    "\n",
    "\n",
    "\n",
    "\n",
    "\n",
    "\n",
    "\n",
    "\n",
    "\n",
    "\n",
    "\n",
    "\n",
    "\n",
    "\n",
    "\n",
    "\n",
    "\n",
    "\n",
    "\n",
    "\n",
    "\n",
    "\n",
    "\n",
    "\n",
    "#### One Hot Encoding"
   ]
  },
  {
   "cell_type": "code",
   "execution_count": 28,
   "id": "d4f9861c",
   "metadata": {},
   "outputs": [],
   "source": [
    "ohe = ce.OneHotEncoder(use_cat_names=True)\n",
    "trainXohe = ohe.fit_transform(X_train).fillna(0)\n",
    "testXohe = ohe.transform(X_test).fillna(0)"
   ]
  },
  {
   "cell_type": "code",
   "execution_count": 29,
   "id": "b8a99d40",
   "metadata": {},
   "outputs": [
    {
     "data": {
      "text/plain": [
       "(1505, 46)"
      ]
     },
     "execution_count": 29,
     "metadata": {},
     "output_type": "execute_result"
    }
   ],
   "source": [
    "trainXohe.shape"
   ]
  },
  {
   "cell_type": "code",
   "execution_count": 30,
   "id": "d5629741",
   "metadata": {},
   "outputs": [
    {
     "data": {
      "text/plain": [
       "29"
      ]
     },
     "execution_count": 30,
     "metadata": {},
     "output_type": "execute_result"
    }
   ],
   "source": [
    "y_train.sum()"
   ]
  },
  {
   "cell_type": "code",
   "execution_count": 31,
   "id": "7826197f",
   "metadata": {
    "scrolled": true
   },
   "outputs": [
    {
     "data": {
      "text/html": [
       "<div>\n",
       "<style scoped>\n",
       "    .dataframe tbody tr th:only-of-type {\n",
       "        vertical-align: middle;\n",
       "    }\n",
       "\n",
       "    .dataframe tbody tr th {\n",
       "        vertical-align: top;\n",
       "    }\n",
       "\n",
       "    .dataframe thead th {\n",
       "        text-align: right;\n",
       "    }\n",
       "</style>\n",
       "<table border=\"1\" class=\"dataframe\">\n",
       "  <thead>\n",
       "    <tr style=\"text-align: right;\">\n",
       "      <th></th>\n",
       "      <th>MANEATER_ALUM_FLAG</th>\n",
       "      <th>KCOU_ALUM_FLAG</th>\n",
       "      <th>MUTV_ALUM_FLAG</th>\n",
       "      <th>form_response</th>\n",
       "      <th>state_nan</th>\n",
       "      <th>state_PA</th>\n",
       "      <th>state_GA</th>\n",
       "      <th>state_MO</th>\n",
       "      <th>state_KS</th>\n",
       "      <th>state_IL</th>\n",
       "      <th>state_MN</th>\n",
       "      <th>state_CT</th>\n",
       "      <th>state_NY</th>\n",
       "      <th>state_MD</th>\n",
       "      <th>state_VA</th>\n",
       "      <th>state_MI</th>\n",
       "      <th>state_TN</th>\n",
       "      <th>state_TX</th>\n",
       "      <th>state_CA</th>\n",
       "      <th>state_WI</th>\n",
       "      <th>state_NC</th>\n",
       "      <th>state_CO</th>\n",
       "      <th>state_WA</th>\n",
       "      <th>state_FL</th>\n",
       "      <th>state_MA</th>\n",
       "      <th>state_DC</th>\n",
       "      <th>state_SC</th>\n",
       "      <th>zip_avg_income</th>\n",
       "      <th>number_outlets</th>\n",
       "      <th>newsletter_list_flag</th>\n",
       "      <th>mentorship_list_flag</th>\n",
       "      <th>auditing_list_flag</th>\n",
       "      <th>apparel_list_flag</th>\n",
       "      <th>workshop_list_flag</th>\n",
       "      <th>networking_list_flag</th>\n",
       "      <th>homecoming_list_flag</th>\n",
       "      <th>facebook_list_flag</th>\n",
       "      <th>scholarship_list_flag</th>\n",
       "      <th>advisory_list_flag</th>\n",
       "      <th>leadership_list_flag</th>\n",
       "      <th>missouri_list_flag</th>\n",
       "      <th>multiple_outlets_list_flag</th>\n",
       "      <th>current_role_list_flag</th>\n",
       "      <th>affluent_list_flag</th>\n",
       "      <th>engagement_points</th>\n",
       "      <th>engaged_list_flag</th>\n",
       "    </tr>\n",
       "  </thead>\n",
       "  <tbody>\n",
       "    <tr>\n",
       "      <th>1838</th>\n",
       "      <td>True</td>\n",
       "      <td>False</td>\n",
       "      <td>False</td>\n",
       "      <td>False</td>\n",
       "      <td>1</td>\n",
       "      <td>0</td>\n",
       "      <td>0</td>\n",
       "      <td>0</td>\n",
       "      <td>0</td>\n",
       "      <td>0</td>\n",
       "      <td>0</td>\n",
       "      <td>0</td>\n",
       "      <td>0</td>\n",
       "      <td>0</td>\n",
       "      <td>0</td>\n",
       "      <td>0</td>\n",
       "      <td>0</td>\n",
       "      <td>0</td>\n",
       "      <td>0</td>\n",
       "      <td>0</td>\n",
       "      <td>0</td>\n",
       "      <td>0</td>\n",
       "      <td>0</td>\n",
       "      <td>0</td>\n",
       "      <td>0</td>\n",
       "      <td>0</td>\n",
       "      <td>0</td>\n",
       "      <td>0.0</td>\n",
       "      <td>1</td>\n",
       "      <td>False</td>\n",
       "      <td>False</td>\n",
       "      <td>False</td>\n",
       "      <td>False</td>\n",
       "      <td>False</td>\n",
       "      <td>False</td>\n",
       "      <td>False</td>\n",
       "      <td>False</td>\n",
       "      <td>False</td>\n",
       "      <td>False</td>\n",
       "      <td>False</td>\n",
       "      <td>False</td>\n",
       "      <td>False</td>\n",
       "      <td>False</td>\n",
       "      <td>False</td>\n",
       "      <td>0</td>\n",
       "      <td>False</td>\n",
       "    </tr>\n",
       "    <tr>\n",
       "      <th>546</th>\n",
       "      <td>True</td>\n",
       "      <td>False</td>\n",
       "      <td>False</td>\n",
       "      <td>False</td>\n",
       "      <td>1</td>\n",
       "      <td>0</td>\n",
       "      <td>0</td>\n",
       "      <td>0</td>\n",
       "      <td>0</td>\n",
       "      <td>0</td>\n",
       "      <td>0</td>\n",
       "      <td>0</td>\n",
       "      <td>0</td>\n",
       "      <td>0</td>\n",
       "      <td>0</td>\n",
       "      <td>0</td>\n",
       "      <td>0</td>\n",
       "      <td>0</td>\n",
       "      <td>0</td>\n",
       "      <td>0</td>\n",
       "      <td>0</td>\n",
       "      <td>0</td>\n",
       "      <td>0</td>\n",
       "      <td>0</td>\n",
       "      <td>0</td>\n",
       "      <td>0</td>\n",
       "      <td>0</td>\n",
       "      <td>0.0</td>\n",
       "      <td>1</td>\n",
       "      <td>False</td>\n",
       "      <td>False</td>\n",
       "      <td>False</td>\n",
       "      <td>False</td>\n",
       "      <td>False</td>\n",
       "      <td>False</td>\n",
       "      <td>False</td>\n",
       "      <td>False</td>\n",
       "      <td>False</td>\n",
       "      <td>False</td>\n",
       "      <td>False</td>\n",
       "      <td>False</td>\n",
       "      <td>False</td>\n",
       "      <td>False</td>\n",
       "      <td>False</td>\n",
       "      <td>0</td>\n",
       "      <td>False</td>\n",
       "    </tr>\n",
       "    <tr>\n",
       "      <th>1807</th>\n",
       "      <td>True</td>\n",
       "      <td>False</td>\n",
       "      <td>False</td>\n",
       "      <td>False</td>\n",
       "      <td>1</td>\n",
       "      <td>0</td>\n",
       "      <td>0</td>\n",
       "      <td>0</td>\n",
       "      <td>0</td>\n",
       "      <td>0</td>\n",
       "      <td>0</td>\n",
       "      <td>0</td>\n",
       "      <td>0</td>\n",
       "      <td>0</td>\n",
       "      <td>0</td>\n",
       "      <td>0</td>\n",
       "      <td>0</td>\n",
       "      <td>0</td>\n",
       "      <td>0</td>\n",
       "      <td>0</td>\n",
       "      <td>0</td>\n",
       "      <td>0</td>\n",
       "      <td>0</td>\n",
       "      <td>0</td>\n",
       "      <td>0</td>\n",
       "      <td>0</td>\n",
       "      <td>0</td>\n",
       "      <td>0.0</td>\n",
       "      <td>1</td>\n",
       "      <td>False</td>\n",
       "      <td>False</td>\n",
       "      <td>False</td>\n",
       "      <td>False</td>\n",
       "      <td>False</td>\n",
       "      <td>False</td>\n",
       "      <td>False</td>\n",
       "      <td>False</td>\n",
       "      <td>False</td>\n",
       "      <td>False</td>\n",
       "      <td>False</td>\n",
       "      <td>False</td>\n",
       "      <td>False</td>\n",
       "      <td>False</td>\n",
       "      <td>False</td>\n",
       "      <td>0</td>\n",
       "      <td>False</td>\n",
       "    </tr>\n",
       "    <tr>\n",
       "      <th>1725</th>\n",
       "      <td>True</td>\n",
       "      <td>False</td>\n",
       "      <td>False</td>\n",
       "      <td>False</td>\n",
       "      <td>1</td>\n",
       "      <td>0</td>\n",
       "      <td>0</td>\n",
       "      <td>0</td>\n",
       "      <td>0</td>\n",
       "      <td>0</td>\n",
       "      <td>0</td>\n",
       "      <td>0</td>\n",
       "      <td>0</td>\n",
       "      <td>0</td>\n",
       "      <td>0</td>\n",
       "      <td>0</td>\n",
       "      <td>0</td>\n",
       "      <td>0</td>\n",
       "      <td>0</td>\n",
       "      <td>0</td>\n",
       "      <td>0</td>\n",
       "      <td>0</td>\n",
       "      <td>0</td>\n",
       "      <td>0</td>\n",
       "      <td>0</td>\n",
       "      <td>0</td>\n",
       "      <td>0</td>\n",
       "      <td>0.0</td>\n",
       "      <td>1</td>\n",
       "      <td>False</td>\n",
       "      <td>False</td>\n",
       "      <td>False</td>\n",
       "      <td>False</td>\n",
       "      <td>False</td>\n",
       "      <td>False</td>\n",
       "      <td>False</td>\n",
       "      <td>False</td>\n",
       "      <td>False</td>\n",
       "      <td>False</td>\n",
       "      <td>False</td>\n",
       "      <td>False</td>\n",
       "      <td>False</td>\n",
       "      <td>False</td>\n",
       "      <td>False</td>\n",
       "      <td>0</td>\n",
       "      <td>False</td>\n",
       "    </tr>\n",
       "    <tr>\n",
       "      <th>1016</th>\n",
       "      <td>True</td>\n",
       "      <td>False</td>\n",
       "      <td>False</td>\n",
       "      <td>False</td>\n",
       "      <td>1</td>\n",
       "      <td>0</td>\n",
       "      <td>0</td>\n",
       "      <td>0</td>\n",
       "      <td>0</td>\n",
       "      <td>0</td>\n",
       "      <td>0</td>\n",
       "      <td>0</td>\n",
       "      <td>0</td>\n",
       "      <td>0</td>\n",
       "      <td>0</td>\n",
       "      <td>0</td>\n",
       "      <td>0</td>\n",
       "      <td>0</td>\n",
       "      <td>0</td>\n",
       "      <td>0</td>\n",
       "      <td>0</td>\n",
       "      <td>0</td>\n",
       "      <td>0</td>\n",
       "      <td>0</td>\n",
       "      <td>0</td>\n",
       "      <td>0</td>\n",
       "      <td>0</td>\n",
       "      <td>0.0</td>\n",
       "      <td>1</td>\n",
       "      <td>False</td>\n",
       "      <td>False</td>\n",
       "      <td>False</td>\n",
       "      <td>False</td>\n",
       "      <td>False</td>\n",
       "      <td>False</td>\n",
       "      <td>False</td>\n",
       "      <td>False</td>\n",
       "      <td>False</td>\n",
       "      <td>False</td>\n",
       "      <td>False</td>\n",
       "      <td>False</td>\n",
       "      <td>False</td>\n",
       "      <td>False</td>\n",
       "      <td>False</td>\n",
       "      <td>0</td>\n",
       "      <td>False</td>\n",
       "    </tr>\n",
       "  </tbody>\n",
       "</table>\n",
       "</div>"
      ],
      "text/plain": [
       "      MANEATER_ALUM_FLAG  KCOU_ALUM_FLAG  MUTV_ALUM_FLAG  form_response  \\\n",
       "1838                True           False           False          False   \n",
       "546                 True           False           False          False   \n",
       "1807                True           False           False          False   \n",
       "1725                True           False           False          False   \n",
       "1016                True           False           False          False   \n",
       "\n",
       "      state_nan  state_PA  state_GA  state_MO  state_KS  state_IL  state_MN  \\\n",
       "1838          1         0         0         0         0         0         0   \n",
       "546           1         0         0         0         0         0         0   \n",
       "1807          1         0         0         0         0         0         0   \n",
       "1725          1         0         0         0         0         0         0   \n",
       "1016          1         0         0         0         0         0         0   \n",
       "\n",
       "      state_CT  state_NY  state_MD  state_VA  state_MI  state_TN  state_TX  \\\n",
       "1838         0         0         0         0         0         0         0   \n",
       "546          0         0         0         0         0         0         0   \n",
       "1807         0         0         0         0         0         0         0   \n",
       "1725         0         0         0         0         0         0         0   \n",
       "1016         0         0         0         0         0         0         0   \n",
       "\n",
       "      state_CA  state_WI  state_NC  state_CO  state_WA  state_FL  state_MA  \\\n",
       "1838         0         0         0         0         0         0         0   \n",
       "546          0         0         0         0         0         0         0   \n",
       "1807         0         0         0         0         0         0         0   \n",
       "1725         0         0         0         0         0         0         0   \n",
       "1016         0         0         0         0         0         0         0   \n",
       "\n",
       "      state_DC  state_SC  zip_avg_income  number_outlets  \\\n",
       "1838         0         0             0.0               1   \n",
       "546          0         0             0.0               1   \n",
       "1807         0         0             0.0               1   \n",
       "1725         0         0             0.0               1   \n",
       "1016         0         0             0.0               1   \n",
       "\n",
       "      newsletter_list_flag  mentorship_list_flag  auditing_list_flag  \\\n",
       "1838                 False                 False               False   \n",
       "546                  False                 False               False   \n",
       "1807                 False                 False               False   \n",
       "1725                 False                 False               False   \n",
       "1016                 False                 False               False   \n",
       "\n",
       "      apparel_list_flag  workshop_list_flag  networking_list_flag  \\\n",
       "1838              False               False                 False   \n",
       "546               False               False                 False   \n",
       "1807              False               False                 False   \n",
       "1725              False               False                 False   \n",
       "1016              False               False                 False   \n",
       "\n",
       "      homecoming_list_flag  facebook_list_flag  scholarship_list_flag  \\\n",
       "1838                 False               False                  False   \n",
       "546                  False               False                  False   \n",
       "1807                 False               False                  False   \n",
       "1725                 False               False                  False   \n",
       "1016                 False               False                  False   \n",
       "\n",
       "      advisory_list_flag  leadership_list_flag  missouri_list_flag  \\\n",
       "1838               False                 False               False   \n",
       "546                False                 False               False   \n",
       "1807               False                 False               False   \n",
       "1725               False                 False               False   \n",
       "1016               False                 False               False   \n",
       "\n",
       "      multiple_outlets_list_flag  current_role_list_flag  affluent_list_flag  \\\n",
       "1838                       False                   False               False   \n",
       "546                        False                   False               False   \n",
       "1807                       False                   False               False   \n",
       "1725                       False                   False               False   \n",
       "1016                       False                   False               False   \n",
       "\n",
       "      engagement_points  engaged_list_flag  \n",
       "1838                  0              False  \n",
       "546                   0              False  \n",
       "1807                  0              False  \n",
       "1725                  0              False  \n",
       "1016                  0              False  "
      ]
     },
     "execution_count": 31,
     "metadata": {},
     "output_type": "execute_result"
    }
   ],
   "source": [
    "trainXohe.head()"
   ]
  },
  {
   "cell_type": "markdown",
   "id": "5931b743",
   "metadata": {},
   "source": [
    "#### Train Model 1 (explainability)"
   ]
  },
  {
   "cell_type": "code",
   "execution_count": 32,
   "id": "a1e0dbf6",
   "metadata": {
    "scrolled": true
   },
   "outputs": [
    {
     "name": "stdout",
     "output_type": "stream",
     "text": [
      "Counter({0: 1846, 1: 36})\n",
      "Counter({0: 116, 1: 29})\n",
      "  Train Recall Score: 0.13793103448275862\n",
      "  Train AUC: 0.5646551724137931\n",
      "  Test Recall Score: 0.14285714285714285\n",
      "  Test AUC: 0.5673745173745174\n"
     ]
    },
    {
     "data": {
      "text/plain": [
       "<AxesSubplot:>"
      ]
     },
     "execution_count": 32,
     "metadata": {},
     "output_type": "execute_result"
    },
    {
     "data": {
      "image/png": "[encoded data removed]",
      "text/plain": [
       "<Figure size 432x288 with 1 Axes>"
      ]
     },
     "metadata": {
      "needs_background": "light"
     },
     "output_type": "display_data"
    }
   ],
   "source": [
    "from imblearn.under_sampling import RandomUnderSampler  \n",
    "from collections import Counter\n",
    "\n",
    "undersample = RandomUnderSampler(sampling_strategy=.25)\n",
    "# summarize class distribution\n",
    "print(Counter(y))\n",
    "# fit and apply the transform\n",
    "X_over, y_over = undersample.fit_resample(trainXohe, y_train)\n",
    "# summarize class distribution\n",
    "print(Counter(y_over))\n",
    "\n",
    "\n",
    "def eval_metrics(actual,pred):\n",
    "    recall=recall_score(actual,pred)\n",
    "    auc=roc_auc_score(actual,pred)\n",
    "    return recall, auc  \n",
    "\n",
    "#Train/Fit\n",
    "dtc = DecisionTreeClassifier(\n",
    "  max_depth = 4,\n",
    "    min_samples_leaf=5,\n",
    ")\n",
    "#X_over=trainXohe\n",
    "#y_over=y_train\n",
    "dtc.fit(X_over, y_over)\n",
    "\n",
    "# Predict\n",
    "y_train_pred = dtc.predict(X_over)\n",
    "\n",
    "(train_recall, train_auc) = eval_metrics(y_over, y_train_pred)\n",
    "\n",
    "print(f\"  Train Recall Score: {train_recall}\")\n",
    "print(f\"  Train AUC: {train_auc}\")\n",
    "\n",
    "# Predict\n",
    "y_test_pred = dtc.predict(testXohe)\n",
    "\n",
    "(test_recall, test_auc) = eval_metrics(y_test, y_test_pred)\n",
    "\n",
    "print(f\"  Test Recall Score: {test_recall}\")\n",
    "print(f\"  Test AUC: {test_auc}\") \n",
    "\n",
    "pd.Series(dtc.predict_proba(X_over)[:,1]).hist(bins=50)"
   ]
  },
  {
   "cell_type": "code",
   "execution_count": 33,
   "id": "3c5a1a73",
   "metadata": {},
   "outputs": [],
   "source": [
    "#dtc.fit(trainXohe[['student_mean_amount']], y_train)"
   ]
  },
  {
   "cell_type": "code",
   "execution_count": 34,
   "id": "d63c31ac",
   "metadata": {},
   "outputs": [
    {
     "ename": "FileNotFoundError",
     "evalue": "[Errno 2] \"dot\" not found in path.",
     "output_type": "error",
     "traceback": [
      "\u001b[0;31m---------------------------------------------------------------------------\u001b[0m",
      "\u001b[0;31mFileNotFoundError\u001b[0m                         Traceback (most recent call last)",
      "\u001b[0;32m~/opt/anaconda3/lib/python3.8/site-packages/pydot.py\u001b[0m in \u001b[0;36mcreate\u001b[0;34m(self, prog, format, encoding)\u001b[0m\n\u001b[1;32m   1922\u001b[0m         \u001b[0;32mtry\u001b[0m\u001b[0;34m:\u001b[0m\u001b[0;34m\u001b[0m\u001b[0;34m\u001b[0m\u001b[0m\n\u001b[0;32m-> 1923\u001b[0;31m             stdout_data, stderr_data, process = call_graphviz(\n\u001b[0m\u001b[1;32m   1924\u001b[0m                 \u001b[0mprogram\u001b[0m\u001b[0;34m=\u001b[0m\u001b[0mprog\u001b[0m\u001b[0;34m,\u001b[0m\u001b[0;34m\u001b[0m\u001b[0;34m\u001b[0m\u001b[0m\n",
      "\u001b[0;32m~/opt/anaconda3/lib/python3.8/site-packages/pydot.py\u001b[0m in \u001b[0;36mcall_graphviz\u001b[0;34m(program, arguments, working_dir, **kwargs)\u001b[0m\n\u001b[1;32m    131\u001b[0m \u001b[0;34m\u001b[0m\u001b[0m\n\u001b[0;32m--> 132\u001b[0;31m     process = subprocess.Popen(\n\u001b[0m\u001b[1;32m    133\u001b[0m         \u001b[0mprogram_with_args\u001b[0m\u001b[0;34m,\u001b[0m\u001b[0;34m\u001b[0m\u001b[0;34m\u001b[0m\u001b[0m\n",
      "\u001b[0;32m~/opt/anaconda3/lib/python3.8/subprocess.py\u001b[0m in \u001b[0;36m__init__\u001b[0;34m(self, args, bufsize, executable, stdin, stdout, stderr, preexec_fn, close_fds, shell, cwd, env, universal_newlines, startupinfo, creationflags, restore_signals, start_new_session, pass_fds, encoding, errors, text)\u001b[0m\n\u001b[1;32m    857\u001b[0m \u001b[0;34m\u001b[0m\u001b[0m\n\u001b[0;32m--> 858\u001b[0;31m             self._execute_child(args, executable, preexec_fn, close_fds,\n\u001b[0m\u001b[1;32m    859\u001b[0m                                 \u001b[0mpass_fds\u001b[0m\u001b[0;34m,\u001b[0m \u001b[0mcwd\u001b[0m\u001b[0;34m,\u001b[0m \u001b[0menv\u001b[0m\u001b[0;34m,\u001b[0m\u001b[0;34m\u001b[0m\u001b[0;34m\u001b[0m\u001b[0m\n",
      "\u001b[0;32m~/opt/anaconda3/lib/python3.8/subprocess.py\u001b[0m in \u001b[0;36m_execute_child\u001b[0;34m(self, args, executable, preexec_fn, close_fds, pass_fds, cwd, env, startupinfo, creationflags, shell, p2cread, p2cwrite, c2pread, c2pwrite, errread, errwrite, restore_signals, start_new_session)\u001b[0m\n\u001b[1;32m   1705\u001b[0m                         \u001b[0merr_msg\u001b[0m \u001b[0;34m=\u001b[0m \u001b[0mos\u001b[0m\u001b[0;34m.\u001b[0m\u001b[0mstrerror\u001b[0m\u001b[0;34m(\u001b[0m\u001b[0merrno_num\u001b[0m\u001b[0;34m)\u001b[0m\u001b[0;34m\u001b[0m\u001b[0;34m\u001b[0m\u001b[0m\n\u001b[0;32m-> 1706\u001b[0;31m                     \u001b[0;32mraise\u001b[0m \u001b[0mchild_exception_type\u001b[0m\u001b[0;34m(\u001b[0m\u001b[0merrno_num\u001b[0m\u001b[0;34m,\u001b[0m \u001b[0merr_msg\u001b[0m\u001b[0;34m,\u001b[0m \u001b[0merr_filename\u001b[0m\u001b[0;34m)\u001b[0m\u001b[0;34m\u001b[0m\u001b[0;34m\u001b[0m\u001b[0m\n\u001b[0m\u001b[1;32m   1707\u001b[0m                 \u001b[0;32mraise\u001b[0m \u001b[0mchild_exception_type\u001b[0m\u001b[0;34m(\u001b[0m\u001b[0merr_msg\u001b[0m\u001b[0;34m)\u001b[0m\u001b[0;34m\u001b[0m\u001b[0;34m\u001b[0m\u001b[0m\n",
      "\u001b[0;31mFileNotFoundError\u001b[0m: [Errno 2] No such file or directory: 'dot'",
      "\nDuring handling of the above exception, another exception occurred:\n",
      "\u001b[0;31mFileNotFoundError\u001b[0m                         Traceback (most recent call last)",
      "\u001b[0;32m<ipython-input-34-6cce5f4d4f4c>\u001b[0m in \u001b[0;36m<module>\u001b[0;34m\u001b[0m\n\u001b[1;32m      8\u001b[0m                )\n\u001b[1;32m      9\u001b[0m \u001b[0;34m(\u001b[0m\u001b[0mgraph\u001b[0m\u001b[0;34m,\u001b[0m \u001b[0;34m)\u001b[0m \u001b[0;34m=\u001b[0m \u001b[0mgraph_from_dot_data\u001b[0m\u001b[0;34m(\u001b[0m\u001b[0mdot_data\u001b[0m\u001b[0;34m.\u001b[0m\u001b[0mgetvalue\u001b[0m\u001b[0;34m(\u001b[0m\u001b[0;34m)\u001b[0m\u001b[0;34m)\u001b[0m\u001b[0;34m\u001b[0m\u001b[0;34m\u001b[0m\u001b[0m\n\u001b[0;32m---> 10\u001b[0;31m \u001b[0mImage\u001b[0m\u001b[0;34m(\u001b[0m\u001b[0mgraph\u001b[0m\u001b[0;34m.\u001b[0m\u001b[0mcreate_png\u001b[0m\u001b[0;34m(\u001b[0m\u001b[0;34m)\u001b[0m\u001b[0;34m)\u001b[0m\u001b[0;34m\u001b[0m\u001b[0;34m\u001b[0m\u001b[0m\n\u001b[0m",
      "\u001b[0;32m~/opt/anaconda3/lib/python3.8/site-packages/pydot.py\u001b[0m in \u001b[0;36mnew_method\u001b[0;34m(f, prog, encoding)\u001b[0m\n\u001b[1;32m   1731\u001b[0m                     encoding=None):\n\u001b[1;32m   1732\u001b[0m                 \u001b[0;34m\"\"\"Refer to docstring of method `create`.\"\"\"\u001b[0m\u001b[0;34m\u001b[0m\u001b[0;34m\u001b[0m\u001b[0m\n\u001b[0;32m-> 1733\u001b[0;31m                 return self.create(\n\u001b[0m\u001b[1;32m   1734\u001b[0m                     format=f, prog=prog, encoding=encoding)\n\u001b[1;32m   1735\u001b[0m             \u001b[0mname\u001b[0m \u001b[0;34m=\u001b[0m \u001b[0;34m'create_{fmt}'\u001b[0m\u001b[0;34m.\u001b[0m\u001b[0mformat\u001b[0m\u001b[0;34m(\u001b[0m\u001b[0mfmt\u001b[0m\u001b[0;34m=\u001b[0m\u001b[0mfrmt\u001b[0m\u001b[0;34m)\u001b[0m\u001b[0;34m\u001b[0m\u001b[0;34m\u001b[0m\u001b[0m\n",
      "\u001b[0;32m~/opt/anaconda3/lib/python3.8/site-packages/pydot.py\u001b[0m in \u001b[0;36mcreate\u001b[0;34m(self, prog, format, encoding)\u001b[0m\n\u001b[1;32m   1931\u001b[0m                 args[1] = '\"{prog}\" not found in path.'.format(\n\u001b[1;32m   1932\u001b[0m                     prog=prog)\n\u001b[0;32m-> 1933\u001b[0;31m                 \u001b[0;32mraise\u001b[0m \u001b[0mOSError\u001b[0m\u001b[0;34m(\u001b[0m\u001b[0;34m*\u001b[0m\u001b[0margs\u001b[0m\u001b[0;34m)\u001b[0m\u001b[0;34m\u001b[0m\u001b[0;34m\u001b[0m\u001b[0m\n\u001b[0m\u001b[1;32m   1934\u001b[0m             \u001b[0;32melse\u001b[0m\u001b[0;34m:\u001b[0m\u001b[0;34m\u001b[0m\u001b[0;34m\u001b[0m\u001b[0m\n\u001b[1;32m   1935\u001b[0m                 \u001b[0;32mraise\u001b[0m\u001b[0;34m\u001b[0m\u001b[0;34m\u001b[0m\u001b[0m\n",
      "\u001b[0;31mFileNotFoundError\u001b[0m: [Errno 2] \"dot\" not found in path."
     ]
    }
   ],
   "source": [
    "dot_data = StringIO()\n",
    "export_graphviz(dtc, \n",
    "                out_file=dot_data, \n",
    "                rounded=True,\n",
    "                filled=True,\n",
    "                #feature_names=trainXohe[['student_mean_amount']].columns.values\n",
    "                feature_names = X_over.columns.values\n",
    "               )\n",
    "(graph, ) = graph_from_dot_data(dot_data.getvalue())\n",
    "Image(graph.create_png())"
   ]
  },
  {
   "cell_type": "code",
   "execution_count": null,
   "id": "2c62effa",
   "metadata": {},
   "outputs": [],
   "source": [
    "y_pred=dtc.predict(trainXohe)"
   ]
  },
  {
   "cell_type": "code",
   "execution_count": null,
   "id": "499afc50",
   "metadata": {},
   "outputs": [],
   "source": [
    "churned = np.array(y_train)#.argmax(axis=1)\n",
    "predictions = np.array(y_pred)#.argmax(axis=1)\n",
    "confusion_matrix(churned, predictions)"
   ]
  },
  {
   "cell_type": "code",
   "execution_count": null,
   "id": "76415acd",
   "metadata": {},
   "outputs": [],
   "source": [
    "print(classification_report(churned,predictions))"
   ]
  },
  {
   "cell_type": "markdown",
   "id": "377826d1",
   "metadata": {},
   "source": [
    "#### Predict Test Set"
   ]
  },
  {
   "cell_type": "code",
   "execution_count": null,
   "id": "5627df65",
   "metadata": {},
   "outputs": [],
   "source": [
    "y_pred=dtc.predict(testXohe)"
   ]
  },
  {
   "cell_type": "code",
   "execution_count": null,
   "id": "a6146dd9",
   "metadata": {},
   "outputs": [],
   "source": [
    "churned = np.array(y_test)#.argmax(axis=1)\n",
    "predictions = np.array(y_pred)#.argmax(axis=1)\n",
    "confusion_matrix(churned, predictions)"
   ]
  },
  {
   "cell_type": "code",
   "execution_count": null,
   "id": "6f7144fb",
   "metadata": {
    "scrolled": true
   },
   "outputs": [],
   "source": [
    "print(classification_report(churned,predictions))"
   ]
  },
  {
   "cell_type": "markdown",
   "id": "d764c5e9",
   "metadata": {},
   "source": [
    "! pip freeze"
   ]
  },
  {
   "cell_type": "markdown",
   "id": "4576b88b",
   "metadata": {},
   "source": [
    "!pip install gprof2dot"
   ]
  },
  {
   "cell_type": "markdown",
   "id": "a50bc0ca",
   "metadata": {},
   "source": [
    "!pip install graphviz"
   ]
  },
  {
   "cell_type": "code",
   "execution_count": null,
   "id": "23a648f2",
   "metadata": {},
   "outputs": [],
   "source": [
    "! sudo apt-get install graphviz"
   ]
  },
  {
   "cell_type": "markdown",
   "id": "a0279e2e",
   "metadata": {
    "scrolled": true
   },
   "source": [
    "!pip install dot"
   ]
  },
  {
   "cell_type": "raw",
   "id": "7734b240",
   "metadata": {},
   "source": []
  },
  {
   "cell_type": "markdown",
   "id": "ddd4b7e8",
   "metadata": {
    "scrolled": true
   },
   "source": [
    "brew install gprof2dot"
   ]
  },
  {
   "cell_type": "code",
   "execution_count": null,
   "id": "76da2b05",
   "metadata": {},
   "outputs": [],
   "source": []
  }
 ],
 "metadata": {
  "kernelspec": {
   "display_name": "Python 3",
   "language": "python",
   "name": "python3"
  },
  "language_info": {
   "codemirror_mode": {
    "name": "ipython",
    "version": 3
   },
   "file_extension": ".py",
   "mimetype": "text/x-python",
   "name": "python",
   "nbconvert_exporter": "python",
   "pygments_lexer": "ipython3",
   "version": "3.8.8"
  }
 },
 "nbformat": 4,
 "nbformat_minor": 5
}
